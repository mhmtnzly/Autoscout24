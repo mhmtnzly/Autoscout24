{
  "cells": [
    {
      "cell_type": "markdown",
      "metadata": {
        "id": "view-in-github",
        "colab_type": "text"
      },
      "source": [
        "<a href=\"https://colab.research.google.com/github/mhmtnzly/Autoscout24/blob/main/project_v1.ipynb\" target=\"_parent\"><img src=\"https://colab.research.google.com/assets/colab-badge.svg\" alt=\"Open In Colab\"/></a>"
      ]
    },
    {
      "cell_type": "code",
      "execution_count": 1,
      "metadata": {
        "colab": {
          "base_uri": "https://localhost:8080/"
        },
        "id": "cMz6RL0wq3FF",
        "outputId": "fda9e50d-8ad1-41cd-d7f2-71f080292d92"
      },
      "outputs": [
        {
          "output_type": "stream",
          "name": "stdout",
          "text": [
            "Mounted at /content/drive\n"
          ]
        }
      ],
      "source": [
        "import pandas as pd\n",
        "import numpy as np\n",
        "import re\n",
        "from google.colab import drive\n",
        "import matplotlib.pyplot as plt\n",
        "import seaborn as sns\n",
        "import scipy.stats as sts\n",
        "import itertools\n",
        "%matplotlib inline\n",
        "drive.mount('/content/drive')"
      ]
    },
    {
      "cell_type": "code",
      "execution_count": 2,
      "metadata": {
        "id": "5Qm9aVhYrD6L"
      },
      "outputs": [],
      "source": [
        "data = pd.read_csv('/content/drive/MyDrive/Colab Notebooks/autoscout_data_2000.csv')\n",
        "df = data.copy()"
      ]
    },
    {
      "cell_type": "code",
      "source": [
        "df['seller'].value_counts()\n",
        "df['seller'] = df['seller'].str.extract('([A-Za-z]+\\s*[a-z]+)')\n",
        "df['seller'].unique()"
      ],
      "metadata": {
        "colab": {
          "base_uri": "https://localhost:8080/"
        },
        "id": "gYK9hGbBFpli",
        "outputId": "5c16540b-dc07-4473-f1f3-70a7e7cf8e82"
      },
      "execution_count": 3,
      "outputs": [
        {
          "output_type": "execute_result",
          "data": {
            "text/plain": [
              "array(['Dealer', 'Private seller', 'Diesel', 'Electric', 'Gasoline'],\n",
              "      dtype=object)"
            ]
          },
          "metadata": {},
          "execution_count": 3
        }
      ]
    },
    {
      "cell_type": "code",
      "source": [
        "df.drop((df[(df['seller']=='Diesel')|(df['seller']=='Electric')|(df['seller']=='Gasoline')].index).values, axis=0, inplace = True)"
      ],
      "metadata": {
        "id": "_ZwkEQTmH-E3"
      },
      "execution_count": 4,
      "outputs": []
    },
    {
      "cell_type": "code",
      "source": [
        "df.reset_index(drop=True,inplace=True)"
      ],
      "metadata": {
        "id": "WOZyN3qZAjnA"
      },
      "execution_count": 5,
      "outputs": []
    },
    {
      "cell_type": "code",
      "execution_count": 6,
      "metadata": {
        "colab": {
          "base_uri": "https://localhost:8080/"
        },
        "id": "c3VGkXQ3Ji3y",
        "outputId": "c10d3047-875d-4d9b-b225-97f997013d18"
      },
      "outputs": [
        {
          "output_type": "execute_result",
          "data": {
            "text/plain": [
              "Index(['location', 'url', 'make', 'model', 'short_description', 'price',\n",
              "       'mileage', 'gearbox', 'registration', 'fuel_type', 'power', 'seller',\n",
              "       'body_type', 'type', 'drivetrain', 'seats', 'doors', 'country_version',\n",
              "       'offer_number', 'warranty', 'Mileage', 'first_registration',\n",
              "       'production_date', 'general_inspection', 'last_service',\n",
              "       'full_service_history', 'non_smoker_vehicle', 'previous_owner',\n",
              "       'last_timing_belt_change', 'Power', 'Gearbox', 'engine_size', 'gears',\n",
              "       'cylinders', 'empty_weight', 'Fuel_type', 'fuel_consumption',\n",
              "       'co2_emissions', 'emission_class', 'emissions_sticker',\n",
              "       '\\nComfort & Convenience\\n', '\\nEntertainment & Media\\n',\n",
              "       '\\nSafety & Security\\n', 'extras', '\\ncolour', '\\nmanufacturer_color',\n",
              "       '\\npaint', ' upholstery_colour ', ' upholstery '],\n",
              "      dtype='object')"
            ]
          },
          "metadata": {},
          "execution_count": 6
        }
      ],
      "source": [
        "df.columns"
      ]
    },
    {
      "cell_type": "code",
      "source": [
        "df.duplicated().sum()"
      ],
      "metadata": {
        "colab": {
          "base_uri": "https://localhost:8080/"
        },
        "id": "ec2iMxuhdVQY",
        "outputId": "60f4572a-bb6c-4f91-a64a-2408b6d4274b"
      },
      "execution_count": 7,
      "outputs": [
        {
          "output_type": "execute_result",
          "data": {
            "text/plain": [
              "0"
            ]
          },
          "metadata": {},
          "execution_count": 7
        }
      ]
    },
    {
      "cell_type": "code",
      "execution_count": 8,
      "metadata": {
        "colab": {
          "base_uri": "https://localhost:8080/",
          "height": 525
        },
        "id": "dtER6x1FsaB5",
        "outputId": "04fe36c2-3d9e-4e1b-c04c-46ba0772c155"
      },
      "outputs": [
        {
          "output_type": "execute_result",
          "data": {
            "text/html": [
              "\n",
              "  <div id=\"df-af2f1314-be09-4028-a625-edeeedbc42be\">\n",
              "    <div class=\"colab-df-container\">\n",
              "      <div>\n",
              "<style scoped>\n",
              "    .dataframe tbody tr th:only-of-type {\n",
              "        vertical-align: middle;\n",
              "    }\n",
              "\n",
              "    .dataframe tbody tr th {\n",
              "        vertical-align: top;\n",
              "    }\n",
              "\n",
              "    .dataframe thead th {\n",
              "        text-align: right;\n",
              "    }\n",
              "</style>\n",
              "<table border=\"1\" class=\"dataframe\">\n",
              "  <thead>\n",
              "    <tr style=\"text-align: right;\">\n",
              "      <th></th>\n",
              "      <th>Location</th>\n",
              "      <th>url</th>\n",
              "      <th>make</th>\n",
              "      <th>model</th>\n",
              "      <th>short_description</th>\n",
              "      <th>price</th>\n",
              "      <th>mileage</th>\n",
              "      <th>gearbox</th>\n",
              "      <th>registration</th>\n",
              "      <th>Fuel_Type</th>\n",
              "      <th>...</th>\n",
              "      <th>emissions_sticker</th>\n",
              "      <th>Comfort_Convenience</th>\n",
              "      <th>Entertainment_Media</th>\n",
              "      <th>Safety_Security</th>\n",
              "      <th>extras</th>\n",
              "      <th>Colour</th>\n",
              "      <th>\\nmanufacturer_color</th>\n",
              "      <th>Paint</th>\n",
              "      <th>Upholstery_colour</th>\n",
              "      <th>Upholstery</th>\n",
              "    </tr>\n",
              "  </thead>\n",
              "  <tbody>\n",
              "    <tr>\n",
              "      <th>0</th>\n",
              "      <td>LOON OP ZAND, NL</td>\n",
              "      <td>https://www.autoscout24.com/offers/audi-a3-2-0...</td>\n",
              "      <td>\\n,Audi ,\\n</td>\n",
              "      <td>\\n,A3,\\n</td>\n",
              "      <td>2.0 FSI Ambition Pro Line</td>\n",
              "      <td>[['\\n', '€ 4,450.-', '\\n']]</td>\n",
              "      <td>['', ['191,066 km']]</td>\n",
              "      <td>\\n,Automatic,\\n</td>\n",
              "      <td>08/2003</td>\n",
              "      <td>\\n,Gasoline,\\n</td>\n",
              "      <td>...</td>\n",
              "      <td>\\n,None,\\n</td>\n",
              "      <td>[['Air conditioning', 'Armrest', 'Automatic cl...</td>\n",
              "      <td>[['CD player', 'Radio']]</td>\n",
              "      <td>[['ABS', 'Alarm system', 'Central door lock', ...</td>\n",
              "      <td>[['Alloy wheels']]</td>\n",
              "      <td>\\n4, Grey</td>\n",
              "      <td>None</td>\n",
              "      <td>\\npaint, Metallic</td>\n",
              "      <td>\\nupholstery, Black</td>\n",
              "      <td>\\n8, Cloth</td>\n",
              "    </tr>\n",
              "    <tr>\n",
              "      <th>1</th>\n",
              "      <td>HEERLEN, NL</td>\n",
              "      <td>https://www.autoscout24.com/offers/audi-a3-spo...</td>\n",
              "      <td>\\n,Audi ,\\n</td>\n",
              "      <td>\\n,A3,\\n</td>\n",
              "      <td>Sportback 1.4 TFSI Ambiente/ECC/PDC//Lichtmeta...</td>\n",
              "      <td>[['\\n', '€ 12,950.-', '\\n']]</td>\n",
              "      <td>['', ['94,758 km']]</td>\n",
              "      <td>\\n,Automatic,\\n</td>\n",
              "      <td>10/2013</td>\n",
              "      <td>\\n,Gasoline,\\n</td>\n",
              "      <td>...</td>\n",
              "      <td>\\n,None,\\n</td>\n",
              "      <td>[['Air conditioning', 'Automatic climate contr...</td>\n",
              "      <td>[['CD player', 'Radio']]</td>\n",
              "      <td>[['Alarm system', 'Central door lock', 'Centra...</td>\n",
              "      <td>[['Alloy wheels (16\")']]</td>\n",
              "      <td>\\n4, White</td>\n",
              "      <td>None</td>\n",
              "      <td>None</td>\n",
              "      <td>\\nupholstery, Black</td>\n",
              "      <td>\\n8, Cloth</td>\n",
              "    </tr>\n",
              "    <tr>\n",
              "      <th>2</th>\n",
              "      <td>BREDA, NL</td>\n",
              "      <td>https://www.autoscout24.com/offers/audi-a3-1-4...</td>\n",
              "      <td>\\n,Audi ,\\n</td>\n",
              "      <td>\\n,A3,\\n</td>\n",
              "      <td>1.4 TFSI Attraction Pro Line [ Navi Airco Crui...</td>\n",
              "      <td>[['\\n', '€ 12,445.-', '\\n']]</td>\n",
              "      <td>['', ['160,883 km']]</td>\n",
              "      <td>\\n,Automatic,\\n</td>\n",
              "      <td>05/2013</td>\n",
              "      <td>\\n,Gasoline,\\n</td>\n",
              "      <td>...</td>\n",
              "      <td>\\n,None,\\n</td>\n",
              "      <td>[['Air conditioning', 'Armrest', 'Cruise contr...</td>\n",
              "      <td>[['Bluetooth', 'CD player', 'Hands-free equipm...</td>\n",
              "      <td>[['ABS', 'Central door lock', 'Central door lo...</td>\n",
              "      <td>[['Alloy wheels', 'Spoiler']]</td>\n",
              "      <td>\\n4, Black</td>\n",
              "      <td>None</td>\n",
              "      <td>\\npaint, Metallic</td>\n",
              "      <td>None</td>\n",
              "      <td>None</td>\n",
              "    </tr>\n",
              "    <tr>\n",
              "      <th>3</th>\n",
              "      <td>BAARLE-NASSAU, NL</td>\n",
              "      <td>https://www.autoscout24.com/offers/audi-a1-1-4...</td>\n",
              "      <td>\\n,Audi ,\\n</td>\n",
              "      <td>\\n,A1,\\n</td>\n",
              "      <td>1.4 TFSI Sportback Pro-Line Aut. S-Tronic Navi.</td>\n",
              "      <td>[['\\n', '€ 12,450.-', '\\n']]</td>\n",
              "      <td>['', ['145,102 km']]</td>\n",
              "      <td>\\n,Automatic,\\n</td>\n",
              "      <td>06/2015</td>\n",
              "      <td>\\n,Gasoline,\\n</td>\n",
              "      <td>...</td>\n",
              "      <td>\\n,None,\\n</td>\n",
              "      <td>[['Air conditioning', 'Armrest', 'Automatic cl...</td>\n",
              "      <td>[['Bluetooth', 'CD player', 'On-board computer...</td>\n",
              "      <td>[['ABS', 'Central door lock with remote contro...</td>\n",
              "      <td>[['Alloy wheels (15\")']]</td>\n",
              "      <td>\\n4, Grey</td>\n",
              "      <td>None</td>\n",
              "      <td>\\npaint, Metallic</td>\n",
              "      <td>None</td>\n",
              "      <td>None</td>\n",
              "    </tr>\n",
              "    <tr>\n",
              "      <th>4</th>\n",
              "      <td>ZUTPHEN, NL</td>\n",
              "      <td>https://www.autoscout24.com/offers/audi-a1-s-l...</td>\n",
              "      <td>\\n,Audi ,\\n</td>\n",
              "      <td>\\n,A1,\\n</td>\n",
              "      <td>S-Line | Automaat | Navigatie | Cruise-/Climat...</td>\n",
              "      <td>[['\\n', '€ 14,945.-', '\\n']]</td>\n",
              "      <td>['', ['119,666 km']]</td>\n",
              "      <td>\\n,Automatic,\\n</td>\n",
              "      <td>10/2015</td>\n",
              "      <td>\\n,Gasoline,\\n</td>\n",
              "      <td>...</td>\n",
              "      <td>\\n,None,\\n</td>\n",
              "      <td>[['Air conditioning', 'Armrest', 'Automatic cl...</td>\n",
              "      <td>[['CD player', 'MP3', 'On-board computer', 'Ra...</td>\n",
              "      <td>[['ABS', 'Alarm system', 'Bi-Xenon headlights'...</td>\n",
              "      <td>[['Alloy wheels (17\")', 'Shift paddles', 'Spor...</td>\n",
              "      <td>\\n4, Black</td>\n",
              "      <td>None</td>\n",
              "      <td>None</td>\n",
              "      <td>\\nupholstery, Black</td>\n",
              "      <td>\\n8, Part leather</td>\n",
              "    </tr>\n",
              "  </tbody>\n",
              "</table>\n",
              "<p>5 rows × 49 columns</p>\n",
              "</div>\n",
              "      <button class=\"colab-df-convert\" onclick=\"convertToInteractive('df-af2f1314-be09-4028-a625-edeeedbc42be')\"\n",
              "              title=\"Convert this dataframe to an interactive table.\"\n",
              "              style=\"display:none;\">\n",
              "        \n",
              "  <svg xmlns=\"http://www.w3.org/2000/svg\" height=\"24px\"viewBox=\"0 0 24 24\"\n",
              "       width=\"24px\">\n",
              "    <path d=\"M0 0h24v24H0V0z\" fill=\"none\"/>\n",
              "    <path d=\"M18.56 5.44l.94 2.06.94-2.06 2.06-.94-2.06-.94-.94-2.06-.94 2.06-2.06.94zm-11 1L8.5 8.5l.94-2.06 2.06-.94-2.06-.94L8.5 2.5l-.94 2.06-2.06.94zm10 10l.94 2.06.94-2.06 2.06-.94-2.06-.94-.94-2.06-.94 2.06-2.06.94z\"/><path d=\"M17.41 7.96l-1.37-1.37c-.4-.4-.92-.59-1.43-.59-.52 0-1.04.2-1.43.59L10.3 9.45l-7.72 7.72c-.78.78-.78 2.05 0 2.83L4 21.41c.39.39.9.59 1.41.59.51 0 1.02-.2 1.41-.59l7.78-7.78 2.81-2.81c.8-.78.8-2.07 0-2.86zM5.41 20L4 18.59l7.72-7.72 1.47 1.35L5.41 20z\"/>\n",
              "  </svg>\n",
              "      </button>\n",
              "      \n",
              "  <style>\n",
              "    .colab-df-container {\n",
              "      display:flex;\n",
              "      flex-wrap:wrap;\n",
              "      gap: 12px;\n",
              "    }\n",
              "\n",
              "    .colab-df-convert {\n",
              "      background-color: #E8F0FE;\n",
              "      border: none;\n",
              "      border-radius: 50%;\n",
              "      cursor: pointer;\n",
              "      display: none;\n",
              "      fill: #1967D2;\n",
              "      height: 32px;\n",
              "      padding: 0 0 0 0;\n",
              "      width: 32px;\n",
              "    }\n",
              "\n",
              "    .colab-df-convert:hover {\n",
              "      background-color: #E2EBFA;\n",
              "      box-shadow: 0px 1px 2px rgba(60, 64, 67, 0.3), 0px 1px 3px 1px rgba(60, 64, 67, 0.15);\n",
              "      fill: #174EA6;\n",
              "    }\n",
              "\n",
              "    [theme=dark] .colab-df-convert {\n",
              "      background-color: #3B4455;\n",
              "      fill: #D2E3FC;\n",
              "    }\n",
              "\n",
              "    [theme=dark] .colab-df-convert:hover {\n",
              "      background-color: #434B5C;\n",
              "      box-shadow: 0px 1px 3px 1px rgba(0, 0, 0, 0.15);\n",
              "      filter: drop-shadow(0px 1px 2px rgba(0, 0, 0, 0.3));\n",
              "      fill: #FFFFFF;\n",
              "    }\n",
              "  </style>\n",
              "\n",
              "      <script>\n",
              "        const buttonEl =\n",
              "          document.querySelector('#df-af2f1314-be09-4028-a625-edeeedbc42be button.colab-df-convert');\n",
              "        buttonEl.style.display =\n",
              "          google.colab.kernel.accessAllowed ? 'block' : 'none';\n",
              "\n",
              "        async function convertToInteractive(key) {\n",
              "          const element = document.querySelector('#df-af2f1314-be09-4028-a625-edeeedbc42be');\n",
              "          const dataTable =\n",
              "            await google.colab.kernel.invokeFunction('convertToInteractive',\n",
              "                                                     [key], {});\n",
              "          if (!dataTable) return;\n",
              "\n",
              "          const docLinkHtml = 'Like what you see? Visit the ' +\n",
              "            '<a target=\"_blank\" href=https://colab.research.google.com/notebooks/data_table.ipynb>data table notebook</a>'\n",
              "            + ' to learn more about interactive tables.';\n",
              "          element.innerHTML = '';\n",
              "          dataTable['output_type'] = 'display_data';\n",
              "          await google.colab.output.renderOutput(dataTable, element);\n",
              "          const docLink = document.createElement('div');\n",
              "          docLink.innerHTML = docLinkHtml;\n",
              "          element.appendChild(docLink);\n",
              "        }\n",
              "      </script>\n",
              "    </div>\n",
              "  </div>\n",
              "  "
            ],
            "text/plain": [
              "            Location                                                url  \\\n",
              "0   LOON OP ZAND, NL  https://www.autoscout24.com/offers/audi-a3-2-0...   \n",
              "1        HEERLEN, NL  https://www.autoscout24.com/offers/audi-a3-spo...   \n",
              "2          BREDA, NL  https://www.autoscout24.com/offers/audi-a3-1-4...   \n",
              "3  BAARLE-NASSAU, NL  https://www.autoscout24.com/offers/audi-a1-1-4...   \n",
              "4        ZUTPHEN, NL  https://www.autoscout24.com/offers/audi-a1-s-l...   \n",
              "\n",
              "          make     model                                  short_description  \\\n",
              "0  \\n,Audi ,\\n  \\n,A3,\\n                          2.0 FSI Ambition Pro Line   \n",
              "1  \\n,Audi ,\\n  \\n,A3,\\n  Sportback 1.4 TFSI Ambiente/ECC/PDC//Lichtmeta...   \n",
              "2  \\n,Audi ,\\n  \\n,A3,\\n  1.4 TFSI Attraction Pro Line [ Navi Airco Crui...   \n",
              "3  \\n,Audi ,\\n  \\n,A1,\\n    1.4 TFSI Sportback Pro-Line Aut. S-Tronic Navi.   \n",
              "4  \\n,Audi ,\\n  \\n,A1,\\n  S-Line | Automaat | Navigatie | Cruise-/Climat...   \n",
              "\n",
              "                          price               mileage          gearbox  \\\n",
              "0   [['\\n', '€ 4,450.-', '\\n']]  ['', ['191,066 km']]  \\n,Automatic,\\n   \n",
              "1  [['\\n', '€ 12,950.-', '\\n']]   ['', ['94,758 km']]  \\n,Automatic,\\n   \n",
              "2  [['\\n', '€ 12,445.-', '\\n']]  ['', ['160,883 km']]  \\n,Automatic,\\n   \n",
              "3  [['\\n', '€ 12,450.-', '\\n']]  ['', ['145,102 km']]  \\n,Automatic,\\n   \n",
              "4  [['\\n', '€ 14,945.-', '\\n']]  ['', ['119,666 km']]  \\n,Automatic,\\n   \n",
              "\n",
              "  registration       Fuel_Type  ... emissions_sticker  \\\n",
              "0      08/2003  \\n,Gasoline,\\n  ...        \\n,None,\\n   \n",
              "1      10/2013  \\n,Gasoline,\\n  ...        \\n,None,\\n   \n",
              "2      05/2013  \\n,Gasoline,\\n  ...        \\n,None,\\n   \n",
              "3      06/2015  \\n,Gasoline,\\n  ...        \\n,None,\\n   \n",
              "4      10/2015  \\n,Gasoline,\\n  ...        \\n,None,\\n   \n",
              "\n",
              "                                 Comfort_Convenience  \\\n",
              "0  [['Air conditioning', 'Armrest', 'Automatic cl...   \n",
              "1  [['Air conditioning', 'Automatic climate contr...   \n",
              "2  [['Air conditioning', 'Armrest', 'Cruise contr...   \n",
              "3  [['Air conditioning', 'Armrest', 'Automatic cl...   \n",
              "4  [['Air conditioning', 'Armrest', 'Automatic cl...   \n",
              "\n",
              "                                 Entertainment_Media  \\\n",
              "0                           [['CD player', 'Radio']]   \n",
              "1                           [['CD player', 'Radio']]   \n",
              "2  [['Bluetooth', 'CD player', 'Hands-free equipm...   \n",
              "3  [['Bluetooth', 'CD player', 'On-board computer...   \n",
              "4  [['CD player', 'MP3', 'On-board computer', 'Ra...   \n",
              "\n",
              "                                     Safety_Security  \\\n",
              "0  [['ABS', 'Alarm system', 'Central door lock', ...   \n",
              "1  [['Alarm system', 'Central door lock', 'Centra...   \n",
              "2  [['ABS', 'Central door lock', 'Central door lo...   \n",
              "3  [['ABS', 'Central door lock with remote contro...   \n",
              "4  [['ABS', 'Alarm system', 'Bi-Xenon headlights'...   \n",
              "\n",
              "                                              extras      Colour  \\\n",
              "0                                 [['Alloy wheels']]   \\n4, Grey   \n",
              "1                           [['Alloy wheels (16\")']]  \\n4, White   \n",
              "2                      [['Alloy wheels', 'Spoiler']]  \\n4, Black   \n",
              "3                           [['Alloy wheels (15\")']]   \\n4, Grey   \n",
              "4  [['Alloy wheels (17\")', 'Shift paddles', 'Spor...  \\n4, Black   \n",
              "\n",
              "  \\nmanufacturer_color              Paint    Upholstery_colour  \\\n",
              "0                 None  \\npaint, Metallic  \\nupholstery, Black   \n",
              "1                 None               None  \\nupholstery, Black   \n",
              "2                 None  \\npaint, Metallic                 None   \n",
              "3                 None  \\npaint, Metallic                 None   \n",
              "4                 None               None  \\nupholstery, Black   \n",
              "\n",
              "          Upholstery  \n",
              "0         \\n8, Cloth  \n",
              "1         \\n8, Cloth  \n",
              "2               None  \n",
              "3               None  \n",
              "4  \\n8, Part leather  \n",
              "\n",
              "[5 rows x 49 columns]"
            ]
          },
          "metadata": {},
          "execution_count": 8
        }
      ],
      "source": [
        "my_df = df.copy()\n",
        "my_df.rename(columns = {'\\nComfort & Convenience\\n':'Comfort_Convenience','location':'Location','fuel_type':'Fuel_Type','seller':'Seller','gears':'Gears','cylinders':'Cylinders',\n",
        "                        'empty_weight':'Empty_weight', '\\nSafety & Security\\n': 'Safety_Security', '\\ncolour': 'Colour', '\\npaint': 'Paint',\" upholstery_colour \": 'Upholstery_colour',\" upholstery \": 'Upholstery', '\\nEntertainment & Media\\n':'Entertainment_Media'},inplace = True)\n",
        "my_df.head()"
      ]
    },
    {
      "cell_type": "markdown",
      "metadata": {
        "id": "yLrOM1A2_zAS"
      },
      "source": [
        "* Comfort_Convenience: Features of car.\n",
        "* model: Car's Model\n",
        "* price: Car's price (€)"
      ]
    },
    {
      "cell_type": "markdown",
      "source": [
        "# None Data"
      ],
      "metadata": {
        "id": "Q5YzOUuzsoEy"
      }
    },
    {
      "cell_type": "code",
      "source": [
        "def strNone(data):\n",
        "  for column in data:\n",
        "    my_df[column][my_df[column].str.contains('None', na = False)] = None\n",
        "strNone(my_df)\n",
        "my_df.head()"
      ],
      "metadata": {
        "colab": {
          "base_uri": "https://localhost:8080/",
          "height": 525
        },
        "id": "ZmUBZSHgzFKk",
        "outputId": "a17cf19b-1a42-4e9f-b09c-a0add22cf92c"
      },
      "execution_count": 9,
      "outputs": [
        {
          "output_type": "execute_result",
          "data": {
            "text/html": [
              "\n",
              "  <div id=\"df-003efd49-b7d9-438f-bfc7-25b1d3545221\">\n",
              "    <div class=\"colab-df-container\">\n",
              "      <div>\n",
              "<style scoped>\n",
              "    .dataframe tbody tr th:only-of-type {\n",
              "        vertical-align: middle;\n",
              "    }\n",
              "\n",
              "    .dataframe tbody tr th {\n",
              "        vertical-align: top;\n",
              "    }\n",
              "\n",
              "    .dataframe thead th {\n",
              "        text-align: right;\n",
              "    }\n",
              "</style>\n",
              "<table border=\"1\" class=\"dataframe\">\n",
              "  <thead>\n",
              "    <tr style=\"text-align: right;\">\n",
              "      <th></th>\n",
              "      <th>Location</th>\n",
              "      <th>url</th>\n",
              "      <th>make</th>\n",
              "      <th>model</th>\n",
              "      <th>short_description</th>\n",
              "      <th>price</th>\n",
              "      <th>mileage</th>\n",
              "      <th>gearbox</th>\n",
              "      <th>registration</th>\n",
              "      <th>Fuel_Type</th>\n",
              "      <th>...</th>\n",
              "      <th>emissions_sticker</th>\n",
              "      <th>Comfort_Convenience</th>\n",
              "      <th>Entertainment_Media</th>\n",
              "      <th>Safety_Security</th>\n",
              "      <th>extras</th>\n",
              "      <th>Colour</th>\n",
              "      <th>\\nmanufacturer_color</th>\n",
              "      <th>Paint</th>\n",
              "      <th>Upholstery_colour</th>\n",
              "      <th>Upholstery</th>\n",
              "    </tr>\n",
              "  </thead>\n",
              "  <tbody>\n",
              "    <tr>\n",
              "      <th>0</th>\n",
              "      <td>LOON OP ZAND, NL</td>\n",
              "      <td>https://www.autoscout24.com/offers/audi-a3-2-0...</td>\n",
              "      <td>\\n,Audi ,\\n</td>\n",
              "      <td>\\n,A3,\\n</td>\n",
              "      <td>2.0 FSI Ambition Pro Line</td>\n",
              "      <td>[['\\n', '€ 4,450.-', '\\n']]</td>\n",
              "      <td>['', ['191,066 km']]</td>\n",
              "      <td>\\n,Automatic,\\n</td>\n",
              "      <td>08/2003</td>\n",
              "      <td>\\n,Gasoline,\\n</td>\n",
              "      <td>...</td>\n",
              "      <td>None</td>\n",
              "      <td>[['Air conditioning', 'Armrest', 'Automatic cl...</td>\n",
              "      <td>[['CD player', 'Radio']]</td>\n",
              "      <td>[['ABS', 'Alarm system', 'Central door lock', ...</td>\n",
              "      <td>[['Alloy wheels']]</td>\n",
              "      <td>\\n4, Grey</td>\n",
              "      <td>None</td>\n",
              "      <td>\\npaint, Metallic</td>\n",
              "      <td>\\nupholstery, Black</td>\n",
              "      <td>\\n8, Cloth</td>\n",
              "    </tr>\n",
              "    <tr>\n",
              "      <th>1</th>\n",
              "      <td>HEERLEN, NL</td>\n",
              "      <td>https://www.autoscout24.com/offers/audi-a3-spo...</td>\n",
              "      <td>\\n,Audi ,\\n</td>\n",
              "      <td>\\n,A3,\\n</td>\n",
              "      <td>Sportback 1.4 TFSI Ambiente/ECC/PDC//Lichtmeta...</td>\n",
              "      <td>[['\\n', '€ 12,950.-', '\\n']]</td>\n",
              "      <td>['', ['94,758 km']]</td>\n",
              "      <td>\\n,Automatic,\\n</td>\n",
              "      <td>10/2013</td>\n",
              "      <td>\\n,Gasoline,\\n</td>\n",
              "      <td>...</td>\n",
              "      <td>None</td>\n",
              "      <td>[['Air conditioning', 'Automatic climate contr...</td>\n",
              "      <td>[['CD player', 'Radio']]</td>\n",
              "      <td>[['Alarm system', 'Central door lock', 'Centra...</td>\n",
              "      <td>[['Alloy wheels (16\")']]</td>\n",
              "      <td>\\n4, White</td>\n",
              "      <td>None</td>\n",
              "      <td>None</td>\n",
              "      <td>\\nupholstery, Black</td>\n",
              "      <td>\\n8, Cloth</td>\n",
              "    </tr>\n",
              "    <tr>\n",
              "      <th>2</th>\n",
              "      <td>BREDA, NL</td>\n",
              "      <td>https://www.autoscout24.com/offers/audi-a3-1-4...</td>\n",
              "      <td>\\n,Audi ,\\n</td>\n",
              "      <td>\\n,A3,\\n</td>\n",
              "      <td>1.4 TFSI Attraction Pro Line [ Navi Airco Crui...</td>\n",
              "      <td>[['\\n', '€ 12,445.-', '\\n']]</td>\n",
              "      <td>['', ['160,883 km']]</td>\n",
              "      <td>\\n,Automatic,\\n</td>\n",
              "      <td>05/2013</td>\n",
              "      <td>\\n,Gasoline,\\n</td>\n",
              "      <td>...</td>\n",
              "      <td>None</td>\n",
              "      <td>[['Air conditioning', 'Armrest', 'Cruise contr...</td>\n",
              "      <td>[['Bluetooth', 'CD player', 'Hands-free equipm...</td>\n",
              "      <td>[['ABS', 'Central door lock', 'Central door lo...</td>\n",
              "      <td>[['Alloy wheels', 'Spoiler']]</td>\n",
              "      <td>\\n4, Black</td>\n",
              "      <td>None</td>\n",
              "      <td>\\npaint, Metallic</td>\n",
              "      <td>None</td>\n",
              "      <td>None</td>\n",
              "    </tr>\n",
              "    <tr>\n",
              "      <th>3</th>\n",
              "      <td>BAARLE-NASSAU, NL</td>\n",
              "      <td>https://www.autoscout24.com/offers/audi-a1-1-4...</td>\n",
              "      <td>\\n,Audi ,\\n</td>\n",
              "      <td>\\n,A1,\\n</td>\n",
              "      <td>1.4 TFSI Sportback Pro-Line Aut. S-Tronic Navi.</td>\n",
              "      <td>[['\\n', '€ 12,450.-', '\\n']]</td>\n",
              "      <td>['', ['145,102 km']]</td>\n",
              "      <td>\\n,Automatic,\\n</td>\n",
              "      <td>06/2015</td>\n",
              "      <td>\\n,Gasoline,\\n</td>\n",
              "      <td>...</td>\n",
              "      <td>None</td>\n",
              "      <td>[['Air conditioning', 'Armrest', 'Automatic cl...</td>\n",
              "      <td>[['Bluetooth', 'CD player', 'On-board computer...</td>\n",
              "      <td>[['ABS', 'Central door lock with remote contro...</td>\n",
              "      <td>[['Alloy wheels (15\")']]</td>\n",
              "      <td>\\n4, Grey</td>\n",
              "      <td>None</td>\n",
              "      <td>\\npaint, Metallic</td>\n",
              "      <td>None</td>\n",
              "      <td>None</td>\n",
              "    </tr>\n",
              "    <tr>\n",
              "      <th>4</th>\n",
              "      <td>ZUTPHEN, NL</td>\n",
              "      <td>https://www.autoscout24.com/offers/audi-a1-s-l...</td>\n",
              "      <td>\\n,Audi ,\\n</td>\n",
              "      <td>\\n,A1,\\n</td>\n",
              "      <td>S-Line | Automaat | Navigatie | Cruise-/Climat...</td>\n",
              "      <td>[['\\n', '€ 14,945.-', '\\n']]</td>\n",
              "      <td>['', ['119,666 km']]</td>\n",
              "      <td>\\n,Automatic,\\n</td>\n",
              "      <td>10/2015</td>\n",
              "      <td>\\n,Gasoline,\\n</td>\n",
              "      <td>...</td>\n",
              "      <td>None</td>\n",
              "      <td>[['Air conditioning', 'Armrest', 'Automatic cl...</td>\n",
              "      <td>[['CD player', 'MP3', 'On-board computer', 'Ra...</td>\n",
              "      <td>[['ABS', 'Alarm system', 'Bi-Xenon headlights'...</td>\n",
              "      <td>[['Alloy wheels (17\")', 'Shift paddles', 'Spor...</td>\n",
              "      <td>\\n4, Black</td>\n",
              "      <td>None</td>\n",
              "      <td>None</td>\n",
              "      <td>\\nupholstery, Black</td>\n",
              "      <td>\\n8, Part leather</td>\n",
              "    </tr>\n",
              "  </tbody>\n",
              "</table>\n",
              "<p>5 rows × 49 columns</p>\n",
              "</div>\n",
              "      <button class=\"colab-df-convert\" onclick=\"convertToInteractive('df-003efd49-b7d9-438f-bfc7-25b1d3545221')\"\n",
              "              title=\"Convert this dataframe to an interactive table.\"\n",
              "              style=\"display:none;\">\n",
              "        \n",
              "  <svg xmlns=\"http://www.w3.org/2000/svg\" height=\"24px\"viewBox=\"0 0 24 24\"\n",
              "       width=\"24px\">\n",
              "    <path d=\"M0 0h24v24H0V0z\" fill=\"none\"/>\n",
              "    <path d=\"M18.56 5.44l.94 2.06.94-2.06 2.06-.94-2.06-.94-.94-2.06-.94 2.06-2.06.94zm-11 1L8.5 8.5l.94-2.06 2.06-.94-2.06-.94L8.5 2.5l-.94 2.06-2.06.94zm10 10l.94 2.06.94-2.06 2.06-.94-2.06-.94-.94-2.06-.94 2.06-2.06.94z\"/><path d=\"M17.41 7.96l-1.37-1.37c-.4-.4-.92-.59-1.43-.59-.52 0-1.04.2-1.43.59L10.3 9.45l-7.72 7.72c-.78.78-.78 2.05 0 2.83L4 21.41c.39.39.9.59 1.41.59.51 0 1.02-.2 1.41-.59l7.78-7.78 2.81-2.81c.8-.78.8-2.07 0-2.86zM5.41 20L4 18.59l7.72-7.72 1.47 1.35L5.41 20z\"/>\n",
              "  </svg>\n",
              "      </button>\n",
              "      \n",
              "  <style>\n",
              "    .colab-df-container {\n",
              "      display:flex;\n",
              "      flex-wrap:wrap;\n",
              "      gap: 12px;\n",
              "    }\n",
              "\n",
              "    .colab-df-convert {\n",
              "      background-color: #E8F0FE;\n",
              "      border: none;\n",
              "      border-radius: 50%;\n",
              "      cursor: pointer;\n",
              "      display: none;\n",
              "      fill: #1967D2;\n",
              "      height: 32px;\n",
              "      padding: 0 0 0 0;\n",
              "      width: 32px;\n",
              "    }\n",
              "\n",
              "    .colab-df-convert:hover {\n",
              "      background-color: #E2EBFA;\n",
              "      box-shadow: 0px 1px 2px rgba(60, 64, 67, 0.3), 0px 1px 3px 1px rgba(60, 64, 67, 0.15);\n",
              "      fill: #174EA6;\n",
              "    }\n",
              "\n",
              "    [theme=dark] .colab-df-convert {\n",
              "      background-color: #3B4455;\n",
              "      fill: #D2E3FC;\n",
              "    }\n",
              "\n",
              "    [theme=dark] .colab-df-convert:hover {\n",
              "      background-color: #434B5C;\n",
              "      box-shadow: 0px 1px 3px 1px rgba(0, 0, 0, 0.15);\n",
              "      filter: drop-shadow(0px 1px 2px rgba(0, 0, 0, 0.3));\n",
              "      fill: #FFFFFF;\n",
              "    }\n",
              "  </style>\n",
              "\n",
              "      <script>\n",
              "        const buttonEl =\n",
              "          document.querySelector('#df-003efd49-b7d9-438f-bfc7-25b1d3545221 button.colab-df-convert');\n",
              "        buttonEl.style.display =\n",
              "          google.colab.kernel.accessAllowed ? 'block' : 'none';\n",
              "\n",
              "        async function convertToInteractive(key) {\n",
              "          const element = document.querySelector('#df-003efd49-b7d9-438f-bfc7-25b1d3545221');\n",
              "          const dataTable =\n",
              "            await google.colab.kernel.invokeFunction('convertToInteractive',\n",
              "                                                     [key], {});\n",
              "          if (!dataTable) return;\n",
              "\n",
              "          const docLinkHtml = 'Like what you see? Visit the ' +\n",
              "            '<a target=\"_blank\" href=https://colab.research.google.com/notebooks/data_table.ipynb>data table notebook</a>'\n",
              "            + ' to learn more about interactive tables.';\n",
              "          element.innerHTML = '';\n",
              "          dataTable['output_type'] = 'display_data';\n",
              "          await google.colab.output.renderOutput(dataTable, element);\n",
              "          const docLink = document.createElement('div');\n",
              "          docLink.innerHTML = docLinkHtml;\n",
              "          element.appendChild(docLink);\n",
              "        }\n",
              "      </script>\n",
              "    </div>\n",
              "  </div>\n",
              "  "
            ],
            "text/plain": [
              "            Location                                                url  \\\n",
              "0   LOON OP ZAND, NL  https://www.autoscout24.com/offers/audi-a3-2-0...   \n",
              "1        HEERLEN, NL  https://www.autoscout24.com/offers/audi-a3-spo...   \n",
              "2          BREDA, NL  https://www.autoscout24.com/offers/audi-a3-1-4...   \n",
              "3  BAARLE-NASSAU, NL  https://www.autoscout24.com/offers/audi-a1-1-4...   \n",
              "4        ZUTPHEN, NL  https://www.autoscout24.com/offers/audi-a1-s-l...   \n",
              "\n",
              "          make     model                                  short_description  \\\n",
              "0  \\n,Audi ,\\n  \\n,A3,\\n                          2.0 FSI Ambition Pro Line   \n",
              "1  \\n,Audi ,\\n  \\n,A3,\\n  Sportback 1.4 TFSI Ambiente/ECC/PDC//Lichtmeta...   \n",
              "2  \\n,Audi ,\\n  \\n,A3,\\n  1.4 TFSI Attraction Pro Line [ Navi Airco Crui...   \n",
              "3  \\n,Audi ,\\n  \\n,A1,\\n    1.4 TFSI Sportback Pro-Line Aut. S-Tronic Navi.   \n",
              "4  \\n,Audi ,\\n  \\n,A1,\\n  S-Line | Automaat | Navigatie | Cruise-/Climat...   \n",
              "\n",
              "                          price               mileage          gearbox  \\\n",
              "0   [['\\n', '€ 4,450.-', '\\n']]  ['', ['191,066 km']]  \\n,Automatic,\\n   \n",
              "1  [['\\n', '€ 12,950.-', '\\n']]   ['', ['94,758 km']]  \\n,Automatic,\\n   \n",
              "2  [['\\n', '€ 12,445.-', '\\n']]  ['', ['160,883 km']]  \\n,Automatic,\\n   \n",
              "3  [['\\n', '€ 12,450.-', '\\n']]  ['', ['145,102 km']]  \\n,Automatic,\\n   \n",
              "4  [['\\n', '€ 14,945.-', '\\n']]  ['', ['119,666 km']]  \\n,Automatic,\\n   \n",
              "\n",
              "  registration       Fuel_Type  ... emissions_sticker  \\\n",
              "0      08/2003  \\n,Gasoline,\\n  ...              None   \n",
              "1      10/2013  \\n,Gasoline,\\n  ...              None   \n",
              "2      05/2013  \\n,Gasoline,\\n  ...              None   \n",
              "3      06/2015  \\n,Gasoline,\\n  ...              None   \n",
              "4      10/2015  \\n,Gasoline,\\n  ...              None   \n",
              "\n",
              "                                 Comfort_Convenience  \\\n",
              "0  [['Air conditioning', 'Armrest', 'Automatic cl...   \n",
              "1  [['Air conditioning', 'Automatic climate contr...   \n",
              "2  [['Air conditioning', 'Armrest', 'Cruise contr...   \n",
              "3  [['Air conditioning', 'Armrest', 'Automatic cl...   \n",
              "4  [['Air conditioning', 'Armrest', 'Automatic cl...   \n",
              "\n",
              "                                 Entertainment_Media  \\\n",
              "0                           [['CD player', 'Radio']]   \n",
              "1                           [['CD player', 'Radio']]   \n",
              "2  [['Bluetooth', 'CD player', 'Hands-free equipm...   \n",
              "3  [['Bluetooth', 'CD player', 'On-board computer...   \n",
              "4  [['CD player', 'MP3', 'On-board computer', 'Ra...   \n",
              "\n",
              "                                     Safety_Security  \\\n",
              "0  [['ABS', 'Alarm system', 'Central door lock', ...   \n",
              "1  [['Alarm system', 'Central door lock', 'Centra...   \n",
              "2  [['ABS', 'Central door lock', 'Central door lo...   \n",
              "3  [['ABS', 'Central door lock with remote contro...   \n",
              "4  [['ABS', 'Alarm system', 'Bi-Xenon headlights'...   \n",
              "\n",
              "                                              extras      Colour  \\\n",
              "0                                 [['Alloy wheels']]   \\n4, Grey   \n",
              "1                           [['Alloy wheels (16\")']]  \\n4, White   \n",
              "2                      [['Alloy wheels', 'Spoiler']]  \\n4, Black   \n",
              "3                           [['Alloy wheels (15\")']]   \\n4, Grey   \n",
              "4  [['Alloy wheels (17\")', 'Shift paddles', 'Spor...  \\n4, Black   \n",
              "\n",
              "  \\nmanufacturer_color              Paint    Upholstery_colour  \\\n",
              "0                 None  \\npaint, Metallic  \\nupholstery, Black   \n",
              "1                 None               None  \\nupholstery, Black   \n",
              "2                 None  \\npaint, Metallic                 None   \n",
              "3                 None  \\npaint, Metallic                 None   \n",
              "4                 None               None  \\nupholstery, Black   \n",
              "\n",
              "          Upholstery  \n",
              "0         \\n8, Cloth  \n",
              "1         \\n8, Cloth  \n",
              "2               None  \n",
              "3               None  \n",
              "4  \\n8, Part leather  \n",
              "\n",
              "[5 rows x 49 columns]"
            ]
          },
          "metadata": {},
          "execution_count": 9
        }
      ]
    },
    {
      "cell_type": "markdown",
      "source": [
        "# Null Data Percentages and Dropping"
      ],
      "metadata": {
        "id": "HYQ54vnktS6U"
      }
    },
    {
      "cell_type": "code",
      "execution_count": 10,
      "metadata": {
        "colab": {
          "base_uri": "https://localhost:8080/",
          "height": 1000
        },
        "id": "ZHTCG2dtPLS4",
        "outputId": "c52d9074-9cd4-4ee3-c1ec-06e6cae9a68a"
      },
      "outputs": [
        {
          "output_type": "execute_result",
          "data": {
            "text/html": [
              "\n",
              "  <div id=\"df-e6cacc63-11d2-47b8-841b-1b7fe5eca44e\">\n",
              "    <div class=\"colab-df-container\">\n",
              "      <div>\n",
              "<style scoped>\n",
              "    .dataframe tbody tr th:only-of-type {\n",
              "        vertical-align: middle;\n",
              "    }\n",
              "\n",
              "    .dataframe tbody tr th {\n",
              "        vertical-align: top;\n",
              "    }\n",
              "\n",
              "    .dataframe thead th {\n",
              "        text-align: right;\n",
              "    }\n",
              "</style>\n",
              "<table border=\"1\" class=\"dataframe\">\n",
              "  <thead>\n",
              "    <tr style=\"text-align: right;\">\n",
              "      <th></th>\n",
              "      <th>Percentage (%)</th>\n",
              "    </tr>\n",
              "  </thead>\n",
              "  <tbody>\n",
              "    <tr>\n",
              "      <th>last_service</th>\n",
              "      <td>100.000000</td>\n",
              "    </tr>\n",
              "    <tr>\n",
              "      <th>\\nmanufacturer_color</th>\n",
              "      <td>100.000000</td>\n",
              "    </tr>\n",
              "    <tr>\n",
              "      <th>emissions_sticker</th>\n",
              "      <td>99.783385</td>\n",
              "    </tr>\n",
              "    <tr>\n",
              "      <th>last_timing_belt_change</th>\n",
              "      <td>98.663741</td>\n",
              "    </tr>\n",
              "    <tr>\n",
              "      <th>previous_owner</th>\n",
              "      <td>93.073958</td>\n",
              "    </tr>\n",
              "    <tr>\n",
              "      <th>non_smoker_vehicle</th>\n",
              "      <td>92.011984</td>\n",
              "    </tr>\n",
              "    <tr>\n",
              "      <th>production_date</th>\n",
              "      <td>89.572960</td>\n",
              "    </tr>\n",
              "    <tr>\n",
              "      <th>country_version</th>\n",
              "      <td>87.313979</td>\n",
              "    </tr>\n",
              "    <tr>\n",
              "      <th>warranty</th>\n",
              "      <td>66.233437</td>\n",
              "    </tr>\n",
              "    <tr>\n",
              "      <th>Upholstery_colour</th>\n",
              "      <td>34.872141</td>\n",
              "    </tr>\n",
              "    <tr>\n",
              "      <th>full_service_history</th>\n",
              "      <td>31.427406</td>\n",
              "    </tr>\n",
              "    <tr>\n",
              "      <th>emission_class</th>\n",
              "      <td>30.362619</td>\n",
              "    </tr>\n",
              "    <tr>\n",
              "      <th>Paint</th>\n",
              "      <td>29.285172</td>\n",
              "    </tr>\n",
              "    <tr>\n",
              "      <th>Gears</th>\n",
              "      <td>29.009480</td>\n",
              "    </tr>\n",
              "    <tr>\n",
              "      <th>general_inspection</th>\n",
              "      <td>23.937322</td>\n",
              "    </tr>\n",
              "    <tr>\n",
              "      <th>drivetrain</th>\n",
              "      <td>23.159479</td>\n",
              "    </tr>\n",
              "    <tr>\n",
              "      <th>fuel_consumption</th>\n",
              "      <td>18.665429</td>\n",
              "    </tr>\n",
              "    <tr>\n",
              "      <th>Upholstery</th>\n",
              "      <td>17.019720</td>\n",
              "    </tr>\n",
              "    <tr>\n",
              "      <th>offer_number</th>\n",
              "      <td>15.856472</td>\n",
              "    </tr>\n",
              "    <tr>\n",
              "      <th>co2_emissions</th>\n",
              "      <td>15.717219</td>\n",
              "    </tr>\n",
              "    <tr>\n",
              "      <th>Fuel_type</th>\n",
              "      <td>13.980083</td>\n",
              "    </tr>\n",
              "    <tr>\n",
              "      <th>Cylinders</th>\n",
              "      <td>8.851661</td>\n",
              "    </tr>\n",
              "    <tr>\n",
              "      <th>power</th>\n",
              "      <td>8.514080</td>\n",
              "    </tr>\n",
              "    <tr>\n",
              "      <th>Power</th>\n",
              "      <td>8.514080</td>\n",
              "    </tr>\n",
              "    <tr>\n",
              "      <th>engine_size</th>\n",
              "      <td>8.210257</td>\n",
              "    </tr>\n",
              "    <tr>\n",
              "      <th>seats</th>\n",
              "      <td>7.795313</td>\n",
              "    </tr>\n",
              "    <tr>\n",
              "      <th>Empty_weight</th>\n",
              "      <td>2.244915</td>\n",
              "    </tr>\n",
              "    <tr>\n",
              "      <th>doors</th>\n",
              "      <td>1.848257</td>\n",
              "    </tr>\n",
              "    <tr>\n",
              "      <th>Colour</th>\n",
              "      <td>1.682280</td>\n",
              "    </tr>\n",
              "    <tr>\n",
              "      <th>type</th>\n",
              "      <td>1.510676</td>\n",
              "    </tr>\n",
              "    <tr>\n",
              "      <th>body_type</th>\n",
              "      <td>1.510676</td>\n",
              "    </tr>\n",
              "    <tr>\n",
              "      <th>short_description</th>\n",
              "      <td>0.237713</td>\n",
              "    </tr>\n",
              "    <tr>\n",
              "      <th>Mileage</th>\n",
              "      <td>0.215208</td>\n",
              "    </tr>\n",
              "    <tr>\n",
              "      <th>Gearbox</th>\n",
              "      <td>0.133626</td>\n",
              "    </tr>\n",
              "    <tr>\n",
              "      <th>gearbox</th>\n",
              "      <td>0.133626</td>\n",
              "    </tr>\n",
              "    <tr>\n",
              "      <th>first_registration</th>\n",
              "      <td>0.053450</td>\n",
              "    </tr>\n",
              "    <tr>\n",
              "      <th>registration</th>\n",
              "      <td>0.053450</td>\n",
              "    </tr>\n",
              "    <tr>\n",
              "      <th>Fuel_Type</th>\n",
              "      <td>0.000000</td>\n",
              "    </tr>\n",
              "    <tr>\n",
              "      <th>mileage</th>\n",
              "      <td>0.000000</td>\n",
              "    </tr>\n",
              "    <tr>\n",
              "      <th>price</th>\n",
              "      <td>0.000000</td>\n",
              "    </tr>\n",
              "    <tr>\n",
              "      <th>Comfort_Convenience</th>\n",
              "      <td>0.000000</td>\n",
              "    </tr>\n",
              "    <tr>\n",
              "      <th>Entertainment_Media</th>\n",
              "      <td>0.000000</td>\n",
              "    </tr>\n",
              "    <tr>\n",
              "      <th>Safety_Security</th>\n",
              "      <td>0.000000</td>\n",
              "    </tr>\n",
              "    <tr>\n",
              "      <th>extras</th>\n",
              "      <td>0.000000</td>\n",
              "    </tr>\n",
              "    <tr>\n",
              "      <th>Seller</th>\n",
              "      <td>0.000000</td>\n",
              "    </tr>\n",
              "    <tr>\n",
              "      <th>url</th>\n",
              "      <td>0.000000</td>\n",
              "    </tr>\n",
              "    <tr>\n",
              "      <th>model</th>\n",
              "      <td>0.000000</td>\n",
              "    </tr>\n",
              "    <tr>\n",
              "      <th>make</th>\n",
              "      <td>0.000000</td>\n",
              "    </tr>\n",
              "    <tr>\n",
              "      <th>Location</th>\n",
              "      <td>0.000000</td>\n",
              "    </tr>\n",
              "  </tbody>\n",
              "</table>\n",
              "</div>\n",
              "      <button class=\"colab-df-convert\" onclick=\"convertToInteractive('df-e6cacc63-11d2-47b8-841b-1b7fe5eca44e')\"\n",
              "              title=\"Convert this dataframe to an interactive table.\"\n",
              "              style=\"display:none;\">\n",
              "        \n",
              "  <svg xmlns=\"http://www.w3.org/2000/svg\" height=\"24px\"viewBox=\"0 0 24 24\"\n",
              "       width=\"24px\">\n",
              "    <path d=\"M0 0h24v24H0V0z\" fill=\"none\"/>\n",
              "    <path d=\"M18.56 5.44l.94 2.06.94-2.06 2.06-.94-2.06-.94-.94-2.06-.94 2.06-2.06.94zm-11 1L8.5 8.5l.94-2.06 2.06-.94-2.06-.94L8.5 2.5l-.94 2.06-2.06.94zm10 10l.94 2.06.94-2.06 2.06-.94-2.06-.94-.94-2.06-.94 2.06-2.06.94z\"/><path d=\"M17.41 7.96l-1.37-1.37c-.4-.4-.92-.59-1.43-.59-.52 0-1.04.2-1.43.59L10.3 9.45l-7.72 7.72c-.78.78-.78 2.05 0 2.83L4 21.41c.39.39.9.59 1.41.59.51 0 1.02-.2 1.41-.59l7.78-7.78 2.81-2.81c.8-.78.8-2.07 0-2.86zM5.41 20L4 18.59l7.72-7.72 1.47 1.35L5.41 20z\"/>\n",
              "  </svg>\n",
              "      </button>\n",
              "      \n",
              "  <style>\n",
              "    .colab-df-container {\n",
              "      display:flex;\n",
              "      flex-wrap:wrap;\n",
              "      gap: 12px;\n",
              "    }\n",
              "\n",
              "    .colab-df-convert {\n",
              "      background-color: #E8F0FE;\n",
              "      border: none;\n",
              "      border-radius: 50%;\n",
              "      cursor: pointer;\n",
              "      display: none;\n",
              "      fill: #1967D2;\n",
              "      height: 32px;\n",
              "      padding: 0 0 0 0;\n",
              "      width: 32px;\n",
              "    }\n",
              "\n",
              "    .colab-df-convert:hover {\n",
              "      background-color: #E2EBFA;\n",
              "      box-shadow: 0px 1px 2px rgba(60, 64, 67, 0.3), 0px 1px 3px 1px rgba(60, 64, 67, 0.15);\n",
              "      fill: #174EA6;\n",
              "    }\n",
              "\n",
              "    [theme=dark] .colab-df-convert {\n",
              "      background-color: #3B4455;\n",
              "      fill: #D2E3FC;\n",
              "    }\n",
              "\n",
              "    [theme=dark] .colab-df-convert:hover {\n",
              "      background-color: #434B5C;\n",
              "      box-shadow: 0px 1px 3px 1px rgba(0, 0, 0, 0.15);\n",
              "      filter: drop-shadow(0px 1px 2px rgba(0, 0, 0, 0.3));\n",
              "      fill: #FFFFFF;\n",
              "    }\n",
              "  </style>\n",
              "\n",
              "      <script>\n",
              "        const buttonEl =\n",
              "          document.querySelector('#df-e6cacc63-11d2-47b8-841b-1b7fe5eca44e button.colab-df-convert');\n",
              "        buttonEl.style.display =\n",
              "          google.colab.kernel.accessAllowed ? 'block' : 'none';\n",
              "\n",
              "        async function convertToInteractive(key) {\n",
              "          const element = document.querySelector('#df-e6cacc63-11d2-47b8-841b-1b7fe5eca44e');\n",
              "          const dataTable =\n",
              "            await google.colab.kernel.invokeFunction('convertToInteractive',\n",
              "                                                     [key], {});\n",
              "          if (!dataTable) return;\n",
              "\n",
              "          const docLinkHtml = 'Like what you see? Visit the ' +\n",
              "            '<a target=\"_blank\" href=https://colab.research.google.com/notebooks/data_table.ipynb>data table notebook</a>'\n",
              "            + ' to learn more about interactive tables.';\n",
              "          element.innerHTML = '';\n",
              "          dataTable['output_type'] = 'display_data';\n",
              "          await google.colab.output.renderOutput(dataTable, element);\n",
              "          const docLink = document.createElement('div');\n",
              "          docLink.innerHTML = docLinkHtml;\n",
              "          element.appendChild(docLink);\n",
              "        }\n",
              "      </script>\n",
              "    </div>\n",
              "  </div>\n",
              "  "
            ],
            "text/plain": [
              "                         Percentage (%)\n",
              "last_service                 100.000000\n",
              "\\nmanufacturer_color         100.000000\n",
              "emissions_sticker             99.783385\n",
              "last_timing_belt_change       98.663741\n",
              "previous_owner                93.073958\n",
              "non_smoker_vehicle            92.011984\n",
              "production_date               89.572960\n",
              "country_version               87.313979\n",
              "warranty                      66.233437\n",
              "Upholstery_colour             34.872141\n",
              "full_service_history          31.427406\n",
              "emission_class                30.362619\n",
              "Paint                         29.285172\n",
              "Gears                         29.009480\n",
              "general_inspection            23.937322\n",
              "drivetrain                    23.159479\n",
              "fuel_consumption              18.665429\n",
              "Upholstery                    17.019720\n",
              "offer_number                  15.856472\n",
              "co2_emissions                 15.717219\n",
              "Fuel_type                     13.980083\n",
              "Cylinders                      8.851661\n",
              "power                          8.514080\n",
              "Power                          8.514080\n",
              "engine_size                    8.210257\n",
              "seats                          7.795313\n",
              "Empty_weight                   2.244915\n",
              "doors                          1.848257\n",
              "Colour                         1.682280\n",
              "type                           1.510676\n",
              "body_type                      1.510676\n",
              "short_description              0.237713\n",
              "Mileage                        0.215208\n",
              "Gearbox                        0.133626\n",
              "gearbox                        0.133626\n",
              "first_registration             0.053450\n",
              "registration                   0.053450\n",
              "Fuel_Type                      0.000000\n",
              "mileage                        0.000000\n",
              "price                          0.000000\n",
              "Comfort_Convenience            0.000000\n",
              "Entertainment_Media            0.000000\n",
              "Safety_Security                0.000000\n",
              "extras                         0.000000\n",
              "Seller                         0.000000\n",
              "url                            0.000000\n",
              "model                          0.000000\n",
              "make                           0.000000\n",
              "Location                       0.000000"
            ]
          },
          "metadata": {},
          "execution_count": 10
        }
      ],
      "source": [
        "def null_values(df):\n",
        "    \"\"\"a function to show null values with percentage\"\"\"\n",
        "    nv=pd.concat([df.isnull().sum(), 100 * df.isnull().sum()/df.shape[0]],axis=1).rename(columns={0:'Missing_Records', 1:'Percentage (%)'})\n",
        "    return nv[['Percentage (%)']].sort_values('Percentage (%)', ascending=False)\n",
        "null_values(my_df)"
      ]
    },
    {
      "cell_type": "markdown",
      "source": [
        "* production_date, country_version was removed because almost 90 percent of the column is missing value."
      ],
      "metadata": {
        "id": "IbQaQlQdgBzz"
      }
    },
    {
      "cell_type": "code",
      "execution_count": 11,
      "metadata": {
        "id": "arSsmigy_97p"
      },
      "outputs": [],
      "source": [
        "my_df.drop(columns = ['url','Gearbox','previous_owner','production_date','country_version','\\nmanufacturer_color',\"Fuel_type\",\"Paint\",\"Upholstery_colour\",\"Location\",'last_service','emissions_sticker','last_timing_belt_change'], inplace = True)"
      ]
    },
    {
      "cell_type": "markdown",
      "source": [
        "# Variables"
      ],
      "metadata": {
        "id": "Zt8i-KHEtZKU"
      }
    },
    {
      "cell_type": "markdown",
      "source": [
        "# Comfort_Convenience"
      ],
      "metadata": {
        "id": "6XZf5KPUgHEy"
      }
    },
    {
      "cell_type": "code",
      "source": [
        "my_df['Comfort_Convenience'] = my_df['Comfort_Convenience'].str.replace('contro\\'\\]','control')\n",
        "my_df['Comfort_Convenience'] = my_df['Comfort_Convenience'].str.replace('whee\\'\\]','wheel')\n",
        "my_df['Comfort_Convenience'] = my_df['Comfort_Convenience'].str.findall(r\"\\'(.+?)\\'\")"
      ],
      "metadata": {
        "colab": {
          "base_uri": "https://localhost:8080/"
        },
        "id": "LkddCUw83i0y",
        "outputId": "ebf39596-6b38-427a-b451-ae22a5a8a9ad"
      },
      "execution_count": 12,
      "outputs": [
        {
          "output_type": "stream",
          "name": "stderr",
          "text": [
            "/usr/local/lib/python3.7/dist-packages/ipykernel_launcher.py:1: FutureWarning: The default value of regex will change from True to False in a future version.\n",
            "  \"\"\"Entry point for launching an IPython kernel.\n",
            "/usr/local/lib/python3.7/dist-packages/ipykernel_launcher.py:2: FutureWarning: The default value of regex will change from True to False in a future version.\n",
            "  \n"
          ]
        }
      ]
    },
    {
      "cell_type": "code",
      "source": [
        "values = []\n",
        "for liste in my_df['Comfort_Convenience']:\n",
        "  for value in liste:\n",
        "    values.append(value)\n",
        "values = set(values)\n",
        "def boolean_df(item_lists, unique_items):\n",
        "# Create empty dict\n",
        "    bool_dict = {}\n",
        "    # Loop through all the tags\n",
        "    for i, item in enumerate(unique_items):\n",
        "        # Apply boolean mask\n",
        "        bool_dict[item] = item_lists.apply(lambda x: 1 if item in x else 0)\n",
        "    # Return the results as a dataframe\n",
        "    return pd.DataFrame(bool_dict)\n",
        "Comfort_Convenience = boolean_df(my_df['Comfort_Convenience'], values)\n",
        "my_df = pd.concat([my_df,Comfort_Convenience],axis=1)\n",
        "my_df.drop(columns = ['Comfort_Convenience'],inplace = True)\n",
        "my_df.head()"
      ],
      "metadata": {
        "id": "GFaK6xrIa0eK",
        "colab": {
          "base_uri": "https://localhost:8080/",
          "height": 523
        },
        "outputId": "5b4f6513-5269-4a37-d86a-55fccb2131d7"
      },
      "execution_count": 13,
      "outputs": [
        {
          "output_type": "execute_result",
          "data": {
            "text/html": [
              "\n",
              "  <div id=\"df-9999b6d8-b339-4c9e-9963-54a5b2f0547f\">\n",
              "    <div class=\"colab-df-container\">\n",
              "      <div>\n",
              "<style scoped>\n",
              "    .dataframe tbody tr th:only-of-type {\n",
              "        vertical-align: middle;\n",
              "    }\n",
              "\n",
              "    .dataframe tbody tr th {\n",
              "        vertical-align: top;\n",
              "    }\n",
              "\n",
              "    .dataframe thead th {\n",
              "        text-align: right;\n",
              "    }\n",
              "</style>\n",
              "<table border=\"1\" class=\"dataframe\">\n",
              "  <thead>\n",
              "    <tr style=\"text-align: right;\">\n",
              "      <th></th>\n",
              "      <th>make</th>\n",
              "      <th>model</th>\n",
              "      <th>short_description</th>\n",
              "      <th>price</th>\n",
              "      <th>mileage</th>\n",
              "      <th>gearbox</th>\n",
              "      <th>registration</th>\n",
              "      <th>Fuel_Type</th>\n",
              "      <th>power</th>\n",
              "      <th>Seller</th>\n",
              "      <th>...</th>\n",
              "      <th>Lumbar support</th>\n",
              "      <th>Automatic climate control</th>\n",
              "      <th>Light sensor</th>\n",
              "      <th>Park Distance Control</th>\n",
              "      <th>Cruise control</th>\n",
              "      <th>Power windows</th>\n",
              "      <th>Armrest</th>\n",
              "      <th>Electric backseat adjustment</th>\n",
              "      <th>Automatic climate control, 3 zones</th>\n",
              "      <th>Multi-function steering wheel</th>\n",
              "    </tr>\n",
              "  </thead>\n",
              "  <tbody>\n",
              "    <tr>\n",
              "      <th>0</th>\n",
              "      <td>\\n,Audi ,\\n</td>\n",
              "      <td>\\n,A3,\\n</td>\n",
              "      <td>2.0 FSI Ambition Pro Line</td>\n",
              "      <td>[['\\n', '€ 4,450.-', '\\n']]</td>\n",
              "      <td>['', ['191,066 km']]</td>\n",
              "      <td>\\n,Automatic,\\n</td>\n",
              "      <td>08/2003</td>\n",
              "      <td>\\n,Gasoline,\\n</td>\n",
              "      <td>110 kW (150 hp),</td>\n",
              "      <td>Dealer</td>\n",
              "      <td>...</td>\n",
              "      <td>0</td>\n",
              "      <td>1</td>\n",
              "      <td>0</td>\n",
              "      <td>0</td>\n",
              "      <td>0</td>\n",
              "      <td>1</td>\n",
              "      <td>1</td>\n",
              "      <td>0</td>\n",
              "      <td>0</td>\n",
              "      <td>0</td>\n",
              "    </tr>\n",
              "    <tr>\n",
              "      <th>1</th>\n",
              "      <td>\\n,Audi ,\\n</td>\n",
              "      <td>\\n,A3,\\n</td>\n",
              "      <td>Sportback 1.4 TFSI Ambiente/ECC/PDC//Lichtmeta...</td>\n",
              "      <td>[['\\n', '€ 12,950.-', '\\n']]</td>\n",
              "      <td>['', ['94,758 km']]</td>\n",
              "      <td>\\n,Automatic,\\n</td>\n",
              "      <td>10/2013</td>\n",
              "      <td>\\n,Gasoline,\\n</td>\n",
              "      <td>92 kW (125 hp),</td>\n",
              "      <td>Dealer</td>\n",
              "      <td>...</td>\n",
              "      <td>0</td>\n",
              "      <td>1</td>\n",
              "      <td>1</td>\n",
              "      <td>0</td>\n",
              "      <td>0</td>\n",
              "      <td>1</td>\n",
              "      <td>0</td>\n",
              "      <td>0</td>\n",
              "      <td>0</td>\n",
              "      <td>0</td>\n",
              "    </tr>\n",
              "    <tr>\n",
              "      <th>2</th>\n",
              "      <td>\\n,Audi ,\\n</td>\n",
              "      <td>\\n,A3,\\n</td>\n",
              "      <td>1.4 TFSI Attraction Pro Line [ Navi Airco Crui...</td>\n",
              "      <td>[['\\n', '€ 12,445.-', '\\n']]</td>\n",
              "      <td>['', ['160,883 km']]</td>\n",
              "      <td>\\n,Automatic,\\n</td>\n",
              "      <td>05/2013</td>\n",
              "      <td>\\n,Gasoline,\\n</td>\n",
              "      <td>90 kW (122 hp),</td>\n",
              "      <td>Dealer</td>\n",
              "      <td>...</td>\n",
              "      <td>0</td>\n",
              "      <td>0</td>\n",
              "      <td>0</td>\n",
              "      <td>0</td>\n",
              "      <td>1</td>\n",
              "      <td>1</td>\n",
              "      <td>1</td>\n",
              "      <td>0</td>\n",
              "      <td>0</td>\n",
              "      <td>1</td>\n",
              "    </tr>\n",
              "    <tr>\n",
              "      <th>3</th>\n",
              "      <td>\\n,Audi ,\\n</td>\n",
              "      <td>\\n,A1,\\n</td>\n",
              "      <td>1.4 TFSI Sportback Pro-Line Aut. S-Tronic Navi.</td>\n",
              "      <td>[['\\n', '€ 12,450.-', '\\n']]</td>\n",
              "      <td>['', ['145,102 km']]</td>\n",
              "      <td>\\n,Automatic,\\n</td>\n",
              "      <td>06/2015</td>\n",
              "      <td>\\n,Gasoline,\\n</td>\n",
              "      <td>92 kW (125 hp),</td>\n",
              "      <td>Dealer</td>\n",
              "      <td>...</td>\n",
              "      <td>0</td>\n",
              "      <td>1</td>\n",
              "      <td>0</td>\n",
              "      <td>0</td>\n",
              "      <td>1</td>\n",
              "      <td>1</td>\n",
              "      <td>1</td>\n",
              "      <td>0</td>\n",
              "      <td>0</td>\n",
              "      <td>0</td>\n",
              "    </tr>\n",
              "    <tr>\n",
              "      <th>4</th>\n",
              "      <td>\\n,Audi ,\\n</td>\n",
              "      <td>\\n,A1,\\n</td>\n",
              "      <td>S-Line | Automaat | Navigatie | Cruise-/Climat...</td>\n",
              "      <td>[['\\n', '€ 14,945.-', '\\n']]</td>\n",
              "      <td>['', ['119,666 km']]</td>\n",
              "      <td>\\n,Automatic,\\n</td>\n",
              "      <td>10/2015</td>\n",
              "      <td>\\n,Gasoline,\\n</td>\n",
              "      <td>92 kW (125 hp),</td>\n",
              "      <td>Dealer</td>\n",
              "      <td>...</td>\n",
              "      <td>1</td>\n",
              "      <td>1</td>\n",
              "      <td>0</td>\n",
              "      <td>0</td>\n",
              "      <td>1</td>\n",
              "      <td>1</td>\n",
              "      <td>1</td>\n",
              "      <td>0</td>\n",
              "      <td>0</td>\n",
              "      <td>1</td>\n",
              "    </tr>\n",
              "  </tbody>\n",
              "</table>\n",
              "<p>5 rows × 79 columns</p>\n",
              "</div>\n",
              "      <button class=\"colab-df-convert\" onclick=\"convertToInteractive('df-9999b6d8-b339-4c9e-9963-54a5b2f0547f')\"\n",
              "              title=\"Convert this dataframe to an interactive table.\"\n",
              "              style=\"display:none;\">\n",
              "        \n",
              "  <svg xmlns=\"http://www.w3.org/2000/svg\" height=\"24px\"viewBox=\"0 0 24 24\"\n",
              "       width=\"24px\">\n",
              "    <path d=\"M0 0h24v24H0V0z\" fill=\"none\"/>\n",
              "    <path d=\"M18.56 5.44l.94 2.06.94-2.06 2.06-.94-2.06-.94-.94-2.06-.94 2.06-2.06.94zm-11 1L8.5 8.5l.94-2.06 2.06-.94-2.06-.94L8.5 2.5l-.94 2.06-2.06.94zm10 10l.94 2.06.94-2.06 2.06-.94-2.06-.94-.94-2.06-.94 2.06-2.06.94z\"/><path d=\"M17.41 7.96l-1.37-1.37c-.4-.4-.92-.59-1.43-.59-.52 0-1.04.2-1.43.59L10.3 9.45l-7.72 7.72c-.78.78-.78 2.05 0 2.83L4 21.41c.39.39.9.59 1.41.59.51 0 1.02-.2 1.41-.59l7.78-7.78 2.81-2.81c.8-.78.8-2.07 0-2.86zM5.41 20L4 18.59l7.72-7.72 1.47 1.35L5.41 20z\"/>\n",
              "  </svg>\n",
              "      </button>\n",
              "      \n",
              "  <style>\n",
              "    .colab-df-container {\n",
              "      display:flex;\n",
              "      flex-wrap:wrap;\n",
              "      gap: 12px;\n",
              "    }\n",
              "\n",
              "    .colab-df-convert {\n",
              "      background-color: #E8F0FE;\n",
              "      border: none;\n",
              "      border-radius: 50%;\n",
              "      cursor: pointer;\n",
              "      display: none;\n",
              "      fill: #1967D2;\n",
              "      height: 32px;\n",
              "      padding: 0 0 0 0;\n",
              "      width: 32px;\n",
              "    }\n",
              "\n",
              "    .colab-df-convert:hover {\n",
              "      background-color: #E2EBFA;\n",
              "      box-shadow: 0px 1px 2px rgba(60, 64, 67, 0.3), 0px 1px 3px 1px rgba(60, 64, 67, 0.15);\n",
              "      fill: #174EA6;\n",
              "    }\n",
              "\n",
              "    [theme=dark] .colab-df-convert {\n",
              "      background-color: #3B4455;\n",
              "      fill: #D2E3FC;\n",
              "    }\n",
              "\n",
              "    [theme=dark] .colab-df-convert:hover {\n",
              "      background-color: #434B5C;\n",
              "      box-shadow: 0px 1px 3px 1px rgba(0, 0, 0, 0.15);\n",
              "      filter: drop-shadow(0px 1px 2px rgba(0, 0, 0, 0.3));\n",
              "      fill: #FFFFFF;\n",
              "    }\n",
              "  </style>\n",
              "\n",
              "      <script>\n",
              "        const buttonEl =\n",
              "          document.querySelector('#df-9999b6d8-b339-4c9e-9963-54a5b2f0547f button.colab-df-convert');\n",
              "        buttonEl.style.display =\n",
              "          google.colab.kernel.accessAllowed ? 'block' : 'none';\n",
              "\n",
              "        async function convertToInteractive(key) {\n",
              "          const element = document.querySelector('#df-9999b6d8-b339-4c9e-9963-54a5b2f0547f');\n",
              "          const dataTable =\n",
              "            await google.colab.kernel.invokeFunction('convertToInteractive',\n",
              "                                                     [key], {});\n",
              "          if (!dataTable) return;\n",
              "\n",
              "          const docLinkHtml = 'Like what you see? Visit the ' +\n",
              "            '<a target=\"_blank\" href=https://colab.research.google.com/notebooks/data_table.ipynb>data table notebook</a>'\n",
              "            + ' to learn more about interactive tables.';\n",
              "          element.innerHTML = '';\n",
              "          dataTable['output_type'] = 'display_data';\n",
              "          await google.colab.output.renderOutput(dataTable, element);\n",
              "          const docLink = document.createElement('div');\n",
              "          docLink.innerHTML = docLinkHtml;\n",
              "          element.appendChild(docLink);\n",
              "        }\n",
              "      </script>\n",
              "    </div>\n",
              "  </div>\n",
              "  "
            ],
            "text/plain": [
              "          make     model                                  short_description  \\\n",
              "0  \\n,Audi ,\\n  \\n,A3,\\n                          2.0 FSI Ambition Pro Line   \n",
              "1  \\n,Audi ,\\n  \\n,A3,\\n  Sportback 1.4 TFSI Ambiente/ECC/PDC//Lichtmeta...   \n",
              "2  \\n,Audi ,\\n  \\n,A3,\\n  1.4 TFSI Attraction Pro Line [ Navi Airco Crui...   \n",
              "3  \\n,Audi ,\\n  \\n,A1,\\n    1.4 TFSI Sportback Pro-Line Aut. S-Tronic Navi.   \n",
              "4  \\n,Audi ,\\n  \\n,A1,\\n  S-Line | Automaat | Navigatie | Cruise-/Climat...   \n",
              "\n",
              "                          price               mileage          gearbox  \\\n",
              "0   [['\\n', '€ 4,450.-', '\\n']]  ['', ['191,066 km']]  \\n,Automatic,\\n   \n",
              "1  [['\\n', '€ 12,950.-', '\\n']]   ['', ['94,758 km']]  \\n,Automatic,\\n   \n",
              "2  [['\\n', '€ 12,445.-', '\\n']]  ['', ['160,883 km']]  \\n,Automatic,\\n   \n",
              "3  [['\\n', '€ 12,450.-', '\\n']]  ['', ['145,102 km']]  \\n,Automatic,\\n   \n",
              "4  [['\\n', '€ 14,945.-', '\\n']]  ['', ['119,666 km']]  \\n,Automatic,\\n   \n",
              "\n",
              "  registration       Fuel_Type             power  Seller  ... Lumbar support  \\\n",
              "0      08/2003  \\n,Gasoline,\\n  110 kW (150 hp),  Dealer  ...              0   \n",
              "1      10/2013  \\n,Gasoline,\\n   92 kW (125 hp),  Dealer  ...              0   \n",
              "2      05/2013  \\n,Gasoline,\\n   90 kW (122 hp),  Dealer  ...              0   \n",
              "3      06/2015  \\n,Gasoline,\\n   92 kW (125 hp),  Dealer  ...              0   \n",
              "4      10/2015  \\n,Gasoline,\\n   92 kW (125 hp),  Dealer  ...              1   \n",
              "\n",
              "  Automatic climate control Light sensor Park Distance Control Cruise control  \\\n",
              "0                         1            0                     0              0   \n",
              "1                         1            1                     0              0   \n",
              "2                         0            0                     0              1   \n",
              "3                         1            0                     0              1   \n",
              "4                         1            0                     0              1   \n",
              "\n",
              "  Power windows Armrest Electric backseat adjustment  \\\n",
              "0             1       1                            0   \n",
              "1             1       0                            0   \n",
              "2             1       1                            0   \n",
              "3             1       1                            0   \n",
              "4             1       1                            0   \n",
              "\n",
              "  Automatic climate control, 3 zones Multi-function steering wheel  \n",
              "0                                  0                             0  \n",
              "1                                  0                             0  \n",
              "2                                  0                             1  \n",
              "3                                  0                             0  \n",
              "4                                  0                             1  \n",
              "\n",
              "[5 rows x 79 columns]"
            ]
          },
          "metadata": {},
          "execution_count": 13
        }
      ]
    },
    {
      "cell_type": "code",
      "source": [
        "def removing_column(df,threshold=0.005):\n",
        "  print(df.columns[(df.sum()/df.shape[0])<threshold])\n",
        "  return df.columns[(df.sum()/df.shape[0])<threshold]\n",
        "my_df.drop(columns = removing_column(Comfort_Convenience), inplace = True)"
      ],
      "metadata": {
        "colab": {
          "base_uri": "https://localhost:8080/"
        },
        "id": "mI_HM7YWDjJt",
        "outputId": "2fb0c96f-6691-4469-b6ab-db83667037ae"
      },
      "execution_count": 14,
      "outputs": [
        {
          "output_type": "stream",
          "name": "stdout",
          "text": [
            "Index(['Automatic climate control, 4 zones', 'Leather seats', 'Massage seats',\n",
            "       'Park Distance Control'],\n",
            "      dtype='object')\n"
          ]
        }
      ]
    },
    {
      "cell_type": "markdown",
      "source": [
        "# Make - Model"
      ],
      "metadata": {
        "id": "4HNoYybWjq9-"
      }
    },
    {
      "cell_type": "code",
      "source": [
        "my_df['make'].head()"
      ],
      "metadata": {
        "colab": {
          "base_uri": "https://localhost:8080/"
        },
        "id": "-oiqIPzHpYYq",
        "outputId": "d0c26a03-aebd-46b0-857f-589e8cd8fac1"
      },
      "execution_count": 15,
      "outputs": [
        {
          "output_type": "execute_result",
          "data": {
            "text/plain": [
              "0    \\n,Audi ,\\n\n",
              "1    \\n,Audi ,\\n\n",
              "2    \\n,Audi ,\\n\n",
              "3    \\n,Audi ,\\n\n",
              "4    \\n,Audi ,\\n\n",
              "Name: make, dtype: object"
            ]
          },
          "metadata": {},
          "execution_count": 15
        }
      ]
    },
    {
      "cell_type": "code",
      "source": [
        "my_df['make'].unique()"
      ],
      "metadata": {
        "colab": {
          "base_uri": "https://localhost:8080/"
        },
        "id": "cFNysmD24W9J",
        "outputId": "09da7987-d25e-41fc-e88e-6f8263dbc7e8"
      },
      "execution_count": 16,
      "outputs": [
        {
          "output_type": "execute_result",
          "data": {
            "text/plain": [
              "array(['\\n,Audi ,\\n', '\\n,BMW ,\\n', '\\n,Ford ,\\n', '\\n,Mercedes-Benz ,\\n',\n",
              "       '\\n,Opel ,\\n', '\\n,Volkswagen ,\\n', '\\n,Renault ,\\n',\n",
              "       '\\n,Citroen ,\\n', '\\n,Chevrolet ,\\n', '\\n,Dacia ,\\n',\n",
              "       '\\n,Fiat ,\\n', '\\n,Honda ,\\n', '\\n,Hyundai ,\\n', '\\n,Kia ,\\n',\n",
              "       '\\n,Mazda ,\\n', '\\n,Peugeot ,\\n', '\\n,Skoda ,\\n', '\\n,Toyota ,\\n',\n",
              "       '\\n,Tesla ,\\n', '\\n,Volvo ,\\n'], dtype=object)"
            ]
          },
          "metadata": {},
          "execution_count": 16
        }
      ]
    },
    {
      "cell_type": "code",
      "source": [
        "my_df['make'] = my_df['make'].str.extract(r\"\\,(.+?)\\s\")"
      ],
      "metadata": {
        "id": "vVRjHw_U4jLC"
      },
      "execution_count": 17,
      "outputs": []
    },
    {
      "cell_type": "code",
      "source": [
        "my_df['model'] = my_df['model'].str.extract(r\"\\,(.+?)\\,\")"
      ],
      "metadata": {
        "id": "aSRk2MxYpwnC"
      },
      "execution_count": 18,
      "outputs": []
    },
    {
      "cell_type": "code",
      "source": [
        "my_df['make-model'] = my_df['make']+'-'+my_df['model']"
      ],
      "metadata": {
        "id": "ndKqq_SLqnY5"
      },
      "execution_count": 19,
      "outputs": []
    },
    {
      "cell_type": "code",
      "source": [
        "my_df.drop(columns = ['make','model'],inplace = True)\n",
        "my_df.shape"
      ],
      "metadata": {
        "id": "Rra19WNbrIhw",
        "colab": {
          "base_uri": "https://localhost:8080/"
        },
        "outputId": "11911618-4dd4-4099-d4e0-96e68c9233f8"
      },
      "execution_count": 20,
      "outputs": [
        {
          "output_type": "execute_result",
          "data": {
            "text/plain": [
              "(71094, 74)"
            ]
          },
          "metadata": {},
          "execution_count": 20
        }
      ]
    },
    {
      "cell_type": "code",
      "source": [
        "names = my_df['make-model'].value_counts()[my_df['make-model'].value_counts()<30].index.values\n",
        "for name in names:\n",
        "  my_df.drop(my_df[my_df['make-model']==name].index.values, axis = 0, inplace = True)\n",
        "my_df.reset_index(drop = True, inplace = True)"
      ],
      "metadata": {
        "id": "mG72MrJ8K2x_"
      },
      "execution_count": null,
      "outputs": []
    },
    {
      "cell_type": "code",
      "source": [
        "my_df.shape"
      ],
      "metadata": {
        "id": "Uy1-G-jvJDH9"
      },
      "execution_count": null,
      "outputs": []
    },
    {
      "cell_type": "markdown",
      "source": [
        "# Price"
      ],
      "metadata": {
        "id": "JpUUc94ouaew"
      }
    },
    {
      "cell_type": "code",
      "source": [
        "my_df['price'] = my_df['price'].str.extract(r\"\\€(.+?)\\.\")\n",
        "my_df['price'] = my_df['price'].str.replace(',','')"
      ],
      "metadata": {
        "id": "SBMk7drzdOoQ"
      },
      "execution_count": null,
      "outputs": []
    },
    {
      "cell_type": "code",
      "source": [
        "my_df['price'] = my_df['price'].apply(pd.to_numeric, errors='ignore')"
      ],
      "metadata": {
        "id": "ZXJ4g2HB8KXt"
      },
      "execution_count": null,
      "outputs": []
    },
    {
      "cell_type": "code",
      "source": [
        "my_df['price'].head()"
      ],
      "metadata": {
        "id": "LKo97V3D9aJm"
      },
      "execution_count": null,
      "outputs": []
    },
    {
      "cell_type": "markdown",
      "source": [
        "# Emission_class"
      ],
      "metadata": {
        "id": "XwgZ1oYXZjUf"
      }
    },
    {
      "cell_type": "code",
      "source": [
        "my_df['emission_class'].unique()"
      ],
      "metadata": {
        "id": "FvN5ygH-poqd"
      },
      "execution_count": null,
      "outputs": []
    },
    {
      "cell_type": "code",
      "source": [
        "my_df['emission_class'] = my_df['emission_class'].str.extract(r\"\\n,(.+?),\\n\")"
      ],
      "metadata": {
        "id": "homxehYL-LhH"
      },
      "execution_count": null,
      "outputs": []
    },
    {
      "cell_type": "code",
      "source": [
        "emission_class = my_df['emission_class'].str.get_dummies().add_prefix('emission_class_')"
      ],
      "metadata": {
        "id": "wIhDInysG8cF"
      },
      "execution_count": null,
      "outputs": []
    },
    {
      "cell_type": "code",
      "source": [
        "my_df.drop('emission_class',inplace = True, axis = 1)"
      ],
      "metadata": {
        "id": "j5sIQTDnH9TN"
      },
      "execution_count": null,
      "outputs": []
    },
    {
      "cell_type": "markdown",
      "source": [
        "# Doors"
      ],
      "metadata": {
        "id": "bNloB12ZbSTN"
      }
    },
    {
      "cell_type": "code",
      "source": [
        "my_df['doors'].unique()"
      ],
      "metadata": {
        "id": "PpIGLKnFvopb"
      },
      "execution_count": null,
      "outputs": []
    },
    {
      "cell_type": "code",
      "source": [
        "my_df['doors'] = my_df['doors'].str.extract(r\"(\\d+)\")"
      ],
      "metadata": {
        "id": "52sPnAwWlUJ5"
      },
      "execution_count": null,
      "outputs": []
    },
    {
      "cell_type": "code",
      "source": [
        "my_df['doors'] = my_df['doors'].apply(pd.to_numeric, errors='ignore')"
      ],
      "metadata": {
        "id": "OhKS0mfZhxOA"
      },
      "execution_count": null,
      "outputs": []
    },
    {
      "cell_type": "markdown",
      "source": [
        "# offer_number"
      ],
      "metadata": {
        "id": "_1DF-wu_lYIE"
      }
    },
    {
      "cell_type": "markdown",
      "source": [
        "offer_number is removed because it is considered not useful."
      ],
      "metadata": {
        "id": "9E_zTm7llawR"
      }
    },
    {
      "cell_type": "code",
      "source": [
        "my_df.drop(columns = ['offer_number'],inplace = True)"
      ],
      "metadata": {
        "id": "Oi3aQyHdl8V_"
      },
      "execution_count": null,
      "outputs": []
    },
    {
      "cell_type": "markdown",
      "source": [
        "# warranty"
      ],
      "metadata": {
        "id": "I6oZQdx8lqDD"
      }
    },
    {
      "cell_type": "code",
      "source": [
        "my_df['warranty'].unique()"
      ],
      "metadata": {
        "id": "vZO4jAz0lVb2"
      },
      "execution_count": null,
      "outputs": []
    },
    {
      "cell_type": "code",
      "source": [
        "my_df['warranty'] = my_df['warranty'].str.extract(r\"\\n,(.+?),\\n\")\n",
        "my_df['warranty'].unique()"
      ],
      "metadata": {
        "id": "QEF88gHbiKNx"
      },
      "execution_count": null,
      "outputs": []
    },
    {
      "cell_type": "code",
      "source": [
        "my_df['warranty'].fillna('0', inplace = True)"
      ],
      "metadata": {
        "id": "U4_uqjpirDFD"
      },
      "execution_count": null,
      "outputs": []
    },
    {
      "cell_type": "code",
      "source": [
        "my_df[my_df['warranty']=='Yes']['warranty']"
      ],
      "metadata": {
        "id": "DW1JTJg_lmuR"
      },
      "execution_count": null,
      "outputs": []
    },
    {
      "cell_type": "code",
      "source": [
        "my_df.loc[my_df['warranty']=='Yes',['warranty']] = '6'"
      ],
      "metadata": {
        "id": "lmxZAhgZ8Ynz"
      },
      "execution_count": null,
      "outputs": []
    },
    {
      "cell_type": "code",
      "source": [
        "my_df['warranty'] = my_df['warranty'].str.extract(r\"(\\d+)\").apply(pd.to_numeric, errors='ignore')"
      ],
      "metadata": {
        "id": "pf9gF98wlv-O"
      },
      "execution_count": null,
      "outputs": []
    },
    {
      "cell_type": "code",
      "source": [
        "my_df.rename(columns = {'warranty':'warranty_months'},inplace = True)"
      ],
      "metadata": {
        "id": "LvFQe17p9XVB"
      },
      "execution_count": null,
      "outputs": []
    },
    {
      "cell_type": "markdown",
      "source": [
        "# Mileage"
      ],
      "metadata": {
        "id": "4JfyhCQ4mqeQ"
      }
    },
    {
      "cell_type": "code",
      "source": [
        "my_df['Mileage'] = my_df['Mileage'].str.replace(r'[\\[\\]\\'\\\\n,\\s]','')"
      ],
      "metadata": {
        "id": "AnHDzA9pyZjg"
      },
      "execution_count": null,
      "outputs": []
    },
    {
      "cell_type": "code",
      "source": [
        "my_df['Mileage'].unique()"
      ],
      "metadata": {
        "id": "kycYApK5pTAC"
      },
      "execution_count": null,
      "outputs": []
    },
    {
      "cell_type": "code",
      "source": [
        "my_df.drop(columns = ['Mileage'],inplace = True)"
      ],
      "metadata": {
        "id": "xYMeizA7pcxx"
      },
      "execution_count": null,
      "outputs": []
    },
    {
      "cell_type": "markdown",
      "source": [
        "# first_registration"
      ],
      "metadata": {
        "id": "1NXgzpoZqcwI"
      }
    },
    {
      "cell_type": "code",
      "source": [
        "my_df['first_registration_years'] = (pd.Timestamp.now() - pd.to_datetime(df['first_registration'],format='%m/%Y',errors='coerce')) / np.timedelta64(1,'Y')"
      ],
      "metadata": {
        "id": "UAU90sBArmD9"
      },
      "execution_count": null,
      "outputs": []
    },
    {
      "cell_type": "code",
      "source": [
        "my_df.loc[my_df['first_registration_years']<0,['first_registration_years','Seller','price','mileage']]"
      ],
      "metadata": {
        "id": "n8V_7IU77YY6"
      },
      "execution_count": null,
      "outputs": []
    },
    {
      "cell_type": "code",
      "source": [
        "indexes = (my_df.loc[my_df['first_registration_years']<0].index).values\n",
        "my_df = my_df.drop(indexes,axis = 0)"
      ],
      "metadata": {
        "id": "zIFiSuEM_Aih"
      },
      "execution_count": null,
      "outputs": []
    },
    {
      "cell_type": "code",
      "source": [
        "my_df.reset_index(drop=True,inplace=True)\n",
        "my_df.drop(columns = ['first_registration'], inplace = True)"
      ],
      "metadata": {
        "id": "AhAFcvjrr8mO"
      },
      "execution_count": null,
      "outputs": []
    },
    {
      "cell_type": "code",
      "source": [
        "my_df.shape"
      ],
      "metadata": {
        "id": "wL5wnul-toRb"
      },
      "execution_count": null,
      "outputs": []
    },
    {
      "cell_type": "markdown",
      "source": [
        "# general_inspection"
      ],
      "metadata": {
        "id": "LskQG2JCv7_T"
      }
    },
    {
      "cell_type": "code",
      "source": [
        "my_df['general_inspection'].unique()"
      ],
      "metadata": {
        "id": "0BLX76c3vBdE"
      },
      "execution_count": null,
      "outputs": []
    },
    {
      "cell_type": "code",
      "source": [
        "my_df['general_inspection'].value_counts()"
      ],
      "metadata": {
        "id": "8CtqafC8CDrv"
      },
      "execution_count": null,
      "outputs": []
    },
    {
      "cell_type": "code",
      "source": [
        "my_df['general_inspection'] = my_df['general_inspection'].str.replace('New','02/2022')"
      ],
      "metadata": {
        "id": "DJcBjxC0C3b5"
      },
      "execution_count": null,
      "outputs": []
    },
    {
      "cell_type": "code",
      "source": [
        "my_df['general_inspection'].unique()"
      ],
      "metadata": {
        "id": "ycOLNuNXE6v1"
      },
      "execution_count": null,
      "outputs": []
    },
    {
      "cell_type": "code",
      "source": [
        "my_df['general_inspection_new'] = (pd.to_datetime(df['general_inspection'],format='%m/%Y',errors='coerce') - pd.Timestamp.now()) < np.timedelta64(6,'M')"
      ],
      "metadata": {
        "id": "2BKzkljWwKqf"
      },
      "execution_count": null,
      "outputs": []
    },
    {
      "cell_type": "code",
      "source": [
        "my_df['general_inspection_new'] = my_df['general_inspection_new'].apply(lambda x: 1 if x==True else 0)"
      ],
      "metadata": {
        "id": "-cz1VFpl7L5B"
      },
      "execution_count": null,
      "outputs": []
    },
    {
      "cell_type": "code",
      "source": [
        "my_df.drop(columns = ['general_inspection'],inplace = True)"
      ],
      "metadata": {
        "id": "VK4Zjjj4w2aT"
      },
      "execution_count": null,
      "outputs": []
    },
    {
      "cell_type": "markdown",
      "source": [
        "# Fuel_consumption"
      ],
      "metadata": {
        "id": "p2q8nkmBLzo-"
      }
    },
    {
      "cell_type": "code",
      "source": [
        "my_df['fuel_consumption']=my_df['fuel_consumption'].str.extract('(\\d*\\.?\\d)')#\\w+.(\\d*) (\\d*.?\\d)\n",
        "my_df['fuel_consumption']"
      ],
      "metadata": {
        "id": "wZOZXrQA-ot2"
      },
      "execution_count": null,
      "outputs": []
    },
    {
      "cell_type": "code",
      "source": [
        "my_df['fuel_consumption'] = my_df['fuel_consumption'].apply(pd.to_numeric, errors='ignore')\n",
        "my_df['fuel_consumption'].head()"
      ],
      "metadata": {
        "id": "rzCSyaA4_ocf"
      },
      "execution_count": null,
      "outputs": []
    },
    {
      "cell_type": "code",
      "source": [
        "indexes = my_df[(my_df['fuel_consumption']<=3) | (my_df['fuel_consumption']>=18)]['fuel_consumption'].index.values\n",
        "my_df['fuel_consumption'][indexes] = None"
      ],
      "metadata": {
        "id": "Ta7mYuTAQt1e"
      },
      "execution_count": null,
      "outputs": []
    },
    {
      "cell_type": "markdown",
      "source": [
        "# extras"
      ],
      "metadata": {
        "id": "BnpwDFYRMgsH"
      }
    },
    {
      "cell_type": "code",
      "source": [
        "my_df['extras'].unique()"
      ],
      "metadata": {
        "id": "2voY5oiNAGiD"
      },
      "execution_count": null,
      "outputs": []
    },
    {
      "cell_type": "code",
      "source": [
        "my_df['extras'] = my_df['extras'].str.replace('Contro\\'','Control\\'')\n",
        "my_df['extras'] = my_df['extras'].str.replace(',','')\n",
        "my_df['extras'] =  my_df['extras'].str.findall(r'\\'(.+?)\\'')\n",
        "my_df['extras'].head()"
      ],
      "metadata": {
        "id": "CdoSrGyJMmzq"
      },
      "execution_count": null,
      "outputs": []
    },
    {
      "cell_type": "code",
      "source": [
        "values = []\n",
        "for liste in my_df['extras']:\n",
        "  for value in liste:\n",
        "    values.append(value)\n",
        "values = set(values)\n",
        "def boolean_df(item_lists, unique_items):\n",
        "# Create empty dict\n",
        "    bool_dict = {}\n",
        "    # Loop through all the tags\n",
        "    for i, item in enumerate(unique_items):\n",
        "        # Apply boolean mask\n",
        "        bool_dict[item] = item_lists.apply(lambda x: 1 if item in x else 0)\n",
        "    # Return the results as a dataframe\n",
        "    return pd.DataFrame(bool_dict)\n",
        "extras_features = boolean_df(my_df['extras'], values)\n",
        "my_df = pd.concat([my_df,extras_features],axis=1)\n",
        "my_df.drop(columns = ['extras'],inplace = True)\n",
        "my_df.tail()"
      ],
      "metadata": {
        "id": "RnfXHUBHM2Du"
      },
      "execution_count": null,
      "outputs": []
    },
    {
      "cell_type": "code",
      "source": [
        "def removing_column(df,threshold=0.005):\n",
        "  return df.columns[(df.sum()/df.shape[0])<threshold]\n",
        "removing_column(extras_features)\n",
        "my_df.drop(columns = removing_column(extras_features), inplace = True)"
      ],
      "metadata": {
        "id": "66zDWeLNeFT4"
      },
      "execution_count": null,
      "outputs": []
    },
    {
      "cell_type": "markdown",
      "source": [
        "# co2_emissions"
      ],
      "metadata": {
        "id": "Av7yAnbZNQs2"
      }
    },
    {
      "cell_type": "code",
      "source": [
        "my_df['co2_emissions'] = my_df['co2_emissions'].str.extract('(\\d+)')\n",
        "my_df['co2_emissions'].head()"
      ],
      "metadata": {
        "id": "J6lUCgK2NNvZ"
      },
      "execution_count": null,
      "outputs": []
    },
    {
      "cell_type": "code",
      "source": [
        "my_df['co2_emissions'] = my_df['co2_emissions'].apply(pd.to_numeric, errors='ignore')"
      ],
      "metadata": {
        "id": "OUMU3CqcNYef"
      },
      "execution_count": null,
      "outputs": []
    },
    {
      "cell_type": "markdown",
      "source": [
        "# power"
      ],
      "metadata": {
        "id": "qr1HAg4rOA5T"
      }
    },
    {
      "cell_type": "code",
      "source": [
        "my_df['power'] = my_df['power'].str.extract('(^\\d*.?\\d)')\n",
        "my_df['power'] = my_df['power'].apply(pd.to_numeric, errors='ignore')\n",
        "my_df['power'].head()"
      ],
      "metadata": {
        "id": "fLvtGgoKN0SW"
      },
      "execution_count": null,
      "outputs": []
    },
    {
      "cell_type": "markdown",
      "source": [
        "# body_type"
      ],
      "metadata": {
        "id": "bxotORHlOW9P"
      }
    },
    {
      "cell_type": "code",
      "source": [
        "my_df['body_type'] = my_df['body_type'].str.replace('\\n','').str.replace(',','')\n",
        "my_df['body_type'].head()"
      ],
      "metadata": {
        "id": "m4HxCZWlOL8Y"
      },
      "execution_count": null,
      "outputs": []
    },
    {
      "cell_type": "code",
      "source": [
        "my_df['body_type'].unique()"
      ],
      "metadata": {
        "id": "Qv_nFCPGOcLm"
      },
      "execution_count": null,
      "outputs": []
    },
    {
      "cell_type": "markdown",
      "source": [
        "# type"
      ],
      "metadata": {
        "id": "legQwUS7Oh8R"
      }
    },
    {
      "cell_type": "code",
      "source": [
        "my_df['type'] = my_df['type'].str.replace('\\n','').str.replace(',','')"
      ],
      "metadata": {
        "id": "TE1BfLxIOemA"
      },
      "execution_count": null,
      "outputs": []
    },
    {
      "cell_type": "code",
      "source": [
        "my_df['type'] = my_df['type'].replace('Antique / Classic','Classic')\n",
        "my_df['type'].unique()"
      ],
      "metadata": {
        "id": "nOjg_c-bOn75"
      },
      "execution_count": null,
      "outputs": []
    },
    {
      "cell_type": "markdown",
      "source": [
        "# drivetrain"
      ],
      "metadata": {
        "id": "Lh-UzbsHPHOT"
      }
    },
    {
      "cell_type": "code",
      "source": [
        "my_df['drivetrain'] = my_df['drivetrain'].str.replace('\\n','').str.replace(',','')"
      ],
      "metadata": {
        "id": "szwVEa_7PMqc"
      },
      "execution_count": null,
      "outputs": []
    },
    {
      "cell_type": "code",
      "source": [
        "my_df['drivetrain'].unique()"
      ],
      "metadata": {
        "id": "TZUKZmwjPRFi"
      },
      "execution_count": null,
      "outputs": []
    },
    {
      "cell_type": "markdown",
      "source": [
        "# seats"
      ],
      "metadata": {
        "id": "nxx-OakVPZ7t"
      }
    },
    {
      "cell_type": "code",
      "source": [
        "my_df['seats'] = my_df['seats'].str.extract(\"(\\d+)\").apply(pd.to_numeric, errors='ignore')"
      ],
      "metadata": {
        "id": "HQG52b2aPRe5"
      },
      "execution_count": null,
      "outputs": []
    },
    {
      "cell_type": "markdown",
      "source": [
        "# registration"
      ],
      "metadata": {
        "id": "32GAJcVuPscE"
      }
    },
    {
      "cell_type": "markdown",
      "source": [
        "* Since there are two identical registration I dropped this one."
      ],
      "metadata": {
        "id": "dHgG3dFtOawr"
      }
    },
    {
      "cell_type": "code",
      "source": [
        "df[['registration','first_registration']].head()"
      ],
      "metadata": {
        "id": "xOqmVLgtPi06"
      },
      "execution_count": null,
      "outputs": []
    },
    {
      "cell_type": "code",
      "source": [
        "my_df.drop(['registration'], axis =1, inplace =True)"
      ],
      "metadata": {
        "id": "Sg9tv8OjQbn7"
      },
      "execution_count": null,
      "outputs": []
    },
    {
      "cell_type": "code",
      "source": [
        "my_df[my_df['first_registration_years']<0]"
      ],
      "metadata": {
        "id": "hwuoZSKnP2Zl"
      },
      "execution_count": null,
      "outputs": []
    },
    {
      "cell_type": "markdown",
      "source": [
        "# Gears"
      ],
      "metadata": {
        "id": "aHUkX2GZU04T"
      }
    },
    {
      "cell_type": "code",
      "source": [
        "my_df['Gears'] = my_df.Gears.str.extract(\"(\\d)\")"
      ],
      "metadata": {
        "id": "T8Rk66_0Vebf"
      },
      "execution_count": null,
      "outputs": []
    },
    {
      "cell_type": "code",
      "source": [
        "my_df['Gears'] = my_df['Gears'].apply(pd.to_numeric, errors='ignore')"
      ],
      "metadata": {
        "id": "Lg_tlJIrU4uF"
      },
      "execution_count": null,
      "outputs": []
    },
    {
      "cell_type": "code",
      "source": [
        "my_df['Gears'] = my_df.Gears.replace([6.5, 5.5, 7.5, 4.5], [6, 5, 7, 4])"
      ],
      "metadata": {
        "id": "-q0xhnTeCz7n"
      },
      "execution_count": null,
      "outputs": []
    },
    {
      "cell_type": "markdown",
      "source": [
        "# Cylinders"
      ],
      "metadata": {
        "id": "i4j65j6mVFgk"
      }
    },
    {
      "cell_type": "code",
      "source": [
        "my_df['Cylinders'] = my_df.Cylinders.str.extract(\"(\\d+)\").apply(pd.to_numeric, errors='ignore')"
      ],
      "metadata": {
        "id": "4yRoT6PeU7Pu"
      },
      "execution_count": null,
      "outputs": []
    },
    {
      "cell_type": "code",
      "source": [
        "my_df['Cylinders'] = my_df.Cylinders.replace([12, 7], 4)"
      ],
      "metadata": {
        "id": "Evcn96PqC3w1"
      },
      "execution_count": null,
      "outputs": []
    },
    {
      "cell_type": "markdown",
      "source": [
        "# Empty_weight"
      ],
      "metadata": {
        "id": "ojEhscafVPBR"
      }
    },
    {
      "cell_type": "code",
      "source": [
        "my_df['Empty_weight'] = my_df.Empty_weight.str.extract(r\"\\n,(.+?)\\s\")\n",
        "my_df['Empty_weight'] = my_df.Empty_weight.str.replace(',','').apply(pd.to_numeric, errors='ignore')"
      ],
      "metadata": {
        "id": "X6yioaIoVOHf"
      },
      "execution_count": null,
      "outputs": []
    },
    {
      "cell_type": "code",
      "source": [
        "my_df['Empty_weight'] = my_df.Empty_weight.replace([1,112,180], None)"
      ],
      "metadata": {
        "id": "e-vG1y69tq0a"
      },
      "execution_count": null,
      "outputs": []
    },
    {
      "cell_type": "markdown",
      "source": [
        "# Fuel_type"
      ],
      "metadata": {
        "id": "syRS2UW9WchK"
      }
    },
    {
      "cell_type": "code",
      "source": [
        "my_df['Fuel_Type'] = my_df['Fuel_Type'].str.extract('(\\w+.\\w+|\\w+)')"
      ],
      "metadata": {
        "id": "BxFythWHWd17"
      },
      "execution_count": null,
      "outputs": []
    },
    {
      "cell_type": "code",
      "source": [
        "my_df['Fuel_Type'] = my_df.Fuel_Type.replace([\"Electric/Gasoline\", \"Electric/Diesel\", \"Hydrogen\", \"Ethanol\", \"Others\"], [\"Hybrid\", \"Hybrid\", \"Gasoline\", \"Gasoline\", \"Gasoline\"])"
      ],
      "metadata": {
        "id": "XeYK2w-P5soL"
      },
      "execution_count": null,
      "outputs": []
    },
    {
      "cell_type": "markdown",
      "source": [
        "# Colour"
      ],
      "metadata": {
        "id": "gYvdeSVQWjeT"
      }
    },
    {
      "cell_type": "code",
      "source": [
        "my_df['Colour'] = my_df.Colour.str.extract(\"(\\w{2,10})\")\n",
        "my_df.Colour.unique()"
      ],
      "metadata": {
        "id": "GG1BwyaTWgM6"
      },
      "execution_count": null,
      "outputs": []
    },
    {
      "cell_type": "code",
      "source": [
        "my_df['Colour'] = my_df.Colour.replace([\"Gold\", \"Bronze\"], \"Grey\")"
      ],
      "metadata": {
        "id": "ION88YVgDFGW"
      },
      "execution_count": null,
      "outputs": []
    },
    {
      "cell_type": "markdown",
      "source": [
        "# Upholstery"
      ],
      "metadata": {
        "id": "7Q5DgJ6rDpNz"
      }
    },
    {
      "cell_type": "code",
      "source": [
        "my_df['Upholstery'] = my_df.Upholstery.str.extract('(\\w+\\s\\w+|\\w\\w+)')"
      ],
      "metadata": {
        "id": "M8XH1IeEXG4p"
      },
      "execution_count": null,
      "outputs": []
    },
    {
      "cell_type": "code",
      "source": [
        "my_df['Upholstery'] = my_df.Upholstery.replace([\"Other\", \"Velour\", \"alcantara\", \"Part leather\", \"Full leather\"], [None, \"Cloth\", \"Part/Full Leather\", \"Part/Full Leather\", \"Part/Full Leather\"])"
      ],
      "metadata": {
        "id": "PgMscpD-DKuk"
      },
      "execution_count": null,
      "outputs": []
    },
    {
      "cell_type": "markdown",
      "source": [
        "# Safety_Security"
      ],
      "metadata": {
        "id": "ZQZtNSeBDtCP"
      }
    },
    {
      "cell_type": "code",
      "source": [
        "my_df['Safety_Security'] = my_df['Safety_Security'].str.replace('Contro\\'\\]','Control')\n",
        "my_df['Safety_Security'] = my_df['Safety_Security'].str.replace('contro\\'\\]','control')\n",
        "my_df['Safety_Security'] = my_df['Safety_Security'].str.findall(r'\\'(.+?)\\'')"
      ],
      "metadata": {
        "id": "1w0Zi8K2XNNZ"
      },
      "execution_count": null,
      "outputs": []
    },
    {
      "cell_type": "code",
      "source": [
        "values = []\n",
        "for liste in my_df['Safety_Security']:\n",
        "  for value in liste:\n",
        "    values.append(value)\n",
        "values = set(values)\n",
        "def boolean_df(item_lists, unique_items):\n",
        "# Create empty dict\n",
        "    bool_dict = {}\n",
        "    # Loop through all the tags\n",
        "    for i, item in enumerate(unique_items):\n",
        "        # Apply boolean mask\n",
        "        bool_dict[item] = item_lists.apply(lambda x: 1 if item in x else 0)\n",
        "    # Return the results as a dataframe\n",
        "    return pd.DataFrame(bool_dict)\n",
        "Safety_Security = boolean_df(my_df['Safety_Security'], values)\n",
        "my_df = pd.concat([my_df,Safety_Security],axis=1)\n",
        "my_df.drop(columns = ['Safety_Security'],inplace = True)\n",
        "my_df.tail()"
      ],
      "metadata": {
        "id": "VvYKXBhMPmR5"
      },
      "execution_count": null,
      "outputs": []
    },
    {
      "cell_type": "code",
      "source": [
        "def removing_column(df,threshold=0.005):\n",
        "  print(df.columns[(df.sum()/df.shape[0])<threshold])\n",
        "  return df.columns[(df.sum()/df.shape[0])<threshold]\n",
        "my_df.drop(columns = removing_column(Safety_Security), inplace = True)"
      ],
      "metadata": {
        "id": "C8DLwaZch4zT"
      },
      "execution_count": null,
      "outputs": []
    },
    {
      "cell_type": "markdown",
      "source": [
        "# Seller"
      ],
      "metadata": {
        "id": "9Zc27-rtD0Q6"
      }
    },
    {
      "cell_type": "code",
      "source": [
        "my_df['Seller'] = my_df.Seller.str.extract('(\\w+\\s\\w+|\\w\\w\\w\\w\\w\\w)')\n",
        "my_df.head()"
      ],
      "metadata": {
        "id": "4KL6w3QCXXXw"
      },
      "execution_count": null,
      "outputs": []
    },
    {
      "cell_type": "markdown",
      "source": [
        "# short_describtion"
      ],
      "metadata": {
        "id": "BGwcFn3gNulJ"
      }
    },
    {
      "cell_type": "markdown",
      "source": [
        "* The pattern that short_description has unpredictable so I dropped it."
      ],
      "metadata": {
        "id": "SKh5AmBDNyXW"
      }
    },
    {
      "cell_type": "code",
      "source": [
        "my_df.drop(columns = ['short_description'], inplace = True)"
      ],
      "metadata": {
        "id": "-fWcZcapN_GN"
      },
      "execution_count": null,
      "outputs": []
    },
    {
      "cell_type": "markdown",
      "source": [
        "# Entertainment_Media"
      ],
      "metadata": {
        "id": "LlX0hBmWYVqI"
      }
    },
    {
      "cell_type": "code",
      "source": [
        "my_df[[\"Entertainment_Media\"]].value_counts(dropna = False, normalize = True)"
      ],
      "metadata": {
        "id": "DfYErniLYAID"
      },
      "execution_count": null,
      "outputs": []
    },
    {
      "cell_type": "code",
      "source": [
        "#Cleaning unneccessary symbols\n",
        "my_df['Entertainment_Media'] = my_df['Entertainment_Media'].str.findall(r\"\\'(.+?)\\'\")"
      ],
      "metadata": {
        "id": "s_ceTccGaCsM"
      },
      "execution_count": null,
      "outputs": []
    },
    {
      "cell_type": "code",
      "source": [
        "values = []\n",
        "for liste in my_df['Entertainment_Media']:\n",
        "  for value in liste:\n",
        "    values.append(value)\n",
        "values = set(values)\n",
        "def boolean_df(item_lists, unique_items):\n",
        "# Create empty dict\n",
        "    bool_dict = {}\n",
        "    # Loop through all the tags\n",
        "    for i, item in enumerate(unique_items):\n",
        "        # Apply boolean mask\n",
        "        bool_dict[item] = item_lists.apply(lambda x: 1 if item in x else 0)\n",
        "    # Return the results as a dataframe\n",
        "    return pd.DataFrame(bool_dict)\n",
        "Entertainment_Media = boolean_df(my_df['Entertainment_Media'], values)\n",
        "my_df = pd.concat([my_df,Entertainment_Media],axis=1)\n",
        "my_df.drop(columns = ['Entertainment_Media'],inplace = True)\n",
        "my_df.tail()"
      ],
      "metadata": {
        "id": "9WTX0nBZaE2u"
      },
      "execution_count": null,
      "outputs": []
    },
    {
      "cell_type": "code",
      "source": [
        "def removing_column(df,threshold=0.005):\n",
        "  print(df.columns[(df.sum()/df.shape[0])<threshold])\n",
        "  return df.columns[(df.sum()/df.shape[0])<threshold]\n",
        "my_df.drop(columns = removing_column(Entertainment_Media), inplace = True)"
      ],
      "metadata": {
        "id": "0NwFEZGzh_CB"
      },
      "execution_count": null,
      "outputs": []
    },
    {
      "cell_type": "markdown",
      "source": [
        "# mileage"
      ],
      "metadata": {
        "id": "RULULsthdfDe"
      }
    },
    {
      "cell_type": "code",
      "source": [
        "my_df['mileage'] = df['mileage'].str.extract('(\\d+,\\d+|\\d+)')\n",
        "my_df['mileage'] = my_df['mileage'].str.replace(',','')\n",
        "my_df['mileage'] = my_df['mileage'].apply(pd.to_numeric, errors='ignore')"
      ],
      "metadata": {
        "id": "THmZn3WbaSEg"
      },
      "execution_count": null,
      "outputs": []
    },
    {
      "cell_type": "markdown",
      "source": [
        "# gearbox"
      ],
      "metadata": {
        "id": "RnqTZ-jqdo9l"
      }
    },
    {
      "cell_type": "code",
      "source": [
        "my_df[[\"gearbox\"]].value_counts(dropna = False, normalize = True)"
      ],
      "metadata": {
        "id": "3oDmpJfKdniz"
      },
      "execution_count": null,
      "outputs": []
    },
    {
      "cell_type": "code",
      "source": [
        "my_df['gearbox'] = my_df['gearbox'].str.extract(r\"\\,(.+?)\\,\")"
      ],
      "metadata": {
        "id": "IFXIpBkpd32F"
      },
      "execution_count": null,
      "outputs": []
    },
    {
      "cell_type": "markdown",
      "source": [
        "# full_service_history"
      ],
      "metadata": {
        "id": "fhjTR52td_VR"
      }
    },
    {
      "cell_type": "code",
      "source": [
        "my_df[[\"full_service_history\"]].value_counts(dropna = False, normalize = True)"
      ],
      "metadata": {
        "id": "4XHb2xO3d6nu"
      },
      "execution_count": null,
      "outputs": []
    },
    {
      "cell_type": "code",
      "source": [
        "my_df['full_service_history'] = my_df['full_service_history'].str.extract(r\"\\n,(.+?),\\n\")\n",
        "my_df['full_service_history'].fillna('No', inplace = True)"
      ],
      "metadata": {
        "id": "lAhsH6vBeB_T"
      },
      "execution_count": null,
      "outputs": []
    },
    {
      "cell_type": "markdown",
      "source": [
        "# non_smoker_vehicle"
      ],
      "metadata": {
        "id": "7dwQk6TMeOaF"
      }
    },
    {
      "cell_type": "code",
      "source": [
        "my_df[[\"non_smoker_vehicle\"]].value_counts(dropna = False, normalize = True)"
      ],
      "metadata": {
        "id": "auBjU96weFNW"
      },
      "execution_count": null,
      "outputs": []
    },
    {
      "cell_type": "code",
      "source": [
        "my_df['non_smoker_vehicle'] = my_df.non_smoker_vehicle.str.extract('(\\w{2,3})')\n",
        "my_df['non_smoker_vehicle'].fillna('No', inplace = True)\n",
        "my_df['non_smoker_vehicle'].head()"
      ],
      "metadata": {
        "id": "RYVX_dcreWkd"
      },
      "execution_count": null,
      "outputs": []
    },
    {
      "cell_type": "markdown",
      "source": [
        "# Power"
      ],
      "metadata": {
        "id": "oM0cS4W_ekJL"
      }
    },
    {
      "cell_type": "markdown",
      "source": [
        "* There are 2 namesake 'power' column so I dropped it."
      ],
      "metadata": {
        "id": "xeVOU0IzPc_a"
      }
    },
    {
      "cell_type": "code",
      "source": [
        "my_df[[\"Power\"]].value_counts(dropna = False, normalize = True)"
      ],
      "metadata": {
        "id": "W4OFXcY0ebh2"
      },
      "execution_count": null,
      "outputs": []
    },
    {
      "cell_type": "code",
      "source": [
        "my_df['Power'] = my_df['Power'].str.extract('(\\w{1,4})')\n",
        "my_df['Power'] = my_df['Power'].apply(pd.to_numeric, errors='ignore')\n",
        "my_df['Power'].head()"
      ],
      "metadata": {
        "id": "R3LbG8oKemQ3"
      },
      "execution_count": null,
      "outputs": []
    },
    {
      "cell_type": "code",
      "source": [
        "my_df.drop(columns = ['power'], inplace = True)"
      ],
      "metadata": {
        "id": "h7981bhD4IPO"
      },
      "execution_count": null,
      "outputs": []
    },
    {
      "cell_type": "markdown",
      "source": [
        "# engine_size"
      ],
      "metadata": {
        "id": "wxaH6xWge4KA"
      }
    },
    {
      "cell_type": "code",
      "source": [
        "my_df[[\"engine_size\"]].value_counts(dropna = False, normalize = True)"
      ],
      "metadata": {
        "id": "MViFOcLGezQ8"
      },
      "execution_count": null,
      "outputs": []
    },
    {
      "cell_type": "code",
      "source": [
        "my_df['engine_size'] = my_df.engine_size.str.extract('(\\d+\\,\\d+)')\n",
        "my_df['engine_size'] = my_df.engine_size.str.replace(',','').apply(pd.to_numeric, errors='ignore')"
      ],
      "metadata": {
        "id": "StRifov_e6PI"
      },
      "execution_count": null,
      "outputs": []
    },
    {
      "cell_type": "code",
      "source": [
        "my_df.drop((my_df[my_df['price'].isnull()].index).values, axis=0, inplace = True)\n",
        "my_df.drop((my_df[(my_df['mileage']<1000) & (my_df['first_registration_years']>2)].index).values, axis = 0, inplace = True)\n",
        "my_df.reset_index(inplace = True, drop = True)"
      ],
      "metadata": {
        "id": "cdHSByhff5Or"
      },
      "execution_count": null,
      "outputs": []
    },
    {
      "cell_type": "code",
      "source": [
        "miss_df = my_df.copy()\n",
        "miss_df.head()"
      ],
      "metadata": {
        "id": "fgf_rYZFvxuM"
      },
      "execution_count": null,
      "outputs": []
    },
    {
      "cell_type": "markdown",
      "source": [
        "# Missing Value"
      ],
      "metadata": {
        "id": "WStBXonGz-Oz"
      }
    },
    {
      "cell_type": "code",
      "source": [
        "indexes = miss_df[(miss_df['Fuel_Type']!=\"Electric\")&(miss_df['co2_emissions']==0)]['co2_emissions'].index.values\n",
        "miss_df['co2_emissions'][indexes] = None"
      ],
      "metadata": {
        "id": "bZ9f78nKBZv_"
      },
      "execution_count": null,
      "outputs": []
    },
    {
      "cell_type": "code",
      "source": [
        "fry_qcut = miss_df[['first_registration_years']]\n",
        "miss_df['fry_qcut'] = pd.qcut(fry_qcut['first_registration_years'], q = 10)"
      ],
      "metadata": {
        "id": "t7C7aP3OVxzs"
      },
      "execution_count": null,
      "outputs": []
    },
    {
      "cell_type": "code",
      "source": [
        "ew_qcut = miss_df[['Empty_weight']]\n",
        "miss_df['ew_qcut'] = pd.qcut(ew_qcut['Empty_weight'], q = 10)"
      ],
      "metadata": {
        "id": "r9TpvdZ2bgMY"
      },
      "execution_count": null,
      "outputs": []
    },
    {
      "cell_type": "code",
      "source": [
        "es_qcut = miss_df[['engine_size']]\n",
        "miss_df['es_qcut'] = pd.qcut(es_qcut['engine_size'], q = 10)"
      ],
      "metadata": {
        "id": "K9Y1aosjcf_1"
      },
      "execution_count": null,
      "outputs": []
    },
    {
      "cell_type": "code",
      "source": [
        "p_qcut = miss_df[['Power']]\n",
        "miss_df['p_qcut'] = pd.qcut(p_qcut['Power'], q = 10)"
      ],
      "metadata": {
        "id": "bzpxincxdr6P"
      },
      "execution_count": null,
      "outputs": []
    },
    {
      "cell_type": "code",
      "source": [
        "co_qcut = miss_df[['co2_emissions']]\n",
        "miss_df['co_qcut'] = pd.qcut(co_qcut['co2_emissions'], q = 5)"
      ],
      "metadata": {
        "id": "Y9ItVw5mgDJg"
      },
      "execution_count": null,
      "outputs": []
    },
    {
      "cell_type": "code",
      "source": [
        "fc_qcut = miss_df[['fuel_consumption']]\n",
        "miss_df['fc_qcut'] = pd.qcut(fc_qcut['fuel_consumption'], q = 10)"
      ],
      "metadata": {
        "id": "SxjHj0sixeQb"
      },
      "execution_count": null,
      "outputs": []
    },
    {
      "cell_type": "code",
      "source": [
        "m_qcut = miss_df[['mileage']]\n",
        "miss_df['m_qcut'] = pd.qcut(m_qcut['mileage'], q = 20)"
      ],
      "metadata": {
        "id": "YvoN-kCs6Oxe"
      },
      "execution_count": null,
      "outputs": []
    },
    {
      "cell_type": "code",
      "source": [
        "import missingno as msno\n",
        "msno.bar(miss_df[['price', 'mileage', 'gearbox', 'Fuel_Type', 'Seller', 'body_type',\n",
        "       'type', 'drivetrain', 'seats', 'doors', 'warranty_months',\n",
        "       'full_service_history', 'non_smoker_vehicle', 'Power',\n",
        "       'engine_size', 'Gears', 'Cylinders', 'Empty_weight',\n",
        "       'fuel_consumption', 'co2_emissions', 'Colour', 'Upholstery','make-model', 'first_registration_years', 'general_inspection_new']]);"
      ],
      "metadata": {
        "id": "F5t5vHIuNjjp"
      },
      "execution_count": null,
      "outputs": []
    },
    {
      "cell_type": "code",
      "source": [
        "miss_df[['price', 'mileage', 'gearbox', 'Fuel_Type', 'Seller', 'body_type',\n",
        "       'type', 'drivetrain', 'seats', 'doors', 'warranty_months',\n",
        "       'full_service_history', 'non_smoker_vehicle', 'Power',\n",
        "       'engine_size', 'Gears', 'Cylinders', 'Empty_weight',\n",
        "       'fuel_consumption', 'co2_emissions', 'Colour', 'Upholstery','make-model', 'first_registration_years', 'general_inspection_new']].isnull().sum()"
      ],
      "metadata": {
        "id": "moNQVRQHZSLs"
      },
      "execution_count": null,
      "outputs": []
    },
    {
      "cell_type": "code",
      "source": [
        "def fill_most(df, group_col, col_name):\n",
        "    for group in list(df[group_col].unique()):\n",
        "        cond = df[group_col]==group\n",
        "        grp_inx = list(df[cond][col_name].index)\n",
        "        mode = list(df[cond][col_name].mode())\n",
        "        if mode != []:\n",
        "            df[col_name].iloc[grp_inx] = df[col_name].iloc[grp_inx].fillna(df[cond][col_name].mode()[0])\n",
        "        else:\n",
        "            df[col_name].iloc[grp_inx] = df[col_name].iloc[grp_inx].fillna(df[col_name].mode()[0])\n",
        "def fill(df, group_col1, group_col2, col_name, method): # method can be \"mode\" or \"median\" or \"ffill/bfill\"\n",
        "    if method == \"mode\":\n",
        "        for group1 in list(df[group_col1].unique()):\n",
        "            for group2 in list(df[group_col2].unique()):\n",
        "                cond1 = df[group_col1]==group1\n",
        "                cond2 = (df[group_col1]==group1) & (df[group_col2]==group2)\n",
        "                grp_inx = list(df[cond2][col_name].index)\n",
        "                mode1 = list(df[cond1][col_name].mode())\n",
        "                mode2 = list(df[cond2][col_name].mode())\n",
        "                if (mode1 != []) and (mode2 != []):\n",
        "                    df[col_name].iloc[grp_inx] = df[col_name].iloc[grp_inx].fillna(df[cond2][col_name].mode()[0]).fillna(df[cond1][col_name].mode()[0])\n",
        "                elif mode1 != []:\n",
        "                    df[col_name].iloc[grp_inx] = df[col_name].iloc[grp_inx].fillna(df[cond1][col_name].mode()[0])\n",
        "                else:\n",
        "                    df[col_name].iloc[grp_inx] = df[col_name].iloc[grp_inx].fillna(df[col_name].mode()[0])  \n"
      ],
      "metadata": {
        "id": "GBX9HiPTkVvc"
      },
      "execution_count": null,
      "outputs": []
    },
    {
      "cell_type": "code",
      "source": [
        "fill_most(miss_df,'make-model','body_type')\n",
        "fill_most(miss_df,'make-model','drivetrain')\n",
        "fill_most(miss_df,'make-model','type')\n",
        "fill_most(miss_df,'make-model','Colour')\n",
        "fill_most(miss_df,'make-model','Upholstery')\n",
        "fill(miss_df,'make-model','body_type', 'gearbox', 'mode')\n",
        "\n",
        "boolean = True\n",
        "count = 0\n",
        "while boolean:\n",
        "  count += 1\n",
        "  total_miss_numbers = miss_df[['gearbox','seats','Power','doors','warranty_months','engine_size','Gears','Cylinders','Empty_weight','fuel_consumption','co2_emissions','general_inspection_new']].isnull().sum().sum()\n",
        "  if total_miss_numbers == 0:\n",
        "    boolean = False\n",
        "  if count == 10:\n",
        "    boolean = False\n",
        "  else:\n",
        "    miss_df['doors'] = miss_df['doors'].fillna(miss_df.groupby(['make-model'])['doors'].transform('median'))\n",
        "    miss_df['seats'] = miss_df['seats'].fillna(miss_df.groupby(['make-model'])['seats'].transform('median'))\n",
        "    miss_df['Power'] = miss_df['Power'].fillna(miss_df.groupby(['es_qcut','ew_qcut'])['Power'].transform('median'))\n",
        "    miss_df['Power'] = miss_df['Power'].fillna(miss_df.groupby(['fc_qcut','ew_qcut'])['Power'].transform('median'))\n",
        "    miss_df['Power'] = miss_df['Power'].fillna(miss_df.groupby(['fc_qcut','es_qcut'])['Power'].transform('median'))\n",
        "    miss_df['Power'] = miss_df['Power'].fillna(miss_df.groupby(['ew_qcut'])['Power'].transform('median'))\n",
        "    miss_df['Power'] = miss_df['Power'].fillna(miss_df.groupby(['es_qcut'])['Power'].transform('median'))\n",
        "    miss_df['Power'] = miss_df['Power'].fillna(miss_df.groupby(['make-model'])['Power'].transform('median'))\n",
        "    miss_df['engine_size'] = miss_df['engine_size'].fillna(miss_df.groupby(['Cylinders'])['engine_size'].transform('median'))\n",
        "    miss_df['Gears'] = miss_df['Gears'].fillna(miss_df.groupby(['make-model'])['Gears'].transform('median'))\n",
        "    miss_df['Cylinders'] = miss_df['Cylinders'].fillna(miss_df.groupby(['make-model'])['Cylinders'].transform('median'))\n",
        "    miss_df['Cylinders'] = miss_df['Cylinders'].fillna(miss_df.groupby(['es_qcut'])['Cylinders'].transform('median'))\n",
        "    miss_df['Cylinders'] = miss_df['Cylinders'].fillna(miss_df.groupby(['Gears'])['Cylinders'].transform('median'))\n",
        "    miss_df['Empty_weight'] = miss_df['Empty_weight'].fillna(miss_df.groupby(['make-model'])['Empty_weight'].transform('median'))\n",
        "    miss_df['fuel_consumption'] = miss_df['fuel_consumption'].fillna(miss_df.groupby(['es_qcut'])['fuel_consumption'].transform('median'))\n",
        "    miss_df['fuel_consumption'] = miss_df['fuel_consumption'].fillna(miss_df.groupby(['co_qcut'])['fuel_consumption'].transform('median'))\n",
        "    miss_df['fuel_consumption'] = miss_df['fuel_consumption'].fillna(miss_df.groupby(['Cylinders'])['fuel_consumption'].transform('median'))\n",
        "    miss_df['fuel_consumption'] = miss_df['fuel_consumption'].fillna(miss_df.groupby(['ew_qcut'])['fuel_consumption'].transform('median'))\n",
        "    miss_df['co2_emissions'] = miss_df['co2_emissions'].fillna(miss_df.groupby(['fc_qcut'])['co2_emissions'].transform('median'))\n",
        "    miss_df['co2_emissions'] = miss_df['co2_emissions'].fillna(miss_df.groupby(['Cylinders'])['co2_emissions'].transform('median'))\n",
        "    miss_df['co2_emissions'] = miss_df['co2_emissions'].fillna(miss_df.groupby(['make-model'])['co2_emissions'].transform('median'))\n",
        "    miss_df['co2_emissions'] = miss_df['co2_emissions'].fillna(miss_df.groupby(['p_qcut'])['co2_emissions'].transform('median'))\n",
        "    miss_df['first_registration_years'] = miss_df['first_registration_years'].fillna(miss_df.groupby(['mileage'])['first_registration_years'].transform('median'))\n",
        "    miss_df['first_registration_years'] = miss_df['first_registration_years'].fillna(miss_df.groupby(['co_qcut','m_qcut'])['first_registration_years'].transform('median'))\n",
        "    miss_df['first_registration_years'] = miss_df['first_registration_years'].fillna(miss_df.groupby(['Fuel_Type'])['first_registration_years'].transform('median'))    \n",
        "    miss_df['mileage'] = miss_df['mileage'].fillna(miss_df.groupby(['fry_qcut','general_inspection_new'])['mileage'].transform('mean'))\n",
        "    miss_df['mileage'] = miss_df['mileage'].fillna(miss_df.groupby(['fry_qcut'])['mileage'].transform('mean'))\n",
        "    miss_df['mileage'] = miss_df['mileage'].fillna(miss_df.groupby(['general_inspection_new'])['mileage'].transform('mean'))\n"
      ],
      "metadata": {
        "id": "n8giVZsrsCQG"
      },
      "execution_count": null,
      "outputs": []
    },
    {
      "cell_type": "code",
      "source": [
        "miss_df[['price', 'mileage', 'gearbox', 'Fuel_Type', 'Seller', 'body_type',\n",
        "       'type', 'drivetrain', 'seats', 'doors', 'warranty_months',\n",
        "       'full_service_history', 'non_smoker_vehicle', 'Power',\n",
        "       'engine_size', 'Gears', 'Cylinders', 'Empty_weight',\n",
        "       'fuel_consumption', 'co2_emissions', 'Colour', 'Upholstery','make-model', 'first_registration_years', 'general_inspection_new']].corr()"
      ],
      "metadata": {
        "id": "v8QVmF77vhI0"
      },
      "execution_count": null,
      "outputs": []
    },
    {
      "cell_type": "code",
      "source": [
        "miss_df[['price', 'mileage', 'gearbox', 'Fuel_Type', 'Seller', 'body_type',\n",
        "       'type', 'drivetrain', 'seats', 'doors', 'warranty_months',\n",
        "       'full_service_history', 'non_smoker_vehicle', 'Power',\n",
        "       'engine_size', 'Gears', 'Cylinders', 'Empty_weight',\n",
        "       'fuel_consumption', 'co2_emissions', 'Colour', 'Upholstery','make-model', 'first_registration_years', 'general_inspection_new']].isnull().sum()"
      ],
      "metadata": {
        "id": "wDVTYkr37YXJ"
      },
      "execution_count": null,
      "outputs": []
    },
    {
      "cell_type": "code",
      "source": [
        "Fuel_Type = pd.get_dummies(miss_df[\"Fuel_Type\"], drop_first=True).add_prefix(\"Fuel_Type_\")\n",
        "Colour = pd.get_dummies(miss_df[\"Colour\"], drop_first=True).add_prefix(\"Colour_\")\n",
        "Upholstery = pd.get_dummies(miss_df[\"Upholstery\"], drop_first=True).add_prefix(\"Upholstery_\")\n",
        "Seller = pd.get_dummies(miss_df[\"Seller\"], drop_first=True).add_prefix(\"Seller_\")\n",
        "gearbox = pd.get_dummies(miss_df[\"gearbox\"], drop_first=True).add_prefix(\"gearbox_\")\n",
        "body_type = pd.get_dummies(miss_df[\"body_type\"], drop_first=True).add_prefix(\"body_type_\")\n",
        "Type = pd.get_dummies(miss_df[\"type\"], drop_first=True).add_prefix(\"type_\")\n",
        "drivetrain = pd.get_dummies(miss_df[\"drivetrain\"], drop_first=True).add_prefix(\"drivetrain_\")\n",
        "full_service_history = pd.get_dummies(miss_df[\"full_service_history\"], drop_first=True).add_prefix(\"full_service_history_\")\n",
        "non_smoker_vehicle = pd.get_dummies(miss_df[\"non_smoker_vehicle\"], drop_first=True).add_prefix(\"non_smoker_vehicle_\")\n",
        "make_model = pd.get_dummies(miss_df[\"make-model\"], drop_first=True).add_prefix(\"make-model_\")"
      ],
      "metadata": {
        "id": "kIssj2KMJQUC"
      },
      "execution_count": null,
      "outputs": []
    },
    {
      "cell_type": "code",
      "source": [
        "total = pd.concat([Fuel_Type,Colour,Upholstery,Seller,gearbox,body_type,Type,drivetrain,full_service_history,non_smoker_vehicle,make_model],axis=1)\n",
        "total.shape"
      ],
      "metadata": {
        "id": "FSDs4g2kIqJf"
      },
      "execution_count": null,
      "outputs": []
    },
    {
      "cell_type": "code",
      "source": [
        "miss_df = pd.concat([miss_df,total],axis=1)"
      ],
      "metadata": {
        "id": "Y85LLaVUJMhX"
      },
      "execution_count": null,
      "outputs": []
    },
    {
      "cell_type": "code",
      "source": [
        "miss_df.drop(columns = [\"Fuel_Type\",\"Colour\",\"Upholstery\",\"Seller\",\"gearbox\",\"body_type\",\"type\",\"drivetrain\",\"full_service_history\",\"non_smoker_vehicle\",\"make-model\"], inplace = True)"
      ],
      "metadata": {
        "id": "2IG9R7VEJufI"
      },
      "execution_count": null,
      "outputs": []
    },
    {
      "cell_type": "code",
      "source": [
        "miss_df.drop(columns = ['price', 'mileage','seats', 'doors', 'warranty_months', 'Power',\n",
        "       'engine_size', 'Gears', 'Cylinders', 'Empty_weight',\n",
        "       'fuel_consumption', 'co2_emissions', 'first_registration_years', 'general_inspection_new'])"
      ],
      "metadata": {
        "id": "fpZ-rP4OzQhl"
      },
      "execution_count": null,
      "outputs": []
    },
    {
      "cell_type": "code",
      "source": [
        "corr_matrix = miss_df.corr().abs()\n",
        "high_corr_var=np.where(corr_matrix>0.9)\n",
        "high_corr_var=[(corr_matrix.columns[x],corr_matrix.columns[y]) for x,y in zip(*high_corr_var) if x!=y and x<y]"
      ],
      "metadata": {
        "id": "DgF1tkmFiqL6"
      },
      "execution_count": null,
      "outputs": []
    },
    {
      "cell_type": "code",
      "source": [
        "for i in range(len(high_corr_var)):\n",
        "  miss_df.drop(columns = [high_corr_var[i][0]], inplace = True)"
      ],
      "metadata": {
        "id": "ziG7vqmFpC3a"
      },
      "execution_count": null,
      "outputs": []
    },
    {
      "cell_type": "markdown",
      "source": [
        "# Data Featuring"
      ],
      "metadata": {
        "id": "IzUq5xwIrqj0"
      }
    },
    {
      "cell_type": "code",
      "source": [
        "miss_df[\"mileage/years\"] = miss_df[\"mileage\"]/miss_df[\"first_registration_years\"]"
      ],
      "metadata": {
        "id": "SxdZefGyruzY"
      },
      "execution_count": null,
      "outputs": []
    },
    {
      "cell_type": "code",
      "source": [
        "miss_df[\"total_consumption\"] = miss_df[\"fuel_consumption\"]*miss_df[\"mileage\"]/100"
      ],
      "metadata": {
        "id": "uMD6yHZHsr3i"
      },
      "execution_count": null,
      "outputs": []
    },
    {
      "cell_type": "code",
      "source": [
        "miss_df[\"total_co2_emissions\"] = miss_df[\"mileage\"] * miss_df[\"co2_emissions\"]"
      ],
      "metadata": {
        "id": "1miIpGgCtY9o"
      },
      "execution_count": null,
      "outputs": []
    },
    {
      "cell_type": "markdown",
      "source": [
        "# Functions_Outliers"
      ],
      "metadata": {
        "id": "o--fxuaBbre8"
      }
    },
    {
      "cell_type": "code",
      "source": [
        "def capping_outliers(s, whisker=1.5):\n",
        "  # replace outliers with upper_bound and lower_bound values\n",
        "  indexes = s.dropna().index\n",
        "  col = s.dropna()\n",
        "  iqr = (np.quantile(col, 0.95))-(np.quantile(col, 0.05))\n",
        "  upper_bound = np.quantile(col, 0.95)+(whisker*iqr)\n",
        "  lower_bound = np.quantile(col, 0.05)-(whisker*iqr)\n",
        "  upper_bound = upper_bound if upper_bound < col.max() else col.max(),\n",
        "  lower_bound = lower_bound if lower_bound > col.min() else col.min(),\n",
        "\n",
        "  col = np.where(col > upper_bound, upper_bound,col)\n",
        "  col = np.where(col < lower_bound, lower_bound,col)\n",
        "  plt.figure(figsize=(8,3))\n",
        "  sns.boxplot(x= col)\n",
        "  plt.show()\n",
        "  s[indexes]=col\n",
        "  return s"
      ],
      "metadata": {
        "id": "WSRvWwkN9LLm"
      },
      "execution_count": null,
      "outputs": []
    },
    {
      "cell_type": "code",
      "source": [
        "miss_df['Gears'] = capping_outliers(miss_df['Gears'])\n",
        "miss_df['Cylinders'] = capping_outliers(miss_df['Cylinders'])\n",
        "miss_df['Empty_weight'] = capping_outliers(miss_df['Empty_weight'])\n",
        "miss_df['mileage'] = capping_outliers(miss_df['mileage'])\n",
        "miss_df['seats'] = capping_outliers(miss_df['seats'])\n",
        "miss_df['doors'] = capping_outliers(miss_df['doors'])\n",
        "miss_df['warranty_months'] = capping_outliers(miss_df['warranty_months'])\n",
        "miss_df['Power'] = capping_outliers(miss_df['Power'])\n",
        "miss_df['engine_size'] = capping_outliers(miss_df['engine_size'])\n",
        "miss_df['fuel_consumption'] = capping_outliers(miss_df['fuel_consumption'])\n",
        "miss_df['co2_emissions'] = capping_outliers(miss_df['co2_emissions'])\n",
        "miss_df['first_registration_years'] = capping_outliers(miss_df['first_registration_years'])\n",
        "miss_df[\"total_co2_emissions\"] = capping_outliers(miss_df[\"total_co2_emissions\"])\n",
        "miss_df[\"total_consumption\"] = capping_outliers(miss_df[\"total_consumption\"])\n",
        "miss_df[\"mileage/years\"] = capping_outliers(miss_df[\"mileage/years\"])"
      ],
      "metadata": {
        "id": "cBnuZIb49p1Z"
      },
      "execution_count": null,
      "outputs": []
    },
    {
      "cell_type": "code",
      "source": [
        "from sklearn.neighbors import LocalOutlierFactor"
      ],
      "metadata": {
        "id": "E99DXPmmrRd6"
      },
      "execution_count": null,
      "outputs": []
    },
    {
      "cell_type": "code",
      "source": [
        "clf = LocalOutlierFactor(n_neighbors = 8, contamination = 0.1)\n",
        "clf.fit_predict(miss_df[['price', 'mileage','seats', 'doors', 'warranty_months', 'Power',\n",
        "       'engine_size', 'Gears', 'Cylinders', 'Empty_weight',\n",
        "       'fuel_consumption', 'co2_emissions', 'first_registration_years', 'general_inspection_new',\"total_co2_emissions\",\"total_consumption\",\"mileage/years\"]])\n",
        "X_noncategorical_scores=clf.negative_outlier_factor_"
      ],
      "metadata": {
        "id": "ZI1yBAEurXti"
      },
      "execution_count": null,
      "outputs": []
    },
    {
      "cell_type": "code",
      "source": [
        "threshold_value = np.sort(X_noncategorical_scores)[18]\n",
        "miss_df.drop(miss_df[X_noncategorical_scores<threshold_value].index, axis = 0, inplace = True)"
      ],
      "metadata": {
        "id": "RzHbSVult9pF"
      },
      "execution_count": null,
      "outputs": []
    },
    {
      "cell_type": "markdown",
      "source": [
        "# Visulation"
      ],
      "metadata": {
        "id": "gyupNTSuFOt4"
      }
    },
    {
      "cell_type": "code",
      "source": [
        "miss_df.Gears.plot.box(vert=False);"
      ],
      "metadata": {
        "id": "Zo9IhgqJ9la3"
      },
      "execution_count": null,
      "outputs": []
    },
    {
      "cell_type": "code",
      "source": [
        "miss_df.Cylinders.plot.box(vert=False);"
      ],
      "metadata": {
        "id": "erKn0xwcEvlX"
      },
      "execution_count": null,
      "outputs": []
    },
    {
      "cell_type": "code",
      "source": [
        "miss_df.Empty_weight.plot.box(vert=False);"
      ],
      "metadata": {
        "id": "mki33rk9Eyex"
      },
      "execution_count": null,
      "outputs": []
    },
    {
      "cell_type": "code",
      "source": [
        "miss_df.mileage.plot.box(vert=False);"
      ],
      "metadata": {
        "id": "C78kY1hCE57v"
      },
      "execution_count": null,
      "outputs": []
    },
    {
      "cell_type": "code",
      "source": [
        "miss_df.seats.plot.box(vert=False);"
      ],
      "metadata": {
        "id": "co1nc96cE8ov"
      },
      "execution_count": null,
      "outputs": []
    },
    {
      "cell_type": "code",
      "source": [
        "miss_df.doors.plot.box(vert=False);"
      ],
      "metadata": {
        "id": "LSXwDF_CFBVg"
      },
      "execution_count": null,
      "outputs": []
    },
    {
      "cell_type": "code",
      "source": [
        "miss_df.warranty_months.plot.box(vert=False);"
      ],
      "metadata": {
        "id": "XI3vK-1BFDM0"
      },
      "execution_count": null,
      "outputs": []
    },
    {
      "cell_type": "code",
      "source": [
        "miss_df.Power.plot.box(vert=False);"
      ],
      "metadata": {
        "id": "U29kPE1gFElT"
      },
      "execution_count": null,
      "outputs": []
    },
    {
      "cell_type": "code",
      "source": [
        "miss_df.engine_size.plot.box(vert=False);"
      ],
      "metadata": {
        "id": "VmUcy0ZaFGjo"
      },
      "execution_count": null,
      "outputs": []
    },
    {
      "cell_type": "code",
      "source": [
        "miss_df.fuel_consumption.plot.box(vert=False);"
      ],
      "metadata": {
        "id": "WzhcnPaLFIBA"
      },
      "execution_count": null,
      "outputs": []
    },
    {
      "cell_type": "code",
      "source": [
        "miss_df.co2_emissions.plot.box(vert=False);"
      ],
      "metadata": {
        "id": "qT3OEwIDFJee"
      },
      "execution_count": null,
      "outputs": []
    },
    {
      "cell_type": "code",
      "source": [
        "miss_df.first_registration_years.plot.box(vert=False);"
      ],
      "metadata": {
        "id": "rgpdBIAvFLPJ"
      },
      "execution_count": null,
      "outputs": []
    },
    {
      "cell_type": "code",
      "source": [
        "miss_df.to_csv('car_data.csv')"
      ],
      "metadata": {
        "id": "1wa9W7Gcv3wD"
      },
      "execution_count": null,
      "outputs": []
    },
    {
      "cell_type": "code",
      "source": [
        ""
      ],
      "metadata": {
        "id": "3BdqwOc5v7Tp"
      },
      "execution_count": null,
      "outputs": []
    }
  ],
  "metadata": {
    "colab": {
      "collapsed_sections": [
        "BGwcFn3gNulJ"
      ],
      "name": "project_v1.ipynb",
      "provenance": [],
      "include_colab_link": true
    },
    "kernelspec": {
      "display_name": "Python 3",
      "name": "python3"
    },
    "language_info": {
      "name": "python"
    }
  },
  "nbformat": 4,
  "nbformat_minor": 0
}