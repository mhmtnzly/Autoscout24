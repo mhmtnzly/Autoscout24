{
  "cells": [
    {
      "cell_type": "markdown",
      "metadata": {
        "id": "view-in-github",
        "colab_type": "text"
      },
      "source": [
        "<a href=\"https://colab.research.google.com/github/mhmtnzly/Autoscout24/blob/main/project_v1.ipynb\" target=\"_parent\"><img src=\"https://colab.research.google.com/assets/colab-badge.svg\" alt=\"Open In Colab\"/></a>"
      ]
    },
    {
      "cell_type": "code",
      "execution_count": 1,
      "metadata": {
        "colab": {
          "base_uri": "https://localhost:8080/"
        },
        "id": "cMz6RL0wq3FF",
        "outputId": "fda9e50d-8ad1-41cd-d7f2-71f080292d92"
      },
      "outputs": [
        {
          "output_type": "stream",
          "name": "stdout",
          "text": [
            "Mounted at /content/drive\n"
          ]
        }
      ],
      "source": [
        "import pandas as pd\n",
        "import numpy as np\n",
        "import re\n",
        "from google.colab import drive\n",
        "import matplotlib.pyplot as plt\n",
        "import seaborn as sns\n",
        "import scipy.stats as sts\n",
        "import itertools\n",
        "%matplotlib inline\n",
        "drive.mount('/content/drive')"
      ]
    },
    {
      "cell_type": "code",
      "execution_count": 2,
      "metadata": {
        "id": "5Qm9aVhYrD6L"
      },
      "outputs": [],
      "source": [
        "data = pd.read_csv('/content/drive/MyDrive/Colab Notebooks/autoscout_data_2000.csv')\n",
        "df = data.copy()"
      ]
    },
    {
      "cell_type": "code",
      "source": [
        "df['seller'].value_counts()\n",
        "df['seller'] = df['seller'].str.extract('([A-Za-z]+\\s*[a-z]+)')\n",
        "df['seller'].unique()"
      ],
      "metadata": {
        "colab": {
          "base_uri": "https://localhost:8080/"
        },
        "id": "gYK9hGbBFpli",
        "outputId": "5c16540b-dc07-4473-f1f3-70a7e7cf8e82"
      },
      "execution_count": 3,
      "outputs": [
        {
          "output_type": "execute_result",
          "data": {
            "text/plain": [
              "array(['Dealer', 'Private seller', 'Diesel', 'Electric', 'Gasoline'],\n",
              "      dtype=object)"
            ]
          },
          "metadata": {},
          "execution_count": 3
        }
      ]
    },
    {
      "cell_type": "code",
      "source": [
        "df.drop((df[(df['seller']=='Diesel')|(df['seller']=='Electric')|(df['seller']=='Gasoline')].index).values, axis=0, inplace = True)"
      ],
      "metadata": {
        "id": "_ZwkEQTmH-E3"
      },
      "execution_count": 4,
      "outputs": []
    },
    {
      "cell_type": "code",
      "source": [
        "df.reset_index(drop=True,inplace=True)"
      ],
      "metadata": {
        "id": "WOZyN3qZAjnA"
      },
      "execution_count": 5,
      "outputs": []
    },
    {
      "cell_type": "code",
      "execution_count": 6,
      "metadata": {
        "colab": {
          "base_uri": "https://localhost:8080/"
        },
        "id": "c3VGkXQ3Ji3y",
        "outputId": "c10d3047-875d-4d9b-b225-97f997013d18"
      },
      "outputs": [
        {
          "output_type": "execute_result",
          "data": {
            "text/plain": [
              "Index(['location', 'url', 'make', 'model', 'short_description', 'price',\n",
              "       'mileage', 'gearbox', 'registration', 'fuel_type', 'power', 'seller',\n",
              "       'body_type', 'type', 'drivetrain', 'seats', 'doors', 'country_version',\n",
              "       'offer_number', 'warranty', 'Mileage', 'first_registration',\n",
              "       'production_date', 'general_inspection', 'last_service',\n",
              "       'full_service_history', 'non_smoker_vehicle', 'previous_owner',\n",
              "       'last_timing_belt_change', 'Power', 'Gearbox', 'engine_size', 'gears',\n",
              "       'cylinders', 'empty_weight', 'Fuel_type', 'fuel_consumption',\n",
              "       'co2_emissions', 'emission_class', 'emissions_sticker',\n",
              "       '\\nComfort & Convenience\\n', '\\nEntertainment & Media\\n',\n",
              "       '\\nSafety & Security\\n', 'extras', '\\ncolour', '\\nmanufacturer_color',\n",
              "       '\\npaint', ' upholstery_colour ', ' upholstery '],\n",
              "      dtype='object')"
            ]
          },
          "metadata": {},
          "execution_count": 6
        }
      ],
      "source": [
        "df.columns"
      ]
    },
    {
      "cell_type": "code",
      "source": [
        "df.duplicated().sum()"
      ],
      "metadata": {
        "colab": {
          "base_uri": "https://localhost:8080/"
        },
        "id": "ec2iMxuhdVQY",
        "outputId": "60f4572a-bb6c-4f91-a64a-2408b6d4274b"
      },
      "execution_count": 7,
      "outputs": [
        {
          "output_type": "execute_result",
          "data": {
            "text/plain": [
              "0"
            ]
          },
          "metadata": {},
          "execution_count": 7
        }
      ]
    },
    {
      "cell_type": "code",
      "execution_count": 8,
      "metadata": {
        "colab": {
          "base_uri": "https://localhost:8080/",
          "height": 525
        },
        "id": "dtER6x1FsaB5",
        "outputId": "04fe36c2-3d9e-4e1b-c04c-46ba0772c155"
      },
      "outputs": [
        {
          "output_type": "execute_result",
          "data": {
            "text/html": [
              "\n",
              "  <div id=\"df-af2f1314-be09-4028-a625-edeeedbc42be\">\n",
              "    <div class=\"colab-df-container\">\n",
              "      <div>\n",
              "<style scoped>\n",
              "    .dataframe tbody tr th:only-of-type {\n",
              "        vertical-align: middle;\n",
              "    }\n",
              "\n",
              "    .dataframe tbody tr th {\n",
              "        vertical-align: top;\n",
              "    }\n",
              "\n",
              "    .dataframe thead th {\n",
              "        text-align: right;\n",
              "    }\n",
              "</style>\n",
              "<table border=\"1\" class=\"dataframe\">\n",
              "  <thead>\n",
              "    <tr style=\"text-align: right;\">\n",
              "      <th></th>\n",
              "      <th>Location</th>\n",
              "      <th>url</th>\n",
              "      <th>make</th>\n",
              "      <th>model</th>\n",
              "      <th>short_description</th>\n",
              "      <th>price</th>\n",
              "      <th>mileage</th>\n",
              "      <th>gearbox</th>\n",
              "      <th>registration</th>\n",
              "      <th>Fuel_Type</th>\n",
              "      <th>...</th>\n",
              "      <th>emissions_sticker</th>\n",
              "      <th>Comfort_Convenience</th>\n",
              "      <th>Entertainment_Media</th>\n",
              "      <th>Safety_Security</th>\n",
              "      <th>extras</th>\n",
              "      <th>Colour</th>\n",
              "      <th>\\nmanufacturer_color</th>\n",
              "      <th>Paint</th>\n",
              "      <th>Upholstery_colour</th>\n",
              "      <th>Upholstery</th>\n",
              "    </tr>\n",
              "  </thead>\n",
              "  <tbody>\n",
              "    <tr>\n",
              "      <th>0</th>\n",
              "      <td>LOON OP ZAND, NL</td>\n",
              "      <td>https://www.autoscout24.com/offers/audi-a3-2-0...</td>\n",
              "      <td>\\n,Audi ,\\n</td>\n",
              "      <td>\\n,A3,\\n</td>\n",
              "      <td>2.0 FSI Ambition Pro Line</td>\n",
              "      <td>[['\\n', '€ 4,450.-', '\\n']]</td>\n",
              "      <td>['', ['191,066 km']]</td>\n",
              "      <td>\\n,Automatic,\\n</td>\n",
              "      <td>08/2003</td>\n",
              "      <td>\\n,Gasoline,\\n</td>\n",
              "      <td>...</td>\n",
              "      <td>\\n,None,\\n</td>\n",
              "      <td>[['Air conditioning', 'Armrest', 'Automatic cl...</td>\n",
              "      <td>[['CD player', 'Radio']]</td>\n",
              "      <td>[['ABS', 'Alarm system', 'Central door lock', ...</td>\n",
              "      <td>[['Alloy wheels']]</td>\n",
              "      <td>\\n4, Grey</td>\n",
              "      <td>None</td>\n",
              "      <td>\\npaint, Metallic</td>\n",
              "      <td>\\nupholstery, Black</td>\n",
              "      <td>\\n8, Cloth</td>\n",
              "    </tr>\n",
              "    <tr>\n",
              "      <th>1</th>\n",
              "      <td>HEERLEN, NL</td>\n",
              "      <td>https://www.autoscout24.com/offers/audi-a3-spo...</td>\n",
              "      <td>\\n,Audi ,\\n</td>\n",
              "      <td>\\n,A3,\\n</td>\n",
              "      <td>Sportback 1.4 TFSI Ambiente/ECC/PDC//Lichtmeta...</td>\n",
              "      <td>[['\\n', '€ 12,950.-', '\\n']]</td>\n",
              "      <td>['', ['94,758 km']]</td>\n",
              "      <td>\\n,Automatic,\\n</td>\n",
              "      <td>10/2013</td>\n",
              "      <td>\\n,Gasoline,\\n</td>\n",
              "      <td>...</td>\n",
              "      <td>\\n,None,\\n</td>\n",
              "      <td>[['Air conditioning', 'Automatic climate contr...</td>\n",
              "      <td>[['CD player', 'Radio']]</td>\n",
              "      <td>[['Alarm system', 'Central door lock', 'Centra...</td>\n",
              "      <td>[['Alloy wheels (16\")']]</td>\n",
              "      <td>\\n4, White</td>\n",
              "      <td>None</td>\n",
              "      <td>None</td>\n",
              "      <td>\\nupholstery, Black</td>\n",
              "      <td>\\n8, Cloth</td>\n",
              "    </tr>\n",
              "    <tr>\n",
              "      <th>2</th>\n",
              "      <td>BREDA, NL</td>\n",
              "      <td>https://www.autoscout24.com/offers/audi-a3-1-4...</td>\n",
              "      <td>\\n,Audi ,\\n</td>\n",
              "      <td>\\n,A3,\\n</td>\n",
              "      <td>1.4 TFSI Attraction Pro Line [ Navi Airco Crui...</td>\n",
              "      <td>[['\\n', '€ 12,445.-', '\\n']]</td>\n",
              "      <td>['', ['160,883 km']]</td>\n",
              "      <td>\\n,Automatic,\\n</td>\n",
              "      <td>05/2013</td>\n",
              "      <td>\\n,Gasoline,\\n</td>\n",
              "      <td>...</td>\n",
              "      <td>\\n,None,\\n</td>\n",
              "      <td>[['Air conditioning', 'Armrest', 'Cruise contr...</td>\n",
              "      <td>[['Bluetooth', 'CD player', 'Hands-free equipm...</td>\n",
              "      <td>[['ABS', 'Central door lock', 'Central door lo...</td>\n",
              "      <td>[['Alloy wheels', 'Spoiler']]</td>\n",
              "      <td>\\n4, Black</td>\n",
              "      <td>None</td>\n",
              "      <td>\\npaint, Metallic</td>\n",
              "      <td>None</td>\n",
              "      <td>None</td>\n",
              "    </tr>\n",
              "    <tr>\n",
              "      <th>3</th>\n",
              "      <td>BAARLE-NASSAU, NL</td>\n",
              "      <td>https://www.autoscout24.com/offers/audi-a1-1-4...</td>\n",
              "      <td>\\n,Audi ,\\n</td>\n",
              "      <td>\\n,A1,\\n</td>\n",
              "      <td>1.4 TFSI Sportback Pro-Line Aut. S-Tronic Navi.</td>\n",
              "      <td>[['\\n', '€ 12,450.-', '\\n']]</td>\n",
              "      <td>['', ['145,102 km']]</td>\n",
              "      <td>\\n,Automatic,\\n</td>\n",
              "      <td>06/2015</td>\n",
              "      <td>\\n,Gasoline,\\n</td>\n",
              "      <td>...</td>\n",
              "      <td>\\n,None,\\n</td>\n",
              "      <td>[['Air conditioning', 'Armrest', 'Automatic cl...</td>\n",
              "      <td>[['Bluetooth', 'CD player', 'On-board computer...</td>\n",
              "      <td>[['ABS', 'Central door lock with remote contro...</td>\n",
              "      <td>[['Alloy wheels (15\")']]</td>\n",
              "      <td>\\n4, Grey</td>\n",
              "      <td>None</td>\n",
              "      <td>\\npaint, Metallic</td>\n",
              "      <td>None</td>\n",
              "      <td>None</td>\n",
              "    </tr>\n",
              "    <tr>\n",
              "      <th>4</th>\n",
              "      <td>ZUTPHEN, NL</td>\n",
              "      <td>https://www.autoscout24.com/offers/audi-a1-s-l...</td>\n",
              "      <td>\\n,Audi ,\\n</td>\n",
              "      <td>\\n,A1,\\n</td>\n",
              "      <td>S-Line | Automaat | Navigatie | Cruise-/Climat...</td>\n",
              "      <td>[['\\n', '€ 14,945.-', '\\n']]</td>\n",
              "      <td>['', ['119,666 km']]</td>\n",
              "      <td>\\n,Automatic,\\n</td>\n",
              "      <td>10/2015</td>\n",
              "      <td>\\n,Gasoline,\\n</td>\n",
              "      <td>...</td>\n",
              "      <td>\\n,None,\\n</td>\n",
              "      <td>[['Air conditioning', 'Armrest', 'Automatic cl...</td>\n",
              "      <td>[['CD player', 'MP3', 'On-board computer', 'Ra...</td>\n",
              "      <td>[['ABS', 'Alarm system', 'Bi-Xenon headlights'...</td>\n",
              "      <td>[['Alloy wheels (17\")', 'Shift paddles', 'Spor...</td>\n",
              "      <td>\\n4, Black</td>\n",
              "      <td>None</td>\n",
              "      <td>None</td>\n",
              "      <td>\\nupholstery, Black</td>\n",
              "      <td>\\n8, Part leather</td>\n",
              "    </tr>\n",
              "  </tbody>\n",
              "</table>\n",
              "<p>5 rows × 49 columns</p>\n",
              "</div>\n",
              "      <button class=\"colab-df-convert\" onclick=\"convertToInteractive('df-af2f1314-be09-4028-a625-edeeedbc42be')\"\n",
              "              title=\"Convert this dataframe to an interactive table.\"\n",
              "              style=\"display:none;\">\n",
              "        \n",
              "  <svg xmlns=\"http://www.w3.org/2000/svg\" height=\"24px\"viewBox=\"0 0 24 24\"\n",
              "       width=\"24px\">\n",
              "    <path d=\"M0 0h24v24H0V0z\" fill=\"none\"/>\n",
              "    <path d=\"M18.56 5.44l.94 2.06.94-2.06 2.06-.94-2.06-.94-.94-2.06-.94 2.06-2.06.94zm-11 1L8.5 8.5l.94-2.06 2.06-.94-2.06-.94L8.5 2.5l-.94 2.06-2.06.94zm10 10l.94 2.06.94-2.06 2.06-.94-2.06-.94-.94-2.06-.94 2.06-2.06.94z\"/><path d=\"M17.41 7.96l-1.37-1.37c-.4-.4-.92-.59-1.43-.59-.52 0-1.04.2-1.43.59L10.3 9.45l-7.72 7.72c-.78.78-.78 2.05 0 2.83L4 21.41c.39.39.9.59 1.41.59.51 0 1.02-.2 1.41-.59l7.78-7.78 2.81-2.81c.8-.78.8-2.07 0-2.86zM5.41 20L4 18.59l7.72-7.72 1.47 1.35L5.41 20z\"/>\n",
              "  </svg>\n",
              "      </button>\n",
              "      \n",
              "  <style>\n",
              "    .colab-df-container {\n",
              "      display:flex;\n",
              "      flex-wrap:wrap;\n",
              "      gap: 12px;\n",
              "    }\n",
              "\n",
              "    .colab-df-convert {\n",
              "      background-color: #E8F0FE;\n",
              "      border: none;\n",
              "      border-radius: 50%;\n",
              "      cursor: pointer;\n",
              "      display: none;\n",
              "      fill: #1967D2;\n",
              "      height: 32px;\n",
              "      padding: 0 0 0 0;\n",
              "      width: 32px;\n",
              "    }\n",
              "\n",
              "    .colab-df-convert:hover {\n",
              "      background-color: #E2EBFA;\n",
              "      box-shadow: 0px 1px 2px rgba(60, 64, 67, 0.3), 0px 1px 3px 1px rgba(60, 64, 67, 0.15);\n",
              "      fill: #174EA6;\n",
              "    }\n",
              "\n",
              "    [theme=dark] .colab-df-convert {\n",
              "      background-color: #3B4455;\n",
              "      fill: #D2E3FC;\n",
              "    }\n",
              "\n",
              "    [theme=dark] .colab-df-convert:hover {\n",
              "      background-color: #434B5C;\n",
              "      box-shadow: 0px 1px 3px 1px rgba(0, 0, 0, 0.15);\n",
              "      filter: drop-shadow(0px 1px 2px rgba(0, 0, 0, 0.3));\n",
              "      fill: #FFFFFF;\n",
              "    }\n",
              "  </style>\n",
              "\n",
              "      <script>\n",
              "        const buttonEl =\n",
              "          document.querySelector('#df-af2f1314-be09-4028-a625-edeeedbc42be button.colab-df-convert');\n",
              "        buttonEl.style.display =\n",
              "          google.colab.kernel.accessAllowed ? 'block' : 'none';\n",
              "\n",
              "        async function convertToInteractive(key) {\n",
              "          const element = document.querySelector('#df-af2f1314-be09-4028-a625-edeeedbc42be');\n",
              "          const dataTable =\n",
              "            await google.colab.kernel.invokeFunction('convertToInteractive',\n",
              "                                                     [key], {});\n",
              "          if (!dataTable) return;\n",
              "\n",
              "          const docLinkHtml = 'Like what you see? Visit the ' +\n",
              "            '<a target=\"_blank\" href=https://colab.research.google.com/notebooks/data_table.ipynb>data table notebook</a>'\n",
              "            + ' to learn more about interactive tables.';\n",
              "          element.innerHTML = '';\n",
              "          dataTable['output_type'] = 'display_data';\n",
              "          await google.colab.output.renderOutput(dataTable, element);\n",
              "          const docLink = document.createElement('div');\n",
              "          docLink.innerHTML = docLinkHtml;\n",
              "          element.appendChild(docLink);\n",
              "        }\n",
              "      </script>\n",
              "    </div>\n",
              "  </div>\n",
              "  "
            ],
            "text/plain": [
              "            Location                                                url  \\\n",
              "0   LOON OP ZAND, NL  https://www.autoscout24.com/offers/audi-a3-2-0...   \n",
              "1        HEERLEN, NL  https://www.autoscout24.com/offers/audi-a3-spo...   \n",
              "2          BREDA, NL  https://www.autoscout24.com/offers/audi-a3-1-4...   \n",
              "3  BAARLE-NASSAU, NL  https://www.autoscout24.com/offers/audi-a1-1-4...   \n",
              "4        ZUTPHEN, NL  https://www.autoscout24.com/offers/audi-a1-s-l...   \n",
              "\n",
              "          make     model                                  short_description  \\\n",
              "0  \\n,Audi ,\\n  \\n,A3,\\n                          2.0 FSI Ambition Pro Line   \n",
              "1  \\n,Audi ,\\n  \\n,A3,\\n  Sportback 1.4 TFSI Ambiente/ECC/PDC//Lichtmeta...   \n",
              "2  \\n,Audi ,\\n  \\n,A3,\\n  1.4 TFSI Attraction Pro Line [ Navi Airco Crui...   \n",
              "3  \\n,Audi ,\\n  \\n,A1,\\n    1.4 TFSI Sportback Pro-Line Aut. S-Tronic Navi.   \n",
              "4  \\n,Audi ,\\n  \\n,A1,\\n  S-Line | Automaat | Navigatie | Cruise-/Climat...   \n",
              "\n",
              "                          price               mileage          gearbox  \\\n",
              "0   [['\\n', '€ 4,450.-', '\\n']]  ['', ['191,066 km']]  \\n,Automatic,\\n   \n",
              "1  [['\\n', '€ 12,950.-', '\\n']]   ['', ['94,758 km']]  \\n,Automatic,\\n   \n",
              "2  [['\\n', '€ 12,445.-', '\\n']]  ['', ['160,883 km']]  \\n,Automatic,\\n   \n",
              "3  [['\\n', '€ 12,450.-', '\\n']]  ['', ['145,102 km']]  \\n,Automatic,\\n   \n",
              "4  [['\\n', '€ 14,945.-', '\\n']]  ['', ['119,666 km']]  \\n,Automatic,\\n   \n",
              "\n",
              "  registration       Fuel_Type  ... emissions_sticker  \\\n",
              "0      08/2003  \\n,Gasoline,\\n  ...        \\n,None,\\n   \n",
              "1      10/2013  \\n,Gasoline,\\n  ...        \\n,None,\\n   \n",
              "2      05/2013  \\n,Gasoline,\\n  ...        \\n,None,\\n   \n",
              "3      06/2015  \\n,Gasoline,\\n  ...        \\n,None,\\n   \n",
              "4      10/2015  \\n,Gasoline,\\n  ...        \\n,None,\\n   \n",
              "\n",
              "                                 Comfort_Convenience  \\\n",
              "0  [['Air conditioning', 'Armrest', 'Automatic cl...   \n",
              "1  [['Air conditioning', 'Automatic climate contr...   \n",
              "2  [['Air conditioning', 'Armrest', 'Cruise contr...   \n",
              "3  [['Air conditioning', 'Armrest', 'Automatic cl...   \n",
              "4  [['Air conditioning', 'Armrest', 'Automatic cl...   \n",
              "\n",
              "                                 Entertainment_Media  \\\n",
              "0                           [['CD player', 'Radio']]   \n",
              "1                           [['CD player', 'Radio']]   \n",
              "2  [['Bluetooth', 'CD player', 'Hands-free equipm...   \n",
              "3  [['Bluetooth', 'CD player', 'On-board computer...   \n",
              "4  [['CD player', 'MP3', 'On-board computer', 'Ra...   \n",
              "\n",
              "                                     Safety_Security  \\\n",
              "0  [['ABS', 'Alarm system', 'Central door lock', ...   \n",
              "1  [['Alarm system', 'Central door lock', 'Centra...   \n",
              "2  [['ABS', 'Central door lock', 'Central door lo...   \n",
              "3  [['ABS', 'Central door lock with remote contro...   \n",
              "4  [['ABS', 'Alarm system', 'Bi-Xenon headlights'...   \n",
              "\n",
              "                                              extras      Colour  \\\n",
              "0                                 [['Alloy wheels']]   \\n4, Grey   \n",
              "1                           [['Alloy wheels (16\")']]  \\n4, White   \n",
              "2                      [['Alloy wheels', 'Spoiler']]  \\n4, Black   \n",
              "3                           [['Alloy wheels (15\")']]   \\n4, Grey   \n",
              "4  [['Alloy wheels (17\")', 'Shift paddles', 'Spor...  \\n4, Black   \n",
              "\n",
              "  \\nmanufacturer_color              Paint    Upholstery_colour  \\\n",
              "0                 None  \\npaint, Metallic  \\nupholstery, Black   \n",
              "1                 None               None  \\nupholstery, Black   \n",
              "2                 None  \\npaint, Metallic                 None   \n",
              "3                 None  \\npaint, Metallic                 None   \n",
              "4                 None               None  \\nupholstery, Black   \n",
              "\n",
              "          Upholstery  \n",
              "0         \\n8, Cloth  \n",
              "1         \\n8, Cloth  \n",
              "2               None  \n",
              "3               None  \n",
              "4  \\n8, Part leather  \n",
              "\n",
              "[5 rows x 49 columns]"
            ]
          },
          "metadata": {},
          "execution_count": 8
        }
      ],
      "source": [
        "my_df = df.copy()\n",
        "my_df.rename(columns = {'\\nComfort & Convenience\\n':'Comfort_Convenience','location':'Location','fuel_type':'Fuel_Type','seller':'Seller','gears':'Gears','cylinders':'Cylinders',\n",
        "                        'empty_weight':'Empty_weight', '\\nSafety & Security\\n': 'Safety_Security', '\\ncolour': 'Colour', '\\npaint': 'Paint',\" upholstery_colour \": 'Upholstery_colour',\" upholstery \": 'Upholstery', '\\nEntertainment & Media\\n':'Entertainment_Media'},inplace = True)\n",
        "my_df.head()"
      ]
    },
    {
      "cell_type": "markdown",
      "metadata": {
        "id": "yLrOM1A2_zAS"
      },
      "source": [
        "* Comfort_Convenience: Features of car.\n",
        "* model: Car's Model\n",
        "* price: Car's price (€)"
      ]
    },
    {
      "cell_type": "markdown",
      "source": [
        "# None Data"
      ],
      "metadata": {
        "id": "Q5YzOUuzsoEy"
      }
    },
    {
      "cell_type": "code",
      "source": [
        "def strNone(data):\n",
        "  for column in data:\n",
        "    my_df[column][my_df[column].str.contains('None', na = False)] = None\n",
        "strNone(my_df)\n",
        "my_df.head()"
      ],
      "metadata": {
        "colab": {
          "base_uri": "https://localhost:8080/",
          "height": 525
        },
        "id": "ZmUBZSHgzFKk",
        "outputId": "a17cf19b-1a42-4e9f-b09c-a0add22cf92c"
      },
      "execution_count": 9,
      "outputs": [
        {
          "output_type": "execute_result",
          "data": {
            "text/html": [
              "\n",
              "  <div id=\"df-003efd49-b7d9-438f-bfc7-25b1d3545221\">\n",
              "    <div class=\"colab-df-container\">\n",
              "      <div>\n",
              "<style scoped>\n",
              "    .dataframe tbody tr th:only-of-type {\n",
              "        vertical-align: middle;\n",
              "    }\n",
              "\n",
              "    .dataframe tbody tr th {\n",
              "        vertical-align: top;\n",
              "    }\n",
              "\n",
              "    .dataframe thead th {\n",
              "        text-align: right;\n",
              "    }\n",
              "</style>\n",
              "<table border=\"1\" class=\"dataframe\">\n",
              "  <thead>\n",
              "    <tr style=\"text-align: right;\">\n",
              "      <th></th>\n",
              "      <th>Location</th>\n",
              "      <th>url</th>\n",
              "      <th>make</th>\n",
              "      <th>model</th>\n",
              "      <th>short_description</th>\n",
              "      <th>price</th>\n",
              "      <th>mileage</th>\n",
              "      <th>gearbox</th>\n",
              "      <th>registration</th>\n",
              "      <th>Fuel_Type</th>\n",
              "      <th>...</th>\n",
              "      <th>emissions_sticker</th>\n",
              "      <th>Comfort_Convenience</th>\n",
              "      <th>Entertainment_Media</th>\n",
              "      <th>Safety_Security</th>\n",
              "      <th>extras</th>\n",
              "      <th>Colour</th>\n",
              "      <th>\\nmanufacturer_color</th>\n",
              "      <th>Paint</th>\n",
              "      <th>Upholstery_colour</th>\n",
              "      <th>Upholstery</th>\n",
              "    </tr>\n",
              "  </thead>\n",
              "  <tbody>\n",
              "    <tr>\n",
              "      <th>0</th>\n",
              "      <td>LOON OP ZAND, NL</td>\n",
              "      <td>https://www.autoscout24.com/offers/audi-a3-2-0...</td>\n",
              "      <td>\\n,Audi ,\\n</td>\n",
              "      <td>\\n,A3,\\n</td>\n",
              "      <td>2.0 FSI Ambition Pro Line</td>\n",
              "      <td>[['\\n', '€ 4,450.-', '\\n']]</td>\n",
              "      <td>['', ['191,066 km']]</td>\n",
              "      <td>\\n,Automatic,\\n</td>\n",
              "      <td>08/2003</td>\n",
              "      <td>\\n,Gasoline,\\n</td>\n",
              "      <td>...</td>\n",
              "      <td>None</td>\n",
              "      <td>[['Air conditioning', 'Armrest', 'Automatic cl...</td>\n",
              "      <td>[['CD player', 'Radio']]</td>\n",
              "      <td>[['ABS', 'Alarm system', 'Central door lock', ...</td>\n",
              "      <td>[['Alloy wheels']]</td>\n",
              "      <td>\\n4, Grey</td>\n",
              "      <td>None</td>\n",
              "      <td>\\npaint, Metallic</td>\n",
              "      <td>\\nupholstery, Black</td>\n",
              "      <td>\\n8, Cloth</td>\n",
              "    </tr>\n",
              "    <tr>\n",
              "      <th>1</th>\n",
              "      <td>HEERLEN, NL</td>\n",
              "      <td>https://www.autoscout24.com/offers/audi-a3-spo...</td>\n",
              "      <td>\\n,Audi ,\\n</td>\n",
              "      <td>\\n,A3,\\n</td>\n",
              "      <td>Sportback 1.4 TFSI Ambiente/ECC/PDC//Lichtmeta...</td>\n",
              "      <td>[['\\n', '€ 12,950.-', '\\n']]</td>\n",
              "      <td>['', ['94,758 km']]</td>\n",
              "      <td>\\n,Automatic,\\n</td>\n",
              "      <td>10/2013</td>\n",
              "      <td>\\n,Gasoline,\\n</td>\n",
              "      <td>...</td>\n",
              "      <td>None</td>\n",
              "      <td>[['Air conditioning', 'Automatic climate contr...</td>\n",
              "      <td>[['CD player', 'Radio']]</td>\n",
              "      <td>[['Alarm system', 'Central door lock', 'Centra...</td>\n",
              "      <td>[['Alloy wheels (16\")']]</td>\n",
              "      <td>\\n4, White</td>\n",
              "      <td>None</td>\n",
              "      <td>None</td>\n",
              "      <td>\\nupholstery, Black</td>\n",
              "      <td>\\n8, Cloth</td>\n",
              "    </tr>\n",
              "    <tr>\n",
              "      <th>2</th>\n",
              "      <td>BREDA, NL</td>\n",
              "      <td>https://www.autoscout24.com/offers/audi-a3-1-4...</td>\n",
              "      <td>\\n,Audi ,\\n</td>\n",
              "      <td>\\n,A3,\\n</td>\n",
              "      <td>1.4 TFSI Attraction Pro Line [ Navi Airco Crui...</td>\n",
              "      <td>[['\\n', '€ 12,445.-', '\\n']]</td>\n",
              "      <td>['', ['160,883 km']]</td>\n",
              "      <td>\\n,Automatic,\\n</td>\n",
              "      <td>05/2013</td>\n",
              "      <td>\\n,Gasoline,\\n</td>\n",
              "      <td>...</td>\n",
              "      <td>None</td>\n",
              "      <td>[['Air conditioning', 'Armrest', 'Cruise contr...</td>\n",
              "      <td>[['Bluetooth', 'CD player', 'Hands-free equipm...</td>\n",
              "      <td>[['ABS', 'Central door lock', 'Central door lo...</td>\n",
              "      <td>[['Alloy wheels', 'Spoiler']]</td>\n",
              "      <td>\\n4, Black</td>\n",
              "      <td>None</td>\n",
              "      <td>\\npaint, Metallic</td>\n",
              "      <td>None</td>\n",
              "      <td>None</td>\n",
              "    </tr>\n",
              "    <tr>\n",
              "      <th>3</th>\n",
              "      <td>BAARLE-NASSAU, NL</td>\n",
              "      <td>https://www.autoscout24.com/offers/audi-a1-1-4...</td>\n",
              "      <td>\\n,Audi ,\\n</td>\n",
              "      <td>\\n,A1,\\n</td>\n",
              "      <td>1.4 TFSI Sportback Pro-Line Aut. S-Tronic Navi.</td>\n",
              "      <td>[['\\n', '€ 12,450.-', '\\n']]</td>\n",
              "      <td>['', ['145,102 km']]</td>\n",
              "      <td>\\n,Automatic,\\n</td>\n",
              "      <td>06/2015</td>\n",
              "      <td>\\n,Gasoline,\\n</td>\n",
              "      <td>...</td>\n",
              "      <td>None</td>\n",
              "      <td>[['Air conditioning', 'Armrest', 'Automatic cl...</td>\n",
              "      <td>[['Bluetooth', 'CD player', 'On-board computer...</td>\n",
              "      <td>[['ABS', 'Central door lock with remote contro...</td>\n",
              "      <td>[['Alloy wheels (15\")']]</td>\n",
              "      <td>\\n4, Grey</td>\n",
              "      <td>None</td>\n",
              "      <td>\\npaint, Metallic</td>\n",
              "      <td>None</td>\n",
              "      <td>None</td>\n",
              "    </tr>\n",
              "    <tr>\n",
              "      <th>4</th>\n",
              "      <td>ZUTPHEN, NL</td>\n",
              "      <td>https://www.autoscout24.com/offers/audi-a1-s-l...</td>\n",
              "      <td>\\n,Audi ,\\n</td>\n",
              "      <td>\\n,A1,\\n</td>\n",
              "      <td>S-Line | Automaat | Navigatie | Cruise-/Climat...</td>\n",
              "      <td>[['\\n', '€ 14,945.-', '\\n']]</td>\n",
              "      <td>['', ['119,666 km']]</td>\n",
              "      <td>\\n,Automatic,\\n</td>\n",
              "      <td>10/2015</td>\n",
              "      <td>\\n,Gasoline,\\n</td>\n",
              "      <td>...</td>\n",
              "      <td>None</td>\n",
              "      <td>[['Air conditioning', 'Armrest', 'Automatic cl...</td>\n",
              "      <td>[['CD player', 'MP3', 'On-board computer', 'Ra...</td>\n",
              "      <td>[['ABS', 'Alarm system', 'Bi-Xenon headlights'...</td>\n",
              "      <td>[['Alloy wheels (17\")', 'Shift paddles', 'Spor...</td>\n",
              "      <td>\\n4, Black</td>\n",
              "      <td>None</td>\n",
              "      <td>None</td>\n",
              "      <td>\\nupholstery, Black</td>\n",
              "      <td>\\n8, Part leather</td>\n",
              "    </tr>\n",
              "  </tbody>\n",
              "</table>\n",
              "<p>5 rows × 49 columns</p>\n",
              "</div>\n",
              "      <button class=\"colab-df-convert\" onclick=\"convertToInteractive('df-003efd49-b7d9-438f-bfc7-25b1d3545221')\"\n",
              "              title=\"Convert this dataframe to an interactive table.\"\n",
              "              style=\"display:none;\">\n",
              "        \n",
              "  <svg xmlns=\"http://www.w3.org/2000/svg\" height=\"24px\"viewBox=\"0 0 24 24\"\n",
              "       width=\"24px\">\n",
              "    <path d=\"M0 0h24v24H0V0z\" fill=\"none\"/>\n",
              "    <path d=\"M18.56 5.44l.94 2.06.94-2.06 2.06-.94-2.06-.94-.94-2.06-.94 2.06-2.06.94zm-11 1L8.5 8.5l.94-2.06 2.06-.94-2.06-.94L8.5 2.5l-.94 2.06-2.06.94zm10 10l.94 2.06.94-2.06 2.06-.94-2.06-.94-.94-2.06-.94 2.06-2.06.94z\"/><path d=\"M17.41 7.96l-1.37-1.37c-.4-.4-.92-.59-1.43-.59-.52 0-1.04.2-1.43.59L10.3 9.45l-7.72 7.72c-.78.78-.78 2.05 0 2.83L4 21.41c.39.39.9.59 1.41.59.51 0 1.02-.2 1.41-.59l7.78-7.78 2.81-2.81c.8-.78.8-2.07 0-2.86zM5.41 20L4 18.59l7.72-7.72 1.47 1.35L5.41 20z\"/>\n",
              "  </svg>\n",
              "      </button>\n",
              "      \n",
              "  <style>\n",
              "    .colab-df-container {\n",
              "      display:flex;\n",
              "      flex-wrap:wrap;\n",
              "      gap: 12px;\n",
              "    }\n",
              "\n",
              "    .colab-df-convert {\n",
              "      background-color: #E8F0FE;\n",
              "      border: none;\n",
              "      border-radius: 50%;\n",
              "      cursor: pointer;\n",
              "      display: none;\n",
              "      fill: #1967D2;\n",
              "      height: 32px;\n",
              "      padding: 0 0 0 0;\n",
              "      width: 32px;\n",
              "    }\n",
              "\n",
              "    .colab-df-convert:hover {\n",
              "      background-color: #E2EBFA;\n",
              "      box-shadow: 0px 1px 2px rgba(60, 64, 67, 0.3), 0px 1px 3px 1px rgba(60, 64, 67, 0.15);\n",
              "      fill: #174EA6;\n",
              "    }\n",
              "\n",
              "    [theme=dark] .colab-df-convert {\n",
              "      background-color: #3B4455;\n",
              "      fill: #D2E3FC;\n",
              "    }\n",
              "\n",
              "    [theme=dark] .colab-df-convert:hover {\n",
              "      background-color: #434B5C;\n",
              "      box-shadow: 0px 1px 3px 1px rgba(0, 0, 0, 0.15);\n",
              "      filter: drop-shadow(0px 1px 2px rgba(0, 0, 0, 0.3));\n",
              "      fill: #FFFFFF;\n",
              "    }\n",
              "  </style>\n",
              "\n",
              "      <script>\n",
              "        const buttonEl =\n",
              "          document.querySelector('#df-003efd49-b7d9-438f-bfc7-25b1d3545221 button.colab-df-convert');\n",
              "        buttonEl.style.display =\n",
              "          google.colab.kernel.accessAllowed ? 'block' : 'none';\n",
              "\n",
              "        async function convertToInteractive(key) {\n",
              "          const element = document.querySelector('#df-003efd49-b7d9-438f-bfc7-25b1d3545221');\n",
              "          const dataTable =\n",
              "            await google.colab.kernel.invokeFunction('convertToInteractive',\n",
              "                                                     [key], {});\n",
              "          if (!dataTable) return;\n",
              "\n",
              "          const docLinkHtml = 'Like what you see? Visit the ' +\n",
              "            '<a target=\"_blank\" href=https://colab.research.google.com/notebooks/data_table.ipynb>data table notebook</a>'\n",
              "            + ' to learn more about interactive tables.';\n",
              "          element.innerHTML = '';\n",
              "          dataTable['output_type'] = 'display_data';\n",
              "          await google.colab.output.renderOutput(dataTable, element);\n",
              "          const docLink = document.createElement('div');\n",
              "          docLink.innerHTML = docLinkHtml;\n",
              "          element.appendChild(docLink);\n",
              "        }\n",
              "      </script>\n",
              "    </div>\n",
              "  </div>\n",
              "  "
            ],
            "text/plain": [
              "            Location                                                url  \\\n",
              "0   LOON OP ZAND, NL  https://www.autoscout24.com/offers/audi-a3-2-0...   \n",
              "1        HEERLEN, NL  https://www.autoscout24.com/offers/audi-a3-spo...   \n",
              "2          BREDA, NL  https://www.autoscout24.com/offers/audi-a3-1-4...   \n",
              "3  BAARLE-NASSAU, NL  https://www.autoscout24.com/offers/audi-a1-1-4...   \n",
              "4        ZUTPHEN, NL  https://www.autoscout24.com/offers/audi-a1-s-l...   \n",
              "\n",
              "          make     model                                  short_description  \\\n",
              "0  \\n,Audi ,\\n  \\n,A3,\\n                          2.0 FSI Ambition Pro Line   \n",
              "1  \\n,Audi ,\\n  \\n,A3,\\n  Sportback 1.4 TFSI Ambiente/ECC/PDC//Lichtmeta...   \n",
              "2  \\n,Audi ,\\n  \\n,A3,\\n  1.4 TFSI Attraction Pro Line [ Navi Airco Crui...   \n",
              "3  \\n,Audi ,\\n  \\n,A1,\\n    1.4 TFSI Sportback Pro-Line Aut. S-Tronic Navi.   \n",
              "4  \\n,Audi ,\\n  \\n,A1,\\n  S-Line | Automaat | Navigatie | Cruise-/Climat...   \n",
              "\n",
              "                          price               mileage          gearbox  \\\n",
              "0   [['\\n', '€ 4,450.-', '\\n']]  ['', ['191,066 km']]  \\n,Automatic,\\n   \n",
              "1  [['\\n', '€ 12,950.-', '\\n']]   ['', ['94,758 km']]  \\n,Automatic,\\n   \n",
              "2  [['\\n', '€ 12,445.-', '\\n']]  ['', ['160,883 km']]  \\n,Automatic,\\n   \n",
              "3  [['\\n', '€ 12,450.-', '\\n']]  ['', ['145,102 km']]  \\n,Automatic,\\n   \n",
              "4  [['\\n', '€ 14,945.-', '\\n']]  ['', ['119,666 km']]  \\n,Automatic,\\n   \n",
              "\n",
              "  registration       Fuel_Type  ... emissions_sticker  \\\n",
              "0      08/2003  \\n,Gasoline,\\n  ...              None   \n",
              "1      10/2013  \\n,Gasoline,\\n  ...              None   \n",
              "2      05/2013  \\n,Gasoline,\\n  ...              None   \n",
              "3      06/2015  \\n,Gasoline,\\n  ...              None   \n",
              "4      10/2015  \\n,Gasoline,\\n  ...              None   \n",
              "\n",
              "                                 Comfort_Convenience  \\\n",
              "0  [['Air conditioning', 'Armrest', 'Automatic cl...   \n",
              "1  [['Air conditioning', 'Automatic climate contr...   \n",
              "2  [['Air conditioning', 'Armrest', 'Cruise contr...   \n",
              "3  [['Air conditioning', 'Armrest', 'Automatic cl...   \n",
              "4  [['Air conditioning', 'Armrest', 'Automatic cl...   \n",
              "\n",
              "                                 Entertainment_Media  \\\n",
              "0                           [['CD player', 'Radio']]   \n",
              "1                           [['CD player', 'Radio']]   \n",
              "2  [['Bluetooth', 'CD player', 'Hands-free equipm...   \n",
              "3  [['Bluetooth', 'CD player', 'On-board computer...   \n",
              "4  [['CD player', 'MP3', 'On-board computer', 'Ra...   \n",
              "\n",
              "                                     Safety_Security  \\\n",
              "0  [['ABS', 'Alarm system', 'Central door lock', ...   \n",
              "1  [['Alarm system', 'Central door lock', 'Centra...   \n",
              "2  [['ABS', 'Central door lock', 'Central door lo...   \n",
              "3  [['ABS', 'Central door lock with remote contro...   \n",
              "4  [['ABS', 'Alarm system', 'Bi-Xenon headlights'...   \n",
              "\n",
              "                                              extras      Colour  \\\n",
              "0                                 [['Alloy wheels']]   \\n4, Grey   \n",
              "1                           [['Alloy wheels (16\")']]  \\n4, White   \n",
              "2                      [['Alloy wheels', 'Spoiler']]  \\n4, Black   \n",
              "3                           [['Alloy wheels (15\")']]   \\n4, Grey   \n",
              "4  [['Alloy wheels (17\")', 'Shift paddles', 'Spor...  \\n4, Black   \n",
              "\n",
              "  \\nmanufacturer_color              Paint    Upholstery_colour  \\\n",
              "0                 None  \\npaint, Metallic  \\nupholstery, Black   \n",
              "1                 None               None  \\nupholstery, Black   \n",
              "2                 None  \\npaint, Metallic                 None   \n",
              "3                 None  \\npaint, Metallic                 None   \n",
              "4                 None               None  \\nupholstery, Black   \n",
              "\n",
              "          Upholstery  \n",
              "0         \\n8, Cloth  \n",
              "1         \\n8, Cloth  \n",
              "2               None  \n",
              "3               None  \n",
              "4  \\n8, Part leather  \n",
              "\n",
              "[5 rows x 49 columns]"
            ]
          },
          "metadata": {},
          "execution_count": 9
        }
      ]
    },
    {
      "cell_type": "markdown",
      "source": [
        "# Null Data Percentages and Dropping"
      ],
      "metadata": {
        "id": "HYQ54vnktS6U"
      }
    },
    {
      "cell_type": "code",
      "execution_count": 10,
      "metadata": {
        "colab": {
          "base_uri": "https://localhost:8080/",
          "height": 1000
        },
        "id": "ZHTCG2dtPLS4",
        "outputId": "c52d9074-9cd4-4ee3-c1ec-06e6cae9a68a"
      },
      "outputs": [
        {
          "output_type": "execute_result",
          "data": {
            "text/html": [
              "\n",
              "  <div id=\"df-e6cacc63-11d2-47b8-841b-1b7fe5eca44e\">\n",
              "    <div class=\"colab-df-container\">\n",
              "      <div>\n",
              "<style scoped>\n",
              "    .dataframe tbody tr th:only-of-type {\n",
              "        vertical-align: middle;\n",
              "    }\n",
              "\n",
              "    .dataframe tbody tr th {\n",
              "        vertical-align: top;\n",
              "    }\n",
              "\n",
              "    .dataframe thead th {\n",
              "        text-align: right;\n",
              "    }\n",
              "</style>\n",
              "<table border=\"1\" class=\"dataframe\">\n",
              "  <thead>\n",
              "    <tr style=\"text-align: right;\">\n",
              "      <th></th>\n",
              "      <th>Percentage (%)</th>\n",
              "    </tr>\n",
              "  </thead>\n",
              "  <tbody>\n",
              "    <tr>\n",
              "      <th>last_service</th>\n",
              "      <td>100.000000</td>\n",
              "    </tr>\n",
              "    <tr>\n",
              "      <th>\\nmanufacturer_color</th>\n",
              "      <td>100.000000</td>\n",
              "    </tr>\n",
              "    <tr>\n",
              "      <th>emissions_sticker</th>\n",
              "      <td>99.783385</td>\n",
              "    </tr>\n",
              "    <tr>\n",
              "      <th>last_timing_belt_change</th>\n",
              "      <td>98.663741</td>\n",
              "    </tr>\n",
              "    <tr>\n",
              "      <th>previous_owner</th>\n",
              "      <td>93.073958</td>\n",
              "    </tr>\n",
              "    <tr>\n",
              "      <th>non_smoker_vehicle</th>\n",
              "      <td>92.011984</td>\n",
              "    </tr>\n",
              "    <tr>\n",
              "      <th>production_date</th>\n",
              "      <td>89.572960</td>\n",
              "    </tr>\n",
              "    <tr>\n",
              "      <th>country_version</th>\n",
              "      <td>87.313979</td>\n",
              "    </tr>\n",
              "    <tr>\n",
              "      <th>warranty</th>\n",
              "      <td>66.233437</td>\n",
              "    </tr>\n",
              "    <tr>\n",
              "      <th>Upholstery_colour</th>\n",
              "      <td>34.872141</td>\n",
              "    </tr>\n",
              "    <tr>\n",
              "      <th>full_service_history</th>\n",
              "      <td>31.427406</td>\n",
              "    </tr>\n",
              "    <tr>\n",
              "      <th>emission_class</th>\n",
              "      <td>30.362619</td>\n",
              "    </tr>\n",
              "    <tr>\n",
              "      <th>Paint</th>\n",
              "      <td>29.285172</td>\n",
              "    </tr>\n",
              "    <tr>\n",
              "      <th>Gears</th>\n",
              "      <td>29.009480</td>\n",
              "    </tr>\n",
              "    <tr>\n",
              "      <th>general_inspection</th>\n",
              "      <td>23.937322</td>\n",
              "    </tr>\n",
              "    <tr>\n",
              "      <th>drivetrain</th>\n",
              "      <td>23.159479</td>\n",
              "    </tr>\n",
              "    <tr>\n",
              "      <th>fuel_consumption</th>\n",
              "      <td>18.665429</td>\n",
              "    </tr>\n",
              "    <tr>\n",
              "      <th>Upholstery</th>\n",
              "      <td>17.019720</td>\n",
              "    </tr>\n",
              "    <tr>\n",
              "      <th>offer_number</th>\n",
              "      <td>15.856472</td>\n",
              "    </tr>\n",
              "    <tr>\n",
              "      <th>co2_emissions</th>\n",
              "      <td>15.717219</td>\n",
              "    </tr>\n",
              "    <tr>\n",
              "      <th>Fuel_type</th>\n",
              "      <td>13.980083</td>\n",
              "    </tr>\n",
              "    <tr>\n",
              "      <th>Cylinders</th>\n",
              "      <td>8.851661</td>\n",
              "    </tr>\n",
              "    <tr>\n",
              "      <th>power</th>\n",
              "      <td>8.514080</td>\n",
              "    </tr>\n",
              "    <tr>\n",
              "      <th>Power</th>\n",
              "      <td>8.514080</td>\n",
              "    </tr>\n",
              "    <tr>\n",
              "      <th>engine_size</th>\n",
              "      <td>8.210257</td>\n",
              "    </tr>\n",
              "    <tr>\n",
              "      <th>seats</th>\n",
              "      <td>7.795313</td>\n",
              "    </tr>\n",
              "    <tr>\n",
              "      <th>Empty_weight</th>\n",
              "      <td>2.244915</td>\n",
              "    </tr>\n",
              "    <tr>\n",
              "      <th>doors</th>\n",
              "      <td>1.848257</td>\n",
              "    </tr>\n",
              "    <tr>\n",
              "      <th>Colour</th>\n",
              "      <td>1.682280</td>\n",
              "    </tr>\n",
              "    <tr>\n",
              "      <th>type</th>\n",
              "      <td>1.510676</td>\n",
              "    </tr>\n",
              "    <tr>\n",
              "      <th>body_type</th>\n",
              "      <td>1.510676</td>\n",
              "    </tr>\n",
              "    <tr>\n",
              "      <th>short_description</th>\n",
              "      <td>0.237713</td>\n",
              "    </tr>\n",
              "    <tr>\n",
              "      <th>Mileage</th>\n",
              "      <td>0.215208</td>\n",
              "    </tr>\n",
              "    <tr>\n",
              "      <th>Gearbox</th>\n",
              "      <td>0.133626</td>\n",
              "    </tr>\n",
              "    <tr>\n",
              "      <th>gearbox</th>\n",
              "      <td>0.133626</td>\n",
              "    </tr>\n",
              "    <tr>\n",
              "      <th>first_registration</th>\n",
              "      <td>0.053450</td>\n",
              "    </tr>\n",
              "    <tr>\n",
              "      <th>registration</th>\n",
              "      <td>0.053450</td>\n",
              "    </tr>\n",
              "    <tr>\n",
              "      <th>Fuel_Type</th>\n",
              "      <td>0.000000</td>\n",
              "    </tr>\n",
              "    <tr>\n",
              "      <th>mileage</th>\n",
              "      <td>0.000000</td>\n",
              "    </tr>\n",
              "    <tr>\n",
              "      <th>price</th>\n",
              "      <td>0.000000</td>\n",
              "    </tr>\n",
              "    <tr>\n",
              "      <th>Comfort_Convenience</th>\n",
              "      <td>0.000000</td>\n",
              "    </tr>\n",
              "    <tr>\n",
              "      <th>Entertainment_Media</th>\n",
              "      <td>0.000000</td>\n",
              "    </tr>\n",
              "    <tr>\n",
              "      <th>Safety_Security</th>\n",
              "      <td>0.000000</td>\n",
              "    </tr>\n",
              "    <tr>\n",
              "      <th>extras</th>\n",
              "      <td>0.000000</td>\n",
              "    </tr>\n",
              "    <tr>\n",
              "      <th>Seller</th>\n",
              "      <td>0.000000</td>\n",
              "    </tr>\n",
              "    <tr>\n",
              "      <th>url</th>\n",
              "      <td>0.000000</td>\n",
              "    </tr>\n",
              "    <tr>\n",
              "      <th>model</th>\n",
              "      <td>0.000000</td>\n",
              "    </tr>\n",
              "    <tr>\n",
              "      <th>make</th>\n",
              "      <td>0.000000</td>\n",
              "    </tr>\n",
              "    <tr>\n",
              "      <th>Location</th>\n",
              "      <td>0.000000</td>\n",
              "    </tr>\n",
              "  </tbody>\n",
              "</table>\n",
              "</div>\n",
              "      <button class=\"colab-df-convert\" onclick=\"convertToInteractive('df-e6cacc63-11d2-47b8-841b-1b7fe5eca44e')\"\n",
              "              title=\"Convert this dataframe to an interactive table.\"\n",
              "              style=\"display:none;\">\n",
              "        \n",
              "  <svg xmlns=\"http://www.w3.org/2000/svg\" height=\"24px\"viewBox=\"0 0 24 24\"\n",
              "       width=\"24px\">\n",
              "    <path d=\"M0 0h24v24H0V0z\" fill=\"none\"/>\n",
              "    <path d=\"M18.56 5.44l.94 2.06.94-2.06 2.06-.94-2.06-.94-.94-2.06-.94 2.06-2.06.94zm-11 1L8.5 8.5l.94-2.06 2.06-.94-2.06-.94L8.5 2.5l-.94 2.06-2.06.94zm10 10l.94 2.06.94-2.06 2.06-.94-2.06-.94-.94-2.06-.94 2.06-2.06.94z\"/><path d=\"M17.41 7.96l-1.37-1.37c-.4-.4-.92-.59-1.43-.59-.52 0-1.04.2-1.43.59L10.3 9.45l-7.72 7.72c-.78.78-.78 2.05 0 2.83L4 21.41c.39.39.9.59 1.41.59.51 0 1.02-.2 1.41-.59l7.78-7.78 2.81-2.81c.8-.78.8-2.07 0-2.86zM5.41 20L4 18.59l7.72-7.72 1.47 1.35L5.41 20z\"/>\n",
              "  </svg>\n",
              "      </button>\n",
              "      \n",
              "  <style>\n",
              "    .colab-df-container {\n",
              "      display:flex;\n",
              "      flex-wrap:wrap;\n",
              "      gap: 12px;\n",
              "    }\n",
              "\n",
              "    .colab-df-convert {\n",
              "      background-color: #E8F0FE;\n",
              "      border: none;\n",
              "      border-radius: 50%;\n",
              "      cursor: pointer;\n",
              "      display: none;\n",
              "      fill: #1967D2;\n",
              "      height: 32px;\n",
              "      padding: 0 0 0 0;\n",
              "      width: 32px;\n",
              "    }\n",
              "\n",
              "    .colab-df-convert:hover {\n",
              "      background-color: #E2EBFA;\n",
              "      box-shadow: 0px 1px 2px rgba(60, 64, 67, 0.3), 0px 1px 3px 1px rgba(60, 64, 67, 0.15);\n",
              "      fill: #174EA6;\n",
              "    }\n",
              "\n",
              "    [theme=dark] .colab-df-convert {\n",
              "      background-color: #3B4455;\n",
              "      fill: #D2E3FC;\n",
              "    }\n",
              "\n",
              "    [theme=dark] .colab-df-convert:hover {\n",
              "      background-color: #434B5C;\n",
              "      box-shadow: 0px 1px 3px 1px rgba(0, 0, 0, 0.15);\n",
              "      filter: drop-shadow(0px 1px 2px rgba(0, 0, 0, 0.3));\n",
              "      fill: #FFFFFF;\n",
              "    }\n",
              "  </style>\n",
              "\n",
              "      <script>\n",
              "        const buttonEl =\n",
              "          document.querySelector('#df-e6cacc63-11d2-47b8-841b-1b7fe5eca44e button.colab-df-convert');\n",
              "        buttonEl.style.display =\n",
              "          google.colab.kernel.accessAllowed ? 'block' : 'none';\n",
              "\n",
              "        async function convertToInteractive(key) {\n",
              "          const element = document.querySelector('#df-e6cacc63-11d2-47b8-841b-1b7fe5eca44e');\n",
              "          const dataTable =\n",
              "            await google.colab.kernel.invokeFunction('convertToInteractive',\n",
              "                                                     [key], {});\n",
              "          if (!dataTable) return;\n",
              "\n",
              "          const docLinkHtml = 'Like what you see? Visit the ' +\n",
              "            '<a target=\"_blank\" href=https://colab.research.google.com/notebooks/data_table.ipynb>data table notebook</a>'\n",
              "            + ' to learn more about interactive tables.';\n",
              "          element.innerHTML = '';\n",
              "          dataTable['output_type'] = 'display_data';\n",
              "          await google.colab.output.renderOutput(dataTable, element);\n",
              "          const docLink = document.createElement('div');\n",
              "          docLink.innerHTML = docLinkHtml;\n",
              "          element.appendChild(docLink);\n",
              "        }\n",
              "      </script>\n",
              "    </div>\n",
              "  </div>\n",
              "  "
            ],
            "text/plain": [
              "                         Percentage (%)\n",
              "last_service                 100.000000\n",
              "\\nmanufacturer_color         100.000000\n",
              "emissions_sticker             99.783385\n",
              "last_timing_belt_change       98.663741\n",
              "previous_owner                93.073958\n",
              "non_smoker_vehicle            92.011984\n",
              "production_date               89.572960\n",
              "country_version               87.313979\n",
              "warranty                      66.233437\n",
              "Upholstery_colour             34.872141\n",
              "full_service_history          31.427406\n",
              "emission_class                30.362619\n",
              "Paint                         29.285172\n",
              "Gears                         29.009480\n",
              "general_inspection            23.937322\n",
              "drivetrain                    23.159479\n",
              "fuel_consumption              18.665429\n",
              "Upholstery                    17.019720\n",
              "offer_number                  15.856472\n",
              "co2_emissions                 15.717219\n",
              "Fuel_type                     13.980083\n",
              "Cylinders                      8.851661\n",
              "power                          8.514080\n",
              "Power                          8.514080\n",
              "engine_size                    8.210257\n",
              "seats                          7.795313\n",
              "Empty_weight                   2.244915\n",
              "doors                          1.848257\n",
              "Colour                         1.682280\n",
              "type                           1.510676\n",
              "body_type                      1.510676\n",
              "short_description              0.237713\n",
              "Mileage                        0.215208\n",
              "Gearbox                        0.133626\n",
              "gearbox                        0.133626\n",
              "first_registration             0.053450\n",
              "registration                   0.053450\n",
              "Fuel_Type                      0.000000\n",
              "mileage                        0.000000\n",
              "price                          0.000000\n",
              "Comfort_Convenience            0.000000\n",
              "Entertainment_Media            0.000000\n",
              "Safety_Security                0.000000\n",
              "extras                         0.000000\n",
              "Seller                         0.000000\n",
              "url                            0.000000\n",
              "model                          0.000000\n",
              "make                           0.000000\n",
              "Location                       0.000000"
            ]
          },
          "metadata": {},
          "execution_count": 10
        }
      ],
      "source": [
        "def null_values(df):\n",
        "    \"\"\"a function to show null values with percentage\"\"\"\n",
        "    nv=pd.concat([df.isnull().sum(), 100 * df.isnull().sum()/df.shape[0]],axis=1).rename(columns={0:'Missing_Records', 1:'Percentage (%)'})\n",
        "    return nv[['Percentage (%)']].sort_values('Percentage (%)', ascending=False)\n",
        "null_values(my_df)"
      ]
    },
    {
      "cell_type": "markdown",
      "source": [
        "* production_date, country_version was removed because almost 90 percent of the column is missing value."
      ],
      "metadata": {
        "id": "IbQaQlQdgBzz"
      }
    },
    {
      "cell_type": "code",
      "execution_count": 11,
      "metadata": {
        "id": "arSsmigy_97p"
      },
      "outputs": [],
      "source": [
        "my_df.drop(columns = ['url','Gearbox','previous_owner','production_date','country_version','\\nmanufacturer_color',\"Fuel_type\",\"Paint\",\"Upholstery_colour\",\"Location\",'last_service','emissions_sticker','last_timing_belt_change'], inplace = True)"
      ]
    },
    {
      "cell_type": "markdown",
      "source": [
        "# Variables"
      ],
      "metadata": {
        "id": "Zt8i-KHEtZKU"
      }
    },
    {
      "cell_type": "markdown",
      "source": [
        "# Comfort_Convenience"
      ],
      "metadata": {
        "id": "6XZf5KPUgHEy"
      }
    },
    {
      "cell_type": "code",
      "source": [
        "my_df['Comfort_Convenience'] = my_df['Comfort_Convenience'].str.replace('contro\\'\\]','control')\n",
        "my_df['Comfort_Convenience'] = my_df['Comfort_Convenience'].str.replace('whee\\'\\]','wheel')\n",
        "my_df['Comfort_Convenience'] = my_df['Comfort_Convenience'].str.findall(r\"\\'(.+?)\\'\")"
      ],
      "metadata": {
        "colab": {
          "base_uri": "https://localhost:8080/"
        },
        "id": "LkddCUw83i0y",
        "outputId": "ebf39596-6b38-427a-b451-ae22a5a8a9ad"
      },
      "execution_count": 12,
      "outputs": [
        {
          "output_type": "stream",
          "name": "stderr",
          "text": [
            "/usr/local/lib/python3.7/dist-packages/ipykernel_launcher.py:1: FutureWarning: The default value of regex will change from True to False in a future version.\n",
            "  \"\"\"Entry point for launching an IPython kernel.\n",
            "/usr/local/lib/python3.7/dist-packages/ipykernel_launcher.py:2: FutureWarning: The default value of regex will change from True to False in a future version.\n",
            "  \n"
          ]
        }
      ]
    },
    {
      "cell_type": "code",
      "source": [
        "values = []\n",
        "for liste in my_df['Comfort_Convenience']:\n",
        "  for value in liste:\n",
        "    values.append(value)\n",
        "values = set(values)\n",
        "def boolean_df(item_lists, unique_items):\n",
        "# Create empty dict\n",
        "    bool_dict = {}\n",
        "    # Loop through all the tags\n",
        "    for i, item in enumerate(unique_items):\n",
        "        # Apply boolean mask\n",
        "        bool_dict[item] = item_lists.apply(lambda x: 1 if item in x else 0)\n",
        "    # Return the results as a dataframe\n",
        "    return pd.DataFrame(bool_dict)\n",
        "Comfort_Convenience = boolean_df(my_df['Comfort_Convenience'], values)\n",
        "my_df = pd.concat([my_df,Comfort_Convenience],axis=1)\n",
        "my_df.drop(columns = ['Comfort_Convenience'],inplace = True)\n",
        "my_df.head()"
      ],
      "metadata": {
        "id": "GFaK6xrIa0eK",
        "colab": {
          "base_uri": "https://localhost:8080/",
          "height": 523
        },
        "outputId": "5b4f6513-5269-4a37-d86a-55fccb2131d7"
      },
      "execution_count": 13,
      "outputs": [
        {
          "output_type": "execute_result",
          "data": {
            "text/html": [
              "\n",
              "  <div id=\"df-9999b6d8-b339-4c9e-9963-54a5b2f0547f\">\n",
              "    <div class=\"colab-df-container\">\n",
              "      <div>\n",
              "<style scoped>\n",
              "    .dataframe tbody tr th:only-of-type {\n",
              "        vertical-align: middle;\n",
              "    }\n",
              "\n",
              "    .dataframe tbody tr th {\n",
              "        vertical-align: top;\n",
              "    }\n",
              "\n",
              "    .dataframe thead th {\n",
              "        text-align: right;\n",
              "    }\n",
              "</style>\n",
              "<table border=\"1\" class=\"dataframe\">\n",
              "  <thead>\n",
              "    <tr style=\"text-align: right;\">\n",
              "      <th></th>\n",
              "      <th>make</th>\n",
              "      <th>model</th>\n",
              "      <th>short_description</th>\n",
              "      <th>price</th>\n",
              "      <th>mileage</th>\n",
              "      <th>gearbox</th>\n",
              "      <th>registration</th>\n",
              "      <th>Fuel_Type</th>\n",
              "      <th>power</th>\n",
              "      <th>Seller</th>\n",
              "      <th>...</th>\n",
              "      <th>Lumbar support</th>\n",
              "      <th>Automatic climate control</th>\n",
              "      <th>Light sensor</th>\n",
              "      <th>Park Distance Control</th>\n",
              "      <th>Cruise control</th>\n",
              "      <th>Power windows</th>\n",
              "      <th>Armrest</th>\n",
              "      <th>Electric backseat adjustment</th>\n",
              "      <th>Automatic climate control, 3 zones</th>\n",
              "      <th>Multi-function steering wheel</th>\n",
              "    </tr>\n",
              "  </thead>\n",
              "  <tbody>\n",
              "    <tr>\n",
              "      <th>0</th>\n",
              "      <td>\\n,Audi ,\\n</td>\n",
              "      <td>\\n,A3,\\n</td>\n",
              "      <td>2.0 FSI Ambition Pro Line</td>\n",
              "      <td>[['\\n', '€ 4,450.-', '\\n']]</td>\n",
              "      <td>['', ['191,066 km']]</td>\n",
              "      <td>\\n,Automatic,\\n</td>\n",
              "      <td>08/2003</td>\n",
              "      <td>\\n,Gasoline,\\n</td>\n",
              "      <td>110 kW (150 hp),</td>\n",
              "      <td>Dealer</td>\n",
              "      <td>...</td>\n",
              "      <td>0</td>\n",
              "      <td>1</td>\n",
              "      <td>0</td>\n",
              "      <td>0</td>\n",
              "      <td>0</td>\n",
              "      <td>1</td>\n",
              "      <td>1</td>\n",
              "      <td>0</td>\n",
              "      <td>0</td>\n",
              "      <td>0</td>\n",
              "    </tr>\n",
              "    <tr>\n",
              "      <th>1</th>\n",
              "      <td>\\n,Audi ,\\n</td>\n",
              "      <td>\\n,A3,\\n</td>\n",
              "      <td>Sportback 1.4 TFSI Ambiente/ECC/PDC//Lichtmeta...</td>\n",
              "      <td>[['\\n', '€ 12,950.-', '\\n']]</td>\n",
              "      <td>['', ['94,758 km']]</td>\n",
              "      <td>\\n,Automatic,\\n</td>\n",
              "      <td>10/2013</td>\n",
              "      <td>\\n,Gasoline,\\n</td>\n",
              "      <td>92 kW (125 hp),</td>\n",
              "      <td>Dealer</td>\n",
              "      <td>...</td>\n",
              "      <td>0</td>\n",
              "      <td>1</td>\n",
              "      <td>1</td>\n",
              "      <td>0</td>\n",
              "      <td>0</td>\n",
              "      <td>1</td>\n",
              "      <td>0</td>\n",
              "      <td>0</td>\n",
              "      <td>0</td>\n",
              "      <td>0</td>\n",
              "    </tr>\n",
              "    <tr>\n",
              "      <th>2</th>\n",
              "      <td>\\n,Audi ,\\n</td>\n",
              "      <td>\\n,A3,\\n</td>\n",
              "      <td>1.4 TFSI Attraction Pro Line [ Navi Airco Crui...</td>\n",
              "      <td>[['\\n', '€ 12,445.-', '\\n']]</td>\n",
              "      <td>['', ['160,883 km']]</td>\n",
              "      <td>\\n,Automatic,\\n</td>\n",
              "      <td>05/2013</td>\n",
              "      <td>\\n,Gasoline,\\n</td>\n",
              "      <td>90 kW (122 hp),</td>\n",
              "      <td>Dealer</td>\n",
              "      <td>...</td>\n",
              "      <td>0</td>\n",
              "      <td>0</td>\n",
              "      <td>0</td>\n",
              "      <td>0</td>\n",
              "      <td>1</td>\n",
              "      <td>1</td>\n",
              "      <td>1</td>\n",
              "      <td>0</td>\n",
              "      <td>0</td>\n",
              "      <td>1</td>\n",
              "    </tr>\n",
              "    <tr>\n",
              "      <th>3</th>\n",
              "      <td>\\n,Audi ,\\n</td>\n",
              "      <td>\\n,A1,\\n</td>\n",
              "      <td>1.4 TFSI Sportback Pro-Line Aut. S-Tronic Navi.</td>\n",
              "      <td>[['\\n', '€ 12,450.-', '\\n']]</td>\n",
              "      <td>['', ['145,102 km']]</td>\n",
              "      <td>\\n,Automatic,\\n</td>\n",
              "      <td>06/2015</td>\n",
              "      <td>\\n,Gasoline,\\n</td>\n",
              "      <td>92 kW (125 hp),</td>\n",
              "      <td>Dealer</td>\n",
              "      <td>...</td>\n",
              "      <td>0</td>\n",
              "      <td>1</td>\n",
              "      <td>0</td>\n",
              "      <td>0</td>\n",
              "      <td>1</td>\n",
              "      <td>1</td>\n",
              "      <td>1</td>\n",
              "      <td>0</td>\n",
              "      <td>0</td>\n",
              "      <td>0</td>\n",
              "    </tr>\n",
              "    <tr>\n",
              "      <th>4</th>\n",
              "      <td>\\n,Audi ,\\n</td>\n",
              "      <td>\\n,A1,\\n</td>\n",
              "      <td>S-Line | Automaat | Navigatie | Cruise-/Climat...</td>\n",
              "      <td>[['\\n', '€ 14,945.-', '\\n']]</td>\n",
              "      <td>['', ['119,666 km']]</td>\n",
              "      <td>\\n,Automatic,\\n</td>\n",
              "      <td>10/2015</td>\n",
              "      <td>\\n,Gasoline,\\n</td>\n",
              "      <td>92 kW (125 hp),</td>\n",
              "      <td>Dealer</td>\n",
              "      <td>...</td>\n",
              "      <td>1</td>\n",
              "      <td>1</td>\n",
              "      <td>0</td>\n",
              "      <td>0</td>\n",
              "      <td>1</td>\n",
              "      <td>1</td>\n",
              "      <td>1</td>\n",
              "      <td>0</td>\n",
              "      <td>0</td>\n",
              "      <td>1</td>\n",
              "    </tr>\n",
              "  </tbody>\n",
              "</table>\n",
              "<p>5 rows × 79 columns</p>\n",
              "</div>\n",
              "      <button class=\"colab-df-convert\" onclick=\"convertToInteractive('df-9999b6d8-b339-4c9e-9963-54a5b2f0547f')\"\n",
              "              title=\"Convert this dataframe to an interactive table.\"\n",
              "              style=\"display:none;\">\n",
              "        \n",
              "  <svg xmlns=\"http://www.w3.org/2000/svg\" height=\"24px\"viewBox=\"0 0 24 24\"\n",
              "       width=\"24px\">\n",
              "    <path d=\"M0 0h24v24H0V0z\" fill=\"none\"/>\n",
              "    <path d=\"M18.56 5.44l.94 2.06.94-2.06 2.06-.94-2.06-.94-.94-2.06-.94 2.06-2.06.94zm-11 1L8.5 8.5l.94-2.06 2.06-.94-2.06-.94L8.5 2.5l-.94 2.06-2.06.94zm10 10l.94 2.06.94-2.06 2.06-.94-2.06-.94-.94-2.06-.94 2.06-2.06.94z\"/><path d=\"M17.41 7.96l-1.37-1.37c-.4-.4-.92-.59-1.43-.59-.52 0-1.04.2-1.43.59L10.3 9.45l-7.72 7.72c-.78.78-.78 2.05 0 2.83L4 21.41c.39.39.9.59 1.41.59.51 0 1.02-.2 1.41-.59l7.78-7.78 2.81-2.81c.8-.78.8-2.07 0-2.86zM5.41 20L4 18.59l7.72-7.72 1.47 1.35L5.41 20z\"/>\n",
              "  </svg>\n",
              "      </button>\n",
              "      \n",
              "  <style>\n",
              "    .colab-df-container {\n",
              "      display:flex;\n",
              "      flex-wrap:wrap;\n",
              "      gap: 12px;\n",
              "    }\n",
              "\n",
              "    .colab-df-convert {\n",
              "      background-color: #E8F0FE;\n",
              "      border: none;\n",
              "      border-radius: 50%;\n",
              "      cursor: pointer;\n",
              "      display: none;\n",
              "      fill: #1967D2;\n",
              "      height: 32px;\n",
              "      padding: 0 0 0 0;\n",
              "      width: 32px;\n",
              "    }\n",
              "\n",
              "    .colab-df-convert:hover {\n",
              "      background-color: #E2EBFA;\n",
              "      box-shadow: 0px 1px 2px rgba(60, 64, 67, 0.3), 0px 1px 3px 1px rgba(60, 64, 67, 0.15);\n",
              "      fill: #174EA6;\n",
              "    }\n",
              "\n",
              "    [theme=dark] .colab-df-convert {\n",
              "      background-color: #3B4455;\n",
              "      fill: #D2E3FC;\n",
              "    }\n",
              "\n",
              "    [theme=dark] .colab-df-convert:hover {\n",
              "      background-color: #434B5C;\n",
              "      box-shadow: 0px 1px 3px 1px rgba(0, 0, 0, 0.15);\n",
              "      filter: drop-shadow(0px 1px 2px rgba(0, 0, 0, 0.3));\n",
              "      fill: #FFFFFF;\n",
              "    }\n",
              "  </style>\n",
              "\n",
              "      <script>\n",
              "        const buttonEl =\n",
              "          document.querySelector('#df-9999b6d8-b339-4c9e-9963-54a5b2f0547f button.colab-df-convert');\n",
              "        buttonEl.style.display =\n",
              "          google.colab.kernel.accessAllowed ? 'block' : 'none';\n",
              "\n",
              "        async function convertToInteractive(key) {\n",
              "          const element = document.querySelector('#df-9999b6d8-b339-4c9e-9963-54a5b2f0547f');\n",
              "          const dataTable =\n",
              "            await google.colab.kernel.invokeFunction('convertToInteractive',\n",
              "                                                     [key], {});\n",
              "          if (!dataTable) return;\n",
              "\n",
              "          const docLinkHtml = 'Like what you see? Visit the ' +\n",
              "            '<a target=\"_blank\" href=https://colab.research.google.com/notebooks/data_table.ipynb>data table notebook</a>'\n",
              "            + ' to learn more about interactive tables.';\n",
              "          element.innerHTML = '';\n",
              "          dataTable['output_type'] = 'display_data';\n",
              "          await google.colab.output.renderOutput(dataTable, element);\n",
              "          const docLink = document.createElement('div');\n",
              "          docLink.innerHTML = docLinkHtml;\n",
              "          element.appendChild(docLink);\n",
              "        }\n",
              "      </script>\n",
              "    </div>\n",
              "  </div>\n",
              "  "
            ],
            "text/plain": [
              "          make     model                                  short_description  \\\n",
              "0  \\n,Audi ,\\n  \\n,A3,\\n                          2.0 FSI Ambition Pro Line   \n",
              "1  \\n,Audi ,\\n  \\n,A3,\\n  Sportback 1.4 TFSI Ambiente/ECC/PDC//Lichtmeta...   \n",
              "2  \\n,Audi ,\\n  \\n,A3,\\n  1.4 TFSI Attraction Pro Line [ Navi Airco Crui...   \n",
              "3  \\n,Audi ,\\n  \\n,A1,\\n    1.4 TFSI Sportback Pro-Line Aut. S-Tronic Navi.   \n",
              "4  \\n,Audi ,\\n  \\n,A1,\\n  S-Line | Automaat | Navigatie | Cruise-/Climat...   \n",
              "\n",
              "                          price               mileage          gearbox  \\\n",
              "0   [['\\n', '€ 4,450.-', '\\n']]  ['', ['191,066 km']]  \\n,Automatic,\\n   \n",
              "1  [['\\n', '€ 12,950.-', '\\n']]   ['', ['94,758 km']]  \\n,Automatic,\\n   \n",
              "2  [['\\n', '€ 12,445.-', '\\n']]  ['', ['160,883 km']]  \\n,Automatic,\\n   \n",
              "3  [['\\n', '€ 12,450.-', '\\n']]  ['', ['145,102 km']]  \\n,Automatic,\\n   \n",
              "4  [['\\n', '€ 14,945.-', '\\n']]  ['', ['119,666 km']]  \\n,Automatic,\\n   \n",
              "\n",
              "  registration       Fuel_Type             power  Seller  ... Lumbar support  \\\n",
              "0      08/2003  \\n,Gasoline,\\n  110 kW (150 hp),  Dealer  ...              0   \n",
              "1      10/2013  \\n,Gasoline,\\n   92 kW (125 hp),  Dealer  ...              0   \n",
              "2      05/2013  \\n,Gasoline,\\n   90 kW (122 hp),  Dealer  ...              0   \n",
              "3      06/2015  \\n,Gasoline,\\n   92 kW (125 hp),  Dealer  ...              0   \n",
              "4      10/2015  \\n,Gasoline,\\n   92 kW (125 hp),  Dealer  ...              1   \n",
              "\n",
              "  Automatic climate control Light sensor Park Distance Control Cruise control  \\\n",
              "0                         1            0                     0              0   \n",
              "1                         1            1                     0              0   \n",
              "2                         0            0                     0              1   \n",
              "3                         1            0                     0              1   \n",
              "4                         1            0                     0              1   \n",
              "\n",
              "  Power windows Armrest Electric backseat adjustment  \\\n",
              "0             1       1                            0   \n",
              "1             1       0                            0   \n",
              "2             1       1                            0   \n",
              "3             1       1                            0   \n",
              "4             1       1                            0   \n",
              "\n",
              "  Automatic climate control, 3 zones Multi-function steering wheel  \n",
              "0                                  0                             0  \n",
              "1                                  0                             0  \n",
              "2                                  0                             1  \n",
              "3                                  0                             0  \n",
              "4                                  0                             1  \n",
              "\n",
              "[5 rows x 79 columns]"
            ]
          },
          "metadata": {},
          "execution_count": 13
        }
      ]
    },
    {
      "cell_type": "code",
      "source": [
        "def removing_column(df,threshold=0.005):\n",
        "  print(df.columns[(df.sum()/df.shape[0])<threshold])\n",
        "  return df.columns[(df.sum()/df.shape[0])<threshold]\n",
        "my_df.drop(columns = removing_column(Comfort_Convenience), inplace = True)"
      ],
      "metadata": {
        "colab": {
          "base_uri": "https://localhost:8080/"
        },
        "id": "mI_HM7YWDjJt",
        "outputId": "2fb0c96f-6691-4469-b6ab-db83667037ae"
      },
      "execution_count": 14,
      "outputs": [
        {
          "output_type": "stream",
          "name": "stdout",
          "text": [
            "Index(['Automatic climate control, 4 zones', 'Leather seats', 'Massage seats',\n",
            "       'Park Distance Control'],\n",
            "      dtype='object')\n"
          ]
        }
      ]
    },
    {
      "cell_type": "markdown",
      "source": [
        "# Make - Model"
      ],
      "metadata": {
        "id": "4HNoYybWjq9-"
      }
    },
    {
      "cell_type": "code",
      "source": [
        "my_df['make'].head()"
      ],
      "metadata": {
        "colab": {
          "base_uri": "https://localhost:8080/"
        },
        "id": "-oiqIPzHpYYq",
        "outputId": "d0c26a03-aebd-46b0-857f-589e8cd8fac1"
      },
      "execution_count": 15,
      "outputs": [
        {
          "output_type": "execute_result",
          "data": {
            "text/plain": [
              "0    \\n,Audi ,\\n\n",
              "1    \\n,Audi ,\\n\n",
              "2    \\n,Audi ,\\n\n",
              "3    \\n,Audi ,\\n\n",
              "4    \\n,Audi ,\\n\n",
              "Name: make, dtype: object"
            ]
          },
          "metadata": {},
          "execution_count": 15
        }
      ]
    },
    {
      "cell_type": "code",
      "source": [
        "my_df['make'].unique()"
      ],
      "metadata": {
        "colab": {
          "base_uri": "https://localhost:8080/"
        },
        "id": "cFNysmD24W9J",
        "outputId": "09da7987-d25e-41fc-e88e-6f8263dbc7e8"
      },
      "execution_count": 16,
      "outputs": [
        {
          "output_type": "execute_result",
          "data": {
            "text/plain": [
              "array(['\\n,Audi ,\\n', '\\n,BMW ,\\n', '\\n,Ford ,\\n', '\\n,Mercedes-Benz ,\\n',\n",
              "       '\\n,Opel ,\\n', '\\n,Volkswagen ,\\n', '\\n,Renault ,\\n',\n",
              "       '\\n,Citroen ,\\n', '\\n,Chevrolet ,\\n', '\\n,Dacia ,\\n',\n",
              "       '\\n,Fiat ,\\n', '\\n,Honda ,\\n', '\\n,Hyundai ,\\n', '\\n,Kia ,\\n',\n",
              "       '\\n,Mazda ,\\n', '\\n,Peugeot ,\\n', '\\n,Skoda ,\\n', '\\n,Toyota ,\\n',\n",
              "       '\\n,Tesla ,\\n', '\\n,Volvo ,\\n'], dtype=object)"
            ]
          },
          "metadata": {},
          "execution_count": 16
        }
      ]
    },
    {
      "cell_type": "code",
      "source": [
        "my_df['make'] = my_df['make'].str.extract(r\"\\,(.+?)\\s\")"
      ],
      "metadata": {
        "id": "vVRjHw_U4jLC"
      },
      "execution_count": 17,
      "outputs": []
    },
    {
      "cell_type": "code",
      "source": [
        "my_df['model'] = my_df['model'].str.extract(r\"\\,(.+?)\\,\")"
      ],
      "metadata": {
        "id": "aSRk2MxYpwnC"
      },
      "execution_count": 18,
      "outputs": []
    },
    {
      "cell_type": "code",
      "source": [
        "my_df['make-model'] = my_df['make']+'-'+my_df['model']"
      ],
      "metadata": {
        "id": "ndKqq_SLqnY5"
      },
      "execution_count": 19,
      "outputs": []
    },
    {
      "cell_type": "code",
      "source": [
        "my_df.drop(columns = ['make','model'],inplace = True)\n",
        "my_df.shape"
      ],
      "metadata": {
        "id": "Rra19WNbrIhw",
        "colab": {
          "base_uri": "https://localhost:8080/"
        },
        "outputId": "11911618-4dd4-4099-d4e0-96e68c9233f8"
      },
      "execution_count": 20,
      "outputs": [
        {
          "output_type": "execute_result",
          "data": {
            "text/plain": [
              "(71094, 74)"
            ]
          },
          "metadata": {},
          "execution_count": 20
        }
      ]
    },
    {
      "cell_type": "code",
      "source": [
        "names = my_df['make-model'].value_counts()[my_df['make-model'].value_counts()<30].index.values\n",
        "for name in names:\n",
        "  my_df.drop(my_df[my_df['make-model']==name].index.values, axis = 0, inplace = True)\n",
        "my_df.reset_index(drop = True, inplace = True)"
      ],
      "metadata": {
        "id": "mG72MrJ8K2x_"
      },
      "execution_count": 21,
      "outputs": []
    },
    {
      "cell_type": "code",
      "source": [
        "my_df.shape"
      ],
      "metadata": {
        "colab": {
          "base_uri": "https://localhost:8080/"
        },
        "id": "Uy1-G-jvJDH9",
        "outputId": "9c40889d-b87e-4d3f-d59d-34d88d757b59"
      },
      "execution_count": 22,
      "outputs": [
        {
          "output_type": "execute_result",
          "data": {
            "text/plain": [
              "(67615, 74)"
            ]
          },
          "metadata": {},
          "execution_count": 22
        }
      ]
    },
    {
      "cell_type": "markdown",
      "source": [
        "# Price"
      ],
      "metadata": {
        "id": "JpUUc94ouaew"
      }
    },
    {
      "cell_type": "code",
      "source": [
        "my_df['price'] = my_df['price'].str.extract(r\"\\€(.+?)\\.\")\n",
        "my_df['price'] = my_df['price'].str.replace(',','')"
      ],
      "metadata": {
        "id": "SBMk7drzdOoQ"
      },
      "execution_count": 23,
      "outputs": []
    },
    {
      "cell_type": "code",
      "source": [
        "my_df['price'] = my_df['price'].apply(pd.to_numeric, errors='ignore')"
      ],
      "metadata": {
        "id": "ZXJ4g2HB8KXt"
      },
      "execution_count": 24,
      "outputs": []
    },
    {
      "cell_type": "code",
      "source": [
        "my_df['price'].head()"
      ],
      "metadata": {
        "colab": {
          "base_uri": "https://localhost:8080/"
        },
        "id": "LKo97V3D9aJm",
        "outputId": "f54a7e7f-9e4b-494b-f656-c02362e63ba4"
      },
      "execution_count": 25,
      "outputs": [
        {
          "output_type": "execute_result",
          "data": {
            "text/plain": [
              "0     4450.0\n",
              "1    12950.0\n",
              "2    12445.0\n",
              "3    12450.0\n",
              "4    14945.0\n",
              "Name: price, dtype: float64"
            ]
          },
          "metadata": {},
          "execution_count": 25
        }
      ]
    },
    {
      "cell_type": "markdown",
      "source": [
        "# Emission_class"
      ],
      "metadata": {
        "id": "XwgZ1oYXZjUf"
      }
    },
    {
      "cell_type": "code",
      "source": [
        "my_df['emission_class'].unique()"
      ],
      "metadata": {
        "colab": {
          "base_uri": "https://localhost:8080/"
        },
        "id": "FvN5ygH-poqd",
        "outputId": "e66905b6-1a6c-45d2-c2ed-3ca57bf83a90"
      },
      "execution_count": 26,
      "outputs": [
        {
          "output_type": "execute_result",
          "data": {
            "text/plain": [
              "array(['\\n,Euro 4,\\n', None, '\\n,Euro 6,\\n', '\\n,Euro 5,\\n',\n",
              "       \"['\\\\n', [' ', ' ', ' '], '\\\\n']\", '\\n,Euro 3,\\n',\n",
              "       '\\n,Euro 6d-TEMP,\\n', '\\n,Euro 1,\\n', '\\n,Euro 2,\\n',\n",
              "       '\\n,Euro 6c,\\n', '\\n,Euro 6d,\\n'], dtype=object)"
            ]
          },
          "metadata": {},
          "execution_count": 26
        }
      ]
    },
    {
      "cell_type": "code",
      "source": [
        "my_df['emission_class'] = my_df['emission_class'].str.extract(r\"\\n,(.+?),\\n\")"
      ],
      "metadata": {
        "id": "homxehYL-LhH"
      },
      "execution_count": 27,
      "outputs": []
    },
    {
      "cell_type": "code",
      "source": [
        "emission_class = my_df['emission_class'].str.get_dummies().add_prefix('emission_class_')"
      ],
      "metadata": {
        "id": "wIhDInysG8cF"
      },
      "execution_count": 28,
      "outputs": []
    },
    {
      "cell_type": "code",
      "source": [
        "my_df.drop('emission_class',inplace = True, axis = 1)"
      ],
      "metadata": {
        "id": "j5sIQTDnH9TN"
      },
      "execution_count": 29,
      "outputs": []
    },
    {
      "cell_type": "markdown",
      "source": [
        "# Doors"
      ],
      "metadata": {
        "id": "bNloB12ZbSTN"
      }
    },
    {
      "cell_type": "code",
      "source": [
        "my_df['doors'].unique()"
      ],
      "metadata": {
        "id": "PpIGLKnFvopb",
        "colab": {
          "base_uri": "https://localhost:8080/"
        },
        "outputId": "b50300d8-e204-4e56-8989-0dad97c3ace9"
      },
      "execution_count": 30,
      "outputs": [
        {
          "output_type": "execute_result",
          "data": {
            "text/plain": [
              "array(['\\n3', '\\n5', '\\n4', None, '\\n2', '\\n6', '\\n1'], dtype=object)"
            ]
          },
          "metadata": {},
          "execution_count": 30
        }
      ]
    },
    {
      "cell_type": "code",
      "source": [
        "my_df['doors'] = my_df['doors'].str.extract(r\"(\\d+)\")"
      ],
      "metadata": {
        "id": "52sPnAwWlUJ5"
      },
      "execution_count": 31,
      "outputs": []
    },
    {
      "cell_type": "code",
      "source": [
        "my_df['doors'] = my_df['doors'].apply(pd.to_numeric, errors='ignore')"
      ],
      "metadata": {
        "id": "OhKS0mfZhxOA"
      },
      "execution_count": 32,
      "outputs": []
    },
    {
      "cell_type": "markdown",
      "source": [
        "# offer_number"
      ],
      "metadata": {
        "id": "_1DF-wu_lYIE"
      }
    },
    {
      "cell_type": "markdown",
      "source": [
        "offer_number is removed because it is considered not useful."
      ],
      "metadata": {
        "id": "9E_zTm7llawR"
      }
    },
    {
      "cell_type": "code",
      "source": [
        "my_df.drop(columns = ['offer_number'],inplace = True)"
      ],
      "metadata": {
        "id": "Oi3aQyHdl8V_"
      },
      "execution_count": 33,
      "outputs": []
    },
    {
      "cell_type": "markdown",
      "source": [
        "# warranty"
      ],
      "metadata": {
        "id": "I6oZQdx8lqDD"
      }
    },
    {
      "cell_type": "code",
      "source": [
        "my_df['warranty'].unique()"
      ],
      "metadata": {
        "colab": {
          "base_uri": "https://localhost:8080/"
        },
        "id": "vZO4jAz0lVb2",
        "outputId": "8d7955c3-2180-4b2b-e32a-1840a0a01663"
      },
      "execution_count": 34,
      "outputs": [
        {
          "output_type": "execute_result",
          "data": {
            "text/plain": [
              "array(['\\n,6 months,\\n', None, '\\n,3 months,\\n', '\\n,1 months,\\n',\n",
              "       '\\n,12 months,\\n', '\\n,26 months,\\n', '\\n,24 months,\\n',\n",
              "       '\\n,60 months,\\n', '\\n,18 months,\\n', '\\n,2 months,\\n',\n",
              "       '\\n,36 months,\\n', '\\n,48 months,\\n', '\\n,9 months,\\n',\n",
              "       '\\n,10 months,\\n', '\\n,Yes,\\n', '\\n,84 months,\\n',\n",
              "       '\\n,4 months,\\n'], dtype=object)"
            ]
          },
          "metadata": {},
          "execution_count": 34
        }
      ]
    },
    {
      "cell_type": "code",
      "source": [
        "my_df['warranty'] = my_df['warranty'].str.extract(r\"\\n,(.+?),\\n\")\n",
        "my_df['warranty'].unique()"
      ],
      "metadata": {
        "colab": {
          "base_uri": "https://localhost:8080/"
        },
        "id": "QEF88gHbiKNx",
        "outputId": "b72dbcb2-85b0-44c3-a720-d191771e98cb"
      },
      "execution_count": 35,
      "outputs": [
        {
          "output_type": "execute_result",
          "data": {
            "text/plain": [
              "array(['6 months', nan, '3 months', '1 months', '12 months', '26 months',\n",
              "       '24 months', '60 months', '18 months', '2 months', '36 months',\n",
              "       '48 months', '9 months', '10 months', 'Yes', '84 months',\n",
              "       '4 months'], dtype=object)"
            ]
          },
          "metadata": {},
          "execution_count": 35
        }
      ]
    },
    {
      "cell_type": "code",
      "source": [
        "my_df['warranty'].fillna('0', inplace = True)"
      ],
      "metadata": {
        "id": "U4_uqjpirDFD"
      },
      "execution_count": 36,
      "outputs": []
    },
    {
      "cell_type": "code",
      "source": [
        "my_df[my_df['warranty']=='Yes']['warranty']"
      ],
      "metadata": {
        "colab": {
          "base_uri": "https://localhost:8080/"
        },
        "id": "DW1JTJg_lmuR",
        "outputId": "543b6cce-bdc8-48ab-f77c-dbb9226256bf"
      },
      "execution_count": 37,
      "outputs": [
        {
          "output_type": "execute_result",
          "data": {
            "text/plain": [
              "39684    Yes\n",
              "48461    Yes\n",
              "54387    Yes\n",
              "55252    Yes\n",
              "65732    Yes\n",
              "Name: warranty, dtype: object"
            ]
          },
          "metadata": {},
          "execution_count": 37
        }
      ]
    },
    {
      "cell_type": "code",
      "source": [
        "my_df.loc[my_df['warranty']=='Yes',['warranty']] = '6'"
      ],
      "metadata": {
        "id": "lmxZAhgZ8Ynz"
      },
      "execution_count": 38,
      "outputs": []
    },
    {
      "cell_type": "code",
      "source": [
        "my_df['warranty'] = my_df['warranty'].str.extract(r\"(\\d+)\").apply(pd.to_numeric, errors='ignore')"
      ],
      "metadata": {
        "id": "pf9gF98wlv-O"
      },
      "execution_count": 39,
      "outputs": []
    },
    {
      "cell_type": "code",
      "source": [
        "my_df.rename(columns = {'warranty':'warranty_months'},inplace = True)"
      ],
      "metadata": {
        "id": "LvFQe17p9XVB"
      },
      "execution_count": 40,
      "outputs": []
    },
    {
      "cell_type": "markdown",
      "source": [
        "# Mileage"
      ],
      "metadata": {
        "id": "4JfyhCQ4mqeQ"
      }
    },
    {
      "cell_type": "code",
      "source": [
        "my_df['Mileage'] = my_df['Mileage'].str.replace(r'[\\[\\]\\'\\\\n,\\s]','')"
      ],
      "metadata": {
        "colab": {
          "base_uri": "https://localhost:8080/"
        },
        "id": "AnHDzA9pyZjg",
        "outputId": "4f8b89fd-1ee0-4a37-d278-86f277bb3476"
      },
      "execution_count": 41,
      "outputs": [
        {
          "output_type": "stream",
          "name": "stderr",
          "text": [
            "/usr/local/lib/python3.7/dist-packages/ipykernel_launcher.py:1: FutureWarning: The default value of regex will change from True to False in a future version.\n",
            "  \"\"\"Entry point for launching an IPython kernel.\n"
          ]
        }
      ]
    },
    {
      "cell_type": "code",
      "source": [
        "my_df['Mileage'].unique()"
      ],
      "metadata": {
        "colab": {
          "base_uri": "https://localhost:8080/"
        },
        "id": "kycYApK5pTAC",
        "outputId": "ff646e36-e187-4856-d658-6529f1512a01"
      },
      "execution_count": 42,
      "outputs": [
        {
          "output_type": "execute_result",
          "data": {
            "text/plain": [
              "array(['', None], dtype=object)"
            ]
          },
          "metadata": {},
          "execution_count": 42
        }
      ]
    },
    {
      "cell_type": "code",
      "source": [
        "my_df.drop(columns = ['Mileage'],inplace = True)"
      ],
      "metadata": {
        "id": "xYMeizA7pcxx"
      },
      "execution_count": 43,
      "outputs": []
    },
    {
      "cell_type": "markdown",
      "source": [
        "# first_registration"
      ],
      "metadata": {
        "id": "1NXgzpoZqcwI"
      }
    },
    {
      "cell_type": "code",
      "source": [
        "my_df['first_registration_years'] = (pd.Timestamp.now() - pd.to_datetime(df['first_registration'],format='%m/%Y',errors='coerce')) / np.timedelta64(1,'Y')"
      ],
      "metadata": {
        "id": "UAU90sBArmD9"
      },
      "execution_count": 44,
      "outputs": []
    },
    {
      "cell_type": "code",
      "source": [
        "my_df.loc[my_df['first_registration_years']<0,['first_registration_years','Seller','price','mileage']]"
      ],
      "metadata": {
        "colab": {
          "base_uri": "https://localhost:8080/",
          "height": 424
        },
        "id": "n8V_7IU77YY6",
        "outputId": "f697b306-292a-465d-ecdd-f513115bf0b8"
      },
      "execution_count": 45,
      "outputs": [
        {
          "output_type": "execute_result",
          "data": {
            "text/html": [
              "\n",
              "  <div id=\"df-8f83848f-d2c2-45cf-b454-2b23ee5fcd77\">\n",
              "    <div class=\"colab-df-container\">\n",
              "      <div>\n",
              "<style scoped>\n",
              "    .dataframe tbody tr th:only-of-type {\n",
              "        vertical-align: middle;\n",
              "    }\n",
              "\n",
              "    .dataframe tbody tr th {\n",
              "        vertical-align: top;\n",
              "    }\n",
              "\n",
              "    .dataframe thead th {\n",
              "        text-align: right;\n",
              "    }\n",
              "</style>\n",
              "<table border=\"1\" class=\"dataframe\">\n",
              "  <thead>\n",
              "    <tr style=\"text-align: right;\">\n",
              "      <th></th>\n",
              "      <th>first_registration_years</th>\n",
              "      <th>Seller</th>\n",
              "      <th>price</th>\n",
              "      <th>mileage</th>\n",
              "    </tr>\n",
              "  </thead>\n",
              "  <tbody>\n",
              "    <tr>\n",
              "      <th>2469</th>\n",
              "      <td>-6.326411</td>\n",
              "      <td>Private seller</td>\n",
              "      <td>7500.0</td>\n",
              "      <td>['', ['161,000 km']]</td>\n",
              "    </tr>\n",
              "    <tr>\n",
              "      <th>5911</th>\n",
              "      <td>-3.662427</td>\n",
              "      <td>Dealer</td>\n",
              "      <td>74400.0</td>\n",
              "      <td>['', ['11,100 km']]</td>\n",
              "    </tr>\n",
              "    <tr>\n",
              "      <th>17471</th>\n",
              "      <td>-0.576806</td>\n",
              "      <td>Dealer</td>\n",
              "      <td>38995.0</td>\n",
              "      <td>['', ['16,020 km']]</td>\n",
              "    </tr>\n",
              "    <tr>\n",
              "      <th>17473</th>\n",
              "      <td>-0.576806</td>\n",
              "      <td>Dealer</td>\n",
              "      <td>38950.0</td>\n",
              "      <td>['', ['21,042 km']]</td>\n",
              "    </tr>\n",
              "    <tr>\n",
              "      <th>17922</th>\n",
              "      <td>-0.075769</td>\n",
              "      <td>Dealer</td>\n",
              "      <td>34900.0</td>\n",
              "      <td>['', ['192,811 km']]</td>\n",
              "    </tr>\n",
              "    <tr>\n",
              "      <th>...</th>\n",
              "      <td>...</td>\n",
              "      <td>...</td>\n",
              "      <td>...</td>\n",
              "      <td>...</td>\n",
              "    </tr>\n",
              "    <tr>\n",
              "      <th>63921</th>\n",
              "      <td>-0.242782</td>\n",
              "      <td>Dealer</td>\n",
              "      <td>2450.0</td>\n",
              "      <td>['', ['249,160 km']]</td>\n",
              "    </tr>\n",
              "    <tr>\n",
              "      <th>65166</th>\n",
              "      <td>-0.157906</td>\n",
              "      <td>Dealer</td>\n",
              "      <td>9950.0</td>\n",
              "      <td>['', ['211,360 km']]</td>\n",
              "    </tr>\n",
              "    <tr>\n",
              "      <th>65170</th>\n",
              "      <td>-0.157906</td>\n",
              "      <td>Dealer</td>\n",
              "      <td>9950.0</td>\n",
              "      <td>['', ['164,038 km']]</td>\n",
              "    </tr>\n",
              "    <tr>\n",
              "      <th>65174</th>\n",
              "      <td>-0.157906</td>\n",
              "      <td>Dealer</td>\n",
              "      <td>9885.0</td>\n",
              "      <td>['', ['197,843 km']]</td>\n",
              "    </tr>\n",
              "    <tr>\n",
              "      <th>65203</th>\n",
              "      <td>-0.157906</td>\n",
              "      <td>Dealer</td>\n",
              "      <td>7250.0</td>\n",
              "      <td>['', ['229,520 km']]</td>\n",
              "    </tr>\n",
              "  </tbody>\n",
              "</table>\n",
              "<p>66 rows × 4 columns</p>\n",
              "</div>\n",
              "      <button class=\"colab-df-convert\" onclick=\"convertToInteractive('df-8f83848f-d2c2-45cf-b454-2b23ee5fcd77')\"\n",
              "              title=\"Convert this dataframe to an interactive table.\"\n",
              "              style=\"display:none;\">\n",
              "        \n",
              "  <svg xmlns=\"http://www.w3.org/2000/svg\" height=\"24px\"viewBox=\"0 0 24 24\"\n",
              "       width=\"24px\">\n",
              "    <path d=\"M0 0h24v24H0V0z\" fill=\"none\"/>\n",
              "    <path d=\"M18.56 5.44l.94 2.06.94-2.06 2.06-.94-2.06-.94-.94-2.06-.94 2.06-2.06.94zm-11 1L8.5 8.5l.94-2.06 2.06-.94-2.06-.94L8.5 2.5l-.94 2.06-2.06.94zm10 10l.94 2.06.94-2.06 2.06-.94-2.06-.94-.94-2.06-.94 2.06-2.06.94z\"/><path d=\"M17.41 7.96l-1.37-1.37c-.4-.4-.92-.59-1.43-.59-.52 0-1.04.2-1.43.59L10.3 9.45l-7.72 7.72c-.78.78-.78 2.05 0 2.83L4 21.41c.39.39.9.59 1.41.59.51 0 1.02-.2 1.41-.59l7.78-7.78 2.81-2.81c.8-.78.8-2.07 0-2.86zM5.41 20L4 18.59l7.72-7.72 1.47 1.35L5.41 20z\"/>\n",
              "  </svg>\n",
              "      </button>\n",
              "      \n",
              "  <style>\n",
              "    .colab-df-container {\n",
              "      display:flex;\n",
              "      flex-wrap:wrap;\n",
              "      gap: 12px;\n",
              "    }\n",
              "\n",
              "    .colab-df-convert {\n",
              "      background-color: #E8F0FE;\n",
              "      border: none;\n",
              "      border-radius: 50%;\n",
              "      cursor: pointer;\n",
              "      display: none;\n",
              "      fill: #1967D2;\n",
              "      height: 32px;\n",
              "      padding: 0 0 0 0;\n",
              "      width: 32px;\n",
              "    }\n",
              "\n",
              "    .colab-df-convert:hover {\n",
              "      background-color: #E2EBFA;\n",
              "      box-shadow: 0px 1px 2px rgba(60, 64, 67, 0.3), 0px 1px 3px 1px rgba(60, 64, 67, 0.15);\n",
              "      fill: #174EA6;\n",
              "    }\n",
              "\n",
              "    [theme=dark] .colab-df-convert {\n",
              "      background-color: #3B4455;\n",
              "      fill: #D2E3FC;\n",
              "    }\n",
              "\n",
              "    [theme=dark] .colab-df-convert:hover {\n",
              "      background-color: #434B5C;\n",
              "      box-shadow: 0px 1px 3px 1px rgba(0, 0, 0, 0.15);\n",
              "      filter: drop-shadow(0px 1px 2px rgba(0, 0, 0, 0.3));\n",
              "      fill: #FFFFFF;\n",
              "    }\n",
              "  </style>\n",
              "\n",
              "      <script>\n",
              "        const buttonEl =\n",
              "          document.querySelector('#df-8f83848f-d2c2-45cf-b454-2b23ee5fcd77 button.colab-df-convert');\n",
              "        buttonEl.style.display =\n",
              "          google.colab.kernel.accessAllowed ? 'block' : 'none';\n",
              "\n",
              "        async function convertToInteractive(key) {\n",
              "          const element = document.querySelector('#df-8f83848f-d2c2-45cf-b454-2b23ee5fcd77');\n",
              "          const dataTable =\n",
              "            await google.colab.kernel.invokeFunction('convertToInteractive',\n",
              "                                                     [key], {});\n",
              "          if (!dataTable) return;\n",
              "\n",
              "          const docLinkHtml = 'Like what you see? Visit the ' +\n",
              "            '<a target=\"_blank\" href=https://colab.research.google.com/notebooks/data_table.ipynb>data table notebook</a>'\n",
              "            + ' to learn more about interactive tables.';\n",
              "          element.innerHTML = '';\n",
              "          dataTable['output_type'] = 'display_data';\n",
              "          await google.colab.output.renderOutput(dataTable, element);\n",
              "          const docLink = document.createElement('div');\n",
              "          docLink.innerHTML = docLinkHtml;\n",
              "          element.appendChild(docLink);\n",
              "        }\n",
              "      </script>\n",
              "    </div>\n",
              "  </div>\n",
              "  "
            ],
            "text/plain": [
              "       first_registration_years          Seller    price               mileage\n",
              "2469                  -6.326411  Private seller   7500.0  ['', ['161,000 km']]\n",
              "5911                  -3.662427          Dealer  74400.0   ['', ['11,100 km']]\n",
              "17471                 -0.576806          Dealer  38995.0   ['', ['16,020 km']]\n",
              "17473                 -0.576806          Dealer  38950.0   ['', ['21,042 km']]\n",
              "17922                 -0.075769          Dealer  34900.0  ['', ['192,811 km']]\n",
              "...                         ...             ...      ...                   ...\n",
              "63921                 -0.242782          Dealer   2450.0  ['', ['249,160 km']]\n",
              "65166                 -0.157906          Dealer   9950.0  ['', ['211,360 km']]\n",
              "65170                 -0.157906          Dealer   9950.0  ['', ['164,038 km']]\n",
              "65174                 -0.157906          Dealer   9885.0  ['', ['197,843 km']]\n",
              "65203                 -0.157906          Dealer   7250.0  ['', ['229,520 km']]\n",
              "\n",
              "[66 rows x 4 columns]"
            ]
          },
          "metadata": {},
          "execution_count": 45
        }
      ]
    },
    {
      "cell_type": "code",
      "source": [
        "indexes = (my_df.loc[my_df['first_registration_years']<0].index).values\n",
        "my_df = my_df.drop(indexes,axis = 0)"
      ],
      "metadata": {
        "id": "zIFiSuEM_Aih"
      },
      "execution_count": 46,
      "outputs": []
    },
    {
      "cell_type": "code",
      "source": [
        "my_df.reset_index(drop=True,inplace=True)\n",
        "my_df.drop(columns = ['first_registration'], inplace = True)"
      ],
      "metadata": {
        "id": "AhAFcvjrr8mO"
      },
      "execution_count": 47,
      "outputs": []
    },
    {
      "cell_type": "code",
      "source": [
        "my_df.shape"
      ],
      "metadata": {
        "colab": {
          "base_uri": "https://localhost:8080/"
        },
        "id": "wL5wnul-toRb",
        "outputId": "34c514cf-4cc0-4a4c-83fe-75c87a5934be"
      },
      "execution_count": 48,
      "outputs": [
        {
          "output_type": "execute_result",
          "data": {
            "text/plain": [
              "(67549, 71)"
            ]
          },
          "metadata": {},
          "execution_count": 48
        }
      ]
    },
    {
      "cell_type": "markdown",
      "source": [
        "# general_inspection"
      ],
      "metadata": {
        "id": "LskQG2JCv7_T"
      }
    },
    {
      "cell_type": "code",
      "source": [
        "my_df['general_inspection'].unique()"
      ],
      "metadata": {
        "colab": {
          "base_uri": "https://localhost:8080/"
        },
        "id": "0BLX76c3vBdE",
        "outputId": "427ba017-308c-496a-951f-5baea2d7e50a"
      },
      "execution_count": 49,
      "outputs": [
        {
          "output_type": "execute_result",
          "data": {
            "text/plain": [
              "array(['05/2022', None, '03/2022', 'New', '04/2022', '11/2023', '07/2022',\n",
              "       '12/2022', '06/2022', '08/2022', '01/2022', '02/2023', '09/2022',\n",
              "       '12/2021', '05/2023', '10/2022', '07/2023', '11/2022', '01/2023',\n",
              "       '06/2023', '04/2023', '02/2022', '10/2023', '02/2025', '08/2023',\n",
              "       '09/2021', '09/2023', '11/2021', '05/2025', '02/2024', '05/2024',\n",
              "       '06/2024', '12/2023', '03/2025', '06/2025', '03/2023', '07/2024',\n",
              "       '09/2024', '04/2025', '10/2021', '04/2024', '03/2024', '01/2024',\n",
              "       '08/2024', '05/2021', '12/2024', '10/2025', '09/2025', '08/2025',\n",
              "       '10/2024', '06/2021', '08/2021', '11/2020', '07/2021', '09/2020',\n",
              "       '12/2020', '06/2019', '11/2024', '08/2018', '11/2025', '12/2025',\n",
              "       '01/2025', '07/2025', '01/2026', '04/2021', '04/2019', '01/2021',\n",
              "       '09/2017', '02/2021', '03/2020', '11/2014', '11/2019', '08/2020',\n",
              "       '04/2026', '09/2019', '01/2020', '12/2017', '07/2020', '11/2017',\n",
              "       '12/2016', '06/2020', '03/2021', '07/2019', '10/2020', '11/2016',\n",
              "       '11/2026', '07/2026', '02/2026', '02/2015', '06/2026', '05/2026',\n",
              "       '02/2020', '01/2018', '03/2019', '02/2019', '09/2018', '12/2019'],\n",
              "      dtype=object)"
            ]
          },
          "metadata": {},
          "execution_count": 49
        }
      ]
    },
    {
      "cell_type": "code",
      "source": [
        "my_df['general_inspection'].value_counts()"
      ],
      "metadata": {
        "colab": {
          "base_uri": "https://localhost:8080/"
        },
        "id": "8CtqafC8CDrv",
        "outputId": "6fb6c8dc-8f5d-4252-c07c-aa3187987657"
      },
      "execution_count": 50,
      "outputs": [
        {
          "output_type": "execute_result",
          "data": {
            "text/plain": [
              "New        16786\n",
              "06/2022     2326\n",
              "03/2022     2166\n",
              "07/2022     2077\n",
              "05/2022     2028\n",
              "           ...  \n",
              "12/2017        1\n",
              "11/2014        1\n",
              "07/2026        1\n",
              "11/2019        1\n",
              "12/2019        1\n",
              "Name: general_inspection, Length: 96, dtype: int64"
            ]
          },
          "metadata": {},
          "execution_count": 50
        }
      ]
    },
    {
      "cell_type": "code",
      "source": [
        "my_df['general_inspection'] = my_df['general_inspection'].str.replace('New','02/2022')"
      ],
      "metadata": {
        "id": "DJcBjxC0C3b5"
      },
      "execution_count": 51,
      "outputs": []
    },
    {
      "cell_type": "code",
      "source": [
        "my_df['general_inspection'].unique()"
      ],
      "metadata": {
        "colab": {
          "base_uri": "https://localhost:8080/"
        },
        "id": "ycOLNuNXE6v1",
        "outputId": "905510f2-bf76-4ea0-abd7-1ba4773516b1"
      },
      "execution_count": 52,
      "outputs": [
        {
          "output_type": "execute_result",
          "data": {
            "text/plain": [
              "array(['05/2022', None, '03/2022', '02/2022', '04/2022', '11/2023',\n",
              "       '07/2022', '12/2022', '06/2022', '08/2022', '01/2022', '02/2023',\n",
              "       '09/2022', '12/2021', '05/2023', '10/2022', '07/2023', '11/2022',\n",
              "       '01/2023', '06/2023', '04/2023', '10/2023', '02/2025', '08/2023',\n",
              "       '09/2021', '09/2023', '11/2021', '05/2025', '02/2024', '05/2024',\n",
              "       '06/2024', '12/2023', '03/2025', '06/2025', '03/2023', '07/2024',\n",
              "       '09/2024', '04/2025', '10/2021', '04/2024', '03/2024', '01/2024',\n",
              "       '08/2024', '05/2021', '12/2024', '10/2025', '09/2025', '08/2025',\n",
              "       '10/2024', '06/2021', '08/2021', '11/2020', '07/2021', '09/2020',\n",
              "       '12/2020', '06/2019', '11/2024', '08/2018', '11/2025', '12/2025',\n",
              "       '01/2025', '07/2025', '01/2026', '04/2021', '04/2019', '01/2021',\n",
              "       '09/2017', '02/2021', '03/2020', '11/2014', '11/2019', '08/2020',\n",
              "       '04/2026', '09/2019', '01/2020', '12/2017', '07/2020', '11/2017',\n",
              "       '12/2016', '06/2020', '03/2021', '07/2019', '10/2020', '11/2016',\n",
              "       '11/2026', '07/2026', '02/2026', '02/2015', '06/2026', '05/2026',\n",
              "       '02/2020', '01/2018', '03/2019', '02/2019', '09/2018', '12/2019'],\n",
              "      dtype=object)"
            ]
          },
          "metadata": {},
          "execution_count": 52
        }
      ]
    },
    {
      "cell_type": "code",
      "source": [
        "my_df['general_inspection_new'] = (pd.to_datetime(df['general_inspection'],format='%m/%Y',errors='coerce') - pd.Timestamp.now()) < np.timedelta64(6,'M')"
      ],
      "metadata": {
        "id": "2BKzkljWwKqf"
      },
      "execution_count": 53,
      "outputs": []
    },
    {
      "cell_type": "code",
      "source": [
        "my_df['general_inspection_new'] = my_df['general_inspection_new'].apply(lambda x: 1 if x==True else 0)"
      ],
      "metadata": {
        "id": "-cz1VFpl7L5B"
      },
      "execution_count": 54,
      "outputs": []
    },
    {
      "cell_type": "code",
      "source": [
        "my_df.drop(columns = ['general_inspection'],inplace = True)"
      ],
      "metadata": {
        "id": "VK4Zjjj4w2aT"
      },
      "execution_count": 55,
      "outputs": []
    },
    {
      "cell_type": "markdown",
      "source": [
        "# Fuel_consumption"
      ],
      "metadata": {
        "id": "p2q8nkmBLzo-"
      }
    },
    {
      "cell_type": "code",
      "source": [
        "my_df['fuel_consumption']=my_df['fuel_consumption'].str.extract('(\\d*\\.?\\d)')#\\w+.(\\d*) (\\d*.?\\d)\n",
        "my_df['fuel_consumption']"
      ],
      "metadata": {
        "colab": {
          "base_uri": "https://localhost:8080/"
        },
        "id": "wZOZXrQA-ot2",
        "outputId": "b61ef7d8-3375-4ae7-d428-816724c52e69"
      },
      "execution_count": 56,
      "outputs": [
        {
          "output_type": "execute_result",
          "data": {
            "text/plain": [
              "0        NaN\n",
              "1        4.9\n",
              "2          5\n",
              "3          0\n",
              "4        4.8\n",
              "        ... \n",
              "67544    NaN\n",
              "67545    8.9\n",
              "67546    9.1\n",
              "67547    NaN\n",
              "67548    8.4\n",
              "Name: fuel_consumption, Length: 67549, dtype: object"
            ]
          },
          "metadata": {},
          "execution_count": 56
        }
      ]
    },
    {
      "cell_type": "code",
      "source": [
        "my_df['fuel_consumption'] = my_df['fuel_consumption'].apply(pd.to_numeric, errors='ignore')\n",
        "my_df['fuel_consumption'].head()"
      ],
      "metadata": {
        "colab": {
          "base_uri": "https://localhost:8080/"
        },
        "id": "rzCSyaA4_ocf",
        "outputId": "f0043e11-0add-4fd8-f30f-b1005c5758e4"
      },
      "execution_count": 57,
      "outputs": [
        {
          "output_type": "execute_result",
          "data": {
            "text/plain": [
              "0    NaN\n",
              "1    4.9\n",
              "2    5.0\n",
              "3    0.0\n",
              "4    4.8\n",
              "Name: fuel_consumption, dtype: float64"
            ]
          },
          "metadata": {},
          "execution_count": 57
        }
      ]
    },
    {
      "cell_type": "code",
      "source": [
        "indexes = my_df[(my_df['fuel_consumption']<=3) | (my_df['fuel_consumption']>=18)]['fuel_consumption'].index.values\n",
        "my_df['fuel_consumption'][indexes] = None"
      ],
      "metadata": {
        "colab": {
          "base_uri": "https://localhost:8080/"
        },
        "id": "Ta7mYuTAQt1e",
        "outputId": "7d67020b-de7e-4e65-ed7a-8d7ba2f56e12"
      },
      "execution_count": 58,
      "outputs": [
        {
          "output_type": "stream",
          "name": "stderr",
          "text": [
            "/usr/local/lib/python3.7/dist-packages/ipykernel_launcher.py:2: SettingWithCopyWarning: \n",
            "A value is trying to be set on a copy of a slice from a DataFrame\n",
            "\n",
            "See the caveats in the documentation: https://pandas.pydata.org/pandas-docs/stable/user_guide/indexing.html#returning-a-view-versus-a-copy\n",
            "  \n"
          ]
        }
      ]
    },
    {
      "cell_type": "markdown",
      "source": [
        "# extras"
      ],
      "metadata": {
        "id": "BnpwDFYRMgsH"
      }
    },
    {
      "cell_type": "code",
      "source": [
        "my_df['extras'].unique()"
      ],
      "metadata": {
        "id": "2voY5oiNAGiD",
        "colab": {
          "base_uri": "https://localhost:8080/"
        },
        "outputId": "b95b5885-106b-4ea5-bbaf-93bbc68cbd6f"
      },
      "execution_count": 59,
      "outputs": [
        {
          "output_type": "execute_result",
          "data": {
            "text/plain": [
              "array([\"[['Alloy wheels']]\", '[[\\'Alloy wheels (16\")\\']]',\n",
              "       \"[['Alloy wheels', 'Spoiler']]\", ...,\n",
              "       '[[\\'Alloy wheels (17\")\\', \\'Headlight washer system\\', \\'Ski bag\\', \\'Summer tyres\\', \\'Trailer hitch\\', \\'Winter package\\']]',\n",
              "       \"[['Alloy wheels', 'Automatically dimming interior mirror', 'Ski bag', 'Trailer hitch', 'Voice Contro']]\",\n",
              "       \"[['Automatically dimming interior mirror', 'Catalytic Converter', 'Electronic parking brake', 'Headlight washer system', 'Ski bag', 'Trailer hitch']]\"],\n",
              "      dtype=object)"
            ]
          },
          "metadata": {},
          "execution_count": 59
        }
      ]
    },
    {
      "cell_type": "code",
      "source": [
        "my_df['extras'] = my_df['extras'].str.replace('Contro\\'','Control\\'')\n",
        "my_df['extras'] = my_df['extras'].str.replace(',','')\n",
        "my_df['extras'] =  my_df['extras'].str.findall(r'\\'(.+?)\\'')\n",
        "my_df['extras'].head()"
      ],
      "metadata": {
        "colab": {
          "base_uri": "https://localhost:8080/"
        },
        "id": "CdoSrGyJMmzq",
        "outputId": "edb044fc-cadc-4262-9779-ce7a2c5059c0"
      },
      "execution_count": 60,
      "outputs": [
        {
          "output_type": "execute_result",
          "data": {
            "text/plain": [
              "0                                       [Alloy wheels]\n",
              "1                                 [Alloy wheels (16\")]\n",
              "2                              [Alloy wheels, Spoiler]\n",
              "3                                 [Alloy wheels (15\")]\n",
              "4    [Alloy wheels (17\"), Shift paddles, Sport seat...\n",
              "Name: extras, dtype: object"
            ]
          },
          "metadata": {},
          "execution_count": 60
        }
      ]
    },
    {
      "cell_type": "code",
      "source": [
        "values = []\n",
        "for liste in my_df['extras']:\n",
        "  for value in liste:\n",
        "    values.append(value)\n",
        "values = set(values)\n",
        "def boolean_df(item_lists, unique_items):\n",
        "# Create empty dict\n",
        "    bool_dict = {}\n",
        "    # Loop through all the tags\n",
        "    for i, item in enumerate(unique_items):\n",
        "        # Apply boolean mask\n",
        "        bool_dict[item] = item_lists.apply(lambda x: 1 if item in x else 0)\n",
        "    # Return the results as a dataframe\n",
        "    return pd.DataFrame(bool_dict)\n",
        "extras_features = boolean_df(my_df['extras'], values)\n",
        "my_df = pd.concat([my_df,extras_features],axis=1)\n",
        "my_df.drop(columns = ['extras'],inplace = True)\n",
        "my_df.tail()"
      ],
      "metadata": {
        "colab": {
          "base_uri": "https://localhost:8080/",
          "height": 488
        },
        "id": "RnfXHUBHM2Du",
        "outputId": "8a1365b2-cc79-47d8-92b9-b8e606b5de23"
      },
      "execution_count": 61,
      "outputs": [
        {
          "output_type": "execute_result",
          "data": {
            "text/html": [
              "\n",
              "  <div id=\"df-f1461f5c-a697-49c1-8686-be6e0aef22d8\">\n",
              "    <div class=\"colab-df-container\">\n",
              "      <div>\n",
              "<style scoped>\n",
              "    .dataframe tbody tr th:only-of-type {\n",
              "        vertical-align: middle;\n",
              "    }\n",
              "\n",
              "    .dataframe tbody tr th {\n",
              "        vertical-align: top;\n",
              "    }\n",
              "\n",
              "    .dataframe thead th {\n",
              "        text-align: right;\n",
              "    }\n",
              "</style>\n",
              "<table border=\"1\" class=\"dataframe\">\n",
              "  <thead>\n",
              "    <tr style=\"text-align: right;\">\n",
              "      <th></th>\n",
              "      <th>short_description</th>\n",
              "      <th>price</th>\n",
              "      <th>mileage</th>\n",
              "      <th>gearbox</th>\n",
              "      <th>registration</th>\n",
              "      <th>Fuel_Type</th>\n",
              "      <th>power</th>\n",
              "      <th>Seller</th>\n",
              "      <th>body_type</th>\n",
              "      <th>type</th>\n",
              "      <th>...</th>\n",
              "      <th>Alloy wheels (21\")</th>\n",
              "      <th>Emergency tyre repair kit</th>\n",
              "      <th>Right hand drive</th>\n",
              "      <th>Tuned car</th>\n",
              "      <th>Biodiesel conversion</th>\n",
              "      <th>Winter tyres</th>\n",
              "      <th></th>\n",
              "      <th>Alloy wheels</th>\n",
              "      <th>Alloy wheels (19\")</th>\n",
              "      <th>Summer tyres</th>\n",
              "    </tr>\n",
              "  </thead>\n",
              "  <tbody>\n",
              "    <tr>\n",
              "      <th>67544</th>\n",
              "      <td>2.4 Kinetic LPG-G3 NAP/LEER/NAVI/DAK/NW APK</td>\n",
              "      <td>1999.0</td>\n",
              "      <td>['', ['442,713 km']]</td>\n",
              "      <td>\\n,Manual,\\n</td>\n",
              "      <td>02/2005</td>\n",
              "      <td>\\n,LPG,\\n</td>\n",
              "      <td>103 kW (140 hp),</td>\n",
              "      <td>Dealer</td>\n",
              "      <td>\\n,Sedan,\\n</td>\n",
              "      <td>\\n,Used,\\n</td>\n",
              "      <td>...</td>\n",
              "      <td>0</td>\n",
              "      <td>0</td>\n",
              "      <td>0</td>\n",
              "      <td>0</td>\n",
              "      <td>0</td>\n",
              "      <td>0</td>\n",
              "      <td>0</td>\n",
              "      <td>0</td>\n",
              "      <td>0</td>\n",
              "      <td>0</td>\n",
              "    </tr>\n",
              "    <tr>\n",
              "      <th>67545</th>\n",
              "      <td>2.4 CNG |LPG |Hangeschakeld | Vol Leder</td>\n",
              "      <td>3950.0</td>\n",
              "      <td>['', ['251,723 km']]</td>\n",
              "      <td>\\n,Manual,\\n</td>\n",
              "      <td>10/2005</td>\n",
              "      <td>\\n,CNG,\\n</td>\n",
              "      <td>103 kW (140 hp),</td>\n",
              "      <td>Dealer</td>\n",
              "      <td>\\n,Sedan,\\n</td>\n",
              "      <td>\\n,Used,\\n</td>\n",
              "      <td>...</td>\n",
              "      <td>0</td>\n",
              "      <td>0</td>\n",
              "      <td>0</td>\n",
              "      <td>0</td>\n",
              "      <td>0</td>\n",
              "      <td>0</td>\n",
              "      <td>0</td>\n",
              "      <td>0</td>\n",
              "      <td>0</td>\n",
              "      <td>0</td>\n",
              "    </tr>\n",
              "    <tr>\n",
              "      <th>67546</th>\n",
              "      <td>2.0T Edition,1e Eigenaar,LPG G3,Onderbouw,Navi...</td>\n",
              "      <td>3449.0</td>\n",
              "      <td>['', ['340,257 km']]</td>\n",
              "      <td>\\n,Manual,\\n</td>\n",
              "      <td>08/2004</td>\n",
              "      <td>\\n,LPG,\\n</td>\n",
              "      <td>132 kW (179 hp),</td>\n",
              "      <td>Dealer</td>\n",
              "      <td>\\n,Sedan,\\n</td>\n",
              "      <td>\\n,Used,\\n</td>\n",
              "      <td>...</td>\n",
              "      <td>0</td>\n",
              "      <td>0</td>\n",
              "      <td>0</td>\n",
              "      <td>0</td>\n",
              "      <td>0</td>\n",
              "      <td>0</td>\n",
              "      <td>0</td>\n",
              "      <td>0</td>\n",
              "      <td>0</td>\n",
              "      <td>0</td>\n",
              "    </tr>\n",
              "    <tr>\n",
              "      <th>67547</th>\n",
              "      <td>2.4</td>\n",
              "      <td>1650.0</td>\n",
              "      <td>['', ['399,990 km']]</td>\n",
              "      <td>\\n,Manual,\\n</td>\n",
              "      <td>01/2004</td>\n",
              "      <td>\\n,LPG,\\n</td>\n",
              "      <td>103 kW (140 hp),</td>\n",
              "      <td>Private seller</td>\n",
              "      <td>\\n,Sedan,\\n</td>\n",
              "      <td>\\n,Used,\\n</td>\n",
              "      <td>...</td>\n",
              "      <td>0</td>\n",
              "      <td>0</td>\n",
              "      <td>0</td>\n",
              "      <td>0</td>\n",
              "      <td>0</td>\n",
              "      <td>0</td>\n",
              "      <td>0</td>\n",
              "      <td>0</td>\n",
              "      <td>0</td>\n",
              "      <td>0</td>\n",
              "    </tr>\n",
              "    <tr>\n",
              "      <th>67548</th>\n",
              "      <td>2.4 Airco, Cruise Control, Stuurbekrachtiging</td>\n",
              "      <td>944.0</td>\n",
              "      <td>['', ['404,758 km']]</td>\n",
              "      <td>\\n,Manual,\\n</td>\n",
              "      <td>09/2001</td>\n",
              "      <td>\\n,LPG,\\n</td>\n",
              "      <td>104 kW (141 hp),</td>\n",
              "      <td>Dealer</td>\n",
              "      <td>\\n,Sedan,\\n</td>\n",
              "      <td>\\n,Used,\\n</td>\n",
              "      <td>...</td>\n",
              "      <td>0</td>\n",
              "      <td>0</td>\n",
              "      <td>0</td>\n",
              "      <td>0</td>\n",
              "      <td>0</td>\n",
              "      <td>0</td>\n",
              "      <td>0</td>\n",
              "      <td>1</td>\n",
              "      <td>0</td>\n",
              "      <td>0</td>\n",
              "    </tr>\n",
              "  </tbody>\n",
              "</table>\n",
              "<p>5 rows × 120 columns</p>\n",
              "</div>\n",
              "      <button class=\"colab-df-convert\" onclick=\"convertToInteractive('df-f1461f5c-a697-49c1-8686-be6e0aef22d8')\"\n",
              "              title=\"Convert this dataframe to an interactive table.\"\n",
              "              style=\"display:none;\">\n",
              "        \n",
              "  <svg xmlns=\"http://www.w3.org/2000/svg\" height=\"24px\"viewBox=\"0 0 24 24\"\n",
              "       width=\"24px\">\n",
              "    <path d=\"M0 0h24v24H0V0z\" fill=\"none\"/>\n",
              "    <path d=\"M18.56 5.44l.94 2.06.94-2.06 2.06-.94-2.06-.94-.94-2.06-.94 2.06-2.06.94zm-11 1L8.5 8.5l.94-2.06 2.06-.94-2.06-.94L8.5 2.5l-.94 2.06-2.06.94zm10 10l.94 2.06.94-2.06 2.06-.94-2.06-.94-.94-2.06-.94 2.06-2.06.94z\"/><path d=\"M17.41 7.96l-1.37-1.37c-.4-.4-.92-.59-1.43-.59-.52 0-1.04.2-1.43.59L10.3 9.45l-7.72 7.72c-.78.78-.78 2.05 0 2.83L4 21.41c.39.39.9.59 1.41.59.51 0 1.02-.2 1.41-.59l7.78-7.78 2.81-2.81c.8-.78.8-2.07 0-2.86zM5.41 20L4 18.59l7.72-7.72 1.47 1.35L5.41 20z\"/>\n",
              "  </svg>\n",
              "      </button>\n",
              "      \n",
              "  <style>\n",
              "    .colab-df-container {\n",
              "      display:flex;\n",
              "      flex-wrap:wrap;\n",
              "      gap: 12px;\n",
              "    }\n",
              "\n",
              "    .colab-df-convert {\n",
              "      background-color: #E8F0FE;\n",
              "      border: none;\n",
              "      border-radius: 50%;\n",
              "      cursor: pointer;\n",
              "      display: none;\n",
              "      fill: #1967D2;\n",
              "      height: 32px;\n",
              "      padding: 0 0 0 0;\n",
              "      width: 32px;\n",
              "    }\n",
              "\n",
              "    .colab-df-convert:hover {\n",
              "      background-color: #E2EBFA;\n",
              "      box-shadow: 0px 1px 2px rgba(60, 64, 67, 0.3), 0px 1px 3px 1px rgba(60, 64, 67, 0.15);\n",
              "      fill: #174EA6;\n",
              "    }\n",
              "\n",
              "    [theme=dark] .colab-df-convert {\n",
              "      background-color: #3B4455;\n",
              "      fill: #D2E3FC;\n",
              "    }\n",
              "\n",
              "    [theme=dark] .colab-df-convert:hover {\n",
              "      background-color: #434B5C;\n",
              "      box-shadow: 0px 1px 3px 1px rgba(0, 0, 0, 0.15);\n",
              "      filter: drop-shadow(0px 1px 2px rgba(0, 0, 0, 0.3));\n",
              "      fill: #FFFFFF;\n",
              "    }\n",
              "  </style>\n",
              "\n",
              "      <script>\n",
              "        const buttonEl =\n",
              "          document.querySelector('#df-f1461f5c-a697-49c1-8686-be6e0aef22d8 button.colab-df-convert');\n",
              "        buttonEl.style.display =\n",
              "          google.colab.kernel.accessAllowed ? 'block' : 'none';\n",
              "\n",
              "        async function convertToInteractive(key) {\n",
              "          const element = document.querySelector('#df-f1461f5c-a697-49c1-8686-be6e0aef22d8');\n",
              "          const dataTable =\n",
              "            await google.colab.kernel.invokeFunction('convertToInteractive',\n",
              "                                                     [key], {});\n",
              "          if (!dataTable) return;\n",
              "\n",
              "          const docLinkHtml = 'Like what you see? Visit the ' +\n",
              "            '<a target=\"_blank\" href=https://colab.research.google.com/notebooks/data_table.ipynb>data table notebook</a>'\n",
              "            + ' to learn more about interactive tables.';\n",
              "          element.innerHTML = '';\n",
              "          dataTable['output_type'] = 'display_data';\n",
              "          await google.colab.output.renderOutput(dataTable, element);\n",
              "          const docLink = document.createElement('div');\n",
              "          docLink.innerHTML = docLinkHtml;\n",
              "          element.appendChild(docLink);\n",
              "        }\n",
              "      </script>\n",
              "    </div>\n",
              "  </div>\n",
              "  "
            ],
            "text/plain": [
              "                                       short_description   price  \\\n",
              "67544        2.4 Kinetic LPG-G3 NAP/LEER/NAVI/DAK/NW APK  1999.0   \n",
              "67545            2.4 CNG |LPG |Hangeschakeld | Vol Leder  3950.0   \n",
              "67546  2.0T Edition,1e Eigenaar,LPG G3,Onderbouw,Navi...  3449.0   \n",
              "67547                                                2.4  1650.0   \n",
              "67548      2.4 Airco, Cruise Control, Stuurbekrachtiging   944.0   \n",
              "\n",
              "                    mileage       gearbox registration  Fuel_Type  \\\n",
              "67544  ['', ['442,713 km']]  \\n,Manual,\\n      02/2005  \\n,LPG,\\n   \n",
              "67545  ['', ['251,723 km']]  \\n,Manual,\\n      10/2005  \\n,CNG,\\n   \n",
              "67546  ['', ['340,257 km']]  \\n,Manual,\\n      08/2004  \\n,LPG,\\n   \n",
              "67547  ['', ['399,990 km']]  \\n,Manual,\\n      01/2004  \\n,LPG,\\n   \n",
              "67548  ['', ['404,758 km']]  \\n,Manual,\\n      09/2001  \\n,LPG,\\n   \n",
              "\n",
              "                  power          Seller    body_type        type  ...  \\\n",
              "67544  103 kW (140 hp),          Dealer  \\n,Sedan,\\n  \\n,Used,\\n  ...   \n",
              "67545  103 kW (140 hp),          Dealer  \\n,Sedan,\\n  \\n,Used,\\n  ...   \n",
              "67546  132 kW (179 hp),          Dealer  \\n,Sedan,\\n  \\n,Used,\\n  ...   \n",
              "67547  103 kW (140 hp),  Private seller  \\n,Sedan,\\n  \\n,Used,\\n  ...   \n",
              "67548  104 kW (141 hp),          Dealer  \\n,Sedan,\\n  \\n,Used,\\n  ...   \n",
              "\n",
              "      Alloy wheels (21\") Emergency tyre repair kit  Right hand drive  \\\n",
              "67544                  0                         0                 0   \n",
              "67545                  0                         0                 0   \n",
              "67546                  0                         0                 0   \n",
              "67547                  0                         0                 0   \n",
              "67548                  0                         0                 0   \n",
              "\n",
              "       Tuned car Biodiesel conversion Winter tyres    Alloy wheels  \\\n",
              "67544          0                    0            0  0            0   \n",
              "67545          0                    0            0  0            0   \n",
              "67546          0                    0            0  0            0   \n",
              "67547          0                    0            0  0            0   \n",
              "67548          0                    0            0  0            1   \n",
              "\n",
              "      Alloy wheels (19\") Summer tyres  \n",
              "67544                  0            0  \n",
              "67545                  0            0  \n",
              "67546                  0            0  \n",
              "67547                  0            0  \n",
              "67548                  0            0  \n",
              "\n",
              "[5 rows x 120 columns]"
            ]
          },
          "metadata": {},
          "execution_count": 61
        }
      ]
    },
    {
      "cell_type": "code",
      "source": [
        "def removing_column(df,threshold=0.005):\n",
        "  return df.columns[(df.sum()/df.shape[0])<threshold]\n",
        "removing_column(extras_features)\n",
        "my_df.drop(columns = removing_column(extras_features), inplace = True)"
      ],
      "metadata": {
        "id": "66zDWeLNeFT4"
      },
      "execution_count": 62,
      "outputs": []
    },
    {
      "cell_type": "markdown",
      "source": [
        "# co2_emissions"
      ],
      "metadata": {
        "id": "Av7yAnbZNQs2"
      }
    },
    {
      "cell_type": "code",
      "source": [
        "my_df['co2_emissions'] = my_df['co2_emissions'].str.extract('(\\d+)')\n",
        "my_df['co2_emissions'].head()"
      ],
      "metadata": {
        "colab": {
          "base_uri": "https://localhost:8080/"
        },
        "id": "J6lUCgK2NNvZ",
        "outputId": "9d93e913-5972-4ca3-f3b1-2f573551bc55"
      },
      "execution_count": 63,
      "outputs": [
        {
          "output_type": "execute_result",
          "data": {
            "text/plain": [
              "0    NaN\n",
              "1    NaN\n",
              "2    116\n",
              "3    NaN\n",
              "4    111\n",
              "Name: co2_emissions, dtype: object"
            ]
          },
          "metadata": {},
          "execution_count": 63
        }
      ]
    },
    {
      "cell_type": "code",
      "source": [
        "my_df['co2_emissions'] = my_df['co2_emissions'].apply(pd.to_numeric, errors='ignore')"
      ],
      "metadata": {
        "id": "OUMU3CqcNYef"
      },
      "execution_count": 64,
      "outputs": []
    },
    {
      "cell_type": "markdown",
      "source": [
        "# power"
      ],
      "metadata": {
        "id": "qr1HAg4rOA5T"
      }
    },
    {
      "cell_type": "code",
      "source": [
        "my_df['power'] = my_df['power'].str.extract('(^\\d*.?\\d)')\n",
        "my_df['power'] = my_df['power'].apply(pd.to_numeric, errors='ignore')\n",
        "my_df['power'].head()"
      ],
      "metadata": {
        "colab": {
          "base_uri": "https://localhost:8080/"
        },
        "id": "fLvtGgoKN0SW",
        "outputId": "fb0c4952-160b-418e-8a9c-eb69787e20c9"
      },
      "execution_count": 65,
      "outputs": [
        {
          "output_type": "execute_result",
          "data": {
            "text/plain": [
              "0    110\n",
              "1     92\n",
              "2     90\n",
              "3     92\n",
              "4     92\n",
              "Name: power, dtype: object"
            ]
          },
          "metadata": {},
          "execution_count": 65
        }
      ]
    },
    {
      "cell_type": "markdown",
      "source": [
        "# body_type"
      ],
      "metadata": {
        "id": "bxotORHlOW9P"
      }
    },
    {
      "cell_type": "code",
      "source": [
        "my_df['body_type'] = my_df['body_type'].str.replace('\\n','').str.replace(',','')\n",
        "my_df['body_type'].head()"
      ],
      "metadata": {
        "colab": {
          "base_uri": "https://localhost:8080/"
        },
        "id": "m4HxCZWlOL8Y",
        "outputId": "9c245c44-5ae9-4b78-f132-2966f0f0d1c7"
      },
      "execution_count": 66,
      "outputs": [
        {
          "output_type": "execute_result",
          "data": {
            "text/plain": [
              "0    Compact\n",
              "1    Compact\n",
              "2    Compact\n",
              "3    Compact\n",
              "4    Compact\n",
              "Name: body_type, dtype: object"
            ]
          },
          "metadata": {},
          "execution_count": 66
        }
      ]
    },
    {
      "cell_type": "code",
      "source": [
        "my_df['body_type'].unique()"
      ],
      "metadata": {
        "colab": {
          "base_uri": "https://localhost:8080/"
        },
        "id": "Qv_nFCPGOcLm",
        "outputId": "dafbf263-d9e9-4214-d9bb-ceba10ffb04e"
      },
      "execution_count": 67,
      "outputs": [
        {
          "output_type": "execute_result",
          "data": {
            "text/plain": [
              "array(['Compact', None, 'Convertible', 'Coupe', 'Off-Road/Pick-up',\n",
              "       'Station wagon', 'Sedan', 'Other', 'Van', 'Transporter'],\n",
              "      dtype=object)"
            ]
          },
          "metadata": {},
          "execution_count": 67
        }
      ]
    },
    {
      "cell_type": "markdown",
      "source": [
        "# type"
      ],
      "metadata": {
        "id": "legQwUS7Oh8R"
      }
    },
    {
      "cell_type": "code",
      "source": [
        "my_df['type'] = my_df['type'].str.replace('\\n','').str.replace(',','')"
      ],
      "metadata": {
        "id": "TE1BfLxIOemA"
      },
      "execution_count": 68,
      "outputs": []
    },
    {
      "cell_type": "code",
      "source": [
        "my_df['type'] = my_df['type'].replace('Antique / Classic','Classic')\n",
        "my_df['type'].unique()"
      ],
      "metadata": {
        "colab": {
          "base_uri": "https://localhost:8080/"
        },
        "id": "nOjg_c-bOn75",
        "outputId": "c820cf63-a358-4085-dca1-a23d4cdc74b7"
      },
      "execution_count": 69,
      "outputs": [
        {
          "output_type": "execute_result",
          "data": {
            "text/plain": [
              "array(['Used', None, 'Demonstration', 'Pre-registered', 'New'],\n",
              "      dtype=object)"
            ]
          },
          "metadata": {},
          "execution_count": 69
        }
      ]
    },
    {
      "cell_type": "markdown",
      "source": [
        "# drivetrain"
      ],
      "metadata": {
        "id": "Lh-UzbsHPHOT"
      }
    },
    {
      "cell_type": "code",
      "source": [
        "my_df['drivetrain'] = my_df['drivetrain'].str.replace('\\n','').str.replace(',','')"
      ],
      "metadata": {
        "id": "szwVEa_7PMqc"
      },
      "execution_count": 70,
      "outputs": []
    },
    {
      "cell_type": "code",
      "source": [
        "my_df['drivetrain'].unique()"
      ],
      "metadata": {
        "colab": {
          "base_uri": "https://localhost:8080/"
        },
        "id": "TZUKZmwjPRFi",
        "outputId": "5b6596ec-22a9-4817-cba2-1d4117da6ffb"
      },
      "execution_count": 71,
      "outputs": [
        {
          "output_type": "execute_result",
          "data": {
            "text/plain": [
              "array(['Front', None, '4WD', 'Rear'], dtype=object)"
            ]
          },
          "metadata": {},
          "execution_count": 71
        }
      ]
    },
    {
      "cell_type": "markdown",
      "source": [
        "# seats"
      ],
      "metadata": {
        "id": "nxx-OakVPZ7t"
      }
    },
    {
      "cell_type": "code",
      "source": [
        "my_df['seats'] = my_df['seats'].str.extract(\"(\\d+)\").apply(pd.to_numeric, errors='ignore')"
      ],
      "metadata": {
        "id": "HQG52b2aPRe5"
      },
      "execution_count": 72,
      "outputs": []
    },
    {
      "cell_type": "markdown",
      "source": [
        "# registration"
      ],
      "metadata": {
        "id": "32GAJcVuPscE"
      }
    },
    {
      "cell_type": "markdown",
      "source": [
        "* Since there are two identical registration I dropped this one."
      ],
      "metadata": {
        "id": "dHgG3dFtOawr"
      }
    },
    {
      "cell_type": "code",
      "source": [
        "df[['registration','first_registration']].head()"
      ],
      "metadata": {
        "colab": {
          "base_uri": "https://localhost:8080/",
          "height": 206
        },
        "id": "xOqmVLgtPi06",
        "outputId": "a22156e6-6ff2-4321-aebd-cc2af4e8cace"
      },
      "execution_count": 73,
      "outputs": [
        {
          "output_type": "execute_result",
          "data": {
            "text/html": [
              "\n",
              "  <div id=\"df-3c9a3706-bced-4680-ad97-b22c9e6a667f\">\n",
              "    <div class=\"colab-df-container\">\n",
              "      <div>\n",
              "<style scoped>\n",
              "    .dataframe tbody tr th:only-of-type {\n",
              "        vertical-align: middle;\n",
              "    }\n",
              "\n",
              "    .dataframe tbody tr th {\n",
              "        vertical-align: top;\n",
              "    }\n",
              "\n",
              "    .dataframe thead th {\n",
              "        text-align: right;\n",
              "    }\n",
              "</style>\n",
              "<table border=\"1\" class=\"dataframe\">\n",
              "  <thead>\n",
              "    <tr style=\"text-align: right;\">\n",
              "      <th></th>\n",
              "      <th>registration</th>\n",
              "      <th>first_registration</th>\n",
              "    </tr>\n",
              "  </thead>\n",
              "  <tbody>\n",
              "    <tr>\n",
              "      <th>0</th>\n",
              "      <td>08/2003</td>\n",
              "      <td>08/2003</td>\n",
              "    </tr>\n",
              "    <tr>\n",
              "      <th>1</th>\n",
              "      <td>10/2013</td>\n",
              "      <td>10/2013</td>\n",
              "    </tr>\n",
              "    <tr>\n",
              "      <th>2</th>\n",
              "      <td>05/2013</td>\n",
              "      <td>05/2013</td>\n",
              "    </tr>\n",
              "    <tr>\n",
              "      <th>3</th>\n",
              "      <td>06/2015</td>\n",
              "      <td>06/2015</td>\n",
              "    </tr>\n",
              "    <tr>\n",
              "      <th>4</th>\n",
              "      <td>10/2015</td>\n",
              "      <td>10/2015</td>\n",
              "    </tr>\n",
              "  </tbody>\n",
              "</table>\n",
              "</div>\n",
              "      <button class=\"colab-df-convert\" onclick=\"convertToInteractive('df-3c9a3706-bced-4680-ad97-b22c9e6a667f')\"\n",
              "              title=\"Convert this dataframe to an interactive table.\"\n",
              "              style=\"display:none;\">\n",
              "        \n",
              "  <svg xmlns=\"http://www.w3.org/2000/svg\" height=\"24px\"viewBox=\"0 0 24 24\"\n",
              "       width=\"24px\">\n",
              "    <path d=\"M0 0h24v24H0V0z\" fill=\"none\"/>\n",
              "    <path d=\"M18.56 5.44l.94 2.06.94-2.06 2.06-.94-2.06-.94-.94-2.06-.94 2.06-2.06.94zm-11 1L8.5 8.5l.94-2.06 2.06-.94-2.06-.94L8.5 2.5l-.94 2.06-2.06.94zm10 10l.94 2.06.94-2.06 2.06-.94-2.06-.94-.94-2.06-.94 2.06-2.06.94z\"/><path d=\"M17.41 7.96l-1.37-1.37c-.4-.4-.92-.59-1.43-.59-.52 0-1.04.2-1.43.59L10.3 9.45l-7.72 7.72c-.78.78-.78 2.05 0 2.83L4 21.41c.39.39.9.59 1.41.59.51 0 1.02-.2 1.41-.59l7.78-7.78 2.81-2.81c.8-.78.8-2.07 0-2.86zM5.41 20L4 18.59l7.72-7.72 1.47 1.35L5.41 20z\"/>\n",
              "  </svg>\n",
              "      </button>\n",
              "      \n",
              "  <style>\n",
              "    .colab-df-container {\n",
              "      display:flex;\n",
              "      flex-wrap:wrap;\n",
              "      gap: 12px;\n",
              "    }\n",
              "\n",
              "    .colab-df-convert {\n",
              "      background-color: #E8F0FE;\n",
              "      border: none;\n",
              "      border-radius: 50%;\n",
              "      cursor: pointer;\n",
              "      display: none;\n",
              "      fill: #1967D2;\n",
              "      height: 32px;\n",
              "      padding: 0 0 0 0;\n",
              "      width: 32px;\n",
              "    }\n",
              "\n",
              "    .colab-df-convert:hover {\n",
              "      background-color: #E2EBFA;\n",
              "      box-shadow: 0px 1px 2px rgba(60, 64, 67, 0.3), 0px 1px 3px 1px rgba(60, 64, 67, 0.15);\n",
              "      fill: #174EA6;\n",
              "    }\n",
              "\n",
              "    [theme=dark] .colab-df-convert {\n",
              "      background-color: #3B4455;\n",
              "      fill: #D2E3FC;\n",
              "    }\n",
              "\n",
              "    [theme=dark] .colab-df-convert:hover {\n",
              "      background-color: #434B5C;\n",
              "      box-shadow: 0px 1px 3px 1px rgba(0, 0, 0, 0.15);\n",
              "      filter: drop-shadow(0px 1px 2px rgba(0, 0, 0, 0.3));\n",
              "      fill: #FFFFFF;\n",
              "    }\n",
              "  </style>\n",
              "\n",
              "      <script>\n",
              "        const buttonEl =\n",
              "          document.querySelector('#df-3c9a3706-bced-4680-ad97-b22c9e6a667f button.colab-df-convert');\n",
              "        buttonEl.style.display =\n",
              "          google.colab.kernel.accessAllowed ? 'block' : 'none';\n",
              "\n",
              "        async function convertToInteractive(key) {\n",
              "          const element = document.querySelector('#df-3c9a3706-bced-4680-ad97-b22c9e6a667f');\n",
              "          const dataTable =\n",
              "            await google.colab.kernel.invokeFunction('convertToInteractive',\n",
              "                                                     [key], {});\n",
              "          if (!dataTable) return;\n",
              "\n",
              "          const docLinkHtml = 'Like what you see? Visit the ' +\n",
              "            '<a target=\"_blank\" href=https://colab.research.google.com/notebooks/data_table.ipynb>data table notebook</a>'\n",
              "            + ' to learn more about interactive tables.';\n",
              "          element.innerHTML = '';\n",
              "          dataTable['output_type'] = 'display_data';\n",
              "          await google.colab.output.renderOutput(dataTable, element);\n",
              "          const docLink = document.createElement('div');\n",
              "          docLink.innerHTML = docLinkHtml;\n",
              "          element.appendChild(docLink);\n",
              "        }\n",
              "      </script>\n",
              "    </div>\n",
              "  </div>\n",
              "  "
            ],
            "text/plain": [
              "  registration first_registration\n",
              "0      08/2003            08/2003\n",
              "1      10/2013            10/2013\n",
              "2      05/2013            05/2013\n",
              "3      06/2015            06/2015\n",
              "4      10/2015            10/2015"
            ]
          },
          "metadata": {},
          "execution_count": 73
        }
      ]
    },
    {
      "cell_type": "code",
      "source": [
        "my_df.drop(['registration'], axis =1, inplace =True)"
      ],
      "metadata": {
        "id": "Sg9tv8OjQbn7"
      },
      "execution_count": 74,
      "outputs": []
    },
    {
      "cell_type": "code",
      "source": [
        "my_df[my_df['first_registration_years']<0]"
      ],
      "metadata": {
        "colab": {
          "base_uri": "https://localhost:8080/",
          "height": 157
        },
        "id": "hwuoZSKnP2Zl",
        "outputId": "15dbe193-ba79-47c8-dd4c-ca0c21ed5db4"
      },
      "execution_count": 75,
      "outputs": [
        {
          "output_type": "execute_result",
          "data": {
            "text/html": [
              "\n",
              "  <div id=\"df-ee483cc4-8932-4fcd-933f-7718f61055bc\">\n",
              "    <div class=\"colab-df-container\">\n",
              "      <div>\n",
              "<style scoped>\n",
              "    .dataframe tbody tr th:only-of-type {\n",
              "        vertical-align: middle;\n",
              "    }\n",
              "\n",
              "    .dataframe tbody tr th {\n",
              "        vertical-align: top;\n",
              "    }\n",
              "\n",
              "    .dataframe thead th {\n",
              "        text-align: right;\n",
              "    }\n",
              "</style>\n",
              "<table border=\"1\" class=\"dataframe\">\n",
              "  <thead>\n",
              "    <tr style=\"text-align: right;\">\n",
              "      <th></th>\n",
              "      <th>short_description</th>\n",
              "      <th>price</th>\n",
              "      <th>mileage</th>\n",
              "      <th>gearbox</th>\n",
              "      <th>Fuel_Type</th>\n",
              "      <th>power</th>\n",
              "      <th>Seller</th>\n",
              "      <th>body_type</th>\n",
              "      <th>type</th>\n",
              "      <th>drivetrain</th>\n",
              "      <th>...</th>\n",
              "      <th>Spare tyre</th>\n",
              "      <th>Sport package</th>\n",
              "      <th>Alloy wheels (18\")</th>\n",
              "      <th>Headlight washer system</th>\n",
              "      <th>Alloy wheels (21\")</th>\n",
              "      <th>Emergency tyre repair kit</th>\n",
              "      <th>Winter tyres</th>\n",
              "      <th>Alloy wheels</th>\n",
              "      <th>Alloy wheels (19\")</th>\n",
              "      <th>Summer tyres</th>\n",
              "    </tr>\n",
              "  </thead>\n",
              "  <tbody>\n",
              "  </tbody>\n",
              "</table>\n",
              "<p>0 rows × 102 columns</p>\n",
              "</div>\n",
              "      <button class=\"colab-df-convert\" onclick=\"convertToInteractive('df-ee483cc4-8932-4fcd-933f-7718f61055bc')\"\n",
              "              title=\"Convert this dataframe to an interactive table.\"\n",
              "              style=\"display:none;\">\n",
              "        \n",
              "  <svg xmlns=\"http://www.w3.org/2000/svg\" height=\"24px\"viewBox=\"0 0 24 24\"\n",
              "       width=\"24px\">\n",
              "    <path d=\"M0 0h24v24H0V0z\" fill=\"none\"/>\n",
              "    <path d=\"M18.56 5.44l.94 2.06.94-2.06 2.06-.94-2.06-.94-.94-2.06-.94 2.06-2.06.94zm-11 1L8.5 8.5l.94-2.06 2.06-.94-2.06-.94L8.5 2.5l-.94 2.06-2.06.94zm10 10l.94 2.06.94-2.06 2.06-.94-2.06-.94-.94-2.06-.94 2.06-2.06.94z\"/><path d=\"M17.41 7.96l-1.37-1.37c-.4-.4-.92-.59-1.43-.59-.52 0-1.04.2-1.43.59L10.3 9.45l-7.72 7.72c-.78.78-.78 2.05 0 2.83L4 21.41c.39.39.9.59 1.41.59.51 0 1.02-.2 1.41-.59l7.78-7.78 2.81-2.81c.8-.78.8-2.07 0-2.86zM5.41 20L4 18.59l7.72-7.72 1.47 1.35L5.41 20z\"/>\n",
              "  </svg>\n",
              "      </button>\n",
              "      \n",
              "  <style>\n",
              "    .colab-df-container {\n",
              "      display:flex;\n",
              "      flex-wrap:wrap;\n",
              "      gap: 12px;\n",
              "    }\n",
              "\n",
              "    .colab-df-convert {\n",
              "      background-color: #E8F0FE;\n",
              "      border: none;\n",
              "      border-radius: 50%;\n",
              "      cursor: pointer;\n",
              "      display: none;\n",
              "      fill: #1967D2;\n",
              "      height: 32px;\n",
              "      padding: 0 0 0 0;\n",
              "      width: 32px;\n",
              "    }\n",
              "\n",
              "    .colab-df-convert:hover {\n",
              "      background-color: #E2EBFA;\n",
              "      box-shadow: 0px 1px 2px rgba(60, 64, 67, 0.3), 0px 1px 3px 1px rgba(60, 64, 67, 0.15);\n",
              "      fill: #174EA6;\n",
              "    }\n",
              "\n",
              "    [theme=dark] .colab-df-convert {\n",
              "      background-color: #3B4455;\n",
              "      fill: #D2E3FC;\n",
              "    }\n",
              "\n",
              "    [theme=dark] .colab-df-convert:hover {\n",
              "      background-color: #434B5C;\n",
              "      box-shadow: 0px 1px 3px 1px rgba(0, 0, 0, 0.15);\n",
              "      filter: drop-shadow(0px 1px 2px rgba(0, 0, 0, 0.3));\n",
              "      fill: #FFFFFF;\n",
              "    }\n",
              "  </style>\n",
              "\n",
              "      <script>\n",
              "        const buttonEl =\n",
              "          document.querySelector('#df-ee483cc4-8932-4fcd-933f-7718f61055bc button.colab-df-convert');\n",
              "        buttonEl.style.display =\n",
              "          google.colab.kernel.accessAllowed ? 'block' : 'none';\n",
              "\n",
              "        async function convertToInteractive(key) {\n",
              "          const element = document.querySelector('#df-ee483cc4-8932-4fcd-933f-7718f61055bc');\n",
              "          const dataTable =\n",
              "            await google.colab.kernel.invokeFunction('convertToInteractive',\n",
              "                                                     [key], {});\n",
              "          if (!dataTable) return;\n",
              "\n",
              "          const docLinkHtml = 'Like what you see? Visit the ' +\n",
              "            '<a target=\"_blank\" href=https://colab.research.google.com/notebooks/data_table.ipynb>data table notebook</a>'\n",
              "            + ' to learn more about interactive tables.';\n",
              "          element.innerHTML = '';\n",
              "          dataTable['output_type'] = 'display_data';\n",
              "          await google.colab.output.renderOutput(dataTable, element);\n",
              "          const docLink = document.createElement('div');\n",
              "          docLink.innerHTML = docLinkHtml;\n",
              "          element.appendChild(docLink);\n",
              "        }\n",
              "      </script>\n",
              "    </div>\n",
              "  </div>\n",
              "  "
            ],
            "text/plain": [
              "Empty DataFrame\n",
              "Columns: [short_description, price, mileage, gearbox, Fuel_Type, power, Seller, body_type, type, drivetrain, seats, doors, warranty_months, full_service_history, non_smoker_vehicle, Power, engine_size, Gears, Cylinders, Empty_weight, fuel_consumption, co2_emissions, Entertainment_Media, Safety_Security, Colour, Upholstery, Fold flat passenger seat, Parking assist system sensors rear, Heated steering wheel, Air suspension, Parking assist system camera, 360° camera, Sliding door right, Electrically adjustable seats, Auxiliary heating, Air conditioning, Seat ventilation, Sunroof, Parking assist system self-steering, Navigation system, Wind deflector, Tinted windows, Heads-up display, Sliding door left, Parking assist system sensors front, Electrically heated windshield, Keyless central door lock, Start-stop system, Leather steering wheel, Electric tailgate, Automatic climate control, 2 zones, Rain sensor, Seat heating, Panorama roof, Electrical side mirrors, Split rear seats, Hill Holder, Lumbar support, Automatic climate control, Light sensor, Cruise control, Power windows, Armrest, Electric backseat adjustment, Automatic climate control, 3 zones, Multi-function steering wheel, make-model, first_registration_years, general_inspection_new, Sport seats, Voice Control, Trailer hitch, Cargo barrier, Shift paddles, Alloy wheels (17\"), Winter package, Steel wheels, Alloy wheels (14\"), Alloy wheels (16\"), Alloy wheels (15\"), Ambient lighting, Automatically dimming interior mirror, Spoiler, Ski bag, Catalytic Converter, Alloy wheels (20\"), Emergency tyre, Touch screen, Electronic parking brake, Sport suspension, Roof rack, All season tyres, Spare tyre, Sport package, Alloy wheels (18\"), Headlight washer system, Alloy wheels (21\"), Emergency tyre repair kit, Winter tyres, Alloy wheels, ...]\n",
              "Index: []\n",
              "\n",
              "[0 rows x 102 columns]"
            ]
          },
          "metadata": {},
          "execution_count": 75
        }
      ]
    },
    {
      "cell_type": "markdown",
      "source": [
        "# Gears"
      ],
      "metadata": {
        "id": "aHUkX2GZU04T"
      }
    },
    {
      "cell_type": "code",
      "source": [
        "my_df['Gears'] = my_df.Gears.str.extract(\"(\\d)\")"
      ],
      "metadata": {
        "id": "T8Rk66_0Vebf"
      },
      "execution_count": 76,
      "outputs": []
    },
    {
      "cell_type": "code",
      "source": [
        "my_df['Gears'] = my_df['Gears'].apply(pd.to_numeric, errors='ignore')"
      ],
      "metadata": {
        "id": "Lg_tlJIrU4uF"
      },
      "execution_count": 77,
      "outputs": []
    },
    {
      "cell_type": "code",
      "source": [
        "my_df['Gears'] = my_df.Gears.replace([6.5, 5.5, 7.5, 4.5], [6, 5, 7, 4])"
      ],
      "metadata": {
        "id": "-q0xhnTeCz7n"
      },
      "execution_count": 78,
      "outputs": []
    },
    {
      "cell_type": "markdown",
      "source": [
        "# Cylinders"
      ],
      "metadata": {
        "id": "i4j65j6mVFgk"
      }
    },
    {
      "cell_type": "code",
      "source": [
        "my_df['Cylinders'] = my_df.Cylinders.str.extract(\"(\\d+)\").apply(pd.to_numeric, errors='ignore')"
      ],
      "metadata": {
        "id": "4yRoT6PeU7Pu"
      },
      "execution_count": 79,
      "outputs": []
    },
    {
      "cell_type": "code",
      "source": [
        "my_df['Cylinders'] = my_df.Cylinders.replace([12, 7], 4)"
      ],
      "metadata": {
        "id": "Evcn96PqC3w1"
      },
      "execution_count": 80,
      "outputs": []
    },
    {
      "cell_type": "markdown",
      "source": [
        "# Empty_weight"
      ],
      "metadata": {
        "id": "ojEhscafVPBR"
      }
    },
    {
      "cell_type": "code",
      "source": [
        "my_df['Empty_weight'] = my_df.Empty_weight.str.extract(r\"\\n,(.+?)\\s\")\n",
        "my_df['Empty_weight'] = my_df.Empty_weight.str.replace(',','').apply(pd.to_numeric, errors='ignore')"
      ],
      "metadata": {
        "id": "X6yioaIoVOHf"
      },
      "execution_count": 81,
      "outputs": []
    },
    {
      "cell_type": "code",
      "source": [
        "my_df['Empty_weight'] = my_df.Empty_weight.replace([1,112,180], None)"
      ],
      "metadata": {
        "id": "e-vG1y69tq0a"
      },
      "execution_count": 82,
      "outputs": []
    },
    {
      "cell_type": "markdown",
      "source": [
        "# Fuel_type"
      ],
      "metadata": {
        "id": "syRS2UW9WchK"
      }
    },
    {
      "cell_type": "code",
      "source": [
        "my_df['Fuel_Type'] = my_df['Fuel_Type'].str.extract('(\\w+.\\w+|\\w+)')"
      ],
      "metadata": {
        "id": "BxFythWHWd17"
      },
      "execution_count": 83,
      "outputs": []
    },
    {
      "cell_type": "code",
      "source": [
        "my_df['Fuel_Type'] = my_df.Fuel_Type.replace([\"Electric/Gasoline\", \"Electric/Diesel\", \"Hydrogen\", \"Ethanol\", \"Others\"], [\"Hybrid\", \"Hybrid\", \"Gasoline\", \"Gasoline\", \"Gasoline\"])"
      ],
      "metadata": {
        "id": "XeYK2w-P5soL"
      },
      "execution_count": 84,
      "outputs": []
    },
    {
      "cell_type": "markdown",
      "source": [
        "# Colour"
      ],
      "metadata": {
        "id": "gYvdeSVQWjeT"
      }
    },
    {
      "cell_type": "code",
      "source": [
        "my_df['Colour'] = my_df.Colour.str.extract(\"(\\w{2,10})\")\n",
        "my_df.Colour.unique()"
      ],
      "metadata": {
        "colab": {
          "base_uri": "https://localhost:8080/"
        },
        "id": "GG1BwyaTWgM6",
        "outputId": "1ca12832-ff90-4aa4-d40e-93d5bbf69eea"
      },
      "execution_count": 85,
      "outputs": [
        {
          "output_type": "execute_result",
          "data": {
            "text/plain": [
              "array(['Grey', 'White', 'Black', 'Red', 'Silver', 'Brown', 'Blue',\n",
              "       'Violet', nan, 'Beige', 'Yellow', 'Green', 'Orange', 'Bronze',\n",
              "       'Gold'], dtype=object)"
            ]
          },
          "metadata": {},
          "execution_count": 85
        }
      ]
    },
    {
      "cell_type": "code",
      "source": [
        "my_df['Colour'] = my_df.Colour.replace([\"Gold\", \"Bronze\"], \"Grey\")"
      ],
      "metadata": {
        "id": "ION88YVgDFGW"
      },
      "execution_count": 86,
      "outputs": []
    },
    {
      "cell_type": "markdown",
      "source": [
        "# Upholstery"
      ],
      "metadata": {
        "id": "7Q5DgJ6rDpNz"
      }
    },
    {
      "cell_type": "code",
      "source": [
        "my_df['Upholstery'] = my_df.Upholstery.str.extract('(\\w+\\s\\w+|\\w\\w+)')"
      ],
      "metadata": {
        "id": "M8XH1IeEXG4p"
      },
      "execution_count": 87,
      "outputs": []
    },
    {
      "cell_type": "code",
      "source": [
        "my_df['Upholstery'] = my_df.Upholstery.replace([\"Other\", \"Velour\", \"alcantara\", \"Part leather\", \"Full leather\"], [None, \"Cloth\", \"Part/Full Leather\", \"Part/Full Leather\", \"Part/Full Leather\"])"
      ],
      "metadata": {
        "id": "PgMscpD-DKuk"
      },
      "execution_count": 88,
      "outputs": []
    },
    {
      "cell_type": "markdown",
      "source": [
        "# Safety_Security"
      ],
      "metadata": {
        "id": "ZQZtNSeBDtCP"
      }
    },
    {
      "cell_type": "code",
      "source": [
        "my_df['Safety_Security'] = my_df['Safety_Security'].str.replace('Contro\\'\\]','Control')\n",
        "my_df['Safety_Security'] = my_df['Safety_Security'].str.replace('contro\\'\\]','control')\n",
        "my_df['Safety_Security'] = my_df['Safety_Security'].str.findall(r'\\'(.+?)\\'')"
      ],
      "metadata": {
        "colab": {
          "base_uri": "https://localhost:8080/"
        },
        "id": "1w0Zi8K2XNNZ",
        "outputId": "a59e9358-5040-47eb-b0d3-8d7ac2388c75"
      },
      "execution_count": 89,
      "outputs": [
        {
          "output_type": "stream",
          "name": "stderr",
          "text": [
            "/usr/local/lib/python3.7/dist-packages/ipykernel_launcher.py:1: FutureWarning: The default value of regex will change from True to False in a future version.\n",
            "  \"\"\"Entry point for launching an IPython kernel.\n",
            "/usr/local/lib/python3.7/dist-packages/ipykernel_launcher.py:2: FutureWarning: The default value of regex will change from True to False in a future version.\n",
            "  \n"
          ]
        }
      ]
    },
    {
      "cell_type": "code",
      "source": [
        "values = []\n",
        "for liste in my_df['Safety_Security']:\n",
        "  for value in liste:\n",
        "    values.append(value)\n",
        "values = set(values)\n",
        "def boolean_df(item_lists, unique_items):\n",
        "# Create empty dict\n",
        "    bool_dict = {}\n",
        "    # Loop through all the tags\n",
        "    for i, item in enumerate(unique_items):\n",
        "        # Apply boolean mask\n",
        "        bool_dict[item] = item_lists.apply(lambda x: 1 if item in x else 0)\n",
        "    # Return the results as a dataframe\n",
        "    return pd.DataFrame(bool_dict)\n",
        "Safety_Security = boolean_df(my_df['Safety_Security'], values)\n",
        "my_df = pd.concat([my_df,Safety_Security],axis=1)\n",
        "my_df.drop(columns = ['Safety_Security'],inplace = True)\n",
        "my_df.tail()"
      ],
      "metadata": {
        "colab": {
          "base_uri": "https://localhost:8080/",
          "height": 560
        },
        "id": "VvYKXBhMPmR5",
        "outputId": "4e4dabc4-dff9-4213-d1ad-432d19eff77e"
      },
      "execution_count": 90,
      "outputs": [
        {
          "output_type": "execute_result",
          "data": {
            "text/html": [
              "\n",
              "  <div id=\"df-533ddc4d-139b-439b-8955-4ea73715455d\">\n",
              "    <div class=\"colab-df-container\">\n",
              "      <div>\n",
              "<style scoped>\n",
              "    .dataframe tbody tr th:only-of-type {\n",
              "        vertical-align: middle;\n",
              "    }\n",
              "\n",
              "    .dataframe tbody tr th {\n",
              "        vertical-align: top;\n",
              "    }\n",
              "\n",
              "    .dataframe thead th {\n",
              "        text-align: right;\n",
              "    }\n",
              "</style>\n",
              "<table border=\"1\" class=\"dataframe\">\n",
              "  <thead>\n",
              "    <tr style=\"text-align: right;\">\n",
              "      <th></th>\n",
              "      <th>short_description</th>\n",
              "      <th>price</th>\n",
              "      <th>mileage</th>\n",
              "      <th>gearbox</th>\n",
              "      <th>Fuel_Type</th>\n",
              "      <th>power</th>\n",
              "      <th>Seller</th>\n",
              "      <th>body_type</th>\n",
              "      <th>type</th>\n",
              "      <th>drivetrain</th>\n",
              "      <th>...</th>\n",
              "      <th>Laser headlights</th>\n",
              "      <th>Xenon headlights</th>\n",
              "      <th>Lane departure warning system</th>\n",
              "      <th>Immobilizer</th>\n",
              "      <th>Emergency brake assistant</th>\n",
              "      <th>Central door lock with remote control</th>\n",
              "      <th>Glare-free high beam headlights</th>\n",
              "      <th>Alarm system</th>\n",
              "      <th>Blind spot monitor</th>\n",
              "      <th>Full-LED headlights</th>\n",
              "    </tr>\n",
              "  </thead>\n",
              "  <tbody>\n",
              "    <tr>\n",
              "      <th>67544</th>\n",
              "      <td>2.4 Kinetic LPG-G3 NAP/LEER/NAVI/DAK/NW APK</td>\n",
              "      <td>1999.0</td>\n",
              "      <td>['', ['442,713 km']]</td>\n",
              "      <td>\\n,Manual,\\n</td>\n",
              "      <td>LPG</td>\n",
              "      <td>103</td>\n",
              "      <td>Dealer</td>\n",
              "      <td>Sedan</td>\n",
              "      <td>Used</td>\n",
              "      <td>Front</td>\n",
              "      <td>...</td>\n",
              "      <td>0</td>\n",
              "      <td>0</td>\n",
              "      <td>0</td>\n",
              "      <td>1</td>\n",
              "      <td>0</td>\n",
              "      <td>1</td>\n",
              "      <td>0</td>\n",
              "      <td>0</td>\n",
              "      <td>0</td>\n",
              "      <td>0</td>\n",
              "    </tr>\n",
              "    <tr>\n",
              "      <th>67545</th>\n",
              "      <td>2.4 CNG |LPG |Hangeschakeld | Vol Leder</td>\n",
              "      <td>3950.0</td>\n",
              "      <td>['', ['251,723 km']]</td>\n",
              "      <td>\\n,Manual,\\n</td>\n",
              "      <td>CNG</td>\n",
              "      <td>103</td>\n",
              "      <td>Dealer</td>\n",
              "      <td>Sedan</td>\n",
              "      <td>Used</td>\n",
              "      <td>Front</td>\n",
              "      <td>...</td>\n",
              "      <td>0</td>\n",
              "      <td>0</td>\n",
              "      <td>0</td>\n",
              "      <td>1</td>\n",
              "      <td>0</td>\n",
              "      <td>1</td>\n",
              "      <td>0</td>\n",
              "      <td>1</td>\n",
              "      <td>0</td>\n",
              "      <td>0</td>\n",
              "    </tr>\n",
              "    <tr>\n",
              "      <th>67546</th>\n",
              "      <td>2.0T Edition,1e Eigenaar,LPG G3,Onderbouw,Navi...</td>\n",
              "      <td>3449.0</td>\n",
              "      <td>['', ['340,257 km']]</td>\n",
              "      <td>\\n,Manual,\\n</td>\n",
              "      <td>LPG</td>\n",
              "      <td>132</td>\n",
              "      <td>Dealer</td>\n",
              "      <td>Sedan</td>\n",
              "      <td>Used</td>\n",
              "      <td>Front</td>\n",
              "      <td>...</td>\n",
              "      <td>0</td>\n",
              "      <td>0</td>\n",
              "      <td>0</td>\n",
              "      <td>1</td>\n",
              "      <td>0</td>\n",
              "      <td>1</td>\n",
              "      <td>0</td>\n",
              "      <td>0</td>\n",
              "      <td>0</td>\n",
              "      <td>0</td>\n",
              "    </tr>\n",
              "    <tr>\n",
              "      <th>67547</th>\n",
              "      <td>2.4</td>\n",
              "      <td>1650.0</td>\n",
              "      <td>['', ['399,990 km']]</td>\n",
              "      <td>\\n,Manual,\\n</td>\n",
              "      <td>LPG</td>\n",
              "      <td>103</td>\n",
              "      <td>Private seller</td>\n",
              "      <td>Sedan</td>\n",
              "      <td>Used</td>\n",
              "      <td>Front</td>\n",
              "      <td>...</td>\n",
              "      <td>0</td>\n",
              "      <td>0</td>\n",
              "      <td>0</td>\n",
              "      <td>0</td>\n",
              "      <td>0</td>\n",
              "      <td>1</td>\n",
              "      <td>0</td>\n",
              "      <td>0</td>\n",
              "      <td>0</td>\n",
              "      <td>0</td>\n",
              "    </tr>\n",
              "    <tr>\n",
              "      <th>67548</th>\n",
              "      <td>2.4 Airco, Cruise Control, Stuurbekrachtiging</td>\n",
              "      <td>944.0</td>\n",
              "      <td>['', ['404,758 km']]</td>\n",
              "      <td>\\n,Manual,\\n</td>\n",
              "      <td>LPG</td>\n",
              "      <td>104</td>\n",
              "      <td>Dealer</td>\n",
              "      <td>Sedan</td>\n",
              "      <td>Used</td>\n",
              "      <td>Front</td>\n",
              "      <td>...</td>\n",
              "      <td>0</td>\n",
              "      <td>0</td>\n",
              "      <td>0</td>\n",
              "      <td>0</td>\n",
              "      <td>0</td>\n",
              "      <td>1</td>\n",
              "      <td>0</td>\n",
              "      <td>1</td>\n",
              "      <td>0</td>\n",
              "      <td>0</td>\n",
              "    </tr>\n",
              "  </tbody>\n",
              "</table>\n",
              "<p>5 rows × 137 columns</p>\n",
              "</div>\n",
              "      <button class=\"colab-df-convert\" onclick=\"convertToInteractive('df-533ddc4d-139b-439b-8955-4ea73715455d')\"\n",
              "              title=\"Convert this dataframe to an interactive table.\"\n",
              "              style=\"display:none;\">\n",
              "        \n",
              "  <svg xmlns=\"http://www.w3.org/2000/svg\" height=\"24px\"viewBox=\"0 0 24 24\"\n",
              "       width=\"24px\">\n",
              "    <path d=\"M0 0h24v24H0V0z\" fill=\"none\"/>\n",
              "    <path d=\"M18.56 5.44l.94 2.06.94-2.06 2.06-.94-2.06-.94-.94-2.06-.94 2.06-2.06.94zm-11 1L8.5 8.5l.94-2.06 2.06-.94-2.06-.94L8.5 2.5l-.94 2.06-2.06.94zm10 10l.94 2.06.94-2.06 2.06-.94-2.06-.94-.94-2.06-.94 2.06-2.06.94z\"/><path d=\"M17.41 7.96l-1.37-1.37c-.4-.4-.92-.59-1.43-.59-.52 0-1.04.2-1.43.59L10.3 9.45l-7.72 7.72c-.78.78-.78 2.05 0 2.83L4 21.41c.39.39.9.59 1.41.59.51 0 1.02-.2 1.41-.59l7.78-7.78 2.81-2.81c.8-.78.8-2.07 0-2.86zM5.41 20L4 18.59l7.72-7.72 1.47 1.35L5.41 20z\"/>\n",
              "  </svg>\n",
              "      </button>\n",
              "      \n",
              "  <style>\n",
              "    .colab-df-container {\n",
              "      display:flex;\n",
              "      flex-wrap:wrap;\n",
              "      gap: 12px;\n",
              "    }\n",
              "\n",
              "    .colab-df-convert {\n",
              "      background-color: #E8F0FE;\n",
              "      border: none;\n",
              "      border-radius: 50%;\n",
              "      cursor: pointer;\n",
              "      display: none;\n",
              "      fill: #1967D2;\n",
              "      height: 32px;\n",
              "      padding: 0 0 0 0;\n",
              "      width: 32px;\n",
              "    }\n",
              "\n",
              "    .colab-df-convert:hover {\n",
              "      background-color: #E2EBFA;\n",
              "      box-shadow: 0px 1px 2px rgba(60, 64, 67, 0.3), 0px 1px 3px 1px rgba(60, 64, 67, 0.15);\n",
              "      fill: #174EA6;\n",
              "    }\n",
              "\n",
              "    [theme=dark] .colab-df-convert {\n",
              "      background-color: #3B4455;\n",
              "      fill: #D2E3FC;\n",
              "    }\n",
              "\n",
              "    [theme=dark] .colab-df-convert:hover {\n",
              "      background-color: #434B5C;\n",
              "      box-shadow: 0px 1px 3px 1px rgba(0, 0, 0, 0.15);\n",
              "      filter: drop-shadow(0px 1px 2px rgba(0, 0, 0, 0.3));\n",
              "      fill: #FFFFFF;\n",
              "    }\n",
              "  </style>\n",
              "\n",
              "      <script>\n",
              "        const buttonEl =\n",
              "          document.querySelector('#df-533ddc4d-139b-439b-8955-4ea73715455d button.colab-df-convert');\n",
              "        buttonEl.style.display =\n",
              "          google.colab.kernel.accessAllowed ? 'block' : 'none';\n",
              "\n",
              "        async function convertToInteractive(key) {\n",
              "          const element = document.querySelector('#df-533ddc4d-139b-439b-8955-4ea73715455d');\n",
              "          const dataTable =\n",
              "            await google.colab.kernel.invokeFunction('convertToInteractive',\n",
              "                                                     [key], {});\n",
              "          if (!dataTable) return;\n",
              "\n",
              "          const docLinkHtml = 'Like what you see? Visit the ' +\n",
              "            '<a target=\"_blank\" href=https://colab.research.google.com/notebooks/data_table.ipynb>data table notebook</a>'\n",
              "            + ' to learn more about interactive tables.';\n",
              "          element.innerHTML = '';\n",
              "          dataTable['output_type'] = 'display_data';\n",
              "          await google.colab.output.renderOutput(dataTable, element);\n",
              "          const docLink = document.createElement('div');\n",
              "          docLink.innerHTML = docLinkHtml;\n",
              "          element.appendChild(docLink);\n",
              "        }\n",
              "      </script>\n",
              "    </div>\n",
              "  </div>\n",
              "  "
            ],
            "text/plain": [
              "                                       short_description   price  \\\n",
              "67544        2.4 Kinetic LPG-G3 NAP/LEER/NAVI/DAK/NW APK  1999.0   \n",
              "67545            2.4 CNG |LPG |Hangeschakeld | Vol Leder  3950.0   \n",
              "67546  2.0T Edition,1e Eigenaar,LPG G3,Onderbouw,Navi...  3449.0   \n",
              "67547                                                2.4  1650.0   \n",
              "67548      2.4 Airco, Cruise Control, Stuurbekrachtiging   944.0   \n",
              "\n",
              "                    mileage       gearbox Fuel_Type power          Seller  \\\n",
              "67544  ['', ['442,713 km']]  \\n,Manual,\\n       LPG   103          Dealer   \n",
              "67545  ['', ['251,723 km']]  \\n,Manual,\\n       CNG   103          Dealer   \n",
              "67546  ['', ['340,257 km']]  \\n,Manual,\\n       LPG   132          Dealer   \n",
              "67547  ['', ['399,990 km']]  \\n,Manual,\\n       LPG   103  Private seller   \n",
              "67548  ['', ['404,758 km']]  \\n,Manual,\\n       LPG   104          Dealer   \n",
              "\n",
              "      body_type  type drivetrain  ...  Laser headlights  Xenon headlights  \\\n",
              "67544     Sedan  Used      Front  ...                 0                 0   \n",
              "67545     Sedan  Used      Front  ...                 0                 0   \n",
              "67546     Sedan  Used      Front  ...                 0                 0   \n",
              "67547     Sedan  Used      Front  ...                 0                 0   \n",
              "67548     Sedan  Used      Front  ...                 0                 0   \n",
              "\n",
              "       Lane departure warning system Immobilizer Emergency brake assistant  \\\n",
              "67544                              0           1                         0   \n",
              "67545                              0           1                         0   \n",
              "67546                              0           1                         0   \n",
              "67547                              0           0                         0   \n",
              "67548                              0           0                         0   \n",
              "\n",
              "      Central door lock with remote control Glare-free high beam headlights  \\\n",
              "67544                                     1                               0   \n",
              "67545                                     1                               0   \n",
              "67546                                     1                               0   \n",
              "67547                                     1                               0   \n",
              "67548                                     1                               0   \n",
              "\n",
              "       Alarm system  Blind spot monitor  Full-LED headlights  \n",
              "67544             0                   0                    0  \n",
              "67545             1                   0                    0  \n",
              "67546             0                   0                    0  \n",
              "67547             0                   0                    0  \n",
              "67548             1                   0                    0  \n",
              "\n",
              "[5 rows x 137 columns]"
            ]
          },
          "metadata": {},
          "execution_count": 90
        }
      ]
    },
    {
      "cell_type": "code",
      "source": [
        "def removing_column(df,threshold=0.005):\n",
        "  print(df.columns[(df.sum()/df.shape[0])<threshold])\n",
        "  return df.columns[(df.sum()/df.shape[0])<threshold]\n",
        "my_df.drop(columns = removing_column(Safety_Security), inplace = True)"
      ],
      "metadata": {
        "colab": {
          "base_uri": "https://localhost:8080/"
        },
        "id": "C8DLwaZch4zT",
        "outputId": "286ed936-e017-4fd1-83f8-092936a50007"
      },
      "execution_count": 91,
      "outputs": [
        {
          "output_type": "stream",
          "name": "stdout",
          "text": [
            "Index(['Night view assist', 'Laser headlights'], dtype='object')\n"
          ]
        }
      ]
    },
    {
      "cell_type": "markdown",
      "source": [
        "# Seller"
      ],
      "metadata": {
        "id": "9Zc27-rtD0Q6"
      }
    },
    {
      "cell_type": "code",
      "source": [
        "my_df['Seller'] = my_df.Seller.str.extract('(\\w+\\s\\w+|\\w\\w\\w\\w\\w\\w)')\n",
        "my_df.head()"
      ],
      "metadata": {
        "colab": {
          "base_uri": "https://localhost:8080/",
          "height": 560
        },
        "id": "4KL6w3QCXXXw",
        "outputId": "2d8ee898-ac10-4dc5-a9c7-e6efb0f74c39"
      },
      "execution_count": 92,
      "outputs": [
        {
          "output_type": "execute_result",
          "data": {
            "text/html": [
              "\n",
              "  <div id=\"df-81cff0b7-11e1-4a55-8139-7b2e509662f9\">\n",
              "    <div class=\"colab-df-container\">\n",
              "      <div>\n",
              "<style scoped>\n",
              "    .dataframe tbody tr th:only-of-type {\n",
              "        vertical-align: middle;\n",
              "    }\n",
              "\n",
              "    .dataframe tbody tr th {\n",
              "        vertical-align: top;\n",
              "    }\n",
              "\n",
              "    .dataframe thead th {\n",
              "        text-align: right;\n",
              "    }\n",
              "</style>\n",
              "<table border=\"1\" class=\"dataframe\">\n",
              "  <thead>\n",
              "    <tr style=\"text-align: right;\">\n",
              "      <th></th>\n",
              "      <th>short_description</th>\n",
              "      <th>price</th>\n",
              "      <th>mileage</th>\n",
              "      <th>gearbox</th>\n",
              "      <th>Fuel_Type</th>\n",
              "      <th>power</th>\n",
              "      <th>Seller</th>\n",
              "      <th>body_type</th>\n",
              "      <th>type</th>\n",
              "      <th>drivetrain</th>\n",
              "      <th>...</th>\n",
              "      <th>Adaptive headlights</th>\n",
              "      <th>Xenon headlights</th>\n",
              "      <th>Lane departure warning system</th>\n",
              "      <th>Immobilizer</th>\n",
              "      <th>Emergency brake assistant</th>\n",
              "      <th>Central door lock with remote control</th>\n",
              "      <th>Glare-free high beam headlights</th>\n",
              "      <th>Alarm system</th>\n",
              "      <th>Blind spot monitor</th>\n",
              "      <th>Full-LED headlights</th>\n",
              "    </tr>\n",
              "  </thead>\n",
              "  <tbody>\n",
              "    <tr>\n",
              "      <th>0</th>\n",
              "      <td>2.0 FSI Ambition Pro Line</td>\n",
              "      <td>4450.0</td>\n",
              "      <td>['', ['191,066 km']]</td>\n",
              "      <td>\\n,Automatic,\\n</td>\n",
              "      <td>Gasoline</td>\n",
              "      <td>110</td>\n",
              "      <td>Dealer</td>\n",
              "      <td>Compact</td>\n",
              "      <td>Used</td>\n",
              "      <td>Front</td>\n",
              "      <td>...</td>\n",
              "      <td>0</td>\n",
              "      <td>0</td>\n",
              "      <td>0</td>\n",
              "      <td>1</td>\n",
              "      <td>0</td>\n",
              "      <td>1</td>\n",
              "      <td>0</td>\n",
              "      <td>1</td>\n",
              "      <td>0</td>\n",
              "      <td>0</td>\n",
              "    </tr>\n",
              "    <tr>\n",
              "      <th>1</th>\n",
              "      <td>Sportback 1.4 TFSI Ambiente/ECC/PDC//Lichtmeta...</td>\n",
              "      <td>12950.0</td>\n",
              "      <td>['', ['94,758 km']]</td>\n",
              "      <td>\\n,Automatic,\\n</td>\n",
              "      <td>Gasoline</td>\n",
              "      <td>92</td>\n",
              "      <td>Dealer</td>\n",
              "      <td>Compact</td>\n",
              "      <td>Used</td>\n",
              "      <td>Front</td>\n",
              "      <td>...</td>\n",
              "      <td>0</td>\n",
              "      <td>0</td>\n",
              "      <td>0</td>\n",
              "      <td>1</td>\n",
              "      <td>0</td>\n",
              "      <td>1</td>\n",
              "      <td>0</td>\n",
              "      <td>1</td>\n",
              "      <td>0</td>\n",
              "      <td>0</td>\n",
              "    </tr>\n",
              "    <tr>\n",
              "      <th>2</th>\n",
              "      <td>1.4 TFSI Attraction Pro Line [ Navi Airco Crui...</td>\n",
              "      <td>12445.0</td>\n",
              "      <td>['', ['160,883 km']]</td>\n",
              "      <td>\\n,Automatic,\\n</td>\n",
              "      <td>Gasoline</td>\n",
              "      <td>90</td>\n",
              "      <td>Dealer</td>\n",
              "      <td>Compact</td>\n",
              "      <td>Used</td>\n",
              "      <td>None</td>\n",
              "      <td>...</td>\n",
              "      <td>0</td>\n",
              "      <td>0</td>\n",
              "      <td>0</td>\n",
              "      <td>1</td>\n",
              "      <td>0</td>\n",
              "      <td>1</td>\n",
              "      <td>0</td>\n",
              "      <td>0</td>\n",
              "      <td>0</td>\n",
              "      <td>0</td>\n",
              "    </tr>\n",
              "    <tr>\n",
              "      <th>3</th>\n",
              "      <td>1.4 TFSI Sportback Pro-Line Aut. S-Tronic Navi.</td>\n",
              "      <td>12450.0</td>\n",
              "      <td>['', ['145,102 km']]</td>\n",
              "      <td>\\n,Automatic,\\n</td>\n",
              "      <td>Gasoline</td>\n",
              "      <td>92</td>\n",
              "      <td>Dealer</td>\n",
              "      <td>Compact</td>\n",
              "      <td>Used</td>\n",
              "      <td>None</td>\n",
              "      <td>...</td>\n",
              "      <td>0</td>\n",
              "      <td>0</td>\n",
              "      <td>0</td>\n",
              "      <td>1</td>\n",
              "      <td>0</td>\n",
              "      <td>1</td>\n",
              "      <td>0</td>\n",
              "      <td>0</td>\n",
              "      <td>0</td>\n",
              "      <td>0</td>\n",
              "    </tr>\n",
              "    <tr>\n",
              "      <th>4</th>\n",
              "      <td>S-Line | Automaat | Navigatie | Cruise-/Climat...</td>\n",
              "      <td>14945.0</td>\n",
              "      <td>['', ['119,666 km']]</td>\n",
              "      <td>\\n,Automatic,\\n</td>\n",
              "      <td>Gasoline</td>\n",
              "      <td>92</td>\n",
              "      <td>Dealer</td>\n",
              "      <td>Compact</td>\n",
              "      <td>Used</td>\n",
              "      <td>Front</td>\n",
              "      <td>...</td>\n",
              "      <td>0</td>\n",
              "      <td>1</td>\n",
              "      <td>0</td>\n",
              "      <td>1</td>\n",
              "      <td>0</td>\n",
              "      <td>1</td>\n",
              "      <td>0</td>\n",
              "      <td>1</td>\n",
              "      <td>0</td>\n",
              "      <td>0</td>\n",
              "    </tr>\n",
              "  </tbody>\n",
              "</table>\n",
              "<p>5 rows × 135 columns</p>\n",
              "</div>\n",
              "      <button class=\"colab-df-convert\" onclick=\"convertToInteractive('df-81cff0b7-11e1-4a55-8139-7b2e509662f9')\"\n",
              "              title=\"Convert this dataframe to an interactive table.\"\n",
              "              style=\"display:none;\">\n",
              "        \n",
              "  <svg xmlns=\"http://www.w3.org/2000/svg\" height=\"24px\"viewBox=\"0 0 24 24\"\n",
              "       width=\"24px\">\n",
              "    <path d=\"M0 0h24v24H0V0z\" fill=\"none\"/>\n",
              "    <path d=\"M18.56 5.44l.94 2.06.94-2.06 2.06-.94-2.06-.94-.94-2.06-.94 2.06-2.06.94zm-11 1L8.5 8.5l.94-2.06 2.06-.94-2.06-.94L8.5 2.5l-.94 2.06-2.06.94zm10 10l.94 2.06.94-2.06 2.06-.94-2.06-.94-.94-2.06-.94 2.06-2.06.94z\"/><path d=\"M17.41 7.96l-1.37-1.37c-.4-.4-.92-.59-1.43-.59-.52 0-1.04.2-1.43.59L10.3 9.45l-7.72 7.72c-.78.78-.78 2.05 0 2.83L4 21.41c.39.39.9.59 1.41.59.51 0 1.02-.2 1.41-.59l7.78-7.78 2.81-2.81c.8-.78.8-2.07 0-2.86zM5.41 20L4 18.59l7.72-7.72 1.47 1.35L5.41 20z\"/>\n",
              "  </svg>\n",
              "      </button>\n",
              "      \n",
              "  <style>\n",
              "    .colab-df-container {\n",
              "      display:flex;\n",
              "      flex-wrap:wrap;\n",
              "      gap: 12px;\n",
              "    }\n",
              "\n",
              "    .colab-df-convert {\n",
              "      background-color: #E8F0FE;\n",
              "      border: none;\n",
              "      border-radius: 50%;\n",
              "      cursor: pointer;\n",
              "      display: none;\n",
              "      fill: #1967D2;\n",
              "      height: 32px;\n",
              "      padding: 0 0 0 0;\n",
              "      width: 32px;\n",
              "    }\n",
              "\n",
              "    .colab-df-convert:hover {\n",
              "      background-color: #E2EBFA;\n",
              "      box-shadow: 0px 1px 2px rgba(60, 64, 67, 0.3), 0px 1px 3px 1px rgba(60, 64, 67, 0.15);\n",
              "      fill: #174EA6;\n",
              "    }\n",
              "\n",
              "    [theme=dark] .colab-df-convert {\n",
              "      background-color: #3B4455;\n",
              "      fill: #D2E3FC;\n",
              "    }\n",
              "\n",
              "    [theme=dark] .colab-df-convert:hover {\n",
              "      background-color: #434B5C;\n",
              "      box-shadow: 0px 1px 3px 1px rgba(0, 0, 0, 0.15);\n",
              "      filter: drop-shadow(0px 1px 2px rgba(0, 0, 0, 0.3));\n",
              "      fill: #FFFFFF;\n",
              "    }\n",
              "  </style>\n",
              "\n",
              "      <script>\n",
              "        const buttonEl =\n",
              "          document.querySelector('#df-81cff0b7-11e1-4a55-8139-7b2e509662f9 button.colab-df-convert');\n",
              "        buttonEl.style.display =\n",
              "          google.colab.kernel.accessAllowed ? 'block' : 'none';\n",
              "\n",
              "        async function convertToInteractive(key) {\n",
              "          const element = document.querySelector('#df-81cff0b7-11e1-4a55-8139-7b2e509662f9');\n",
              "          const dataTable =\n",
              "            await google.colab.kernel.invokeFunction('convertToInteractive',\n",
              "                                                     [key], {});\n",
              "          if (!dataTable) return;\n",
              "\n",
              "          const docLinkHtml = 'Like what you see? Visit the ' +\n",
              "            '<a target=\"_blank\" href=https://colab.research.google.com/notebooks/data_table.ipynb>data table notebook</a>'\n",
              "            + ' to learn more about interactive tables.';\n",
              "          element.innerHTML = '';\n",
              "          dataTable['output_type'] = 'display_data';\n",
              "          await google.colab.output.renderOutput(dataTable, element);\n",
              "          const docLink = document.createElement('div');\n",
              "          docLink.innerHTML = docLinkHtml;\n",
              "          element.appendChild(docLink);\n",
              "        }\n",
              "      </script>\n",
              "    </div>\n",
              "  </div>\n",
              "  "
            ],
            "text/plain": [
              "                                   short_description    price  \\\n",
              "0                          2.0 FSI Ambition Pro Line   4450.0   \n",
              "1  Sportback 1.4 TFSI Ambiente/ECC/PDC//Lichtmeta...  12950.0   \n",
              "2  1.4 TFSI Attraction Pro Line [ Navi Airco Crui...  12445.0   \n",
              "3    1.4 TFSI Sportback Pro-Line Aut. S-Tronic Navi.  12450.0   \n",
              "4  S-Line | Automaat | Navigatie | Cruise-/Climat...  14945.0   \n",
              "\n",
              "                mileage          gearbox Fuel_Type power  Seller body_type  \\\n",
              "0  ['', ['191,066 km']]  \\n,Automatic,\\n  Gasoline   110  Dealer   Compact   \n",
              "1   ['', ['94,758 km']]  \\n,Automatic,\\n  Gasoline    92  Dealer   Compact   \n",
              "2  ['', ['160,883 km']]  \\n,Automatic,\\n  Gasoline    90  Dealer   Compact   \n",
              "3  ['', ['145,102 km']]  \\n,Automatic,\\n  Gasoline    92  Dealer   Compact   \n",
              "4  ['', ['119,666 km']]  \\n,Automatic,\\n  Gasoline    92  Dealer   Compact   \n",
              "\n",
              "   type drivetrain  ...  Adaptive headlights  Xenon headlights  \\\n",
              "0  Used      Front  ...                    0                 0   \n",
              "1  Used      Front  ...                    0                 0   \n",
              "2  Used       None  ...                    0                 0   \n",
              "3  Used       None  ...                    0                 0   \n",
              "4  Used      Front  ...                    0                 1   \n",
              "\n",
              "   Lane departure warning system Immobilizer Emergency brake assistant  \\\n",
              "0                              0           1                         0   \n",
              "1                              0           1                         0   \n",
              "2                              0           1                         0   \n",
              "3                              0           1                         0   \n",
              "4                              0           1                         0   \n",
              "\n",
              "  Central door lock with remote control Glare-free high beam headlights  \\\n",
              "0                                     1                               0   \n",
              "1                                     1                               0   \n",
              "2                                     1                               0   \n",
              "3                                     1                               0   \n",
              "4                                     1                               0   \n",
              "\n",
              "   Alarm system  Blind spot monitor  Full-LED headlights  \n",
              "0             1                   0                    0  \n",
              "1             1                   0                    0  \n",
              "2             0                   0                    0  \n",
              "3             0                   0                    0  \n",
              "4             1                   0                    0  \n",
              "\n",
              "[5 rows x 135 columns]"
            ]
          },
          "metadata": {},
          "execution_count": 92
        }
      ]
    },
    {
      "cell_type": "markdown",
      "source": [
        "# short_describtion"
      ],
      "metadata": {
        "id": "BGwcFn3gNulJ"
      }
    },
    {
      "cell_type": "markdown",
      "source": [
        "* The pattern that short_description has unpredictable so I dropped it."
      ],
      "metadata": {
        "id": "SKh5AmBDNyXW"
      }
    },
    {
      "cell_type": "code",
      "source": [
        "my_df.drop(columns = ['short_description'], inplace = True)"
      ],
      "metadata": {
        "id": "-fWcZcapN_GN"
      },
      "execution_count": 93,
      "outputs": []
    },
    {
      "cell_type": "markdown",
      "source": [
        "# Entertainment_Media"
      ],
      "metadata": {
        "id": "LlX0hBmWYVqI"
      }
    },
    {
      "cell_type": "code",
      "source": [
        "my_df[[\"Entertainment_Media\"]].value_counts(dropna = False, normalize = True)"
      ],
      "metadata": {
        "colab": {
          "base_uri": "https://localhost:8080/"
        },
        "id": "DfYErniLYAID",
        "outputId": "81baaf33-a8b2-4eee-d966-fdae828d85af"
      },
      "execution_count": 94,
      "outputs": [
        {
          "output_type": "execute_result",
          "data": {
            "text/plain": [
              "Entertainment_Media                                                                                                                                                                                              \n",
              "[['CD player', 'On-board computer', 'Radio']]                                                                                                                                                                        0.119720\n",
              "[['CD player', 'MP3', 'On-board computer', 'Radio']]                                                                                                                                                                 0.101586\n",
              "[['On-board computer', 'Radio']]                                                                                                                                                                                     0.066352\n",
              "[['CD player', 'Radio']]                                                                                                                                                                                             0.046144\n",
              "[['CD player', 'MP3', 'Radio']]                                                                                                                                                                                      0.045419\n",
              "                                                                                                                                                                                                                       ...   \n",
              "[['Bluetooth', 'Digital radio', 'Hands-free equipment', 'MP3', 'On-board computer', 'Radio', 'USB', 'WLAN / WiFi hotspot']]                                                                                          0.000015\n",
              "[['Android Auto', 'Apple CarPlay', 'Bluetooth', 'Digital radio', 'Hands-free equipment', 'Integrated music streaming', 'On-board computer', 'Radio', 'Sound system', 'USB', 'WLAN / WiFi hotspot']]                  0.000015\n",
              "[['Android Auto', 'Apple CarPlay', 'Bluetooth', 'Digital radio', 'Hands-free equipment', 'Integrated music streaming', 'On-board computer', 'Radio', 'Sound system', 'Television', 'USB', 'WLAN / WiFi hotspot']]    0.000015\n",
              "[['Bluetooth', 'Digital radio', 'Hands-free equipment', 'MP3', 'On-board computer', 'Sound system', 'WLAN / WiFi hotspot']]                                                                                          0.000015\n",
              "[['Bluetooth', 'Integrated music streaming', 'USB']]                                                                                                                                                                 0.000015\n",
              "Length: 1887, dtype: float64"
            ]
          },
          "metadata": {},
          "execution_count": 94
        }
      ]
    },
    {
      "cell_type": "code",
      "source": [
        "#Cleaning unneccessary symbols\n",
        "my_df['Entertainment_Media'] = my_df['Entertainment_Media'].str.findall(r\"\\'(.+?)\\'\")"
      ],
      "metadata": {
        "id": "s_ceTccGaCsM"
      },
      "execution_count": 95,
      "outputs": []
    },
    {
      "cell_type": "code",
      "source": [
        "values = []\n",
        "for liste in my_df['Entertainment_Media']:\n",
        "  for value in liste:\n",
        "    values.append(value)\n",
        "values = set(values)\n",
        "def boolean_df(item_lists, unique_items):\n",
        "# Create empty dict\n",
        "    bool_dict = {}\n",
        "    # Loop through all the tags\n",
        "    for i, item in enumerate(unique_items):\n",
        "        # Apply boolean mask\n",
        "        bool_dict[item] = item_lists.apply(lambda x: 1 if item in x else 0)\n",
        "    # Return the results as a dataframe\n",
        "    return pd.DataFrame(bool_dict)\n",
        "Entertainment_Media = boolean_df(my_df['Entertainment_Media'], values)\n",
        "my_df = pd.concat([my_df,Entertainment_Media],axis=1)\n",
        "my_df.drop(columns = ['Entertainment_Media'],inplace = True)\n",
        "my_df.tail()"
      ],
      "metadata": {
        "colab": {
          "base_uri": "https://localhost:8080/",
          "height": 384
        },
        "id": "9WTX0nBZaE2u",
        "outputId": "8ddc83e9-673a-41c1-e822-6f8d97d9f840"
      },
      "execution_count": 96,
      "outputs": [
        {
          "output_type": "execute_result",
          "data": {
            "text/html": [
              "\n",
              "  <div id=\"df-73d31ac7-2e0a-4052-8ae0-4c964dd33769\">\n",
              "    <div class=\"colab-df-container\">\n",
              "      <div>\n",
              "<style scoped>\n",
              "    .dataframe tbody tr th:only-of-type {\n",
              "        vertical-align: middle;\n",
              "    }\n",
              "\n",
              "    .dataframe tbody tr th {\n",
              "        vertical-align: top;\n",
              "    }\n",
              "\n",
              "    .dataframe thead th {\n",
              "        text-align: right;\n",
              "    }\n",
              "</style>\n",
              "<table border=\"1\" class=\"dataframe\">\n",
              "  <thead>\n",
              "    <tr style=\"text-align: right;\">\n",
              "      <th></th>\n",
              "      <th>price</th>\n",
              "      <th>mileage</th>\n",
              "      <th>gearbox</th>\n",
              "      <th>Fuel_Type</th>\n",
              "      <th>power</th>\n",
              "      <th>Seller</th>\n",
              "      <th>body_type</th>\n",
              "      <th>type</th>\n",
              "      <th>drivetrain</th>\n",
              "      <th>seats</th>\n",
              "      <th>...</th>\n",
              "      <th>Digital cockpit</th>\n",
              "      <th>Hands-free equipment</th>\n",
              "      <th>On-board computer</th>\n",
              "      <th>Sound system</th>\n",
              "      <th>CD player</th>\n",
              "      <th>Apple CarPlay</th>\n",
              "      <th>Television</th>\n",
              "      <th>USB</th>\n",
              "      <th>Android Auto</th>\n",
              "      <th>Bluetooth</th>\n",
              "    </tr>\n",
              "  </thead>\n",
              "  <tbody>\n",
              "    <tr>\n",
              "      <th>67544</th>\n",
              "      <td>1999.0</td>\n",
              "      <td>['', ['442,713 km']]</td>\n",
              "      <td>\\n,Manual,\\n</td>\n",
              "      <td>LPG</td>\n",
              "      <td>103</td>\n",
              "      <td>Dealer</td>\n",
              "      <td>Sedan</td>\n",
              "      <td>Used</td>\n",
              "      <td>Front</td>\n",
              "      <td>5.0</td>\n",
              "      <td>...</td>\n",
              "      <td>0</td>\n",
              "      <td>0</td>\n",
              "      <td>1</td>\n",
              "      <td>0</td>\n",
              "      <td>1</td>\n",
              "      <td>0</td>\n",
              "      <td>0</td>\n",
              "      <td>0</td>\n",
              "      <td>0</td>\n",
              "      <td>0</td>\n",
              "    </tr>\n",
              "    <tr>\n",
              "      <th>67545</th>\n",
              "      <td>3950.0</td>\n",
              "      <td>['', ['251,723 km']]</td>\n",
              "      <td>\\n,Manual,\\n</td>\n",
              "      <td>CNG</td>\n",
              "      <td>103</td>\n",
              "      <td>Dealer</td>\n",
              "      <td>Sedan</td>\n",
              "      <td>Used</td>\n",
              "      <td>Front</td>\n",
              "      <td>5.0</td>\n",
              "      <td>...</td>\n",
              "      <td>0</td>\n",
              "      <td>0</td>\n",
              "      <td>0</td>\n",
              "      <td>0</td>\n",
              "      <td>0</td>\n",
              "      <td>0</td>\n",
              "      <td>0</td>\n",
              "      <td>0</td>\n",
              "      <td>0</td>\n",
              "      <td>0</td>\n",
              "    </tr>\n",
              "    <tr>\n",
              "      <th>67546</th>\n",
              "      <td>3449.0</td>\n",
              "      <td>['', ['340,257 km']]</td>\n",
              "      <td>\\n,Manual,\\n</td>\n",
              "      <td>LPG</td>\n",
              "      <td>132</td>\n",
              "      <td>Dealer</td>\n",
              "      <td>Sedan</td>\n",
              "      <td>Used</td>\n",
              "      <td>Front</td>\n",
              "      <td>5.0</td>\n",
              "      <td>...</td>\n",
              "      <td>0</td>\n",
              "      <td>0</td>\n",
              "      <td>1</td>\n",
              "      <td>0</td>\n",
              "      <td>0</td>\n",
              "      <td>0</td>\n",
              "      <td>0</td>\n",
              "      <td>0</td>\n",
              "      <td>0</td>\n",
              "      <td>0</td>\n",
              "    </tr>\n",
              "    <tr>\n",
              "      <th>67547</th>\n",
              "      <td>1650.0</td>\n",
              "      <td>['', ['399,990 km']]</td>\n",
              "      <td>\\n,Manual,\\n</td>\n",
              "      <td>LPG</td>\n",
              "      <td>103</td>\n",
              "      <td>Private seller</td>\n",
              "      <td>Sedan</td>\n",
              "      <td>Used</td>\n",
              "      <td>Front</td>\n",
              "      <td>5.0</td>\n",
              "      <td>...</td>\n",
              "      <td>0</td>\n",
              "      <td>0</td>\n",
              "      <td>1</td>\n",
              "      <td>0</td>\n",
              "      <td>1</td>\n",
              "      <td>0</td>\n",
              "      <td>0</td>\n",
              "      <td>0</td>\n",
              "      <td>0</td>\n",
              "      <td>0</td>\n",
              "    </tr>\n",
              "    <tr>\n",
              "      <th>67548</th>\n",
              "      <td>944.0</td>\n",
              "      <td>['', ['404,758 km']]</td>\n",
              "      <td>\\n,Manual,\\n</td>\n",
              "      <td>LPG</td>\n",
              "      <td>104</td>\n",
              "      <td>Dealer</td>\n",
              "      <td>Sedan</td>\n",
              "      <td>Used</td>\n",
              "      <td>Front</td>\n",
              "      <td>5.0</td>\n",
              "      <td>...</td>\n",
              "      <td>0</td>\n",
              "      <td>0</td>\n",
              "      <td>1</td>\n",
              "      <td>0</td>\n",
              "      <td>0</td>\n",
              "      <td>0</td>\n",
              "      <td>0</td>\n",
              "      <td>0</td>\n",
              "      <td>0</td>\n",
              "      <td>0</td>\n",
              "    </tr>\n",
              "  </tbody>\n",
              "</table>\n",
              "<p>5 rows × 149 columns</p>\n",
              "</div>\n",
              "      <button class=\"colab-df-convert\" onclick=\"convertToInteractive('df-73d31ac7-2e0a-4052-8ae0-4c964dd33769')\"\n",
              "              title=\"Convert this dataframe to an interactive table.\"\n",
              "              style=\"display:none;\">\n",
              "        \n",
              "  <svg xmlns=\"http://www.w3.org/2000/svg\" height=\"24px\"viewBox=\"0 0 24 24\"\n",
              "       width=\"24px\">\n",
              "    <path d=\"M0 0h24v24H0V0z\" fill=\"none\"/>\n",
              "    <path d=\"M18.56 5.44l.94 2.06.94-2.06 2.06-.94-2.06-.94-.94-2.06-.94 2.06-2.06.94zm-11 1L8.5 8.5l.94-2.06 2.06-.94-2.06-.94L8.5 2.5l-.94 2.06-2.06.94zm10 10l.94 2.06.94-2.06 2.06-.94-2.06-.94-.94-2.06-.94 2.06-2.06.94z\"/><path d=\"M17.41 7.96l-1.37-1.37c-.4-.4-.92-.59-1.43-.59-.52 0-1.04.2-1.43.59L10.3 9.45l-7.72 7.72c-.78.78-.78 2.05 0 2.83L4 21.41c.39.39.9.59 1.41.59.51 0 1.02-.2 1.41-.59l7.78-7.78 2.81-2.81c.8-.78.8-2.07 0-2.86zM5.41 20L4 18.59l7.72-7.72 1.47 1.35L5.41 20z\"/>\n",
              "  </svg>\n",
              "      </button>\n",
              "      \n",
              "  <style>\n",
              "    .colab-df-container {\n",
              "      display:flex;\n",
              "      flex-wrap:wrap;\n",
              "      gap: 12px;\n",
              "    }\n",
              "\n",
              "    .colab-df-convert {\n",
              "      background-color: #E8F0FE;\n",
              "      border: none;\n",
              "      border-radius: 50%;\n",
              "      cursor: pointer;\n",
              "      display: none;\n",
              "      fill: #1967D2;\n",
              "      height: 32px;\n",
              "      padding: 0 0 0 0;\n",
              "      width: 32px;\n",
              "    }\n",
              "\n",
              "    .colab-df-convert:hover {\n",
              "      background-color: #E2EBFA;\n",
              "      box-shadow: 0px 1px 2px rgba(60, 64, 67, 0.3), 0px 1px 3px 1px rgba(60, 64, 67, 0.15);\n",
              "      fill: #174EA6;\n",
              "    }\n",
              "\n",
              "    [theme=dark] .colab-df-convert {\n",
              "      background-color: #3B4455;\n",
              "      fill: #D2E3FC;\n",
              "    }\n",
              "\n",
              "    [theme=dark] .colab-df-convert:hover {\n",
              "      background-color: #434B5C;\n",
              "      box-shadow: 0px 1px 3px 1px rgba(0, 0, 0, 0.15);\n",
              "      filter: drop-shadow(0px 1px 2px rgba(0, 0, 0, 0.3));\n",
              "      fill: #FFFFFF;\n",
              "    }\n",
              "  </style>\n",
              "\n",
              "      <script>\n",
              "        const buttonEl =\n",
              "          document.querySelector('#df-73d31ac7-2e0a-4052-8ae0-4c964dd33769 button.colab-df-convert');\n",
              "        buttonEl.style.display =\n",
              "          google.colab.kernel.accessAllowed ? 'block' : 'none';\n",
              "\n",
              "        async function convertToInteractive(key) {\n",
              "          const element = document.querySelector('#df-73d31ac7-2e0a-4052-8ae0-4c964dd33769');\n",
              "          const dataTable =\n",
              "            await google.colab.kernel.invokeFunction('convertToInteractive',\n",
              "                                                     [key], {});\n",
              "          if (!dataTable) return;\n",
              "\n",
              "          const docLinkHtml = 'Like what you see? Visit the ' +\n",
              "            '<a target=\"_blank\" href=https://colab.research.google.com/notebooks/data_table.ipynb>data table notebook</a>'\n",
              "            + ' to learn more about interactive tables.';\n",
              "          element.innerHTML = '';\n",
              "          dataTable['output_type'] = 'display_data';\n",
              "          await google.colab.output.renderOutput(dataTable, element);\n",
              "          const docLink = document.createElement('div');\n",
              "          docLink.innerHTML = docLinkHtml;\n",
              "          element.appendChild(docLink);\n",
              "        }\n",
              "      </script>\n",
              "    </div>\n",
              "  </div>\n",
              "  "
            ],
            "text/plain": [
              "        price               mileage       gearbox Fuel_Type power  \\\n",
              "67544  1999.0  ['', ['442,713 km']]  \\n,Manual,\\n       LPG   103   \n",
              "67545  3950.0  ['', ['251,723 km']]  \\n,Manual,\\n       CNG   103   \n",
              "67546  3449.0  ['', ['340,257 km']]  \\n,Manual,\\n       LPG   132   \n",
              "67547  1650.0  ['', ['399,990 km']]  \\n,Manual,\\n       LPG   103   \n",
              "67548   944.0  ['', ['404,758 km']]  \\n,Manual,\\n       LPG   104   \n",
              "\n",
              "               Seller body_type  type drivetrain  seats  ...  Digital cockpit  \\\n",
              "67544          Dealer     Sedan  Used      Front    5.0  ...                0   \n",
              "67545          Dealer     Sedan  Used      Front    5.0  ...                0   \n",
              "67546          Dealer     Sedan  Used      Front    5.0  ...                0   \n",
              "67547  Private seller     Sedan  Used      Front    5.0  ...                0   \n",
              "67548          Dealer     Sedan  Used      Front    5.0  ...                0   \n",
              "\n",
              "       Hands-free equipment On-board computer Sound system CD player  \\\n",
              "67544                     0                 1            0         1   \n",
              "67545                     0                 0            0         0   \n",
              "67546                     0                 1            0         0   \n",
              "67547                     0                 1            0         1   \n",
              "67548                     0                 1            0         0   \n",
              "\n",
              "      Apple CarPlay  Television  USB  Android Auto  Bluetooth  \n",
              "67544             0           0    0             0          0  \n",
              "67545             0           0    0             0          0  \n",
              "67546             0           0    0             0          0  \n",
              "67547             0           0    0             0          0  \n",
              "67548             0           0    0             0          0  \n",
              "\n",
              "[5 rows x 149 columns]"
            ]
          },
          "metadata": {},
          "execution_count": 96
        }
      ]
    },
    {
      "cell_type": "code",
      "source": [
        "def removing_column(df,threshold=0.005):\n",
        "  print(df.columns[(df.sum()/df.shape[0])<threshold])\n",
        "  return df.columns[(df.sum()/df.shape[0])<threshold]\n",
        "my_df.drop(columns = removing_column(Entertainment_Media), inplace = True)"
      ],
      "metadata": {
        "colab": {
          "base_uri": "https://localhost:8080/"
        },
        "id": "0NwFEZGzh_CB",
        "outputId": "8280e02d-a258-48df-d5d3-23041ca50915"
      },
      "execution_count": 97,
      "outputs": [
        {
          "output_type": "stream",
          "name": "stdout",
          "text": [
            "Index(['Television'], dtype='object')\n"
          ]
        }
      ]
    },
    {
      "cell_type": "markdown",
      "source": [
        "# mileage"
      ],
      "metadata": {
        "id": "RULULsthdfDe"
      }
    },
    {
      "cell_type": "code",
      "source": [
        "my_df['mileage'] = df['mileage'].str.extract('(\\d+,\\d+|\\d+)')\n",
        "my_df['mileage'] = my_df['mileage'].str.replace(',','')\n",
        "my_df['mileage'] = my_df['mileage'].apply(pd.to_numeric, errors='ignore')"
      ],
      "metadata": {
        "id": "THmZn3WbaSEg"
      },
      "execution_count": 98,
      "outputs": []
    },
    {
      "cell_type": "markdown",
      "source": [
        "# gearbox"
      ],
      "metadata": {
        "id": "RnqTZ-jqdo9l"
      }
    },
    {
      "cell_type": "code",
      "source": [
        "my_df[[\"gearbox\"]].value_counts(dropna = False, normalize = True)"
      ],
      "metadata": {
        "colab": {
          "base_uri": "https://localhost:8080/"
        },
        "id": "3oDmpJfKdniz",
        "outputId": "bb57b40e-aebb-4177-ecc7-f26554a927fe"
      },
      "execution_count": 99,
      "outputs": [
        {
          "output_type": "execute_result",
          "data": {
            "text/plain": [
              "gearbox             \n",
              "\\n,Automatic,\\n         0.578617\n",
              "\\n,Manual,\\n            0.410310\n",
              "\\n,Semi-automatic,\\n    0.009771\n",
              "NaN                     0.001303\n",
              "dtype: float64"
            ]
          },
          "metadata": {},
          "execution_count": 99
        }
      ]
    },
    {
      "cell_type": "code",
      "source": [
        "my_df['gearbox'] = my_df['gearbox'].str.extract(r\"\\,(.+?)\\,\")"
      ],
      "metadata": {
        "id": "IFXIpBkpd32F"
      },
      "execution_count": 100,
      "outputs": []
    },
    {
      "cell_type": "markdown",
      "source": [
        "# full_service_history"
      ],
      "metadata": {
        "id": "fhjTR52td_VR"
      }
    },
    {
      "cell_type": "code",
      "source": [
        "my_df[[\"full_service_history\"]].value_counts(dropna = False, normalize = True)"
      ],
      "metadata": {
        "colab": {
          "base_uri": "https://localhost:8080/"
        },
        "id": "4XHb2xO3d6nu",
        "outputId": "b330f014-51bf-42cd-f6aa-e37b410733d6"
      },
      "execution_count": 101,
      "outputs": [
        {
          "output_type": "execute_result",
          "data": {
            "text/plain": [
              "full_service_history\n",
              "\\n,Yes,\\n               0.687249\n",
              "NaN                     0.312751\n",
              "dtype: float64"
            ]
          },
          "metadata": {},
          "execution_count": 101
        }
      ]
    },
    {
      "cell_type": "code",
      "source": [
        "my_df['full_service_history'] = my_df['full_service_history'].str.extract(r\"\\n,(.+?),\\n\")\n",
        "my_df['full_service_history'].fillna('No', inplace = True)"
      ],
      "metadata": {
        "id": "lAhsH6vBeB_T"
      },
      "execution_count": 102,
      "outputs": []
    },
    {
      "cell_type": "markdown",
      "source": [
        "# non_smoker_vehicle"
      ],
      "metadata": {
        "id": "7dwQk6TMeOaF"
      }
    },
    {
      "cell_type": "code",
      "source": [
        "my_df[[\"non_smoker_vehicle\"]].value_counts(dropna = False, normalize = True)"
      ],
      "metadata": {
        "colab": {
          "base_uri": "https://localhost:8080/"
        },
        "id": "auBjU96weFNW",
        "outputId": "a847fafa-9eef-401c-9032-628fbc688918"
      },
      "execution_count": 103,
      "outputs": [
        {
          "output_type": "execute_result",
          "data": {
            "text/plain": [
              "non_smoker_vehicle\n",
              "NaN                   0.92219\n",
              "\\n,Yes,\\n             0.07781\n",
              "dtype: float64"
            ]
          },
          "metadata": {},
          "execution_count": 103
        }
      ]
    },
    {
      "cell_type": "code",
      "source": [
        "my_df['non_smoker_vehicle'] = my_df.non_smoker_vehicle.str.extract('(\\w{2,3})')\n",
        "my_df['non_smoker_vehicle'].fillna('No', inplace = True)\n",
        "my_df['non_smoker_vehicle'].head()"
      ],
      "metadata": {
        "colab": {
          "base_uri": "https://localhost:8080/"
        },
        "id": "RYVX_dcreWkd",
        "outputId": "159bd358-73f1-4b7b-b05f-d3163b07410a"
      },
      "execution_count": 104,
      "outputs": [
        {
          "output_type": "execute_result",
          "data": {
            "text/plain": [
              "0     No\n",
              "1     No\n",
              "2     No\n",
              "3    Yes\n",
              "4     No\n",
              "Name: non_smoker_vehicle, dtype: object"
            ]
          },
          "metadata": {},
          "execution_count": 104
        }
      ]
    },
    {
      "cell_type": "markdown",
      "source": [
        "# Power"
      ],
      "metadata": {
        "id": "oM0cS4W_ekJL"
      }
    },
    {
      "cell_type": "markdown",
      "source": [
        "* There are 2 namesake 'power' column so I dropped it."
      ],
      "metadata": {
        "id": "xeVOU0IzPc_a"
      }
    },
    {
      "cell_type": "code",
      "source": [
        "my_df[[\"Power\"]].value_counts(dropna = False, normalize = True)"
      ],
      "metadata": {
        "colab": {
          "base_uri": "https://localhost:8080/"
        },
        "id": "W4OFXcY0ebh2",
        "outputId": "4b935bdd-9512-4bbd-dc56-5fef3f5ccc67"
      },
      "execution_count": 105,
      "outputs": [
        {
          "output_type": "execute_result",
          "data": {
            "text/plain": [
              "Power                \n",
              "NaN                      0.087610\n",
              "\\n,110 kW (150 hp),\\n    0.060786\n",
              "\\n,88 kW (120 hp),\\n     0.042147\n",
              "\\n,90 kW (122 hp),\\n     0.036181\n",
              "\\n,100 kW (136 hp),\\n    0.036137\n",
              "                           ...   \n",
              "\\n,357 kW (485 hp),\\n    0.000015\n",
              "\\n,446 kW (606 hp),\\n    0.000015\n",
              "\\n,7 kW (10 hp),\\n       0.000015\n",
              "\\n,306 kW (416 hp),\\n    0.000015\n",
              "\\n,161 kW (219 hp),\\n    0.000015\n",
              "Length: 341, dtype: float64"
            ]
          },
          "metadata": {},
          "execution_count": 105
        }
      ]
    },
    {
      "cell_type": "code",
      "source": [
        "my_df['Power'] = my_df['Power'].str.extract('(\\w{1,4})')\n",
        "my_df['Power'] = my_df['Power'].apply(pd.to_numeric, errors='ignore')\n",
        "my_df['Power'].head()"
      ],
      "metadata": {
        "colab": {
          "base_uri": "https://localhost:8080/"
        },
        "id": "R3LbG8oKemQ3",
        "outputId": "2be36357-5b8c-4d2d-ce61-4d197ce6fff2"
      },
      "execution_count": 106,
      "outputs": [
        {
          "output_type": "execute_result",
          "data": {
            "text/plain": [
              "0    110.0\n",
              "1     92.0\n",
              "2     90.0\n",
              "3     92.0\n",
              "4     92.0\n",
              "Name: Power, dtype: float64"
            ]
          },
          "metadata": {},
          "execution_count": 106
        }
      ]
    },
    {
      "cell_type": "code",
      "source": [
        "my_df.drop(columns = ['power'], inplace = True)"
      ],
      "metadata": {
        "id": "h7981bhD4IPO"
      },
      "execution_count": 107,
      "outputs": []
    },
    {
      "cell_type": "markdown",
      "source": [
        "# engine_size"
      ],
      "metadata": {
        "id": "wxaH6xWge4KA"
      }
    },
    {
      "cell_type": "code",
      "source": [
        "my_df[[\"engine_size\"]].value_counts(dropna = False, normalize = True)"
      ],
      "metadata": {
        "colab": {
          "base_uri": "https://localhost:8080/"
        },
        "id": "MViFOcLGezQ8",
        "outputId": "6a9adb05-baa2-4774-ea04-9b416328fde9"
      },
      "execution_count": 108,
      "outputs": [
        {
          "output_type": "execute_result",
          "data": {
            "text/plain": [
              "engine_size   \n",
              "NaN               0.083806\n",
              "\\n,1,598 cc,\\n    0.071385\n",
              "\\n,1,998 cc,\\n    0.042310\n",
              "\\n,999 cc,\\n      0.037129\n",
              "\\n,1,199 cc,\\n    0.037010\n",
              "                    ...   \n",
              "\\n,3,797 cc,\\n    0.000015\n",
              "\\n,3,791 cc,\\n    0.000015\n",
              "\\n,2,264 cc,\\n    0.000015\n",
              "\\n,2,398 cc,\\n    0.000015\n",
              "\\n,2,397 cc,\\n    0.000015\n",
              "Length: 389, dtype: float64"
            ]
          },
          "metadata": {},
          "execution_count": 108
        }
      ]
    },
    {
      "cell_type": "code",
      "source": [
        "my_df['engine_size'] = my_df.engine_size.str.extract('(\\d+\\,\\d+)')\n",
        "my_df['engine_size'] = my_df.engine_size.str.replace(',','').apply(pd.to_numeric, errors='ignore')"
      ],
      "metadata": {
        "id": "StRifov_e6PI"
      },
      "execution_count": 109,
      "outputs": []
    },
    {
      "cell_type": "code",
      "source": [
        "my_df.drop((my_df[my_df['price'].isnull()].index).values, axis=0, inplace = True)\n",
        "my_df.drop((my_df[(my_df['mileage']<1000) & (my_df['first_registration_years']>2)].index).values, axis = 0, inplace = True)\n",
        "my_df.reset_index(inplace = True, drop = True)"
      ],
      "metadata": {
        "id": "cdHSByhff5Or"
      },
      "execution_count": 110,
      "outputs": []
    },
    {
      "cell_type": "code",
      "source": [
        "miss_df = my_df.copy()\n",
        "miss_df.head()"
      ],
      "metadata": {
        "id": "fgf_rYZFvxuM",
        "colab": {
          "base_uri": "https://localhost:8080/",
          "height": 297
        },
        "outputId": "e751c6b6-5eed-42ff-e6f5-3f0d9d5ab8f1"
      },
      "execution_count": 111,
      "outputs": [
        {
          "output_type": "execute_result",
          "data": {
            "text/html": [
              "\n",
              "  <div id=\"df-9ecd210e-ac55-4caa-a3e0-6d5479135e73\">\n",
              "    <div class=\"colab-df-container\">\n",
              "      <div>\n",
              "<style scoped>\n",
              "    .dataframe tbody tr th:only-of-type {\n",
              "        vertical-align: middle;\n",
              "    }\n",
              "\n",
              "    .dataframe tbody tr th {\n",
              "        vertical-align: top;\n",
              "    }\n",
              "\n",
              "    .dataframe thead th {\n",
              "        text-align: right;\n",
              "    }\n",
              "</style>\n",
              "<table border=\"1\" class=\"dataframe\">\n",
              "  <thead>\n",
              "    <tr style=\"text-align: right;\">\n",
              "      <th></th>\n",
              "      <th>price</th>\n",
              "      <th>mileage</th>\n",
              "      <th>gearbox</th>\n",
              "      <th>Fuel_Type</th>\n",
              "      <th>Seller</th>\n",
              "      <th>body_type</th>\n",
              "      <th>type</th>\n",
              "      <th>drivetrain</th>\n",
              "      <th>seats</th>\n",
              "      <th>doors</th>\n",
              "      <th>...</th>\n",
              "      <th>Induction charging for smartphones</th>\n",
              "      <th>Digital cockpit</th>\n",
              "      <th>Hands-free equipment</th>\n",
              "      <th>On-board computer</th>\n",
              "      <th>Sound system</th>\n",
              "      <th>CD player</th>\n",
              "      <th>Apple CarPlay</th>\n",
              "      <th>USB</th>\n",
              "      <th>Android Auto</th>\n",
              "      <th>Bluetooth</th>\n",
              "    </tr>\n",
              "  </thead>\n",
              "  <tbody>\n",
              "    <tr>\n",
              "      <th>0</th>\n",
              "      <td>4450.0</td>\n",
              "      <td>191066.0</td>\n",
              "      <td>Automatic</td>\n",
              "      <td>Gasoline</td>\n",
              "      <td>Dealer</td>\n",
              "      <td>Compact</td>\n",
              "      <td>Used</td>\n",
              "      <td>Front</td>\n",
              "      <td>5.0</td>\n",
              "      <td>3.0</td>\n",
              "      <td>...</td>\n",
              "      <td>0</td>\n",
              "      <td>0</td>\n",
              "      <td>0</td>\n",
              "      <td>0</td>\n",
              "      <td>0</td>\n",
              "      <td>1</td>\n",
              "      <td>0</td>\n",
              "      <td>0</td>\n",
              "      <td>0</td>\n",
              "      <td>0</td>\n",
              "    </tr>\n",
              "    <tr>\n",
              "      <th>1</th>\n",
              "      <td>12950.0</td>\n",
              "      <td>94758.0</td>\n",
              "      <td>Automatic</td>\n",
              "      <td>Gasoline</td>\n",
              "      <td>Dealer</td>\n",
              "      <td>Compact</td>\n",
              "      <td>Used</td>\n",
              "      <td>Front</td>\n",
              "      <td>5.0</td>\n",
              "      <td>5.0</td>\n",
              "      <td>...</td>\n",
              "      <td>0</td>\n",
              "      <td>0</td>\n",
              "      <td>0</td>\n",
              "      <td>0</td>\n",
              "      <td>0</td>\n",
              "      <td>1</td>\n",
              "      <td>0</td>\n",
              "      <td>0</td>\n",
              "      <td>0</td>\n",
              "      <td>0</td>\n",
              "    </tr>\n",
              "    <tr>\n",
              "      <th>2</th>\n",
              "      <td>12445.0</td>\n",
              "      <td>160883.0</td>\n",
              "      <td>Automatic</td>\n",
              "      <td>Gasoline</td>\n",
              "      <td>Dealer</td>\n",
              "      <td>Compact</td>\n",
              "      <td>Used</td>\n",
              "      <td>None</td>\n",
              "      <td>5.0</td>\n",
              "      <td>5.0</td>\n",
              "      <td>...</td>\n",
              "      <td>0</td>\n",
              "      <td>0</td>\n",
              "      <td>1</td>\n",
              "      <td>1</td>\n",
              "      <td>0</td>\n",
              "      <td>1</td>\n",
              "      <td>0</td>\n",
              "      <td>0</td>\n",
              "      <td>0</td>\n",
              "      <td>1</td>\n",
              "    </tr>\n",
              "    <tr>\n",
              "      <th>3</th>\n",
              "      <td>12450.0</td>\n",
              "      <td>145102.0</td>\n",
              "      <td>Automatic</td>\n",
              "      <td>Gasoline</td>\n",
              "      <td>Dealer</td>\n",
              "      <td>Compact</td>\n",
              "      <td>Used</td>\n",
              "      <td>None</td>\n",
              "      <td>5.0</td>\n",
              "      <td>5.0</td>\n",
              "      <td>...</td>\n",
              "      <td>0</td>\n",
              "      <td>0</td>\n",
              "      <td>0</td>\n",
              "      <td>1</td>\n",
              "      <td>0</td>\n",
              "      <td>1</td>\n",
              "      <td>0</td>\n",
              "      <td>1</td>\n",
              "      <td>0</td>\n",
              "      <td>1</td>\n",
              "    </tr>\n",
              "    <tr>\n",
              "      <th>4</th>\n",
              "      <td>14945.0</td>\n",
              "      <td>119666.0</td>\n",
              "      <td>Automatic</td>\n",
              "      <td>Gasoline</td>\n",
              "      <td>Dealer</td>\n",
              "      <td>Compact</td>\n",
              "      <td>Used</td>\n",
              "      <td>Front</td>\n",
              "      <td>4.0</td>\n",
              "      <td>3.0</td>\n",
              "      <td>...</td>\n",
              "      <td>0</td>\n",
              "      <td>0</td>\n",
              "      <td>0</td>\n",
              "      <td>1</td>\n",
              "      <td>0</td>\n",
              "      <td>1</td>\n",
              "      <td>0</td>\n",
              "      <td>0</td>\n",
              "      <td>0</td>\n",
              "      <td>0</td>\n",
              "    </tr>\n",
              "  </tbody>\n",
              "</table>\n",
              "<p>5 rows × 147 columns</p>\n",
              "</div>\n",
              "      <button class=\"colab-df-convert\" onclick=\"convertToInteractive('df-9ecd210e-ac55-4caa-a3e0-6d5479135e73')\"\n",
              "              title=\"Convert this dataframe to an interactive table.\"\n",
              "              style=\"display:none;\">\n",
              "        \n",
              "  <svg xmlns=\"http://www.w3.org/2000/svg\" height=\"24px\"viewBox=\"0 0 24 24\"\n",
              "       width=\"24px\">\n",
              "    <path d=\"M0 0h24v24H0V0z\" fill=\"none\"/>\n",
              "    <path d=\"M18.56 5.44l.94 2.06.94-2.06 2.06-.94-2.06-.94-.94-2.06-.94 2.06-2.06.94zm-11 1L8.5 8.5l.94-2.06 2.06-.94-2.06-.94L8.5 2.5l-.94 2.06-2.06.94zm10 10l.94 2.06.94-2.06 2.06-.94-2.06-.94-.94-2.06-.94 2.06-2.06.94z\"/><path d=\"M17.41 7.96l-1.37-1.37c-.4-.4-.92-.59-1.43-.59-.52 0-1.04.2-1.43.59L10.3 9.45l-7.72 7.72c-.78.78-.78 2.05 0 2.83L4 21.41c.39.39.9.59 1.41.59.51 0 1.02-.2 1.41-.59l7.78-7.78 2.81-2.81c.8-.78.8-2.07 0-2.86zM5.41 20L4 18.59l7.72-7.72 1.47 1.35L5.41 20z\"/>\n",
              "  </svg>\n",
              "      </button>\n",
              "      \n",
              "  <style>\n",
              "    .colab-df-container {\n",
              "      display:flex;\n",
              "      flex-wrap:wrap;\n",
              "      gap: 12px;\n",
              "    }\n",
              "\n",
              "    .colab-df-convert {\n",
              "      background-color: #E8F0FE;\n",
              "      border: none;\n",
              "      border-radius: 50%;\n",
              "      cursor: pointer;\n",
              "      display: none;\n",
              "      fill: #1967D2;\n",
              "      height: 32px;\n",
              "      padding: 0 0 0 0;\n",
              "      width: 32px;\n",
              "    }\n",
              "\n",
              "    .colab-df-convert:hover {\n",
              "      background-color: #E2EBFA;\n",
              "      box-shadow: 0px 1px 2px rgba(60, 64, 67, 0.3), 0px 1px 3px 1px rgba(60, 64, 67, 0.15);\n",
              "      fill: #174EA6;\n",
              "    }\n",
              "\n",
              "    [theme=dark] .colab-df-convert {\n",
              "      background-color: #3B4455;\n",
              "      fill: #D2E3FC;\n",
              "    }\n",
              "\n",
              "    [theme=dark] .colab-df-convert:hover {\n",
              "      background-color: #434B5C;\n",
              "      box-shadow: 0px 1px 3px 1px rgba(0, 0, 0, 0.15);\n",
              "      filter: drop-shadow(0px 1px 2px rgba(0, 0, 0, 0.3));\n",
              "      fill: #FFFFFF;\n",
              "    }\n",
              "  </style>\n",
              "\n",
              "      <script>\n",
              "        const buttonEl =\n",
              "          document.querySelector('#df-9ecd210e-ac55-4caa-a3e0-6d5479135e73 button.colab-df-convert');\n",
              "        buttonEl.style.display =\n",
              "          google.colab.kernel.accessAllowed ? 'block' : 'none';\n",
              "\n",
              "        async function convertToInteractive(key) {\n",
              "          const element = document.querySelector('#df-9ecd210e-ac55-4caa-a3e0-6d5479135e73');\n",
              "          const dataTable =\n",
              "            await google.colab.kernel.invokeFunction('convertToInteractive',\n",
              "                                                     [key], {});\n",
              "          if (!dataTable) return;\n",
              "\n",
              "          const docLinkHtml = 'Like what you see? Visit the ' +\n",
              "            '<a target=\"_blank\" href=https://colab.research.google.com/notebooks/data_table.ipynb>data table notebook</a>'\n",
              "            + ' to learn more about interactive tables.';\n",
              "          element.innerHTML = '';\n",
              "          dataTable['output_type'] = 'display_data';\n",
              "          await google.colab.output.renderOutput(dataTable, element);\n",
              "          const docLink = document.createElement('div');\n",
              "          docLink.innerHTML = docLinkHtml;\n",
              "          element.appendChild(docLink);\n",
              "        }\n",
              "      </script>\n",
              "    </div>\n",
              "  </div>\n",
              "  "
            ],
            "text/plain": [
              "     price   mileage    gearbox Fuel_Type  Seller body_type  type drivetrain  \\\n",
              "0   4450.0  191066.0  Automatic  Gasoline  Dealer   Compact  Used      Front   \n",
              "1  12950.0   94758.0  Automatic  Gasoline  Dealer   Compact  Used      Front   \n",
              "2  12445.0  160883.0  Automatic  Gasoline  Dealer   Compact  Used       None   \n",
              "3  12450.0  145102.0  Automatic  Gasoline  Dealer   Compact  Used       None   \n",
              "4  14945.0  119666.0  Automatic  Gasoline  Dealer   Compact  Used      Front   \n",
              "\n",
              "   seats  doors  ...  Induction charging for smartphones Digital cockpit  \\\n",
              "0    5.0    3.0  ...                                   0               0   \n",
              "1    5.0    5.0  ...                                   0               0   \n",
              "2    5.0    5.0  ...                                   0               0   \n",
              "3    5.0    5.0  ...                                   0               0   \n",
              "4    4.0    3.0  ...                                   0               0   \n",
              "\n",
              "  Hands-free equipment  On-board computer  Sound system  CD player  \\\n",
              "0                    0                  0             0          1   \n",
              "1                    0                  0             0          1   \n",
              "2                    1                  1             0          1   \n",
              "3                    0                  1             0          1   \n",
              "4                    0                  1             0          1   \n",
              "\n",
              "   Apple CarPlay  USB  Android Auto  Bluetooth  \n",
              "0              0    0             0          0  \n",
              "1              0    0             0          0  \n",
              "2              0    0             0          1  \n",
              "3              0    1             0          1  \n",
              "4              0    0             0          0  \n",
              "\n",
              "[5 rows x 147 columns]"
            ]
          },
          "metadata": {},
          "execution_count": 111
        }
      ]
    },
    {
      "cell_type": "markdown",
      "source": [
        "# Missing Value"
      ],
      "metadata": {
        "id": "WStBXonGz-Oz"
      }
    },
    {
      "cell_type": "code",
      "source": [
        "indexes = miss_df[(miss_df['Fuel_Type']!=\"Electric\")&(miss_df['co2_emissions']==0)]['co2_emissions'].index.values\n",
        "miss_df['co2_emissions'][indexes] = None"
      ],
      "metadata": {
        "id": "bZ9f78nKBZv_",
        "colab": {
          "base_uri": "https://localhost:8080/"
        },
        "outputId": "820c521b-668c-438c-d849-ea5b7632f405"
      },
      "execution_count": 112,
      "outputs": [
        {
          "output_type": "stream",
          "name": "stderr",
          "text": [
            "/usr/local/lib/python3.7/dist-packages/ipykernel_launcher.py:2: SettingWithCopyWarning: \n",
            "A value is trying to be set on a copy of a slice from a DataFrame\n",
            "\n",
            "See the caveats in the documentation: https://pandas.pydata.org/pandas-docs/stable/user_guide/indexing.html#returning-a-view-versus-a-copy\n",
            "  \n"
          ]
        }
      ]
    },
    {
      "cell_type": "code",
      "source": [
        "fry_qcut = miss_df[['first_registration_years']]\n",
        "miss_df['fry_qcut'] = pd.qcut(fry_qcut['first_registration_years'], q = 10)"
      ],
      "metadata": {
        "id": "t7C7aP3OVxzs"
      },
      "execution_count": 113,
      "outputs": []
    },
    {
      "cell_type": "code",
      "source": [
        "ew_qcut = miss_df[['Empty_weight']]\n",
        "miss_df['ew_qcut'] = pd.qcut(ew_qcut['Empty_weight'], q = 10)"
      ],
      "metadata": {
        "id": "r9TpvdZ2bgMY"
      },
      "execution_count": 114,
      "outputs": []
    },
    {
      "cell_type": "code",
      "source": [
        "es_qcut = miss_df[['engine_size']]\n",
        "miss_df['es_qcut'] = pd.qcut(es_qcut['engine_size'], q = 10)"
      ],
      "metadata": {
        "id": "K9Y1aosjcf_1"
      },
      "execution_count": 115,
      "outputs": []
    },
    {
      "cell_type": "code",
      "source": [
        "p_qcut = miss_df[['Power']]\n",
        "miss_df['p_qcut'] = pd.qcut(p_qcut['Power'], q = 10)"
      ],
      "metadata": {
        "id": "bzpxincxdr6P"
      },
      "execution_count": 116,
      "outputs": []
    },
    {
      "cell_type": "code",
      "source": [
        "co_qcut = miss_df[['co2_emissions']]\n",
        "miss_df['co_qcut'] = pd.qcut(co_qcut['co2_emissions'], q = 5)"
      ],
      "metadata": {
        "id": "Y9ItVw5mgDJg"
      },
      "execution_count": 117,
      "outputs": []
    },
    {
      "cell_type": "code",
      "source": [
        "fc_qcut = miss_df[['fuel_consumption']]\n",
        "miss_df['fc_qcut'] = pd.qcut(fc_qcut['fuel_consumption'], q = 10)"
      ],
      "metadata": {
        "id": "SxjHj0sixeQb"
      },
      "execution_count": 118,
      "outputs": []
    },
    {
      "cell_type": "code",
      "source": [
        "m_qcut = miss_df[['mileage']]\n",
        "miss_df['m_qcut'] = pd.qcut(m_qcut['mileage'], q = 20)"
      ],
      "metadata": {
        "id": "YvoN-kCs6Oxe"
      },
      "execution_count": 119,
      "outputs": []
    },
    {
      "cell_type": "code",
      "source": [
        "import missingno as msno\n",
        "msno.bar(miss_df[['price', 'mileage', 'gearbox', 'Fuel_Type', 'Seller', 'body_type',\n",
        "       'type', 'drivetrain', 'seats', 'doors', 'warranty_months',\n",
        "       'full_service_history', 'non_smoker_vehicle', 'Power',\n",
        "       'engine_size', 'Gears', 'Cylinders', 'Empty_weight',\n",
        "       'fuel_consumption', 'co2_emissions', 'Colour', 'Upholstery','make-model', 'first_registration_years', 'general_inspection_new']]);"
      ],
      "metadata": {
        "colab": {
          "base_uri": "https://localhost:8080/",
          "height": 783
        },
        "id": "F5t5vHIuNjjp",
        "outputId": "cd35d1df-4b66-4932-8cb1-6fd87e3865ca"
      },
      "execution_count": 120,
      "outputs": [
        {
          "output_type": "display_data",
          "data": {
            "image/png": "[encoded data removed]",
            "text/plain": [
              "<Figure size 1800x720 with 3 Axes>"
            ]
          },
          "metadata": {
            "needs_background": "light"
          }
        }
      ]
    },
    {
      "cell_type": "code",
      "source": [
        "miss_df[['price', 'mileage', 'gearbox', 'Fuel_Type', 'Seller', 'body_type',\n",
        "       'type', 'drivetrain', 'seats', 'doors', 'warranty_months',\n",
        "       'full_service_history', 'non_smoker_vehicle', 'Power',\n",
        "       'engine_size', 'Gears', 'Cylinders', 'Empty_weight',\n",
        "       'fuel_consumption', 'co2_emissions', 'Colour', 'Upholstery','make-model', 'first_registration_years', 'general_inspection_new']].isnull().sum()"
      ],
      "metadata": {
        "colab": {
          "base_uri": "https://localhost:8080/"
        },
        "id": "moNQVRQHZSLs",
        "outputId": "485e5a41-447a-4a96-b730-504a7505d0f3"
      },
      "execution_count": 121,
      "outputs": [
        {
          "output_type": "execute_result",
          "data": {
            "text/plain": [
              "price                           0\n",
              "mileage                       142\n",
              "gearbox                        87\n",
              "Fuel_Type                       0\n",
              "Seller                          0\n",
              "body_type                     959\n",
              "type                          959\n",
              "drivetrain                  14930\n",
              "seats                        5024\n",
              "doors                        1156\n",
              "warranty_months                 0\n",
              "full_service_history            0\n",
              "non_smoker_vehicle              0\n",
              "Power                        5732\n",
              "engine_size                 10699\n",
              "Gears                       18755\n",
              "Cylinders                    5836\n",
              "Empty_weight                 1426\n",
              "fuel_consumption            20449\n",
              "co2_emissions               22413\n",
              "Colour                       1103\n",
              "Upholstery                  11529\n",
              "make-model                      0\n",
              "first_registration_years       37\n",
              "general_inspection_new          0\n",
              "dtype: int64"
            ]
          },
          "metadata": {},
          "execution_count": 121
        }
      ]
    },
    {
      "cell_type": "code",
      "source": [
        "def fill_most(df, group_col, col_name):\n",
        "    for group in list(df[group_col].unique()):\n",
        "        cond = df[group_col]==group\n",
        "        grp_inx = list(df[cond][col_name].index)\n",
        "        mode = list(df[cond][col_name].mode())\n",
        "        if mode != []:\n",
        "            df[col_name].iloc[grp_inx] = df[col_name].iloc[grp_inx].fillna(df[cond][col_name].mode()[0])\n",
        "        else:\n",
        "            df[col_name].iloc[grp_inx] = df[col_name].iloc[grp_inx].fillna(df[col_name].mode()[0])\n",
        "def fill(df, group_col1, group_col2, col_name, method): # method can be \"mode\" or \"median\" or \"ffill/bfill\"\n",
        "    if method == \"mode\":\n",
        "        for group1 in list(df[group_col1].unique()):\n",
        "            for group2 in list(df[group_col2].unique()):\n",
        "                cond1 = df[group_col1]==group1\n",
        "                cond2 = (df[group_col1]==group1) & (df[group_col2]==group2)\n",
        "                grp_inx = list(df[cond2][col_name].index)\n",
        "                mode1 = list(df[cond1][col_name].mode())\n",
        "                mode2 = list(df[cond2][col_name].mode())\n",
        "                if (mode1 != []) and (mode2 != []):\n",
        "                    df[col_name].iloc[grp_inx] = df[col_name].iloc[grp_inx].fillna(df[cond2][col_name].mode()[0]).fillna(df[cond1][col_name].mode()[0])\n",
        "                elif mode1 != []:\n",
        "                    df[col_name].iloc[grp_inx] = df[col_name].iloc[grp_inx].fillna(df[cond1][col_name].mode()[0])\n",
        "                else:\n",
        "                    df[col_name].iloc[grp_inx] = df[col_name].iloc[grp_inx].fillna(df[col_name].mode()[0])  \n"
      ],
      "metadata": {
        "id": "GBX9HiPTkVvc"
      },
      "execution_count": 122,
      "outputs": []
    },
    {
      "cell_type": "code",
      "source": [
        "fill_most(miss_df,'make-model','body_type')\n",
        "fill_most(miss_df,'make-model','drivetrain')\n",
        "fill_most(miss_df,'make-model','type')\n",
        "fill_most(miss_df,'make-model','Colour')\n",
        "fill_most(miss_df,'make-model','Upholstery')\n",
        "fill(miss_df,'make-model','body_type', 'gearbox', 'mode')\n",
        "\n",
        "boolean = True\n",
        "count = 0\n",
        "while boolean:\n",
        "  count += 1\n",
        "  total_miss_numbers = miss_df[['gearbox','seats','Power','doors','warranty_months','engine_size','Gears','Cylinders','Empty_weight','fuel_consumption','co2_emissions','general_inspection_new']].isnull().sum().sum()\n",
        "  if total_miss_numbers == 0:\n",
        "    boolean = False\n",
        "  if count == 10:\n",
        "    boolean = False\n",
        "  else:\n",
        "    miss_df['doors'] = miss_df['doors'].fillna(miss_df.groupby(['make-model'])['doors'].transform('median'))\n",
        "    miss_df['seats'] = miss_df['seats'].fillna(miss_df.groupby(['make-model'])['seats'].transform('median'))\n",
        "    miss_df['Power'] = miss_df['Power'].fillna(miss_df.groupby(['es_qcut','ew_qcut'])['Power'].transform('median'))\n",
        "    miss_df['Power'] = miss_df['Power'].fillna(miss_df.groupby(['fc_qcut','ew_qcut'])['Power'].transform('median'))\n",
        "    miss_df['Power'] = miss_df['Power'].fillna(miss_df.groupby(['fc_qcut','es_qcut'])['Power'].transform('median'))\n",
        "    miss_df['Power'] = miss_df['Power'].fillna(miss_df.groupby(['ew_qcut'])['Power'].transform('median'))\n",
        "    miss_df['Power'] = miss_df['Power'].fillna(miss_df.groupby(['es_qcut'])['Power'].transform('median'))\n",
        "    miss_df['Power'] = miss_df['Power'].fillna(miss_df.groupby(['make-model'])['Power'].transform('median'))\n",
        "    miss_df['engine_size'] = miss_df['engine_size'].fillna(miss_df.groupby(['Cylinders'])['engine_size'].transform('median'))\n",
        "    miss_df['Gears'] = miss_df['Gears'].fillna(miss_df.groupby(['make-model'])['Gears'].transform('median'))\n",
        "    miss_df['Cylinders'] = miss_df['Cylinders'].fillna(miss_df.groupby(['make-model'])['Cylinders'].transform('median'))\n",
        "    miss_df['Cylinders'] = miss_df['Cylinders'].fillna(miss_df.groupby(['es_qcut'])['Cylinders'].transform('median'))\n",
        "    miss_df['Cylinders'] = miss_df['Cylinders'].fillna(miss_df.groupby(['Gears'])['Cylinders'].transform('median'))\n",
        "    miss_df['Empty_weight'] = miss_df['Empty_weight'].fillna(miss_df.groupby(['make-model'])['Empty_weight'].transform('median'))\n",
        "    miss_df['fuel_consumption'] = miss_df['fuel_consumption'].fillna(miss_df.groupby(['es_qcut'])['fuel_consumption'].transform('median'))\n",
        "    miss_df['fuel_consumption'] = miss_df['fuel_consumption'].fillna(miss_df.groupby(['co_qcut'])['fuel_consumption'].transform('median'))\n",
        "    miss_df['fuel_consumption'] = miss_df['fuel_consumption'].fillna(miss_df.groupby(['Cylinders'])['fuel_consumption'].transform('median'))\n",
        "    miss_df['fuel_consumption'] = miss_df['fuel_consumption'].fillna(miss_df.groupby(['ew_qcut'])['fuel_consumption'].transform('median'))\n",
        "    miss_df['co2_emissions'] = miss_df['co2_emissions'].fillna(miss_df.groupby(['fc_qcut'])['co2_emissions'].transform('median'))\n",
        "    miss_df['co2_emissions'] = miss_df['co2_emissions'].fillna(miss_df.groupby(['Cylinders'])['co2_emissions'].transform('median'))\n",
        "    miss_df['co2_emissions'] = miss_df['co2_emissions'].fillna(miss_df.groupby(['make-model'])['co2_emissions'].transform('median'))\n",
        "    miss_df['co2_emissions'] = miss_df['co2_emissions'].fillna(miss_df.groupby(['p_qcut'])['co2_emissions'].transform('median'))\n",
        "    miss_df['first_registration_years'] = miss_df['first_registration_years'].fillna(miss_df.groupby(['mileage'])['first_registration_years'].transform('median'))\n",
        "    miss_df['first_registration_years'] = miss_df['first_registration_years'].fillna(miss_df.groupby(['co_qcut','m_qcut'])['first_registration_years'].transform('median'))\n",
        "    miss_df['first_registration_years'] = miss_df['first_registration_years'].fillna(miss_df.groupby(['Fuel_Type'])['first_registration_years'].transform('median'))    \n",
        "    miss_df['mileage'] = miss_df['mileage'].fillna(miss_df.groupby(['fry_qcut','general_inspection_new'])['mileage'].transform('mean'))\n",
        "    miss_df['mileage'] = miss_df['mileage'].fillna(miss_df.groupby(['fry_qcut'])['mileage'].transform('mean'))\n",
        "    miss_df['mileage'] = miss_df['mileage'].fillna(miss_df.groupby(['general_inspection_new'])['mileage'].transform('mean'))\n"
      ],
      "metadata": {
        "id": "n8giVZsrsCQG",
        "colab": {
          "base_uri": "https://localhost:8080/"
        },
        "outputId": "a5a647d3-6a04-4f70-beef-1d8e83f7bdc8"
      },
      "execution_count": 123,
      "outputs": [
        {
          "output_type": "stream",
          "name": "stderr",
          "text": [
            "/usr/local/lib/python3.7/dist-packages/pandas/core/indexing.py:1732: SettingWithCopyWarning: \n",
            "A value is trying to be set on a copy of a slice from a DataFrame\n",
            "\n",
            "See the caveats in the documentation: https://pandas.pydata.org/pandas-docs/stable/user_guide/indexing.html#returning-a-view-versus-a-copy\n",
            "  self._setitem_single_block(indexer, value, name)\n"
          ]
        }
      ]
    },
    {
      "cell_type": "code",
      "source": [
        "miss_df[['price', 'mileage', 'gearbox', 'Fuel_Type', 'Seller', 'body_type',\n",
        "       'type', 'drivetrain', 'seats', 'doors', 'warranty_months',\n",
        "       'full_service_history', 'non_smoker_vehicle', 'Power',\n",
        "       'engine_size', 'Gears', 'Cylinders', 'Empty_weight',\n",
        "       'fuel_consumption', 'co2_emissions', 'Colour', 'Upholstery','make-model', 'first_registration_years', 'general_inspection_new']].corr()"
      ],
      "metadata": {
        "colab": {
          "base_uri": "https://localhost:8080/",
          "height": 532
        },
        "id": "v8QVmF77vhI0",
        "outputId": "9b04733a-3af0-467d-945e-438366575bd6"
      },
      "execution_count": 124,
      "outputs": [
        {
          "output_type": "execute_result",
          "data": {
            "text/html": [
              "\n",
              "  <div id=\"df-001a961a-3d38-41df-b341-5f9a77337763\">\n",
              "    <div class=\"colab-df-container\">\n",
              "      <div>\n",
              "<style scoped>\n",
              "    .dataframe tbody tr th:only-of-type {\n",
              "        vertical-align: middle;\n",
              "    }\n",
              "\n",
              "    .dataframe tbody tr th {\n",
              "        vertical-align: top;\n",
              "    }\n",
              "\n",
              "    .dataframe thead th {\n",
              "        text-align: right;\n",
              "    }\n",
              "</style>\n",
              "<table border=\"1\" class=\"dataframe\">\n",
              "  <thead>\n",
              "    <tr style=\"text-align: right;\">\n",
              "      <th></th>\n",
              "      <th>price</th>\n",
              "      <th>mileage</th>\n",
              "      <th>seats</th>\n",
              "      <th>doors</th>\n",
              "      <th>warranty_months</th>\n",
              "      <th>Power</th>\n",
              "      <th>engine_size</th>\n",
              "      <th>Gears</th>\n",
              "      <th>Cylinders</th>\n",
              "      <th>Empty_weight</th>\n",
              "      <th>fuel_consumption</th>\n",
              "      <th>co2_emissions</th>\n",
              "      <th>first_registration_years</th>\n",
              "      <th>general_inspection_new</th>\n",
              "    </tr>\n",
              "  </thead>\n",
              "  <tbody>\n",
              "    <tr>\n",
              "      <th>price</th>\n",
              "      <td>1.000000</td>\n",
              "      <td>0.000471</td>\n",
              "      <td>-0.012429</td>\n",
              "      <td>-0.006086</td>\n",
              "      <td>0.006113</td>\n",
              "      <td>0.032759</td>\n",
              "      <td>0.003959</td>\n",
              "      <td>-0.000449</td>\n",
              "      <td>-0.007495</td>\n",
              "      <td>0.022647</td>\n",
              "      <td>0.002286</td>\n",
              "      <td>-0.008660</td>\n",
              "      <td>-0.000301</td>\n",
              "      <td>-0.002116</td>\n",
              "    </tr>\n",
              "    <tr>\n",
              "      <th>mileage</th>\n",
              "      <td>0.000471</td>\n",
              "      <td>1.000000</td>\n",
              "      <td>-0.009179</td>\n",
              "      <td>-0.042136</td>\n",
              "      <td>-0.014377</td>\n",
              "      <td>0.029920</td>\n",
              "      <td>0.050523</td>\n",
              "      <td>-0.006130</td>\n",
              "      <td>0.010595</td>\n",
              "      <td>0.051341</td>\n",
              "      <td>-0.000689</td>\n",
              "      <td>-0.007121</td>\n",
              "      <td>0.499753</td>\n",
              "      <td>0.338595</td>\n",
              "    </tr>\n",
              "    <tr>\n",
              "      <th>seats</th>\n",
              "      <td>-0.012429</td>\n",
              "      <td>-0.009179</td>\n",
              "      <td>1.000000</td>\n",
              "      <td>0.437403</td>\n",
              "      <td>0.037407</td>\n",
              "      <td>0.051236</td>\n",
              "      <td>-0.084401</td>\n",
              "      <td>0.043415</td>\n",
              "      <td>-0.057561</td>\n",
              "      <td>0.075547</td>\n",
              "      <td>-0.051690</td>\n",
              "      <td>-0.086438</td>\n",
              "      <td>-0.034768</td>\n",
              "      <td>-0.004260</td>\n",
              "    </tr>\n",
              "    <tr>\n",
              "      <th>doors</th>\n",
              "      <td>-0.006086</td>\n",
              "      <td>-0.042136</td>\n",
              "      <td>0.437403</td>\n",
              "      <td>1.000000</td>\n",
              "      <td>0.091128</td>\n",
              "      <td>-0.036579</td>\n",
              "      <td>-0.179619</td>\n",
              "      <td>-0.021179</td>\n",
              "      <td>-0.179402</td>\n",
              "      <td>0.105667</td>\n",
              "      <td>-0.190451</td>\n",
              "      <td>-0.217518</td>\n",
              "      <td>-0.073779</td>\n",
              "      <td>-0.019816</td>\n",
              "    </tr>\n",
              "    <tr>\n",
              "      <th>warranty_months</th>\n",
              "      <td>0.006113</td>\n",
              "      <td>-0.014377</td>\n",
              "      <td>0.037407</td>\n",
              "      <td>0.091128</td>\n",
              "      <td>1.000000</td>\n",
              "      <td>0.049545</td>\n",
              "      <td>-0.081251</td>\n",
              "      <td>0.001879</td>\n",
              "      <td>-0.101828</td>\n",
              "      <td>0.043969</td>\n",
              "      <td>-0.084694</td>\n",
              "      <td>-0.123980</td>\n",
              "      <td>-0.014622</td>\n",
              "      <td>-0.003382</td>\n",
              "    </tr>\n",
              "    <tr>\n",
              "      <th>Power</th>\n",
              "      <td>0.032759</td>\n",
              "      <td>0.029920</td>\n",
              "      <td>0.051236</td>\n",
              "      <td>-0.036579</td>\n",
              "      <td>0.049545</td>\n",
              "      <td>1.000000</td>\n",
              "      <td>0.480538</td>\n",
              "      <td>0.061560</td>\n",
              "      <td>0.208939</td>\n",
              "      <td>0.744050</td>\n",
              "      <td>0.371464</td>\n",
              "      <td>0.098095</td>\n",
              "      <td>-0.003297</td>\n",
              "      <td>0.005414</td>\n",
              "    </tr>\n",
              "    <tr>\n",
              "      <th>engine_size</th>\n",
              "      <td>0.003959</td>\n",
              "      <td>0.050523</td>\n",
              "      <td>-0.084401</td>\n",
              "      <td>-0.179619</td>\n",
              "      <td>-0.081251</td>\n",
              "      <td>0.480538</td>\n",
              "      <td>1.000000</td>\n",
              "      <td>0.304194</td>\n",
              "      <td>0.696072</td>\n",
              "      <td>0.391735</td>\n",
              "      <td>0.584038</td>\n",
              "      <td>0.565082</td>\n",
              "      <td>0.056947</td>\n",
              "      <td>0.016684</td>\n",
              "    </tr>\n",
              "    <tr>\n",
              "      <th>Gears</th>\n",
              "      <td>-0.000449</td>\n",
              "      <td>-0.006130</td>\n",
              "      <td>0.043415</td>\n",
              "      <td>-0.021179</td>\n",
              "      <td>0.001879</td>\n",
              "      <td>0.061560</td>\n",
              "      <td>0.304194</td>\n",
              "      <td>1.000000</td>\n",
              "      <td>0.566268</td>\n",
              "      <td>0.025463</td>\n",
              "      <td>0.127039</td>\n",
              "      <td>0.379786</td>\n",
              "      <td>0.016172</td>\n",
              "      <td>-0.006323</td>\n",
              "    </tr>\n",
              "    <tr>\n",
              "      <th>Cylinders</th>\n",
              "      <td>-0.007495</td>\n",
              "      <td>0.010595</td>\n",
              "      <td>-0.057561</td>\n",
              "      <td>-0.179402</td>\n",
              "      <td>-0.101828</td>\n",
              "      <td>0.208939</td>\n",
              "      <td>0.696072</td>\n",
              "      <td>0.566268</td>\n",
              "      <td>1.000000</td>\n",
              "      <td>0.084830</td>\n",
              "      <td>0.546301</td>\n",
              "      <td>0.747542</td>\n",
              "      <td>0.042247</td>\n",
              "      <td>0.001399</td>\n",
              "    </tr>\n",
              "    <tr>\n",
              "      <th>Empty_weight</th>\n",
              "      <td>0.022647</td>\n",
              "      <td>0.051341</td>\n",
              "      <td>0.075547</td>\n",
              "      <td>0.105667</td>\n",
              "      <td>0.043969</td>\n",
              "      <td>0.744050</td>\n",
              "      <td>0.391735</td>\n",
              "      <td>0.025463</td>\n",
              "      <td>0.084830</td>\n",
              "      <td>1.000000</td>\n",
              "      <td>0.325622</td>\n",
              "      <td>0.027167</td>\n",
              "      <td>0.011294</td>\n",
              "      <td>0.010619</td>\n",
              "    </tr>\n",
              "    <tr>\n",
              "      <th>fuel_consumption</th>\n",
              "      <td>0.002286</td>\n",
              "      <td>-0.000689</td>\n",
              "      <td>-0.051690</td>\n",
              "      <td>-0.190451</td>\n",
              "      <td>-0.084694</td>\n",
              "      <td>0.371464</td>\n",
              "      <td>0.584038</td>\n",
              "      <td>0.127039</td>\n",
              "      <td>0.546301</td>\n",
              "      <td>0.325622</td>\n",
              "      <td>1.000000</td>\n",
              "      <td>0.748521</td>\n",
              "      <td>0.034785</td>\n",
              "      <td>-0.003223</td>\n",
              "    </tr>\n",
              "    <tr>\n",
              "      <th>co2_emissions</th>\n",
              "      <td>-0.008660</td>\n",
              "      <td>-0.007121</td>\n",
              "      <td>-0.086438</td>\n",
              "      <td>-0.217518</td>\n",
              "      <td>-0.123980</td>\n",
              "      <td>0.098095</td>\n",
              "      <td>0.565082</td>\n",
              "      <td>0.379786</td>\n",
              "      <td>0.747542</td>\n",
              "      <td>0.027167</td>\n",
              "      <td>0.748521</td>\n",
              "      <td>1.000000</td>\n",
              "      <td>0.049853</td>\n",
              "      <td>-0.004186</td>\n",
              "    </tr>\n",
              "    <tr>\n",
              "      <th>first_registration_years</th>\n",
              "      <td>-0.000301</td>\n",
              "      <td>0.499753</td>\n",
              "      <td>-0.034768</td>\n",
              "      <td>-0.073779</td>\n",
              "      <td>-0.014622</td>\n",
              "      <td>-0.003297</td>\n",
              "      <td>0.056947</td>\n",
              "      <td>0.016172</td>\n",
              "      <td>0.042247</td>\n",
              "      <td>0.011294</td>\n",
              "      <td>0.034785</td>\n",
              "      <td>0.049853</td>\n",
              "      <td>1.000000</td>\n",
              "      <td>0.231524</td>\n",
              "    </tr>\n",
              "    <tr>\n",
              "      <th>general_inspection_new</th>\n",
              "      <td>-0.002116</td>\n",
              "      <td>0.338595</td>\n",
              "      <td>-0.004260</td>\n",
              "      <td>-0.019816</td>\n",
              "      <td>-0.003382</td>\n",
              "      <td>0.005414</td>\n",
              "      <td>0.016684</td>\n",
              "      <td>-0.006323</td>\n",
              "      <td>0.001399</td>\n",
              "      <td>0.010619</td>\n",
              "      <td>-0.003223</td>\n",
              "      <td>-0.004186</td>\n",
              "      <td>0.231524</td>\n",
              "      <td>1.000000</td>\n",
              "    </tr>\n",
              "  </tbody>\n",
              "</table>\n",
              "</div>\n",
              "      <button class=\"colab-df-convert\" onclick=\"convertToInteractive('df-001a961a-3d38-41df-b341-5f9a77337763')\"\n",
              "              title=\"Convert this dataframe to an interactive table.\"\n",
              "              style=\"display:none;\">\n",
              "        \n",
              "  <svg xmlns=\"http://www.w3.org/2000/svg\" height=\"24px\"viewBox=\"0 0 24 24\"\n",
              "       width=\"24px\">\n",
              "    <path d=\"M0 0h24v24H0V0z\" fill=\"none\"/>\n",
              "    <path d=\"M18.56 5.44l.94 2.06.94-2.06 2.06-.94-2.06-.94-.94-2.06-.94 2.06-2.06.94zm-11 1L8.5 8.5l.94-2.06 2.06-.94-2.06-.94L8.5 2.5l-.94 2.06-2.06.94zm10 10l.94 2.06.94-2.06 2.06-.94-2.06-.94-.94-2.06-.94 2.06-2.06.94z\"/><path d=\"M17.41 7.96l-1.37-1.37c-.4-.4-.92-.59-1.43-.59-.52 0-1.04.2-1.43.59L10.3 9.45l-7.72 7.72c-.78.78-.78 2.05 0 2.83L4 21.41c.39.39.9.59 1.41.59.51 0 1.02-.2 1.41-.59l7.78-7.78 2.81-2.81c.8-.78.8-2.07 0-2.86zM5.41 20L4 18.59l7.72-7.72 1.47 1.35L5.41 20z\"/>\n",
              "  </svg>\n",
              "      </button>\n",
              "      \n",
              "  <style>\n",
              "    .colab-df-container {\n",
              "      display:flex;\n",
              "      flex-wrap:wrap;\n",
              "      gap: 12px;\n",
              "    }\n",
              "\n",
              "    .colab-df-convert {\n",
              "      background-color: #E8F0FE;\n",
              "      border: none;\n",
              "      border-radius: 50%;\n",
              "      cursor: pointer;\n",
              "      display: none;\n",
              "      fill: #1967D2;\n",
              "      height: 32px;\n",
              "      padding: 0 0 0 0;\n",
              "      width: 32px;\n",
              "    }\n",
              "\n",
              "    .colab-df-convert:hover {\n",
              "      background-color: #E2EBFA;\n",
              "      box-shadow: 0px 1px 2px rgba(60, 64, 67, 0.3), 0px 1px 3px 1px rgba(60, 64, 67, 0.15);\n",
              "      fill: #174EA6;\n",
              "    }\n",
              "\n",
              "    [theme=dark] .colab-df-convert {\n",
              "      background-color: #3B4455;\n",
              "      fill: #D2E3FC;\n",
              "    }\n",
              "\n",
              "    [theme=dark] .colab-df-convert:hover {\n",
              "      background-color: #434B5C;\n",
              "      box-shadow: 0px 1px 3px 1px rgba(0, 0, 0, 0.15);\n",
              "      filter: drop-shadow(0px 1px 2px rgba(0, 0, 0, 0.3));\n",
              "      fill: #FFFFFF;\n",
              "    }\n",
              "  </style>\n",
              "\n",
              "      <script>\n",
              "        const buttonEl =\n",
              "          document.querySelector('#df-001a961a-3d38-41df-b341-5f9a77337763 button.colab-df-convert');\n",
              "        buttonEl.style.display =\n",
              "          google.colab.kernel.accessAllowed ? 'block' : 'none';\n",
              "\n",
              "        async function convertToInteractive(key) {\n",
              "          const element = document.querySelector('#df-001a961a-3d38-41df-b341-5f9a77337763');\n",
              "          const dataTable =\n",
              "            await google.colab.kernel.invokeFunction('convertToInteractive',\n",
              "                                                     [key], {});\n",
              "          if (!dataTable) return;\n",
              "\n",
              "          const docLinkHtml = 'Like what you see? Visit the ' +\n",
              "            '<a target=\"_blank\" href=https://colab.research.google.com/notebooks/data_table.ipynb>data table notebook</a>'\n",
              "            + ' to learn more about interactive tables.';\n",
              "          element.innerHTML = '';\n",
              "          dataTable['output_type'] = 'display_data';\n",
              "          await google.colab.output.renderOutput(dataTable, element);\n",
              "          const docLink = document.createElement('div');\n",
              "          docLink.innerHTML = docLinkHtml;\n",
              "          element.appendChild(docLink);\n",
              "        }\n",
              "      </script>\n",
              "    </div>\n",
              "  </div>\n",
              "  "
            ],
            "text/plain": [
              "                             price   mileage     seats     doors  \\\n",
              "price                     1.000000  0.000471 -0.012429 -0.006086   \n",
              "mileage                   0.000471  1.000000 -0.009179 -0.042136   \n",
              "seats                    -0.012429 -0.009179  1.000000  0.437403   \n",
              "doors                    -0.006086 -0.042136  0.437403  1.000000   \n",
              "warranty_months           0.006113 -0.014377  0.037407  0.091128   \n",
              "Power                     0.032759  0.029920  0.051236 -0.036579   \n",
              "engine_size               0.003959  0.050523 -0.084401 -0.179619   \n",
              "Gears                    -0.000449 -0.006130  0.043415 -0.021179   \n",
              "Cylinders                -0.007495  0.010595 -0.057561 -0.179402   \n",
              "Empty_weight              0.022647  0.051341  0.075547  0.105667   \n",
              "fuel_consumption          0.002286 -0.000689 -0.051690 -0.190451   \n",
              "co2_emissions            -0.008660 -0.007121 -0.086438 -0.217518   \n",
              "first_registration_years -0.000301  0.499753 -0.034768 -0.073779   \n",
              "general_inspection_new   -0.002116  0.338595 -0.004260 -0.019816   \n",
              "\n",
              "                          warranty_months     Power  engine_size     Gears  \\\n",
              "price                            0.006113  0.032759     0.003959 -0.000449   \n",
              "mileage                         -0.014377  0.029920     0.050523 -0.006130   \n",
              "seats                            0.037407  0.051236    -0.084401  0.043415   \n",
              "doors                            0.091128 -0.036579    -0.179619 -0.021179   \n",
              "warranty_months                  1.000000  0.049545    -0.081251  0.001879   \n",
              "Power                            0.049545  1.000000     0.480538  0.061560   \n",
              "engine_size                     -0.081251  0.480538     1.000000  0.304194   \n",
              "Gears                            0.001879  0.061560     0.304194  1.000000   \n",
              "Cylinders                       -0.101828  0.208939     0.696072  0.566268   \n",
              "Empty_weight                     0.043969  0.744050     0.391735  0.025463   \n",
              "fuel_consumption                -0.084694  0.371464     0.584038  0.127039   \n",
              "co2_emissions                   -0.123980  0.098095     0.565082  0.379786   \n",
              "first_registration_years        -0.014622 -0.003297     0.056947  0.016172   \n",
              "general_inspection_new          -0.003382  0.005414     0.016684 -0.006323   \n",
              "\n",
              "                          Cylinders  Empty_weight  fuel_consumption  \\\n",
              "price                     -0.007495      0.022647          0.002286   \n",
              "mileage                    0.010595      0.051341         -0.000689   \n",
              "seats                     -0.057561      0.075547         -0.051690   \n",
              "doors                     -0.179402      0.105667         -0.190451   \n",
              "warranty_months           -0.101828      0.043969         -0.084694   \n",
              "Power                      0.208939      0.744050          0.371464   \n",
              "engine_size                0.696072      0.391735          0.584038   \n",
              "Gears                      0.566268      0.025463          0.127039   \n",
              "Cylinders                  1.000000      0.084830          0.546301   \n",
              "Empty_weight               0.084830      1.000000          0.325622   \n",
              "fuel_consumption           0.546301      0.325622          1.000000   \n",
              "co2_emissions              0.747542      0.027167          0.748521   \n",
              "first_registration_years   0.042247      0.011294          0.034785   \n",
              "general_inspection_new     0.001399      0.010619         -0.003223   \n",
              "\n",
              "                          co2_emissions  first_registration_years  \\\n",
              "price                         -0.008660                 -0.000301   \n",
              "mileage                       -0.007121                  0.499753   \n",
              "seats                         -0.086438                 -0.034768   \n",
              "doors                         -0.217518                 -0.073779   \n",
              "warranty_months               -0.123980                 -0.014622   \n",
              "Power                          0.098095                 -0.003297   \n",
              "engine_size                    0.565082                  0.056947   \n",
              "Gears                          0.379786                  0.016172   \n",
              "Cylinders                      0.747542                  0.042247   \n",
              "Empty_weight                   0.027167                  0.011294   \n",
              "fuel_consumption               0.748521                  0.034785   \n",
              "co2_emissions                  1.000000                  0.049853   \n",
              "first_registration_years       0.049853                  1.000000   \n",
              "general_inspection_new        -0.004186                  0.231524   \n",
              "\n",
              "                          general_inspection_new  \n",
              "price                                  -0.002116  \n",
              "mileage                                 0.338595  \n",
              "seats                                  -0.004260  \n",
              "doors                                  -0.019816  \n",
              "warranty_months                        -0.003382  \n",
              "Power                                   0.005414  \n",
              "engine_size                             0.016684  \n",
              "Gears                                  -0.006323  \n",
              "Cylinders                               0.001399  \n",
              "Empty_weight                            0.010619  \n",
              "fuel_consumption                       -0.003223  \n",
              "co2_emissions                          -0.004186  \n",
              "first_registration_years                0.231524  \n",
              "general_inspection_new                  1.000000  "
            ]
          },
          "metadata": {},
          "execution_count": 124
        }
      ]
    },
    {
      "cell_type": "code",
      "source": [
        "miss_df[['price', 'mileage', 'gearbox', 'Fuel_Type', 'Seller', 'body_type',\n",
        "       'type', 'drivetrain', 'seats', 'doors', 'warranty_months',\n",
        "       'full_service_history', 'non_smoker_vehicle', 'Power',\n",
        "       'engine_size', 'Gears', 'Cylinders', 'Empty_weight',\n",
        "       'fuel_consumption', 'co2_emissions', 'Colour', 'Upholstery','make-model', 'first_registration_years', 'general_inspection_new']].isnull().sum()"
      ],
      "metadata": {
        "id": "wDVTYkr37YXJ",
        "colab": {
          "base_uri": "https://localhost:8080/"
        },
        "outputId": "c2c7f84f-6c49-4906-88eb-0699f9cc7cc8"
      },
      "execution_count": 125,
      "outputs": [
        {
          "output_type": "execute_result",
          "data": {
            "text/plain": [
              "price                       0\n",
              "mileage                     0\n",
              "gearbox                     0\n",
              "Fuel_Type                   0\n",
              "Seller                      0\n",
              "body_type                   0\n",
              "type                        0\n",
              "drivetrain                  0\n",
              "seats                       0\n",
              "doors                       0\n",
              "warranty_months             0\n",
              "full_service_history        0\n",
              "non_smoker_vehicle          0\n",
              "Power                       0\n",
              "engine_size                 0\n",
              "Gears                       0\n",
              "Cylinders                   0\n",
              "Empty_weight                0\n",
              "fuel_consumption            0\n",
              "co2_emissions               0\n",
              "Colour                      0\n",
              "Upholstery                  0\n",
              "make-model                  0\n",
              "first_registration_years    0\n",
              "general_inspection_new      0\n",
              "dtype: int64"
            ]
          },
          "metadata": {},
          "execution_count": 125
        }
      ]
    },
    {
      "cell_type": "code",
      "source": [
        "Fuel_Type = pd.get_dummies(miss_df[\"Fuel_Type\"], drop_first=True).add_prefix(\"Fuel_Type_\")\n",
        "Colour = pd.get_dummies(miss_df[\"Colour\"], drop_first=True).add_prefix(\"Colour_\")\n",
        "Upholstery = pd.get_dummies(miss_df[\"Upholstery\"], drop_first=True).add_prefix(\"Upholstery_\")\n",
        "Seller = pd.get_dummies(miss_df[\"Seller\"], drop_first=True).add_prefix(\"Seller_\")\n",
        "gearbox = pd.get_dummies(miss_df[\"gearbox\"], drop_first=True).add_prefix(\"gearbox_\")\n",
        "body_type = pd.get_dummies(miss_df[\"body_type\"], drop_first=True).add_prefix(\"body_type_\")\n",
        "Type = pd.get_dummies(miss_df[\"type\"], drop_first=True).add_prefix(\"type_\")\n",
        "drivetrain = pd.get_dummies(miss_df[\"drivetrain\"], drop_first=True).add_prefix(\"drivetrain_\")\n",
        "full_service_history = pd.get_dummies(miss_df[\"full_service_history\"], drop_first=True).add_prefix(\"full_service_history_\")\n",
        "non_smoker_vehicle = pd.get_dummies(miss_df[\"non_smoker_vehicle\"], drop_first=True).add_prefix(\"non_smoker_vehicle_\")\n",
        "make_model = pd.get_dummies(miss_df[\"make-model\"], drop_first=True).add_prefix(\"make-model_\")"
      ],
      "metadata": {
        "id": "kIssj2KMJQUC"
      },
      "execution_count": 126,
      "outputs": []
    },
    {
      "cell_type": "code",
      "source": [
        "total = pd.concat([Fuel_Type,Colour,Upholstery,Seller,gearbox,body_type,Type,drivetrain,full_service_history,non_smoker_vehicle,make_model],axis=1)\n",
        "total.shape"
      ],
      "metadata": {
        "colab": {
          "base_uri": "https://localhost:8080/"
        },
        "id": "FSDs4g2kIqJf",
        "outputId": "4487246b-86d1-468f-acec-f50d0000ab2f"
      },
      "execution_count": 127,
      "outputs": [
        {
          "output_type": "execute_result",
          "data": {
            "text/plain": [
              "(64572, 395)"
            ]
          },
          "metadata": {},
          "execution_count": 127
        }
      ]
    },
    {
      "cell_type": "code",
      "source": [
        "miss_df = pd.concat([miss_df,total],axis=1)"
      ],
      "metadata": {
        "id": "Y85LLaVUJMhX"
      },
      "execution_count": 128,
      "outputs": []
    },
    {
      "cell_type": "code",
      "source": [
        "miss_df.drop(columns = [\"Fuel_Type\",\"Colour\",\"Upholstery\",\"Seller\",\"gearbox\",\"body_type\",\"type\",\"drivetrain\",\"full_service_history\",\"non_smoker_vehicle\",\"make-model\"], inplace = True)"
      ],
      "metadata": {
        "id": "2IG9R7VEJufI"
      },
      "execution_count": 129,
      "outputs": []
    },
    {
      "cell_type": "code",
      "source": [
        "miss_df.drop(columns = ['price', 'mileage','seats', 'doors', 'warranty_months', 'Power',\n",
        "       'engine_size', 'Gears', 'Cylinders', 'Empty_weight',\n",
        "       'fuel_consumption', 'co2_emissions', 'first_registration_years', 'general_inspection_new'])"
      ],
      "metadata": {
        "id": "fpZ-rP4OzQhl",
        "colab": {
          "base_uri": "https://localhost:8080/",
          "height": 557
        },
        "outputId": "83a05dfa-7489-4b43-a4ac-140640600b2e"
      },
      "execution_count": 130,
      "outputs": [
        {
          "output_type": "execute_result",
          "data": {
            "text/html": [
              "\n",
              "  <div id=\"df-337d0ed9-9c88-4463-b6e2-500a1eeb1873\">\n",
              "    <div class=\"colab-df-container\">\n",
              "      <div>\n",
              "<style scoped>\n",
              "    .dataframe tbody tr th:only-of-type {\n",
              "        vertical-align: middle;\n",
              "    }\n",
              "\n",
              "    .dataframe tbody tr th {\n",
              "        vertical-align: top;\n",
              "    }\n",
              "\n",
              "    .dataframe thead th {\n",
              "        text-align: right;\n",
              "    }\n",
              "</style>\n",
              "<table border=\"1\" class=\"dataframe\">\n",
              "  <thead>\n",
              "    <tr style=\"text-align: right;\">\n",
              "      <th></th>\n",
              "      <th>Fold flat passenger seat</th>\n",
              "      <th>Parking assist system sensors rear</th>\n",
              "      <th>Heated steering wheel</th>\n",
              "      <th>Air suspension</th>\n",
              "      <th>Parking assist system camera</th>\n",
              "      <th>360° camera</th>\n",
              "      <th>Sliding door right</th>\n",
              "      <th>Electrically adjustable seats</th>\n",
              "      <th>Auxiliary heating</th>\n",
              "      <th>Air conditioning</th>\n",
              "      <th>...</th>\n",
              "      <th>make-model_Volvo-V40 Cross Country</th>\n",
              "      <th>make-model_Volvo-V50</th>\n",
              "      <th>make-model_Volvo-V60</th>\n",
              "      <th>make-model_Volvo-V60 Cross Country</th>\n",
              "      <th>make-model_Volvo-V70</th>\n",
              "      <th>make-model_Volvo-V90</th>\n",
              "      <th>make-model_Volvo-XC40</th>\n",
              "      <th>make-model_Volvo-XC60</th>\n",
              "      <th>make-model_Volvo-XC70</th>\n",
              "      <th>make-model_Volvo-XC90</th>\n",
              "    </tr>\n",
              "  </thead>\n",
              "  <tbody>\n",
              "    <tr>\n",
              "      <th>0</th>\n",
              "      <td>0</td>\n",
              "      <td>0</td>\n",
              "      <td>0</td>\n",
              "      <td>0</td>\n",
              "      <td>0</td>\n",
              "      <td>0</td>\n",
              "      <td>0</td>\n",
              "      <td>0</td>\n",
              "      <td>0</td>\n",
              "      <td>1</td>\n",
              "      <td>...</td>\n",
              "      <td>0</td>\n",
              "      <td>0</td>\n",
              "      <td>0</td>\n",
              "      <td>0</td>\n",
              "      <td>0</td>\n",
              "      <td>0</td>\n",
              "      <td>0</td>\n",
              "      <td>0</td>\n",
              "      <td>0</td>\n",
              "      <td>0</td>\n",
              "    </tr>\n",
              "    <tr>\n",
              "      <th>1</th>\n",
              "      <td>0</td>\n",
              "      <td>0</td>\n",
              "      <td>0</td>\n",
              "      <td>0</td>\n",
              "      <td>0</td>\n",
              "      <td>0</td>\n",
              "      <td>0</td>\n",
              "      <td>0</td>\n",
              "      <td>0</td>\n",
              "      <td>1</td>\n",
              "      <td>...</td>\n",
              "      <td>0</td>\n",
              "      <td>0</td>\n",
              "      <td>0</td>\n",
              "      <td>0</td>\n",
              "      <td>0</td>\n",
              "      <td>0</td>\n",
              "      <td>0</td>\n",
              "      <td>0</td>\n",
              "      <td>0</td>\n",
              "      <td>0</td>\n",
              "    </tr>\n",
              "    <tr>\n",
              "      <th>2</th>\n",
              "      <td>0</td>\n",
              "      <td>0</td>\n",
              "      <td>0</td>\n",
              "      <td>0</td>\n",
              "      <td>0</td>\n",
              "      <td>0</td>\n",
              "      <td>0</td>\n",
              "      <td>0</td>\n",
              "      <td>0</td>\n",
              "      <td>1</td>\n",
              "      <td>...</td>\n",
              "      <td>0</td>\n",
              "      <td>0</td>\n",
              "      <td>0</td>\n",
              "      <td>0</td>\n",
              "      <td>0</td>\n",
              "      <td>0</td>\n",
              "      <td>0</td>\n",
              "      <td>0</td>\n",
              "      <td>0</td>\n",
              "      <td>0</td>\n",
              "    </tr>\n",
              "    <tr>\n",
              "      <th>3</th>\n",
              "      <td>0</td>\n",
              "      <td>1</td>\n",
              "      <td>0</td>\n",
              "      <td>0</td>\n",
              "      <td>0</td>\n",
              "      <td>0</td>\n",
              "      <td>0</td>\n",
              "      <td>0</td>\n",
              "      <td>0</td>\n",
              "      <td>1</td>\n",
              "      <td>...</td>\n",
              "      <td>0</td>\n",
              "      <td>0</td>\n",
              "      <td>0</td>\n",
              "      <td>0</td>\n",
              "      <td>0</td>\n",
              "      <td>0</td>\n",
              "      <td>0</td>\n",
              "      <td>0</td>\n",
              "      <td>0</td>\n",
              "      <td>0</td>\n",
              "    </tr>\n",
              "    <tr>\n",
              "      <th>4</th>\n",
              "      <td>0</td>\n",
              "      <td>1</td>\n",
              "      <td>0</td>\n",
              "      <td>0</td>\n",
              "      <td>0</td>\n",
              "      <td>0</td>\n",
              "      <td>0</td>\n",
              "      <td>0</td>\n",
              "      <td>0</td>\n",
              "      <td>1</td>\n",
              "      <td>...</td>\n",
              "      <td>0</td>\n",
              "      <td>0</td>\n",
              "      <td>0</td>\n",
              "      <td>0</td>\n",
              "      <td>0</td>\n",
              "      <td>0</td>\n",
              "      <td>0</td>\n",
              "      <td>0</td>\n",
              "      <td>0</td>\n",
              "      <td>0</td>\n",
              "    </tr>\n",
              "    <tr>\n",
              "      <th>...</th>\n",
              "      <td>...</td>\n",
              "      <td>...</td>\n",
              "      <td>...</td>\n",
              "      <td>...</td>\n",
              "      <td>...</td>\n",
              "      <td>...</td>\n",
              "      <td>...</td>\n",
              "      <td>...</td>\n",
              "      <td>...</td>\n",
              "      <td>...</td>\n",
              "      <td>...</td>\n",
              "      <td>...</td>\n",
              "      <td>...</td>\n",
              "      <td>...</td>\n",
              "      <td>...</td>\n",
              "      <td>...</td>\n",
              "      <td>...</td>\n",
              "      <td>...</td>\n",
              "      <td>...</td>\n",
              "      <td>...</td>\n",
              "      <td>...</td>\n",
              "    </tr>\n",
              "    <tr>\n",
              "      <th>64567</th>\n",
              "      <td>0</td>\n",
              "      <td>0</td>\n",
              "      <td>0</td>\n",
              "      <td>0</td>\n",
              "      <td>0</td>\n",
              "      <td>0</td>\n",
              "      <td>0</td>\n",
              "      <td>0</td>\n",
              "      <td>0</td>\n",
              "      <td>1</td>\n",
              "      <td>...</td>\n",
              "      <td>0</td>\n",
              "      <td>0</td>\n",
              "      <td>0</td>\n",
              "      <td>0</td>\n",
              "      <td>0</td>\n",
              "      <td>0</td>\n",
              "      <td>0</td>\n",
              "      <td>0</td>\n",
              "      <td>0</td>\n",
              "      <td>0</td>\n",
              "    </tr>\n",
              "    <tr>\n",
              "      <th>64568</th>\n",
              "      <td>0</td>\n",
              "      <td>0</td>\n",
              "      <td>0</td>\n",
              "      <td>0</td>\n",
              "      <td>0</td>\n",
              "      <td>0</td>\n",
              "      <td>0</td>\n",
              "      <td>0</td>\n",
              "      <td>0</td>\n",
              "      <td>1</td>\n",
              "      <td>...</td>\n",
              "      <td>0</td>\n",
              "      <td>0</td>\n",
              "      <td>0</td>\n",
              "      <td>0</td>\n",
              "      <td>0</td>\n",
              "      <td>0</td>\n",
              "      <td>0</td>\n",
              "      <td>0</td>\n",
              "      <td>0</td>\n",
              "      <td>0</td>\n",
              "    </tr>\n",
              "    <tr>\n",
              "      <th>64569</th>\n",
              "      <td>0</td>\n",
              "      <td>0</td>\n",
              "      <td>0</td>\n",
              "      <td>0</td>\n",
              "      <td>0</td>\n",
              "      <td>0</td>\n",
              "      <td>0</td>\n",
              "      <td>0</td>\n",
              "      <td>0</td>\n",
              "      <td>1</td>\n",
              "      <td>...</td>\n",
              "      <td>0</td>\n",
              "      <td>0</td>\n",
              "      <td>0</td>\n",
              "      <td>0</td>\n",
              "      <td>0</td>\n",
              "      <td>0</td>\n",
              "      <td>0</td>\n",
              "      <td>0</td>\n",
              "      <td>0</td>\n",
              "      <td>0</td>\n",
              "    </tr>\n",
              "    <tr>\n",
              "      <th>64570</th>\n",
              "      <td>0</td>\n",
              "      <td>0</td>\n",
              "      <td>0</td>\n",
              "      <td>0</td>\n",
              "      <td>0</td>\n",
              "      <td>0</td>\n",
              "      <td>0</td>\n",
              "      <td>0</td>\n",
              "      <td>0</td>\n",
              "      <td>1</td>\n",
              "      <td>...</td>\n",
              "      <td>0</td>\n",
              "      <td>0</td>\n",
              "      <td>0</td>\n",
              "      <td>0</td>\n",
              "      <td>0</td>\n",
              "      <td>0</td>\n",
              "      <td>0</td>\n",
              "      <td>0</td>\n",
              "      <td>0</td>\n",
              "      <td>0</td>\n",
              "    </tr>\n",
              "    <tr>\n",
              "      <th>64571</th>\n",
              "      <td>0</td>\n",
              "      <td>0</td>\n",
              "      <td>0</td>\n",
              "      <td>0</td>\n",
              "      <td>0</td>\n",
              "      <td>0</td>\n",
              "      <td>0</td>\n",
              "      <td>0</td>\n",
              "      <td>0</td>\n",
              "      <td>1</td>\n",
              "      <td>...</td>\n",
              "      <td>0</td>\n",
              "      <td>0</td>\n",
              "      <td>0</td>\n",
              "      <td>0</td>\n",
              "      <td>0</td>\n",
              "      <td>0</td>\n",
              "      <td>0</td>\n",
              "      <td>0</td>\n",
              "      <td>0</td>\n",
              "      <td>0</td>\n",
              "    </tr>\n",
              "  </tbody>\n",
              "</table>\n",
              "<p>64572 rows × 524 columns</p>\n",
              "</div>\n",
              "      <button class=\"colab-df-convert\" onclick=\"convertToInteractive('df-337d0ed9-9c88-4463-b6e2-500a1eeb1873')\"\n",
              "              title=\"Convert this dataframe to an interactive table.\"\n",
              "              style=\"display:none;\">\n",
              "        \n",
              "  <svg xmlns=\"http://www.w3.org/2000/svg\" height=\"24px\"viewBox=\"0 0 24 24\"\n",
              "       width=\"24px\">\n",
              "    <path d=\"M0 0h24v24H0V0z\" fill=\"none\"/>\n",
              "    <path d=\"M18.56 5.44l.94 2.06.94-2.06 2.06-.94-2.06-.94-.94-2.06-.94 2.06-2.06.94zm-11 1L8.5 8.5l.94-2.06 2.06-.94-2.06-.94L8.5 2.5l-.94 2.06-2.06.94zm10 10l.94 2.06.94-2.06 2.06-.94-2.06-.94-.94-2.06-.94 2.06-2.06.94z\"/><path d=\"M17.41 7.96l-1.37-1.37c-.4-.4-.92-.59-1.43-.59-.52 0-1.04.2-1.43.59L10.3 9.45l-7.72 7.72c-.78.78-.78 2.05 0 2.83L4 21.41c.39.39.9.59 1.41.59.51 0 1.02-.2 1.41-.59l7.78-7.78 2.81-2.81c.8-.78.8-2.07 0-2.86zM5.41 20L4 18.59l7.72-7.72 1.47 1.35L5.41 20z\"/>\n",
              "  </svg>\n",
              "      </button>\n",
              "      \n",
              "  <style>\n",
              "    .colab-df-container {\n",
              "      display:flex;\n",
              "      flex-wrap:wrap;\n",
              "      gap: 12px;\n",
              "    }\n",
              "\n",
              "    .colab-df-convert {\n",
              "      background-color: #E8F0FE;\n",
              "      border: none;\n",
              "      border-radius: 50%;\n",
              "      cursor: pointer;\n",
              "      display: none;\n",
              "      fill: #1967D2;\n",
              "      height: 32px;\n",
              "      padding: 0 0 0 0;\n",
              "      width: 32px;\n",
              "    }\n",
              "\n",
              "    .colab-df-convert:hover {\n",
              "      background-color: #E2EBFA;\n",
              "      box-shadow: 0px 1px 2px rgba(60, 64, 67, 0.3), 0px 1px 3px 1px rgba(60, 64, 67, 0.15);\n",
              "      fill: #174EA6;\n",
              "    }\n",
              "\n",
              "    [theme=dark] .colab-df-convert {\n",
              "      background-color: #3B4455;\n",
              "      fill: #D2E3FC;\n",
              "    }\n",
              "\n",
              "    [theme=dark] .colab-df-convert:hover {\n",
              "      background-color: #434B5C;\n",
              "      box-shadow: 0px 1px 3px 1px rgba(0, 0, 0, 0.15);\n",
              "      filter: drop-shadow(0px 1px 2px rgba(0, 0, 0, 0.3));\n",
              "      fill: #FFFFFF;\n",
              "    }\n",
              "  </style>\n",
              "\n",
              "      <script>\n",
              "        const buttonEl =\n",
              "          document.querySelector('#df-337d0ed9-9c88-4463-b6e2-500a1eeb1873 button.colab-df-convert');\n",
              "        buttonEl.style.display =\n",
              "          google.colab.kernel.accessAllowed ? 'block' : 'none';\n",
              "\n",
              "        async function convertToInteractive(key) {\n",
              "          const element = document.querySelector('#df-337d0ed9-9c88-4463-b6e2-500a1eeb1873');\n",
              "          const dataTable =\n",
              "            await google.colab.kernel.invokeFunction('convertToInteractive',\n",
              "                                                     [key], {});\n",
              "          if (!dataTable) return;\n",
              "\n",
              "          const docLinkHtml = 'Like what you see? Visit the ' +\n",
              "            '<a target=\"_blank\" href=https://colab.research.google.com/notebooks/data_table.ipynb>data table notebook</a>'\n",
              "            + ' to learn more about interactive tables.';\n",
              "          element.innerHTML = '';\n",
              "          dataTable['output_type'] = 'display_data';\n",
              "          await google.colab.output.renderOutput(dataTable, element);\n",
              "          const docLink = document.createElement('div');\n",
              "          docLink.innerHTML = docLinkHtml;\n",
              "          element.appendChild(docLink);\n",
              "        }\n",
              "      </script>\n",
              "    </div>\n",
              "  </div>\n",
              "  "
            ],
            "text/plain": [
              "       Fold flat passenger seat  Parking assist system sensors rear  \\\n",
              "0                             0                                   0   \n",
              "1                             0                                   0   \n",
              "2                             0                                   0   \n",
              "3                             0                                   1   \n",
              "4                             0                                   1   \n",
              "...                         ...                                 ...   \n",
              "64567                         0                                   0   \n",
              "64568                         0                                   0   \n",
              "64569                         0                                   0   \n",
              "64570                         0                                   0   \n",
              "64571                         0                                   0   \n",
              "\n",
              "       Heated steering wheel  Air suspension  Parking assist system camera  \\\n",
              "0                          0               0                             0   \n",
              "1                          0               0                             0   \n",
              "2                          0               0                             0   \n",
              "3                          0               0                             0   \n",
              "4                          0               0                             0   \n",
              "...                      ...             ...                           ...   \n",
              "64567                      0               0                             0   \n",
              "64568                      0               0                             0   \n",
              "64569                      0               0                             0   \n",
              "64570                      0               0                             0   \n",
              "64571                      0               0                             0   \n",
              "\n",
              "       360° camera  Sliding door right  Electrically adjustable seats  \\\n",
              "0                0                   0                              0   \n",
              "1                0                   0                              0   \n",
              "2                0                   0                              0   \n",
              "3                0                   0                              0   \n",
              "4                0                   0                              0   \n",
              "...            ...                 ...                            ...   \n",
              "64567            0                   0                              0   \n",
              "64568            0                   0                              0   \n",
              "64569            0                   0                              0   \n",
              "64570            0                   0                              0   \n",
              "64571            0                   0                              0   \n",
              "\n",
              "       Auxiliary heating  Air conditioning  ...  \\\n",
              "0                      0                 1  ...   \n",
              "1                      0                 1  ...   \n",
              "2                      0                 1  ...   \n",
              "3                      0                 1  ...   \n",
              "4                      0                 1  ...   \n",
              "...                  ...               ...  ...   \n",
              "64567                  0                 1  ...   \n",
              "64568                  0                 1  ...   \n",
              "64569                  0                 1  ...   \n",
              "64570                  0                 1  ...   \n",
              "64571                  0                 1  ...   \n",
              "\n",
              "       make-model_Volvo-V40 Cross Country  make-model_Volvo-V50  \\\n",
              "0                                       0                     0   \n",
              "1                                       0                     0   \n",
              "2                                       0                     0   \n",
              "3                                       0                     0   \n",
              "4                                       0                     0   \n",
              "...                                   ...                   ...   \n",
              "64567                                   0                     0   \n",
              "64568                                   0                     0   \n",
              "64569                                   0                     0   \n",
              "64570                                   0                     0   \n",
              "64571                                   0                     0   \n",
              "\n",
              "       make-model_Volvo-V60  make-model_Volvo-V60 Cross Country  \\\n",
              "0                         0                                   0   \n",
              "1                         0                                   0   \n",
              "2                         0                                   0   \n",
              "3                         0                                   0   \n",
              "4                         0                                   0   \n",
              "...                     ...                                 ...   \n",
              "64567                     0                                   0   \n",
              "64568                     0                                   0   \n",
              "64569                     0                                   0   \n",
              "64570                     0                                   0   \n",
              "64571                     0                                   0   \n",
              "\n",
              "       make-model_Volvo-V70  make-model_Volvo-V90  make-model_Volvo-XC40  \\\n",
              "0                         0                     0                      0   \n",
              "1                         0                     0                      0   \n",
              "2                         0                     0                      0   \n",
              "3                         0                     0                      0   \n",
              "4                         0                     0                      0   \n",
              "...                     ...                   ...                    ...   \n",
              "64567                     0                     0                      0   \n",
              "64568                     0                     0                      0   \n",
              "64569                     0                     0                      0   \n",
              "64570                     0                     0                      0   \n",
              "64571                     0                     0                      0   \n",
              "\n",
              "       make-model_Volvo-XC60  make-model_Volvo-XC70  make-model_Volvo-XC90  \n",
              "0                          0                      0                      0  \n",
              "1                          0                      0                      0  \n",
              "2                          0                      0                      0  \n",
              "3                          0                      0                      0  \n",
              "4                          0                      0                      0  \n",
              "...                      ...                    ...                    ...  \n",
              "64567                      0                      0                      0  \n",
              "64568                      0                      0                      0  \n",
              "64569                      0                      0                      0  \n",
              "64570                      0                      0                      0  \n",
              "64571                      0                      0                      0  \n",
              "\n",
              "[64572 rows x 524 columns]"
            ]
          },
          "metadata": {},
          "execution_count": 130
        }
      ]
    },
    {
      "cell_type": "code",
      "source": [
        "corr_matrix = miss_df.corr().abs()\n",
        "high_corr_var=np.where(corr_matrix>0.9)\n",
        "high_corr_var=[(corr_matrix.columns[x],corr_matrix.columns[y]) for x,y in zip(*high_corr_var) if x!=y and x<y]"
      ],
      "metadata": {
        "id": "DgF1tkmFiqL6"
      },
      "execution_count": 131,
      "outputs": []
    },
    {
      "cell_type": "code",
      "source": [
        "for i in range(len(high_corr_var)):\n",
        "  miss_df.drop(columns = [high_corr_var[i][0]], inplace = True)"
      ],
      "metadata": {
        "id": "ziG7vqmFpC3a"
      },
      "execution_count": 132,
      "outputs": []
    },
    {
      "cell_type": "markdown",
      "source": [
        "# Data Featuring"
      ],
      "metadata": {
        "id": "IzUq5xwIrqj0"
      }
    },
    {
      "cell_type": "code",
      "source": [
        "miss_df[\"mileage/years\"] = miss_df[\"mileage\"]/miss_df[\"first_registration_years\"]"
      ],
      "metadata": {
        "id": "SxdZefGyruzY"
      },
      "execution_count": 133,
      "outputs": []
    },
    {
      "cell_type": "code",
      "source": [
        "miss_df[\"total_consumption\"] = miss_df[\"fuel_consumption\"]*miss_df[\"mileage\"]/100"
      ],
      "metadata": {
        "id": "uMD6yHZHsr3i"
      },
      "execution_count": 134,
      "outputs": []
    },
    {
      "cell_type": "code",
      "source": [
        "miss_df[\"total_co2_emissions\"] = miss_df[\"mileage\"] * miss_df[\"co2_emissions\"]"
      ],
      "metadata": {
        "id": "1miIpGgCtY9o"
      },
      "execution_count": 135,
      "outputs": []
    },
    {
      "cell_type": "markdown",
      "source": [
        "# Functions_Outliers"
      ],
      "metadata": {
        "id": "o--fxuaBbre8"
      }
    },
    {
      "cell_type": "code",
      "source": [
        "def capping_outliers(s, whisker=1.5):\n",
        "  # replace outliers with upper_bound and lower_bound values\n",
        "  indexes = s.dropna().index\n",
        "  col = s.dropna()\n",
        "  iqr = (np.quantile(col, 0.95))-(np.quantile(col, 0.05))\n",
        "  upper_bound = np.quantile(col, 0.95)+(whisker*iqr)\n",
        "  lower_bound = np.quantile(col, 0.05)-(whisker*iqr)\n",
        "  upper_bound = upper_bound if upper_bound < col.max() else col.max(),\n",
        "  lower_bound = lower_bound if lower_bound > col.min() else col.min(),\n",
        "\n",
        "  col = np.where(col > upper_bound, upper_bound,col)\n",
        "  col = np.where(col < lower_bound, lower_bound,col)\n",
        "  plt.figure(figsize=(8,3))\n",
        "  sns.boxplot(x= col)\n",
        "  plt.show()\n",
        "  s[indexes]=col\n",
        "  return s"
      ],
      "metadata": {
        "id": "WSRvWwkN9LLm"
      },
      "execution_count": 136,
      "outputs": []
    },
    {
      "cell_type": "code",
      "source": [
        "miss_df['Gears'] = capping_outliers(miss_df['Gears'])\n",
        "miss_df['Cylinders'] = capping_outliers(miss_df['Cylinders'])\n",
        "miss_df['Empty_weight'] = capping_outliers(miss_df['Empty_weight'])\n",
        "miss_df['mileage'] = capping_outliers(miss_df['mileage'])\n",
        "miss_df['seats'] = capping_outliers(miss_df['seats'])\n",
        "miss_df['doors'] = capping_outliers(miss_df['doors'])\n",
        "miss_df['warranty_months'] = capping_outliers(miss_df['warranty_months'])\n",
        "miss_df['Power'] = capping_outliers(miss_df['Power'])\n",
        "miss_df['engine_size'] = capping_outliers(miss_df['engine_size'])\n",
        "miss_df['fuel_consumption'] = capping_outliers(miss_df['fuel_consumption'])\n",
        "miss_df['co2_emissions'] = capping_outliers(miss_df['co2_emissions'])\n",
        "miss_df['first_registration_years'] = capping_outliers(miss_df['first_registration_years'])\n",
        "miss_df[\"total_co2_emissions\"] = capping_outliers(miss_df[\"total_co2_emissions\"])\n",
        "miss_df[\"total_consumption\"] = capping_outliers(miss_df[\"total_consumption\"])\n",
        "miss_df[\"mileage/years\"] = capping_outliers(miss_df[\"mileage/years\"])"
      ],
      "metadata": {
        "id": "cBnuZIb49p1Z",
        "colab": {
          "base_uri": "https://localhost:8080/",
          "height": 1000
        },
        "outputId": "26a02af5-b716-457d-a102-59151859d9d8"
      },
      "execution_count": 137,
      "outputs": [
        {
          "output_type": "display_data",
          "data": {
            "image/png": "[encoded data removed]",
            "text/plain": [
              "<Figure size 576x216 with 1 Axes>"
            ]
          },
          "metadata": {
            "needs_background": "light"
          }
        },
        {
          "output_type": "stream",
          "name": "stderr",
          "text": [
            "/usr/local/lib/python3.7/dist-packages/ipykernel_launcher.py:16: SettingWithCopyWarning: \n",
            "A value is trying to be set on a copy of a slice from a DataFrame\n",
            "\n",
            "See the caveats in the documentation: https://pandas.pydata.org/pandas-docs/stable/user_guide/indexing.html#returning-a-view-versus-a-copy\n",
            "  app.launch_new_instance()\n"
          ]
        },
        {
          "output_type": "display_data",
          "data": {
            "image/png": "[encoded data removed]",
            "text/plain": [
              "<Figure size 576x216 with 1 Axes>"
            ]
          },
          "metadata": {
            "needs_background": "light"
          }
        },
        {
          "output_type": "stream",
          "name": "stderr",
          "text": [
            "/usr/local/lib/python3.7/dist-packages/ipykernel_launcher.py:16: SettingWithCopyWarning: \n",
            "A value is trying to be set on a copy of a slice from a DataFrame\n",
            "\n",
            "See the caveats in the documentation: https://pandas.pydata.org/pandas-docs/stable/user_guide/indexing.html#returning-a-view-versus-a-copy\n",
            "  app.launch_new_instance()\n"
          ]
        },
        {
          "output_type": "display_data",
          "data": {
            "image/png": "[encoded data removed]",
            "text/plain": [
              "<Figure size 576x216 with 1 Axes>"
            ]
          },
          "metadata": {
            "needs_background": "light"
          }
        },
        {
          "output_type": "stream",
          "name": "stderr",
          "text": [
            "/usr/local/lib/python3.7/dist-packages/ipykernel_launcher.py:16: SettingWithCopyWarning: \n",
            "A value is trying to be set on a copy of a slice from a DataFrame\n",
            "\n",
            "See the caveats in the documentation: https://pandas.pydata.org/pandas-docs/stable/user_guide/indexing.html#returning-a-view-versus-a-copy\n",
            "  app.launch_new_instance()\n"
          ]
        },
        {
          "output_type": "display_data",
          "data": {
            "image/png": "[encoded data removed]",
            "text/plain": [
              "<Figure size 576x216 with 1 Axes>"
            ]
          },
          "metadata": {
            "needs_background": "light"
          }
        },
        {
          "output_type": "stream",
          "name": "stderr",
          "text": [
            "/usr/local/lib/python3.7/dist-packages/ipykernel_launcher.py:16: SettingWithCopyWarning: \n",
            "A value is trying to be set on a copy of a slice from a DataFrame\n",
            "\n",
            "See the caveats in the documentation: https://pandas.pydata.org/pandas-docs/stable/user_guide/indexing.html#returning-a-view-versus-a-copy\n",
            "  app.launch_new_instance()\n"
          ]
        },
        {
          "output_type": "display_data",
          "data": {
            "image/png": "[encoded data removed]",
            "text/plain": [
              "<Figure size 576x216 with 1 Axes>"
            ]
          },
          "metadata": {
            "needs_background": "light"
          }
        },
        {
          "output_type": "stream",
          "name": "stderr",
          "text": [
            "/usr/local/lib/python3.7/dist-packages/ipykernel_launcher.py:16: SettingWithCopyWarning: \n",
            "A value is trying to be set on a copy of a slice from a DataFrame\n",
            "\n",
            "See the caveats in the documentation: https://pandas.pydata.org/pandas-docs/stable/user_guide/indexing.html#returning-a-view-versus-a-copy\n",
            "  app.launch_new_instance()\n"
          ]
        },
        {
          "output_type": "display_data",
          "data": {
            "image/png": "[encoded data removed]",
            "text/plain": [
              "<Figure size 576x216 with 1 Axes>"
            ]
          },
          "metadata": {
            "needs_background": "light"
          }
        },
        {
          "output_type": "stream",
          "name": "stderr",
          "text": [
            "/usr/local/lib/python3.7/dist-packages/ipykernel_launcher.py:16: SettingWithCopyWarning: \n",
            "A value is trying to be set on a copy of a slice from a DataFrame\n",
            "\n",
            "See the caveats in the documentation: https://pandas.pydata.org/pandas-docs/stable/user_guide/indexing.html#returning-a-view-versus-a-copy\n",
            "  app.launch_new_instance()\n"
          ]
        },
        {
          "output_type": "display_data",
          "data": {
            "image/png": "[encoded data removed]",
            "text/plain": [
              "<Figure size 576x216 with 1 Axes>"
            ]
          },
          "metadata": {
            "needs_background": "light"
          }
        },
        {
          "output_type": "stream",
          "name": "stderr",
          "text": [
            "/usr/local/lib/python3.7/dist-packages/ipykernel_launcher.py:16: SettingWithCopyWarning: \n",
            "A value is trying to be set on a copy of a slice from a DataFrame\n",
            "\n",
            "See the caveats in the documentation: https://pandas.pydata.org/pandas-docs/stable/user_guide/indexing.html#returning-a-view-versus-a-copy\n",
            "  app.launch_new_instance()\n"
          ]
        },
        {
          "output_type": "display_data",
          "data": {
            "image/png": "[encoded data removed]",
            "text/plain": [
              "<Figure size 576x216 with 1 Axes>"
            ]
          },
          "metadata": {
            "needs_background": "light"
          }
        },
        {
          "output_type": "stream",
          "name": "stderr",
          "text": [
            "/usr/local/lib/python3.7/dist-packages/ipykernel_launcher.py:16: SettingWithCopyWarning: \n",
            "A value is trying to be set on a copy of a slice from a DataFrame\n",
            "\n",
            "See the caveats in the documentation: https://pandas.pydata.org/pandas-docs/stable/user_guide/indexing.html#returning-a-view-versus-a-copy\n",
            "  app.launch_new_instance()\n"
          ]
        },
        {
          "output_type": "display_data",
          "data": {
            "image/png": "[encoded data removed]",
            "text/plain": [
              "<Figure size 576x216 with 1 Axes>"
            ]
          },
          "metadata": {
            "needs_background": "light"
          }
        },
        {
          "output_type": "stream",
          "name": "stderr",
          "text": [
            "/usr/local/lib/python3.7/dist-packages/ipykernel_launcher.py:16: SettingWithCopyWarning: \n",
            "A value is trying to be set on a copy of a slice from a DataFrame\n",
            "\n",
            "See the caveats in the documentation: https://pandas.pydata.org/pandas-docs/stable/user_guide/indexing.html#returning-a-view-versus-a-copy\n",
            "  app.launch_new_instance()\n"
          ]
        },
        {
          "output_type": "display_data",
          "data": {
            "image/png": "[encoded data removed]",
            "text/plain": [
              "<Figure size 576x216 with 1 Axes>"
            ]
          },
          "metadata": {
            "needs_background": "light"
          }
        },
        {
          "output_type": "stream",
          "name": "stderr",
          "text": [
            "/usr/local/lib/python3.7/dist-packages/ipykernel_launcher.py:16: SettingWithCopyWarning: \n",
            "A value is trying to be set on a copy of a slice from a DataFrame\n",
            "\n",
            "See the caveats in the documentation: https://pandas.pydata.org/pandas-docs/stable/user_guide/indexing.html#returning-a-view-versus-a-copy\n",
            "  app.launch_new_instance()\n"
          ]
        },
        {
          "output_type": "display_data",
          "data": {
            "image/png": "[encoded data removed]",
            "text/plain": [
              "<Figure size 576x216 with 1 Axes>"
            ]
          },
          "metadata": {
            "needs_background": "light"
          }
        },
        {
          "output_type": "stream",
          "name": "stderr",
          "text": [
            "/usr/local/lib/python3.7/dist-packages/ipykernel_launcher.py:16: SettingWithCopyWarning: \n",
            "A value is trying to be set on a copy of a slice from a DataFrame\n",
            "\n",
            "See the caveats in the documentation: https://pandas.pydata.org/pandas-docs/stable/user_guide/indexing.html#returning-a-view-versus-a-copy\n",
            "  app.launch_new_instance()\n"
          ]
        },
        {
          "output_type": "display_data",
          "data": {
            "image/png": "[encoded data removed]",
            "text/plain": [
              "<Figure size 576x216 with 1 Axes>"
            ]
          },
          "metadata": {
            "needs_background": "light"
          }
        },
        {
          "output_type": "stream",
          "name": "stderr",
          "text": [
            "/usr/local/lib/python3.7/dist-packages/ipykernel_launcher.py:16: SettingWithCopyWarning: \n",
            "A value is trying to be set on a copy of a slice from a DataFrame\n",
            "\n",
            "See the caveats in the documentation: https://pandas.pydata.org/pandas-docs/stable/user_guide/indexing.html#returning-a-view-versus-a-copy\n",
            "  app.launch_new_instance()\n"
          ]
        },
        {
          "output_type": "display_data",
          "data": {
            "image/png": "[encoded data removed]",
            "text/plain": [
              "<Figure size 576x216 with 1 Axes>"
            ]
          },
          "metadata": {
            "needs_background": "light"
          }
        },
        {
          "output_type": "stream",
          "name": "stderr",
          "text": [
            "/usr/local/lib/python3.7/dist-packages/ipykernel_launcher.py:16: SettingWithCopyWarning: \n",
            "A value is trying to be set on a copy of a slice from a DataFrame\n",
            "\n",
            "See the caveats in the documentation: https://pandas.pydata.org/pandas-docs/stable/user_guide/indexing.html#returning-a-view-versus-a-copy\n",
            "  app.launch_new_instance()\n"
          ]
        },
        {
          "output_type": "display_data",
          "data": {
            "image/png": "[encoded data removed]",
            "text/plain": [
              "<Figure size 576x216 with 1 Axes>"
            ]
          },
          "metadata": {
            "needs_background": "light"
          }
        },
        {
          "output_type": "stream",
          "name": "stderr",
          "text": [
            "/usr/local/lib/python3.7/dist-packages/ipykernel_launcher.py:16: SettingWithCopyWarning: \n",
            "A value is trying to be set on a copy of a slice from a DataFrame\n",
            "\n",
            "See the caveats in the documentation: https://pandas.pydata.org/pandas-docs/stable/user_guide/indexing.html#returning-a-view-versus-a-copy\n",
            "  app.launch_new_instance()\n"
          ]
        },
        {
          "output_type": "display_data",
          "data": {
            "image/png": "[encoded data removed]",
            "text/plain": [
              "<Figure size 576x216 with 1 Axes>"
            ]
          },
          "metadata": {
            "needs_background": "light"
          }
        },
        {
          "output_type": "stream",
          "name": "stderr",
          "text": [
            "/usr/local/lib/python3.7/dist-packages/ipykernel_launcher.py:16: SettingWithCopyWarning: \n",
            "A value is trying to be set on a copy of a slice from a DataFrame\n",
            "\n",
            "See the caveats in the documentation: https://pandas.pydata.org/pandas-docs/stable/user_guide/indexing.html#returning-a-view-versus-a-copy\n",
            "  app.launch_new_instance()\n"
          ]
        }
      ]
    },
    {
      "cell_type": "code",
      "source": [
        "from sklearn.neighbors import LocalOutlierFactor"
      ],
      "metadata": {
        "id": "E99DXPmmrRd6"
      },
      "execution_count": 138,
      "outputs": []
    },
    {
      "cell_type": "code",
      "source": [
        "clf = LocalOutlierFactor(n_neighbors = 8, contamination = 0.1)\n",
        "clf.fit_predict(miss_df[['price', 'mileage','seats', 'doors', 'warranty_months', 'Power',\n",
        "       'engine_size', 'Gears', 'Cylinders', 'Empty_weight',\n",
        "       'fuel_consumption', 'co2_emissions', 'first_registration_years', 'general_inspection_new',\"total_co2_emissions\",\"total_consumption\",\"mileage/years\"]])\n",
        "X_noncategorical_scores=clf.negative_outlier_factor_"
      ],
      "metadata": {
        "id": "ZI1yBAEurXti"
      },
      "execution_count": 139,
      "outputs": []
    },
    {
      "cell_type": "code",
      "source": [
        "threshold_value = np.sort(X_noncategorical_scores)[18]\n",
        "miss_df.drop(miss_df[X_noncategorical_scores<threshold_value].index, axis = 0, inplace = True)"
      ],
      "metadata": {
        "id": "RzHbSVult9pF"
      },
      "execution_count": 140,
      "outputs": []
    },
    {
      "cell_type": "markdown",
      "source": [
        "# Visulation"
      ],
      "metadata": {
        "id": "gyupNTSuFOt4"
      }
    },
    {
      "cell_type": "code",
      "source": [
        "miss_df.Gears.plot.box(vert=False);"
      ],
      "metadata": {
        "id": "Zo9IhgqJ9la3",
        "colab": {
          "base_uri": "https://localhost:8080/",
          "height": 265
        },
        "outputId": "dcdb7215-4348-4e02-a884-f88b6f6bedac"
      },
      "execution_count": 141,
      "outputs": [
        {
          "output_type": "display_data",
          "data": {
            "image/png": "[encoded data removed]",
            "text/plain": [
              "<Figure size 432x288 with 1 Axes>"
            ]
          },
          "metadata": {
            "needs_background": "light"
          }
        }
      ]
    },
    {
      "cell_type": "code",
      "source": [
        "miss_df.Cylinders.plot.box(vert=False);"
      ],
      "metadata": {
        "id": "erKn0xwcEvlX",
        "colab": {
          "base_uri": "https://localhost:8080/",
          "height": 265
        },
        "outputId": "d6f00371-610e-48dd-c71c-7873ecd4b7bc"
      },
      "execution_count": 142,
      "outputs": [
        {
          "output_type": "display_data",
          "data": {
            "image/png": "[encoded data removed]",
            "text/plain": [
              "<Figure size 432x288 with 1 Axes>"
            ]
          },
          "metadata": {
            "needs_background": "light"
          }
        }
      ]
    },
    {
      "cell_type": "code",
      "source": [
        "miss_df.Empty_weight.plot.box(vert=False);"
      ],
      "metadata": {
        "id": "mki33rk9Eyex",
        "colab": {
          "base_uri": "https://localhost:8080/",
          "height": 265
        },
        "outputId": "6f458f18-9b12-441b-d8ee-d3f40be45768"
      },
      "execution_count": 143,
      "outputs": [
        {
          "output_type": "display_data",
          "data": {
            "image/png": "[encoded data removed]",
            "text/plain": [
              "<Figure size 432x288 with 1 Axes>"
            ]
          },
          "metadata": {
            "needs_background": "light"
          }
        }
      ]
    },
    {
      "cell_type": "code",
      "source": [
        "miss_df.mileage.plot.box(vert=False);"
      ],
      "metadata": {
        "id": "C78kY1hCE57v",
        "colab": {
          "base_uri": "https://localhost:8080/",
          "height": 265
        },
        "outputId": "39198132-8977-478e-c0ff-1454d6864605"
      },
      "execution_count": 144,
      "outputs": [
        {
          "output_type": "display_data",
          "data": {
            "image/png": "[encoded data removed]",
            "text/plain": [
              "<Figure size 432x288 with 1 Axes>"
            ]
          },
          "metadata": {
            "needs_background": "light"
          }
        }
      ]
    },
    {
      "cell_type": "code",
      "source": [
        "miss_df.seats.plot.box(vert=False);"
      ],
      "metadata": {
        "id": "co1nc96cE8ov",
        "colab": {
          "base_uri": "https://localhost:8080/",
          "height": 265
        },
        "outputId": "987b14b7-0cd9-43c6-9ed7-28621d071ac3"
      },
      "execution_count": 145,
      "outputs": [
        {
          "output_type": "display_data",
          "data": {
            "image/png": "[encoded data removed]",
            "text/plain": [
              "<Figure size 432x288 with 1 Axes>"
            ]
          },
          "metadata": {
            "needs_background": "light"
          }
        }
      ]
    },
    {
      "cell_type": "code",
      "source": [
        "miss_df.doors.plot.box(vert=False);"
      ],
      "metadata": {
        "id": "LSXwDF_CFBVg",
        "colab": {
          "base_uri": "https://localhost:8080/",
          "height": 265
        },
        "outputId": "a1fa9fbd-8c39-48ed-bad7-833ec1e64364"
      },
      "execution_count": 146,
      "outputs": [
        {
          "output_type": "display_data",
          "data": {
            "image/png": "[encoded data removed]",
            "text/plain": [
              "<Figure size 432x288 with 1 Axes>"
            ]
          },
          "metadata": {
            "needs_background": "light"
          }
        }
      ]
    },
    {
      "cell_type": "code",
      "source": [
        "miss_df.warranty_months.plot.box(vert=False);"
      ],
      "metadata": {
        "id": "XI3vK-1BFDM0",
        "colab": {
          "base_uri": "https://localhost:8080/",
          "height": 265
        },
        "outputId": "9956e112-aea4-4020-cd0e-e8e090b49060"
      },
      "execution_count": 147,
      "outputs": [
        {
          "output_type": "display_data",
          "data": {
            "image/png": "[encoded data removed]",
            "text/plain": [
              "<Figure size 432x288 with 1 Axes>"
            ]
          },
          "metadata": {
            "needs_background": "light"
          }
        }
      ]
    },
    {
      "cell_type": "code",
      "source": [
        "miss_df.Power.plot.box(vert=False);"
      ],
      "metadata": {
        "id": "U29kPE1gFElT",
        "colab": {
          "base_uri": "https://localhost:8080/",
          "height": 265
        },
        "outputId": "f861c434-8b96-4ef7-aa00-72f2d97d6927"
      },
      "execution_count": 148,
      "outputs": [
        {
          "output_type": "display_data",
          "data": {
            "image/png": "[encoded data removed]",
            "text/plain": [
              "<Figure size 432x288 with 1 Axes>"
            ]
          },
          "metadata": {
            "needs_background": "light"
          }
        }
      ]
    },
    {
      "cell_type": "code",
      "source": [
        "miss_df.engine_size.plot.box(vert=False);"
      ],
      "metadata": {
        "id": "VmUcy0ZaFGjo",
        "colab": {
          "base_uri": "https://localhost:8080/",
          "height": 265
        },
        "outputId": "46dfa166-7308-4b7d-a598-e8b60b4fbac9"
      },
      "execution_count": 149,
      "outputs": [
        {
          "output_type": "display_data",
          "data": {
            "image/png": "[encoded data removed]",
            "text/plain": [
              "<Figure size 432x288 with 1 Axes>"
            ]
          },
          "metadata": {
            "needs_background": "light"
          }
        }
      ]
    },
    {
      "cell_type": "code",
      "source": [
        "miss_df.fuel_consumption.plot.box(vert=False);"
      ],
      "metadata": {
        "id": "WzhcnPaLFIBA",
        "colab": {
          "base_uri": "https://localhost:8080/",
          "height": 265
        },
        "outputId": "dedea2b5-7dc2-4280-9c54-78f31022c21a"
      },
      "execution_count": 150,
      "outputs": [
        {
          "output_type": "display_data",
          "data": {
            "image/png": "[encoded data removed]",
            "text/plain": [
              "<Figure size 432x288 with 1 Axes>"
            ]
          },
          "metadata": {
            "needs_background": "light"
          }
        }
      ]
    },
    {
      "cell_type": "code",
      "source": [
        "miss_df.co2_emissions.plot.box(vert=False);"
      ],
      "metadata": {
        "id": "qT3OEwIDFJee",
        "colab": {
          "base_uri": "https://localhost:8080/",
          "height": 265
        },
        "outputId": "cf22903e-037c-4e46-a990-17d9a0cdf6ac"
      },
      "execution_count": 151,
      "outputs": [
        {
          "output_type": "display_data",
          "data": {
            "image/png": "[encoded data removed]",
            "text/plain": [
              "<Figure size 432x288 with 1 Axes>"
            ]
          },
          "metadata": {
            "needs_background": "light"
          }
        }
      ]
    },
    {
      "cell_type": "code",
      "source": [
        "miss_df.first_registration_years.plot.box(vert=False);"
      ],
      "metadata": {
        "id": "rgpdBIAvFLPJ",
        "colab": {
          "base_uri": "https://localhost:8080/",
          "height": 265
        },
        "outputId": "26ed758c-696f-4f67-ec58-d5c13befd042"
      },
      "execution_count": 152,
      "outputs": [
        {
          "output_type": "display_data",
          "data": {
            "image/png": "[encoded data removed]",
            "text/plain": [
              "<Figure size 432x288 with 1 Axes>"
            ]
          },
          "metadata": {
            "needs_background": "light"
          }
        }
      ]
    },
    {
      "cell_type": "code",
      "source": [
        "miss_df.to_csv('car_data.csv')"
      ],
      "metadata": {
        "id": "1wa9W7Gcv3wD"
      },
      "execution_count": 153,
      "outputs": []
    },
    {
      "cell_type": "code",
      "source": [
        ""
      ],
      "metadata": {
        "id": "3BdqwOc5v7Tp"
      },
      "execution_count": 153,
      "outputs": []
    }
  ],
  "metadata": {
    "colab": {
      "collapsed_sections": [
        "BGwcFn3gNulJ"
      ],
      "name": "project_v1.ipynb",
      "provenance": [],
      "include_colab_link": true
    },
    "kernelspec": {
      "display_name": "Python 3",
      "name": "python3"
    },
    "language_info": {
      "name": "python"
    }
  },
  "nbformat": 4,
  "nbformat_minor": 0
}